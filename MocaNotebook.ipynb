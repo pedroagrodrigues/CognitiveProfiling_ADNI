{
 "cells": [
  {
   "cell_type": "markdown",
   "id": "operating-enlargement",
   "metadata": {},
   "source": [
    "**Imports** - *External*"
   ]
  },
  {
   "cell_type": "code",
   "execution_count": 1,
   "id": "clear-melissa",
   "metadata": {},
   "outputs": [],
   "source": [
    "%matplotlib widget\n",
    "import warnings\n",
    "import numpy as np\n",
    "import pandas as pd\n",
    "import seaborn as sns\n",
    "import scipy\n",
    "from scipy.stats import pearsonr\n",
    "import matplotlib.pyplot as plt"
   ]
  },
  {
   "cell_type": "markdown",
   "id": "abstract-republican",
   "metadata": {},
   "source": [
    "*Internal*"
   ]
  },
  {
   "cell_type": "code",
   "execution_count": 2,
   "id": "promising-reader",
   "metadata": {},
   "outputs": [
    {
     "name": "stdout",
     "output_type": "stream",
     "text": [
      "Moca ready!\n",
      "      Phase   ID   RID  SITEID  VISCODE2  TRAILS  CUBE  CLOCKCON  CLOCKNO  \\\n",
      "5106      3  389    74      20       132       1     1         1        1   \n",
      "5107      3  941  1078      27       120       0     0         0        0   \n",
      "5108      3  244  2183      20        72       0     0         1        1   \n",
      "5109      3  424  2219      20        72       0     1         1        1   \n",
      "5110      3  230  2245      20        72       1     1         1        1   \n",
      "\n",
      "      CLOCKHAN  ...  DELW3  DELW4  DELW5  DATE  MONTH  YEAR  DAY  PLACE  CITY  \\\n",
      "5106         1  ...      1      2      2     1      1     1    1      1     1   \n",
      "5107         0  ...      3      0      0     0      0     0    0      0     1   \n",
      "5108         1  ...      3      0      3     1      1     1    1      1     1   \n",
      "5109         0  ...      3      3      3     1      1     1    1      1     1   \n",
      "5110         1  ...      1      2      2     1      1     1    1      1     1   \n",
      "\n",
      "       MOCA  \n",
      "5106  80.00  \n",
      "5107  26.67  \n",
      "5108  66.67  \n",
      "5109  70.00  \n",
      "5110  93.33  \n",
      "\n",
      "[5 rows x 48 columns]\n"
     ]
    }
   ],
   "source": [
    "from Moca import Moca # This file alrzeady has the data converted from string to numeric"
   ]
  },
  {
   "cell_type": "markdown",
   "id": "phantom-serum",
   "metadata": {
    "tags": []
   },
   "source": [
    "**There are some errors while calculating the correlation, these are shown as warnigns. The next line will ignore these errors**"
   ]
  },
  {
   "cell_type": "code",
   "execution_count": 3,
   "id": "ambient-rouge",
   "metadata": {},
   "outputs": [
    {
     "data": {
      "text/plain": [
       "{'divide': 'warn', 'over': 'warn', 'under': 'ignore', 'invalid': 'warn'}"
      ]
     },
     "execution_count": 3,
     "metadata": {},
     "output_type": "execute_result"
    }
   ],
   "source": [
    "np.seterr(divide='ignore', invalid='ignore')"
   ]
  },
  {
   "cell_type": "markdown",
   "id": "religious-window",
   "metadata": {},
   "source": [
    "**The path used to save the correlation file is:**"
   ]
  },
  {
   "cell_type": "code",
   "execution_count": 4,
   "id": "hungry-carnival",
   "metadata": {},
   "outputs": [],
   "source": [
    "path = \"./dataFiles/MmseCorr\""
   ]
  },
  {
   "cell_type": "markdown",
   "id": "critical-shannon",
   "metadata": {},
   "source": [
    "**Fnction used to calculate correlation between two columns where they both have some sort of value:**\n",
    "\n",
    "This function is using Pearson product-moment correlation coefficients:\n",
    "\n",
    "\\begin{equation}\n",
    "    R_{ij} = \\frac{ C_{ij} } { \\sqrt{ C_{ii} * C_{jj} } }\n",
    "\\end{equation}\n"
   ]
  },
  {
   "cell_type": "code",
   "execution_count": 5,
   "id": "resistant-password",
   "metadata": {
    "jupyter": {
     "source_hidden": true
    },
    "tags": []
   },
   "outputs": [],
   "source": [
    "def getCorrP(x, y):\n",
    "    xData = []\n",
    "    yData = []\n",
    "    for i in range(len(x)): # Both columns must have same size\n",
    "        if x[i] != '' and y[i] != '':\n",
    "            xData.append(float(x[i]))\n",
    "            yData.append(float(y[i]))\n",
    "    if len(xData) > 1:\n",
    "        return pearsonr(xData, yData)\n",
    "    return 0, 0\n",
    "    "
   ]
  },
  {
   "cell_type": "code",
   "execution_count": 6,
   "id": "bulgarian-shareware",
   "metadata": {},
   "outputs": [
    {
     "name": "stdout",
     "output_type": "stream",
     "text": [
      "Moca ready!\n"
     ]
    }
   ],
   "source": [
    "data = Moca().data\n",
    "\n",
    "unusedLables = ['Phase', 'ID', 'RID', 'SITEID', 'VISCODE2']\n",
    "data = data.drop(columns=unusedLables)\n",
    "\n",
    "dataLabels = data.columns.values\n",
    "dataNumpy = data.to_numpy()\n",
    "\n",
    "correlations = pd.DataFrame(index=dataLabels, columns=dataLabels)\n",
    "\n",
    "pValues = pd.DataFrame(index=dataLabels, columns=dataLabels)\n",
    "\n",
    "tableCorrP = pd.DataFrame(columns=[\"Labels\", \"Correlation\", \"p_Value\"])\n",
    "\n",
    "\n",
    "\n",
    "\n",
    "for i in range(len(dataLabels)):\n",
    "    correlations.at[dataLabels[i], dataLabels[i]] = 1\n",
    "    pValues.at[dataLabels[i], dataLabels[i]] = 0\n",
    "    for j in range(i+1, len(dataLabels)):\n",
    "        p_r, p_p = getCorrP(dataNumpy[:, i], dataNumpy[:, j])\n",
    "        correlations.at[dataLabels[i], dataLabels[j]] = correlations.at[dataLabels[j], dataLabels[i]] = p_r\n",
    "        pValues.at[dataLabels[i], dataLabels[j]] = pValues.at[dataLabels[j], dataLabels[i]] = p_p\n",
    "        \n",
    "        tableCorrP = tableCorrP.append(dict(zip(tableCorrP.columns,[f\"{dataLabels[i]} -> {dataLabels[j]}\", p_r, p_p])), ignore_index = True)\n",
    "        \n",
    "        \n",
    "\n",
    "\n",
    " \n",
    "    \n",
    "    \n",
    "\n"
   ]
  },
  {
   "cell_type": "code",
   "execution_count": 7,
   "id": "tired-thomas",
   "metadata": {},
   "outputs": [
    {
     "name": "stdout",
     "output_type": "stream",
     "text": [
      "               Labels  Correlation       p_Value\n",
      "0      TRAILS -> CUBE     0.218048  1.571643e-19\n",
      "1  TRAILS -> CLOCKCON     0.198721  2.015009e-16\n",
      "2   TRAILS -> CLOCKNO     0.294963  4.474477e-35\n",
      "3  TRAILS -> CLOCKHAN     0.245159  2.044025e-24\n",
      "4      TRAILS -> LION     0.026057  2.857947e-01\n",
      "5     TRAILS -> RHINO     0.090901  1.908972e-04\n",
      "6     TRAILS -> CAMEL     0.117891  1.263635e-06\n",
      "7   TRAILS -> IMMT1W1     0.101856  2.881615e-05\n",
      "8   TRAILS -> IMMT1W2     0.155398  1.517363e-10\n",
      "9   TRAILS -> IMMT1W3     0.138921  1.080678e-08\n"
     ]
    }
   ],
   "source": [
    "print(tableCorrP.head(10))"
   ]
  },
  {
   "cell_type": "code",
   "execution_count": 8,
   "id": "minute-christmas",
   "metadata": {},
   "outputs": [],
   "source": [
    "aux = sns.color_palette(\"coolwarm\", as_cmap=True) #Changes the color of the graph"
   ]
  },
  {
   "cell_type": "markdown",
   "id": "pressing-barrier",
   "metadata": {},
   "source": [
    "# Correlations"
   ]
  },
  {
   "cell_type": "code",
   "execution_count": 11,
   "id": "honest-action",
   "metadata": {},
   "outputs": [
    {
     "data": {
      "application/vnd.jupyter.widget-view+json": {
       "model_id": "989d4cb54c5543a7ad585a27eb862ddb",
       "version_major": 2,
       "version_minor": 0
      },
      "text/plain": [
       "Canvas(toolbar=Toolbar(toolitems=[('Home', 'Reset original view', 'home', 'home'), ('Back', 'Back to previous …"
      ]
     },
     "metadata": {},
     "output_type": "display_data"
    },
    {
     "data": {
      "text/plain": [
       "<AxesSubplot:>"
      ]
     },
     "execution_count": 11,
     "metadata": {},
     "output_type": "execute_result"
    }
   ],
   "source": [
    "plt.close()\n",
    "sns.heatmap(np.ma.filled(correlations.astype(float), np.nan), annot=True, annot_kws={\"size\": 7}, xticklabels=correlations.columns, yticklabels=correlations.index, cmap=aux)"
   ]
  },
  {
   "cell_type": "markdown",
   "id": "apparent-banner",
   "metadata": {},
   "source": [
    "# P_Values"
   ]
  },
  {
   "cell_type": "code",
   "execution_count": 10,
   "id": "essential-equity",
   "metadata": {},
   "outputs": [
    {
     "data": {
      "application/vnd.jupyter.widget-view+json": {
       "model_id": "f380b1ca898048e792f1170a1fca5d6e",
       "version_major": 2,
       "version_minor": 0
      },
      "text/plain": [
       "Canvas(toolbar=Toolbar(toolitems=[('Home', 'Reset original view', 'home', 'home'), ('Back', 'Back to previous …"
      ]
     },
     "metadata": {},
     "output_type": "display_data"
    },
    {
     "data": {
      "text/plain": [
       "<AxesSubplot:>"
      ]
     },
     "execution_count": 10,
     "metadata": {},
     "output_type": "execute_result"
    }
   ],
   "source": [
    "plt.close()\n",
    "sns.heatmap(np.ma.filled(pValues.astype(float), np.nan), annot=True, annot_kws={\"size\": 7}, xticklabels=pValues.columns, yticklabels=pValues.index, cmap=aux)"
   ]
  }
 ],
 "metadata": {
  "kernelspec": {
   "display_name": "Python 3",
   "language": "python",
   "name": "python3"
  },
  "language_info": {
   "codemirror_mode": {
    "name": "ipython",
    "version": 3
   },
   "file_extension": ".py",
   "mimetype": "text/x-python",
   "name": "python",
   "nbconvert_exporter": "python",
   "pygments_lexer": "ipython3",
   "version": "3.8.5"
  }
 },
 "nbformat": 4,
 "nbformat_minor": 5
}
