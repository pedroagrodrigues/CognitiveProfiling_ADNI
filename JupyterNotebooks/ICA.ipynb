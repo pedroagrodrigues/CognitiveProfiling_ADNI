{
 "cells": [
  {
   "cell_type": "markdown",
   "id": "9fc89ed2-006a-4059-8453-979d82474707",
   "metadata": {
    "tags": []
   },
   "source": [
    "# Independent Component Analysis"
   ]
  },
  {
   "cell_type": "code",
   "execution_count": 1,
   "id": "2bbbc928-71c0-4363-95af-441adbdad91c",
   "metadata": {},
   "outputs": [],
   "source": [
    "import pandas as pd\n",
    "from sklearn.decomposition import FastICA\n",
    "import matplotlib.pyplot as plt\n",
    "import seaborn as sns\n",
    "%matplotlib widget\n",
    "import common"
   ]
  },
  {
   "cell_type": "code",
   "execution_count": 2,
   "id": "5f6aa0f9-500a-4ac7-bd54-91dde193af3f",
   "metadata": {},
   "outputs": [],
   "source": [
    "data = common.loadFile(\"CleanedData\").drop([\"VISCODE\", \"RID\"], axis=1).dropna()"
   ]
  },
  {
   "cell_type": "code",
   "execution_count": 3,
   "id": "f59c4633-7672-4373-9f3f-df84590d2178",
   "metadata": {},
   "outputs": [
    {
     "data": {
      "application/vnd.jupyter.widget-view+json": {
       "model_id": "81a15404e26147648f576ded9ebbbabd",
       "version_major": 2,
       "version_minor": 0
      },
      "text/plain": [
       "Canvas(toolbar=Toolbar(toolitems=[('Home', 'Reset original view', 'home', 'home'), ('Back', 'Back to previous …"
      ]
     },
     "metadata": {},
     "output_type": "display_data"
    }
   ],
   "source": [
    "plt.figure(figsize=[5, 5])\n",
    "ax = sns.countplot(x=data['DX'])\n",
    "plt.title(\"Data Diagnosis\")\n",
    "plt.ylabel(\"Count\")\n",
    "plt.xlabel(\"Diagnosis\")\n",
    "plt.xticks(ticks=range(0,3), labels=['CN', 'MCI', 'Dementia'])\n",
    "\n",
    "for p in ax.patches:\n",
    "        ax.annotate(f'\\n{p.get_height()}', (p.get_x()+p.get_width()/2, p.get_height()), ha='center', \n",
    "                    va='top', color='white', size=18)\n",
    "plt.tight_layout(pad=2)"
   ]
  },
  {
   "cell_type": "code",
   "execution_count": 4,
   "id": "3e74956d-1366-4c14-b99b-ebd8016c31ed",
   "metadata": {},
   "outputs": [
    {
     "name": "stdout",
     "output_type": "stream",
     "text": [
      "####### Final Independent Components ######\n",
      "        IC1       IC2       IC3       IC4       IC5       IC6       IC7  \\\n",
      "0 -0.004563  0.053338 -0.013619 -0.001153 -0.068614 -0.031754  0.009565   \n",
      "1 -0.012612  0.042117  0.017003  0.002385 -0.030882  0.008735  0.032264   \n",
      "2 -0.000506  0.015700  0.009852  0.003665 -0.036022 -0.009071  0.079807   \n",
      "3 -0.017587  0.008918  0.012300 -0.033458  0.010938 -0.049676 -0.008352   \n",
      "4 -0.036075  0.010869  0.028527 -0.037763  0.038536 -0.005521 -0.007436   \n",
      "5 -0.019023 -0.008061  0.023614 -0.031780  0.037117 -0.026246  0.035718   \n",
      "6  0.011592 -0.011906  0.015478 -0.030452 -0.039946 -0.001162 -0.012807   \n",
      "7  0.012926 -0.012467  0.007168 -0.030418 -0.046938 -0.009342 -0.013213   \n",
      "8  0.017973 -0.017900  0.006453 -0.033524 -0.028918  0.013656 -0.001974   \n",
      "9  0.015123 -0.012234  0.003524 -0.014875  0.019377  0.003846 -0.005250   \n",
      "\n",
      "        IC8       IC9      IC10 DX  \n",
      "0 -0.045461 -0.008527 -0.003025  1  \n",
      "1 -0.031358 -0.018602 -0.012969  1  \n",
      "2 -0.018471  0.015439 -0.029835  1  \n",
      "3 -0.015894 -0.008206  0.005704  1  \n",
      "4 -0.036291 -0.008239 -0.015538  1  \n",
      "5  0.003728  0.003686 -0.008471  1  \n",
      "6  0.006504 -0.014085  0.027004  0  \n",
      "7 -0.000508  0.002064  0.015393  0  \n",
      "8 -0.006088  0.000398  0.003398  1  \n",
      "9 -0.024322  0.002219 -0.011261  1  \n"
     ]
    }
   ],
   "source": [
    "components = 10\n",
    "# Creating input data numpy array\n",
    "y =  data.loc[:,['DX']].values\n",
    "X = data.drop([\"DX\"], axis=1)\n",
    "######################################################################\n",
    "\n",
    "# Creating ICA object\n",
    "ICA = FastICA(n_components=components,  random_state=0) # Without this randomstate the results will always be diferent.\n",
    "IndependentComponentValues = ICA.fit_transform(X, y)\n",
    "\n",
    "def getColumnNames() -> list:\n",
    "    res = []\n",
    "    for i in range(1, len(IndependentComponentValues.T)+1):\n",
    "        res.append('IC'+str(i))\n",
    "    return res\n",
    "\n",
    "# Creating the dataframe\n",
    "ReducedData = pd.DataFrame(data=IndependentComponentValues, columns=getColumnNames())\n",
    "\n",
    "# Rebuild dataset\n",
    "finalDf = pd.concat([ReducedData, data[['DX']]], axis = 1)\n",
    "common.saveFile(finalDf, \"ICAData\")\n",
    "\n",
    "\n",
    "print('####### Final Independent Components ######')\n",
    "print(finalDf.head(10))"
   ]
  },
  {
   "cell_type": "code",
   "execution_count": 5,
   "id": "026dd3de-cf72-407d-92a3-3f66337ded97",
   "metadata": {},
   "outputs": [
    {
     "data": {
      "application/vnd.jupyter.widget-view+json": {
       "model_id": "53e1601d3c274436b49c0e0705539bbf",
       "version_major": 2,
       "version_minor": 0
      },
      "text/plain": [
       "Canvas(toolbar=Toolbar(toolitems=[('Home', 'Reset original view', 'home', 'home'), ('Back', 'Back to previous …"
      ]
     },
     "metadata": {},
     "output_type": "display_data"
    }
   ],
   "source": [
    "showX = '2'\n",
    "showY = '4'\n",
    "\n",
    "fig = plt.figure(figsize=[18, 10])\n",
    "ax = fig.add_subplot(1,1,1) \n",
    "ax.set_xlabel('Independent Component ' + showX, fontsize = 15)\n",
    "ax.set_ylabel('Independent Component ' + showY, fontsize = 15)\n",
    "ax.set_title('2 first ICA components', fontsize = 20)\n",
    "\n",
    "\n",
    "targets = [0, 1, 2]\n",
    "colors = ['r', 'y', 'b']\n",
    "for target, color in zip(targets, colors):\n",
    "    indicesToKeep = finalDf['DX'] == target\n",
    "    ax.scatter(finalDf.loc[indicesToKeep, 'IC' + showX]\n",
    "               , finalDf.loc[indicesToKeep, 'IC' + showY]\n",
    "               , c = color\n",
    "               , s = 50)\n",
    "    \n",
    "ax.legend(['CN', 'MCI', 'Dementia'])\n",
    "ax.grid()\n",
    "plt.tight_layout(pad=2)"
   ]
  },
  {
   "cell_type": "code",
   "execution_count": 6,
   "id": "1aa57d5a-7d47-46df-829d-a0c852c23b13",
   "metadata": {},
   "outputs": [
    {
     "data": {
      "application/vnd.jupyter.widget-view+json": {
       "model_id": "9974c534dcde4a27a650cc70363b37f0",
       "version_major": 2,
       "version_minor": 0
      },
      "text/plain": [
       "Canvas(toolbar=Toolbar(toolitems=[('Home', 'Reset original view', 'home', 'home'), ('Back', 'Back to previous …"
      ]
     },
     "metadata": {},
     "output_type": "display_data"
    }
   ],
   "source": [
    "fig = plt.figure(figsize=[18, 10])\n",
    "#ax = fig.add_subplot(1,1,1) \n",
    "ax = plt.axes(projection='3d')\n",
    "\n",
    "ax.set_xlabel('IC1', fontsize=12)\n",
    "ax.set_ylabel('IC2', fontsize=12)\n",
    "ax.set_zlabel('IC3', fontsize=12)\n",
    "ax.set_title('3 Component ICA', fontsize = 20)\n",
    "\n",
    "targets = [0, 1, 2]\n",
    "colors = ['r', 'y', 'b']\n",
    "for target, color in zip(targets, colors):\n",
    "    indicesToKeep = finalDf['DX'] == target\n",
    "    ax.scatter(finalDf.loc[indicesToKeep, 'IC1']\n",
    "               , finalDf.loc[indicesToKeep, 'IC2']\n",
    "               , finalDf.loc[indicesToKeep, 'IC3']\n",
    "               , c = color\n",
    "               , s = 50)\n",
    "    \n",
    "ax.legend(['CN', 'MCI', 'Dementia'])\n",
    "ax.grid()\n",
    "plt.tight_layout(pad=2)"
   ]
  },
  {
   "cell_type": "markdown",
   "id": "02e07dc9-ee6d-4f7b-b307-41e3e6ee487c",
   "metadata": {},
   "source": [
    "## Linear Regression"
   ]
  },
  {
   "cell_type": "code",
   "execution_count": 7,
   "id": "334b559d-8402-410d-97ba-2e51fae87ed4",
   "metadata": {},
   "outputs": [],
   "source": [
    "from sklearn.linear_model import LinearRegression\n",
    "from sklearn.metrics import mean_squared_error, r2_score"
   ]
  },
  {
   "cell_type": "code",
   "execution_count": 8,
   "id": "6d1e05b7-347b-4444-9e2d-025418c9d658",
   "metadata": {},
   "outputs": [
    {
     "name": "stdout",
     "output_type": "stream",
     "text": [
      "Coefficients: \n",
      " [0. 0. 0. 0. 0. 0. 0. 0. 0. 0.]\n",
      "Mean squared error: 0.59\n",
      "Coefficient of determination: -2.71\n"
     ]
    }
   ],
   "source": [
    "# Use only one feature\n",
    "X = finalDf.drop(\"DX\", axis=1).to_numpy().astype('int')\n",
    "y = finalDf.loc[:,['DX']].to_numpy().astype('int').flatten()\n",
    "\n",
    "# Split the data into training/testing sets\n",
    "X_train = X[:-20]\n",
    "X_test = X[-20:]\n",
    "\n",
    "# Split the targets into training/testing sets\n",
    "y_train = y[:-20]\n",
    "y_test = y[-20:]\n",
    "\n",
    "# Create linear regression object\n",
    "regr = LinearRegression()\n",
    "\n",
    "# Train the model using the training sets\n",
    "regr.fit(X_train, y_train)\n",
    "\n",
    "# Make predictions using the testing set\n",
    "y_pred = regr.predict(X_test)\n",
    "\n",
    "# The coefficients\n",
    "print('Coefficients: \\n', regr.coef_)\n",
    "# The mean squared error\n",
    "print('Mean squared error: %.2f' % mean_squared_error(y_test, y_pred))\n",
    "# The coefficient of determination: 1 is perfect prediction\n",
    "print('Coefficient of determination: %.2f' % r2_score(y_test, y_pred))"
   ]
  },
  {
   "cell_type": "code",
   "execution_count": 9,
   "id": "ffd9a820-60bf-4f89-9f3c-b00a674d830d",
   "metadata": {},
   "outputs": [
    {
     "data": {
      "text/html": [
       "<div>\n",
       "<style scoped>\n",
       "    .dataframe tbody tr th:only-of-type {\n",
       "        vertical-align: middle;\n",
       "    }\n",
       "\n",
       "    .dataframe tbody tr th {\n",
       "        vertical-align: top;\n",
       "    }\n",
       "\n",
       "    .dataframe thead th {\n",
       "        text-align: right;\n",
       "    }\n",
       "</style>\n",
       "<table border=\"1\" class=\"dataframe\">\n",
       "  <thead>\n",
       "    <tr style=\"text-align: right;\">\n",
       "      <th></th>\n",
       "      <th>IC1</th>\n",
       "      <th>IC2</th>\n",
       "      <th>IC3</th>\n",
       "      <th>IC4</th>\n",
       "      <th>IC5</th>\n",
       "      <th>IC6</th>\n",
       "      <th>IC7</th>\n",
       "      <th>IC8</th>\n",
       "      <th>IC9</th>\n",
       "      <th>IC10</th>\n",
       "      <th>DX</th>\n",
       "    </tr>\n",
       "  </thead>\n",
       "  <tbody>\n",
       "    <tr>\n",
       "      <th>0</th>\n",
       "      <td>-0.004563</td>\n",
       "      <td>0.053338</td>\n",
       "      <td>-0.013619</td>\n",
       "      <td>-0.001153</td>\n",
       "      <td>-0.068614</td>\n",
       "      <td>-0.031754</td>\n",
       "      <td>0.009565</td>\n",
       "      <td>-0.045461</td>\n",
       "      <td>-0.008527</td>\n",
       "      <td>-0.003025</td>\n",
       "      <td>1</td>\n",
       "    </tr>\n",
       "    <tr>\n",
       "      <th>1</th>\n",
       "      <td>-0.012612</td>\n",
       "      <td>0.042117</td>\n",
       "      <td>0.017003</td>\n",
       "      <td>0.002385</td>\n",
       "      <td>-0.030882</td>\n",
       "      <td>0.008735</td>\n",
       "      <td>0.032264</td>\n",
       "      <td>-0.031358</td>\n",
       "      <td>-0.018602</td>\n",
       "      <td>-0.012969</td>\n",
       "      <td>1</td>\n",
       "    </tr>\n",
       "    <tr>\n",
       "      <th>2</th>\n",
       "      <td>-0.000506</td>\n",
       "      <td>0.015700</td>\n",
       "      <td>0.009852</td>\n",
       "      <td>0.003665</td>\n",
       "      <td>-0.036022</td>\n",
       "      <td>-0.009071</td>\n",
       "      <td>0.079807</td>\n",
       "      <td>-0.018471</td>\n",
       "      <td>0.015439</td>\n",
       "      <td>-0.029835</td>\n",
       "      <td>1</td>\n",
       "    </tr>\n",
       "    <tr>\n",
       "      <th>3</th>\n",
       "      <td>-0.017587</td>\n",
       "      <td>0.008918</td>\n",
       "      <td>0.012300</td>\n",
       "      <td>-0.033458</td>\n",
       "      <td>0.010938</td>\n",
       "      <td>-0.049676</td>\n",
       "      <td>-0.008352</td>\n",
       "      <td>-0.015894</td>\n",
       "      <td>-0.008206</td>\n",
       "      <td>0.005704</td>\n",
       "      <td>1</td>\n",
       "    </tr>\n",
       "    <tr>\n",
       "      <th>4</th>\n",
       "      <td>-0.036075</td>\n",
       "      <td>0.010869</td>\n",
       "      <td>0.028527</td>\n",
       "      <td>-0.037763</td>\n",
       "      <td>0.038536</td>\n",
       "      <td>-0.005521</td>\n",
       "      <td>-0.007436</td>\n",
       "      <td>-0.036291</td>\n",
       "      <td>-0.008239</td>\n",
       "      <td>-0.015538</td>\n",
       "      <td>1</td>\n",
       "    </tr>\n",
       "    <tr>\n",
       "      <th>...</th>\n",
       "      <td>...</td>\n",
       "      <td>...</td>\n",
       "      <td>...</td>\n",
       "      <td>...</td>\n",
       "      <td>...</td>\n",
       "      <td>...</td>\n",
       "      <td>...</td>\n",
       "      <td>...</td>\n",
       "      <td>...</td>\n",
       "      <td>...</td>\n",
       "      <td>...</td>\n",
       "    </tr>\n",
       "    <tr>\n",
       "      <th>1705</th>\n",
       "      <td>0.000996</td>\n",
       "      <td>-0.001272</td>\n",
       "      <td>-0.030139</td>\n",
       "      <td>-0.019873</td>\n",
       "      <td>0.024213</td>\n",
       "      <td>0.012539</td>\n",
       "      <td>0.009418</td>\n",
       "      <td>-0.000670</td>\n",
       "      <td>-0.002843</td>\n",
       "      <td>-0.037766</td>\n",
       "      <td>0</td>\n",
       "    </tr>\n",
       "    <tr>\n",
       "      <th>1706</th>\n",
       "      <td>0.030562</td>\n",
       "      <td>-0.025447</td>\n",
       "      <td>-0.025239</td>\n",
       "      <td>-0.024493</td>\n",
       "      <td>0.013733</td>\n",
       "      <td>0.029970</td>\n",
       "      <td>-0.013629</td>\n",
       "      <td>-0.041659</td>\n",
       "      <td>0.029084</td>\n",
       "      <td>0.032206</td>\n",
       "      <td>0</td>\n",
       "    </tr>\n",
       "    <tr>\n",
       "      <th>1707</th>\n",
       "      <td>0.007662</td>\n",
       "      <td>-0.008601</td>\n",
       "      <td>-0.013246</td>\n",
       "      <td>-0.034106</td>\n",
       "      <td>0.044446</td>\n",
       "      <td>-0.053993</td>\n",
       "      <td>-0.019101</td>\n",
       "      <td>0.010674</td>\n",
       "      <td>-0.008716</td>\n",
       "      <td>-0.005121</td>\n",
       "      <td>1</td>\n",
       "    </tr>\n",
       "    <tr>\n",
       "      <th>1708</th>\n",
       "      <td>0.013372</td>\n",
       "      <td>-0.002461</td>\n",
       "      <td>-0.012936</td>\n",
       "      <td>-0.035526</td>\n",
       "      <td>0.041069</td>\n",
       "      <td>-0.045988</td>\n",
       "      <td>-0.017614</td>\n",
       "      <td>-0.009831</td>\n",
       "      <td>-0.011393</td>\n",
       "      <td>0.015922</td>\n",
       "      <td>0</td>\n",
       "    </tr>\n",
       "    <tr>\n",
       "      <th>1709</th>\n",
       "      <td>0.004391</td>\n",
       "      <td>-0.011074</td>\n",
       "      <td>-0.010057</td>\n",
       "      <td>-0.035256</td>\n",
       "      <td>0.037508</td>\n",
       "      <td>-0.053971</td>\n",
       "      <td>-0.007351</td>\n",
       "      <td>-0.011331</td>\n",
       "      <td>-0.011278</td>\n",
       "      <td>-0.002350</td>\n",
       "      <td>1</td>\n",
       "    </tr>\n",
       "  </tbody>\n",
       "</table>\n",
       "<p>1710 rows × 11 columns</p>\n",
       "</div>"
      ],
      "text/plain": [
       "           IC1       IC2       IC3       IC4       IC5       IC6       IC7  \\\n",
       "0    -0.004563  0.053338 -0.013619 -0.001153 -0.068614 -0.031754  0.009565   \n",
       "1    -0.012612  0.042117  0.017003  0.002385 -0.030882  0.008735  0.032264   \n",
       "2    -0.000506  0.015700  0.009852  0.003665 -0.036022 -0.009071  0.079807   \n",
       "3    -0.017587  0.008918  0.012300 -0.033458  0.010938 -0.049676 -0.008352   \n",
       "4    -0.036075  0.010869  0.028527 -0.037763  0.038536 -0.005521 -0.007436   \n",
       "...        ...       ...       ...       ...       ...       ...       ...   \n",
       "1705  0.000996 -0.001272 -0.030139 -0.019873  0.024213  0.012539  0.009418   \n",
       "1706  0.030562 -0.025447 -0.025239 -0.024493  0.013733  0.029970 -0.013629   \n",
       "1707  0.007662 -0.008601 -0.013246 -0.034106  0.044446 -0.053993 -0.019101   \n",
       "1708  0.013372 -0.002461 -0.012936 -0.035526  0.041069 -0.045988 -0.017614   \n",
       "1709  0.004391 -0.011074 -0.010057 -0.035256  0.037508 -0.053971 -0.007351   \n",
       "\n",
       "           IC8       IC9      IC10 DX  \n",
       "0    -0.045461 -0.008527 -0.003025  1  \n",
       "1    -0.031358 -0.018602 -0.012969  1  \n",
       "2    -0.018471  0.015439 -0.029835  1  \n",
       "3    -0.015894 -0.008206  0.005704  1  \n",
       "4    -0.036291 -0.008239 -0.015538  1  \n",
       "...        ...       ...       ... ..  \n",
       "1705 -0.000670 -0.002843 -0.037766  0  \n",
       "1706 -0.041659  0.029084  0.032206  0  \n",
       "1707  0.010674 -0.008716 -0.005121  1  \n",
       "1708 -0.009831 -0.011393  0.015922  0  \n",
       "1709 -0.011331 -0.011278 -0.002350  1  \n",
       "\n",
       "[1710 rows x 11 columns]"
      ]
     },
     "execution_count": 9,
     "metadata": {},
     "output_type": "execute_result"
    }
   ],
   "source": [
    "finalDf"
   ]
  },
  {
   "cell_type": "markdown",
   "id": "9b6bb396-8327-4299-bf12-31649282548d",
   "metadata": {},
   "source": [
    "##### "
   ]
  }
 ],
 "metadata": {
  "kernelspec": {
   "display_name": "Python 3",
   "language": "python",
   "name": "python3"
  },
  "language_info": {
   "codemirror_mode": {
    "name": "ipython",
    "version": 3
   },
   "file_extension": ".py",
   "mimetype": "text/x-python",
   "name": "python",
   "nbconvert_exporter": "python",
   "pygments_lexer": "ipython3",
   "version": "3.8.9"
  }
 },
 "nbformat": 4,
 "nbformat_minor": 5
}
