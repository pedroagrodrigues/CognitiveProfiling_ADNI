{
 "cells": [
  {
   "cell_type": "markdown",
   "id": "9fc89ed2-006a-4059-8453-979d82474707",
   "metadata": {
    "tags": []
   },
   "source": [
    "# Independent Component Analysis"
   ]
  },
  {
   "cell_type": "code",
   "execution_count": 11,
   "id": "2bbbc928-71c0-4363-95af-441adbdad91c",
   "metadata": {},
   "outputs": [],
   "source": [
    "import pandas as pd\n",
    "from sklearn.decomposition import FastICA\n",
    "import matplotlib.pyplot as plt\n",
    "import seaborn as sns\n",
    "%matplotlib widget\n",
    "import common"
   ]
  },
  {
   "cell_type": "code",
   "execution_count": 12,
   "id": "5f6aa0f9-500a-4ac7-bd54-91dde193af3f",
   "metadata": {},
   "outputs": [],
   "source": [
    "data = common.loadFile(\"CleanedData\").drop([\"VISCODE\", \"RID\"], axis=1).dropna()"
   ]
  },
  {
   "cell_type": "code",
   "execution_count": 13,
   "id": "f59c4633-7672-4373-9f3f-df84590d2178",
   "metadata": {},
   "outputs": [
    {
     "data": {
      "application/vnd.jupyter.widget-view+json": {
       "model_id": "cfbdb4799ccb4678b723af21f3617819",
       "version_major": 2,
       "version_minor": 0
      },
      "text/plain": [
       "Canvas(toolbar=Toolbar(toolitems=[('Home', 'Reset original view', 'home', 'home'), ('Back', 'Back to previous …"
      ]
     },
     "metadata": {},
     "output_type": "display_data"
    }
   ],
   "source": [
    "plt.figure(figsize=[5, 5])\n",
    "ax = sns.countplot(x=data['DX'])\n",
    "plt.title(\"Data Diagnosis\")\n",
    "plt.ylabel(\"Count\")\n",
    "plt.xlabel(\"Diagnosis\")\n",
    "plt.xticks(ticks=range(0,3), labels=['CN', 'MCI', 'Dementia'])\n",
    "\n",
    "for p in ax.patches:\n",
    "        ax.annotate(f'\\n{p.get_height()}', (p.get_x()+p.get_width()/2, p.get_height()), ha='center', \n",
    "                    va='top', color='white', size=18)\n",
    "plt.tight_layout(pad=2)"
   ]
  },
  {
   "cell_type": "code",
   "execution_count": 19,
   "id": "3e74956d-1366-4c14-b99b-ebd8016c31ed",
   "metadata": {},
   "outputs": [
    {
     "name": "stdout",
     "output_type": "stream",
     "text": [
      "####### Final Independent Components ######\n",
      "        IC1       IC2       IC3       IC4       IC5       IC6       IC7  \\\n",
      "0  0.003896  0.009509  0.068373  0.001015  0.014387 -0.032329 -0.008541   \n",
      "1  0.011935  0.032215  0.030978 -0.002612 -0.016612  0.008271 -0.018673   \n",
      "2 -0.000419  0.079719  0.035922 -0.003865 -0.009403 -0.009437  0.015394   \n",
      "3  0.017481 -0.008359 -0.011015  0.033456 -0.012221 -0.049776 -0.008250   \n",
      "4  0.035295 -0.007454 -0.038462  0.037519 -0.028620 -0.005766 -0.008397   \n",
      "5  0.018846  0.035706 -0.037079  0.031748 -0.023810 -0.026166  0.003620   \n",
      "6 -0.010779 -0.012786  0.040223  0.030553 -0.015396 -0.001233 -0.014011   \n",
      "7 -0.012468 -0.013219  0.047051  0.030473 -0.006953 -0.009467  0.002130   \n",
      "8 -0.017845 -0.001989  0.029065  0.033506 -0.006397  0.013559  0.000429   \n",
      "9 -0.015653 -0.005276 -0.019383  0.014782 -0.003637  0.003767  0.002169   \n",
      "\n",
      "        IC8       IC9      IC10 DX  \n",
      "0 -0.045205 -0.053294  0.004299  1  \n",
      "1 -0.031332 -0.042118  0.014171  1  \n",
      "2 -0.017890 -0.015677  0.030579  1  \n",
      "3 -0.015936 -0.008943 -0.004908  1  \n",
      "4 -0.036505 -0.010909  0.017140  1  \n",
      "5  0.003731  0.008017  0.008951  1  \n",
      "6  0.006029  0.011867 -0.027034  0  \n",
      "7 -0.000695  0.012454 -0.015327  0  \n",
      "8 -0.006157  0.017895 -0.003396  1  \n",
      "9 -0.023995  0.012247  0.011323  1  \n"
     ]
    }
   ],
   "source": [
    "components = 10\n",
    "# Creating input data numpy array\n",
    "y =  data.loc[:,['DX']].values\n",
    "X = data.drop([\"DX\"], axis=1)\n",
    "######################################################################\n",
    "\n",
    "# Creating ICA object\n",
    "ICA = FastICA(n_components=components)\n",
    "IndependentComponentValues = ICA.fit_transform(X, y)\n",
    "\n",
    "def getColumnNames() -> list:\n",
    "    res = []\n",
    "    for i in range(1, len(IndependentComponentValues.T)+1):\n",
    "        res.append('IC'+str(i))\n",
    "    return res\n",
    "\n",
    "# Creating the dataframe\n",
    "ReducedData = pd.DataFrame(data=IndependentComponentValues, columns=getColumnNames())\n",
    "\n",
    "# Rebuild dataset\n",
    "finalDf = pd.concat([ReducedData, data[['DX']]], axis = 1)\n",
    "common.saveFile(finalDf, \"ICAData\")\n",
    "\n",
    "\n",
    "print('####### Final Independent Components ######')\n",
    "print(finalDf.head(10))"
   ]
  },
  {
   "cell_type": "code",
   "execution_count": 26,
   "id": "026dd3de-cf72-407d-92a3-3f66337ded97",
   "metadata": {},
   "outputs": [
    {
     "data": {
      "application/vnd.jupyter.widget-view+json": {
       "model_id": "d463372e548840f2ba3ed5dcbf1ef116",
       "version_major": 2,
       "version_minor": 0
      },
      "text/plain": [
       "Canvas(toolbar=Toolbar(toolitems=[('Home', 'Reset original view', 'home', 'home'), ('Back', 'Back to previous …"
      ]
     },
     "metadata": {},
     "output_type": "display_data"
    }
   ],
   "source": [
    "showX = '2'\n",
    "showY = '4'\n",
    "\n",
    "fig = plt.figure(figsize=[18, 10])\n",
    "ax = fig.add_subplot(1,1,1) \n",
    "ax.set_xlabel('Independent Component ' + showX, fontsize = 15)\n",
    "ax.set_ylabel('Independent Component ' + showY, fontsize = 15)\n",
    "ax.set_title('2 first ICA components', fontsize = 20)\n",
    "\n",
    "\n",
    "targets = [0, 1, 2]\n",
    "colors = ['r', 'y', 'b']\n",
    "for target, color in zip(targets, colors):\n",
    "    indicesToKeep = finalDf['DX'] == target\n",
    "    ax.scatter(finalDf.loc[indicesToKeep, 'IC' + showX]\n",
    "               , finalDf.loc[indicesToKeep, 'IC' + showY]\n",
    "               , c = color\n",
    "               , s = 50)\n",
    "    \n",
    "ax.legend(['CN', 'MCI', 'Dementia'])\n",
    "ax.grid()\n",
    "plt.tight_layout(pad=2)"
   ]
  },
  {
   "cell_type": "code",
   "execution_count": 27,
   "id": "1aa57d5a-7d47-46df-829d-a0c852c23b13",
   "metadata": {},
   "outputs": [
    {
     "data": {
      "application/vnd.jupyter.widget-view+json": {
       "model_id": "629e04dac6b44a53a234efa9a9f6927d",
       "version_major": 2,
       "version_minor": 0
      },
      "text/plain": [
       "Canvas(toolbar=Toolbar(toolitems=[('Home', 'Reset original view', 'home', 'home'), ('Back', 'Back to previous …"
      ]
     },
     "metadata": {},
     "output_type": "display_data"
    }
   ],
   "source": [
    "fig = plt.figure(figsize=[18, 10])\n",
    "#ax = fig.add_subplot(1,1,1) \n",
    "ax = plt.axes(projection='3d')\n",
    "\n",
    "ax.set_xlabel('IC1', fontsize=12)\n",
    "ax.set_ylabel('IC2', fontsize=12)\n",
    "ax.set_zlabel('IC3', fontsize=12)\n",
    "ax.set_title('3 Component ICA', fontsize = 20)\n",
    "\n",
    "targets = [0, 1, 2]\n",
    "colors = ['r', 'y', 'b']\n",
    "for target, color in zip(targets, colors):\n",
    "    indicesToKeep = finalDf['DX'] == target\n",
    "    ax.scatter(finalDf.loc[indicesToKeep, 'IC1']\n",
    "               , finalDf.loc[indicesToKeep, 'IC2']\n",
    "               , finalDf.loc[indicesToKeep, 'IC3']\n",
    "               , c = color\n",
    "               , s = 50)\n",
    "    \n",
    "ax.legend(['CN', 'MCI', 'Dementia'])\n",
    "ax.grid()\n",
    "plt.tight_layout(pad=2)"
   ]
  },
  {
   "cell_type": "markdown",
   "id": "02e07dc9-ee6d-4f7b-b307-41e3e6ee487c",
   "metadata": {},
   "source": [
    "## Linear Regression"
   ]
  },
  {
   "cell_type": "code",
   "execution_count": 7,
   "id": "334b559d-8402-410d-97ba-2e51fae87ed4",
   "metadata": {},
   "outputs": [],
   "source": [
    "from sklearn.linear_model import LinearRegression\n",
    "from sklearn.metrics import mean_squared_error, r2_score"
   ]
  },
  {
   "cell_type": "code",
   "execution_count": 8,
   "id": "6d1e05b7-347b-4444-9e2d-025418c9d658",
   "metadata": {},
   "outputs": [
    {
     "name": "stdout",
     "output_type": "stream",
     "text": [
      "Coefficients: \n",
      " [0. 0. 0. 0. 0. 0. 0. 0. 0. 0.]\n",
      "Mean squared error: 0.59\n",
      "Coefficient of determination: -2.71\n"
     ]
    }
   ],
   "source": [
    "# Use only one feature\n",
    "X = finalDf.drop(\"DX\", axis=1).to_numpy().astype('int')\n",
    "y = finalDf.loc[:,['DX']].to_numpy().astype('int').flatten()\n",
    "\n",
    "# Split the data into training/testing sets\n",
    "X_train = X[:-20]\n",
    "X_test = X[-20:]\n",
    "\n",
    "# Split the targets into training/testing sets\n",
    "y_train = y[:-20]\n",
    "y_test = y[-20:]\n",
    "\n",
    "# Create linear regression object\n",
    "regr = LinearRegression()\n",
    "\n",
    "# Train the model using the training sets\n",
    "regr.fit(X_train, y_train)\n",
    "\n",
    "# Make predictions using the testing set\n",
    "y_pred = regr.predict(X_test)\n",
    "\n",
    "# The coefficients\n",
    "print('Coefficients: \\n', regr.coef_)\n",
    "# The mean squared error\n",
    "print('Mean squared error: %.2f' % mean_squared_error(y_test, y_pred))\n",
    "# The coefficient of determination: 1 is perfect prediction\n",
    "print('Coefficient of determination: %.2f' % r2_score(y_test, y_pred))"
   ]
  },
  {
   "cell_type": "code",
   "execution_count": 9,
   "id": "ffd9a820-60bf-4f89-9f3c-b00a674d830d",
   "metadata": {},
   "outputs": [
    {
     "data": {
      "text/html": [
       "<div>\n",
       "<style scoped>\n",
       "    .dataframe tbody tr th:only-of-type {\n",
       "        vertical-align: middle;\n",
       "    }\n",
       "\n",
       "    .dataframe tbody tr th {\n",
       "        vertical-align: top;\n",
       "    }\n",
       "\n",
       "    .dataframe thead th {\n",
       "        text-align: right;\n",
       "    }\n",
       "</style>\n",
       "<table border=\"1\" class=\"dataframe\">\n",
       "  <thead>\n",
       "    <tr style=\"text-align: right;\">\n",
       "      <th></th>\n",
       "      <th>IC1</th>\n",
       "      <th>IC2</th>\n",
       "      <th>IC3</th>\n",
       "      <th>IC4</th>\n",
       "      <th>IC5</th>\n",
       "      <th>IC6</th>\n",
       "      <th>IC7</th>\n",
       "      <th>IC8</th>\n",
       "      <th>IC9</th>\n",
       "      <th>IC10</th>\n",
       "      <th>DX</th>\n",
       "    </tr>\n",
       "  </thead>\n",
       "  <tbody>\n",
       "    <tr>\n",
       "      <th>0</th>\n",
       "      <td>-0.001517</td>\n",
       "      <td>-0.000184</td>\n",
       "      <td>0.005764</td>\n",
       "      <td>0.013507</td>\n",
       "      <td>0.031072</td>\n",
       "      <td>-0.046192</td>\n",
       "      <td>-0.068473</td>\n",
       "      <td>0.008327</td>\n",
       "      <td>0.053314</td>\n",
       "      <td>-0.009562</td>\n",
       "      <td>1</td>\n",
       "    </tr>\n",
       "    <tr>\n",
       "      <th>1</th>\n",
       "      <td>0.001678</td>\n",
       "      <td>-0.009921</td>\n",
       "      <td>0.013914</td>\n",
       "      <td>-0.017165</td>\n",
       "      <td>-0.009604</td>\n",
       "      <td>-0.031579</td>\n",
       "      <td>-0.031112</td>\n",
       "      <td>0.018391</td>\n",
       "      <td>0.042081</td>\n",
       "      <td>-0.032254</td>\n",
       "      <td>1</td>\n",
       "    </tr>\n",
       "    <tr>\n",
       "      <th>2</th>\n",
       "      <td>0.003084</td>\n",
       "      <td>-0.027655</td>\n",
       "      <td>0.002117</td>\n",
       "      <td>-0.010510</td>\n",
       "      <td>0.008409</td>\n",
       "      <td>-0.020276</td>\n",
       "      <td>-0.036198</td>\n",
       "      <td>-0.015679</td>\n",
       "      <td>0.015777</td>\n",
       "      <td>-0.079999</td>\n",
       "      <td>1</td>\n",
       "    </tr>\n",
       "    <tr>\n",
       "      <th>3</th>\n",
       "      <td>-0.033155</td>\n",
       "      <td>0.007712</td>\n",
       "      <td>0.017913</td>\n",
       "      <td>-0.012490</td>\n",
       "      <td>0.049501</td>\n",
       "      <td>-0.015673</td>\n",
       "      <td>0.011084</td>\n",
       "      <td>0.008163</td>\n",
       "      <td>0.008893</td>\n",
       "      <td>0.008308</td>\n",
       "      <td>1</td>\n",
       "    </tr>\n",
       "    <tr>\n",
       "      <th>4</th>\n",
       "      <td>-0.038341</td>\n",
       "      <td>-0.011120</td>\n",
       "      <td>0.037698</td>\n",
       "      <td>-0.029080</td>\n",
       "      <td>0.004639</td>\n",
       "      <td>-0.035694</td>\n",
       "      <td>0.038300</td>\n",
       "      <td>0.007884</td>\n",
       "      <td>0.010811</td>\n",
       "      <td>0.007391</td>\n",
       "      <td>1</td>\n",
       "    </tr>\n",
       "    <tr>\n",
       "      <th>...</th>\n",
       "      <td>...</td>\n",
       "      <td>...</td>\n",
       "      <td>...</td>\n",
       "      <td>...</td>\n",
       "      <td>...</td>\n",
       "      <td>...</td>\n",
       "      <td>...</td>\n",
       "      <td>...</td>\n",
       "      <td>...</td>\n",
       "      <td>...</td>\n",
       "      <td>...</td>\n",
       "    </tr>\n",
       "    <tr>\n",
       "      <th>1705</th>\n",
       "      <td>-0.020375</td>\n",
       "      <td>-0.038129</td>\n",
       "      <td>0.000536</td>\n",
       "      <td>0.029265</td>\n",
       "      <td>-0.012442</td>\n",
       "      <td>-0.002525</td>\n",
       "      <td>0.024200</td>\n",
       "      <td>0.002461</td>\n",
       "      <td>-0.001154</td>\n",
       "      <td>-0.009646</td>\n",
       "      <td>0</td>\n",
       "    </tr>\n",
       "    <tr>\n",
       "      <th>1706</th>\n",
       "      <td>-0.024556</td>\n",
       "      <td>0.033183</td>\n",
       "      <td>-0.030971</td>\n",
       "      <td>0.025985</td>\n",
       "      <td>-0.030162</td>\n",
       "      <td>-0.039693</td>\n",
       "      <td>0.014070</td>\n",
       "      <td>-0.029007</td>\n",
       "      <td>-0.025561</td>\n",
       "      <td>0.013891</td>\n",
       "      <td>0</td>\n",
       "    </tr>\n",
       "    <tr>\n",
       "      <th>1707</th>\n",
       "      <td>-0.033495</td>\n",
       "      <td>-0.006445</td>\n",
       "      <td>-0.007457</td>\n",
       "      <td>0.012655</td>\n",
       "      <td>0.054461</td>\n",
       "      <td>0.009355</td>\n",
       "      <td>0.044781</td>\n",
       "      <td>0.008689</td>\n",
       "      <td>-0.008491</td>\n",
       "      <td>0.018904</td>\n",
       "      <td>1</td>\n",
       "    </tr>\n",
       "    <tr>\n",
       "      <th>1708</th>\n",
       "      <td>-0.034899</td>\n",
       "      <td>0.015579</td>\n",
       "      <td>-0.013494</td>\n",
       "      <td>0.012844</td>\n",
       "      <td>0.046167</td>\n",
       "      <td>-0.009916</td>\n",
       "      <td>0.041496</td>\n",
       "      <td>0.011457</td>\n",
       "      <td>-0.002428</td>\n",
       "      <td>0.017595</td>\n",
       "      <td>0</td>\n",
       "    </tr>\n",
       "    <tr>\n",
       "      <th>1709</th>\n",
       "      <td>-0.034835</td>\n",
       "      <td>-0.002117</td>\n",
       "      <td>-0.003755</td>\n",
       "      <td>0.009513</td>\n",
       "      <td>0.053997</td>\n",
       "      <td>-0.012352</td>\n",
       "      <td>0.037846</td>\n",
       "      <td>0.011184</td>\n",
       "      <td>-0.010993</td>\n",
       "      <td>0.007203</td>\n",
       "      <td>1</td>\n",
       "    </tr>\n",
       "  </tbody>\n",
       "</table>\n",
       "<p>1710 rows × 11 columns</p>\n",
       "</div>"
      ],
      "text/plain": [
       "           IC1       IC2       IC3       IC4       IC5       IC6       IC7  \\\n",
       "0    -0.001517 -0.000184  0.005764  0.013507  0.031072 -0.046192 -0.068473   \n",
       "1     0.001678 -0.009921  0.013914 -0.017165 -0.009604 -0.031579 -0.031112   \n",
       "2     0.003084 -0.027655  0.002117 -0.010510  0.008409 -0.020276 -0.036198   \n",
       "3    -0.033155  0.007712  0.017913 -0.012490  0.049501 -0.015673  0.011084   \n",
       "4    -0.038341 -0.011120  0.037698 -0.029080  0.004639 -0.035694  0.038300   \n",
       "...        ...       ...       ...       ...       ...       ...       ...   \n",
       "1705 -0.020375 -0.038129  0.000536  0.029265 -0.012442 -0.002525  0.024200   \n",
       "1706 -0.024556  0.033183 -0.030971  0.025985 -0.030162 -0.039693  0.014070   \n",
       "1707 -0.033495 -0.006445 -0.007457  0.012655  0.054461  0.009355  0.044781   \n",
       "1708 -0.034899  0.015579 -0.013494  0.012844  0.046167 -0.009916  0.041496   \n",
       "1709 -0.034835 -0.002117 -0.003755  0.009513  0.053997 -0.012352  0.037846   \n",
       "\n",
       "           IC8       IC9      IC10 DX  \n",
       "0     0.008327  0.053314 -0.009562  1  \n",
       "1     0.018391  0.042081 -0.032254  1  \n",
       "2    -0.015679  0.015777 -0.079999  1  \n",
       "3     0.008163  0.008893  0.008308  1  \n",
       "4     0.007884  0.010811  0.007391  1  \n",
       "...        ...       ...       ... ..  \n",
       "1705  0.002461 -0.001154 -0.009646  0  \n",
       "1706 -0.029007 -0.025561  0.013891  0  \n",
       "1707  0.008689 -0.008491  0.018904  1  \n",
       "1708  0.011457 -0.002428  0.017595  0  \n",
       "1709  0.011184 -0.010993  0.007203  1  \n",
       "\n",
       "[1710 rows x 11 columns]"
      ]
     },
     "execution_count": 9,
     "metadata": {},
     "output_type": "execute_result"
    }
   ],
   "source": [
    "finalDf"
   ]
  },
  {
   "cell_type": "markdown",
   "id": "9b6bb396-8327-4299-bf12-31649282548d",
   "metadata": {},
   "source": [
    "##### "
   ]
  }
 ],
 "metadata": {
  "kernelspec": {
   "display_name": "Python 3",
   "language": "python",
   "name": "python3"
  },
  "language_info": {
   "codemirror_mode": {
    "name": "ipython",
    "version": 3
   },
   "file_extension": ".py",
   "mimetype": "text/x-python",
   "name": "python",
   "nbconvert_exporter": "python",
   "pygments_lexer": "ipython3",
   "version": "3.8.9"
  }
 },
 "nbformat": 4,
 "nbformat_minor": 5
}
