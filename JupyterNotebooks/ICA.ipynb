{
 "cells": [
  {
   "cell_type": "markdown",
   "id": "9fc89ed2-006a-4059-8453-979d82474707",
   "metadata": {
    "tags": []
   },
   "source": [
    "# Independent Component Analysis"
   ]
  },
  {
   "cell_type": "code",
   "execution_count": 1,
   "id": "2bbbc928-71c0-4363-95af-441adbdad91c",
   "metadata": {},
   "outputs": [],
   "source": [
    "import pandas as pd\n",
    "from sklearn.decomposition import FastICA\n",
    "import matplotlib.pyplot as plt\n",
    "import seaborn as sns\n",
    "%matplotlib widget\n",
    "import common"
   ]
  },
  {
   "cell_type": "code",
   "execution_count": 2,
   "id": "5f6aa0f9-500a-4ac7-bd54-91dde193af3f",
   "metadata": {},
   "outputs": [],
   "source": [
    "data = common.loadFile(\"CleanedData\").drop([\"VISCODE\", \"RID\"], axis=1).dropna()"
   ]
  },
  {
   "cell_type": "code",
   "execution_count": 3,
   "id": "f59c4633-7672-4373-9f3f-df84590d2178",
   "metadata": {},
   "outputs": [
    {
     "data": {
      "application/vnd.jupyter.widget-view+json": {
       "model_id": "a884be5e66bc4f55b9b05ab466040661",
       "version_major": 2,
       "version_minor": 0
      },
      "text/plain": [
       "Canvas(toolbar=Toolbar(toolitems=[('Home', 'Reset original view', 'home', 'home'), ('Back', 'Back to previous …"
      ]
     },
     "metadata": {},
     "output_type": "display_data"
    }
   ],
   "source": [
    "plt.close()\n",
    "ax = sns.countplot(x=data['DX'])\n",
    "plt.title(\"Data Diagnosis\")\n",
    "plt.ylabel(\"Count\")\n",
    "plt.xlabel(\"Diagnosis\")\n",
    "plt.xticks(ticks=range(0,3), labels=['CN', 'MCI', 'Dementia'])\n",
    "\n",
    "for p in ax.patches:\n",
    "        ax.annotate(f'\\n{p.get_height()}', (p.get_x()+p.get_width()/2, p.get_height()), ha='center', \n",
    "                    va='top', color='white', size=18)"
   ]
  },
  {
   "cell_type": "code",
   "execution_count": 4,
   "id": "3e74956d-1366-4c14-b99b-ebd8016c31ed",
   "metadata": {},
   "outputs": [
    {
     "name": "stdout",
     "output_type": "stream",
     "text": [
      "####### Final Independent Components ######\n",
      "        IC1       IC2       IC3       IC4       IC5       IC6       IC7  \\\n",
      "0  0.053283 -0.045100 -0.014432 -0.009505  0.032330 -0.004179 -0.068448   \n",
      "1  0.042112 -0.031356  0.016629 -0.032211 -0.008220 -0.013932 -0.031016   \n",
      "2  0.015685 -0.017823  0.009414 -0.079723  0.009446 -0.030546 -0.035997   \n",
      "3  0.008932 -0.015926  0.012164  0.008393  0.049791  0.005051  0.010948   \n",
      "4  0.010901 -0.036644  0.028624  0.007494  0.005848 -0.016803  0.038380   \n",
      "5 -0.008018  0.003679  0.023799 -0.035675  0.026185 -0.008807  0.037028   \n",
      "6 -0.011871  0.006029  0.015381  0.012779  0.001171  0.027000 -0.040150   \n",
      "7 -0.012454 -0.000656  0.006933  0.013211  0.009392  0.015240 -0.047019   \n",
      "8 -0.017882 -0.006138  0.006410  0.001979 -0.013611  0.003205 -0.029028   \n",
      "9 -0.012230 -0.023948  0.003637  0.005278 -0.003713 -0.011624  0.019362   \n",
      "\n",
      "        IC8       IC9      IC10 DX  \n",
      "0  0.001031 -0.008591  0.003790  1  \n",
      "1 -0.002633 -0.018719  0.012025  1  \n",
      "2 -0.003866  0.015326 -0.000054  1  \n",
      "3  0.033536 -0.008249  0.017323  1  \n",
      "4  0.037542 -0.008430  0.035346  1  \n",
      "5  0.031814  0.003615  0.018960  1  \n",
      "6  0.030553 -0.013975 -0.011207  0  \n",
      "7  0.030473  0.002144 -0.012768  0  \n",
      "8  0.033458  0.000422 -0.018004  1  \n",
      "9  0.014728  0.002138 -0.015613  1  \n"
     ]
    }
   ],
   "source": [
    "components = 10\n",
    "#Creating input data numpy array\n",
    "y =  data.loc[:,['DX']].values\n",
    "X = data.drop([\"DX\"], axis=1)\n",
    "######################################################################\n",
    "\n",
    "# Creating ICA object\n",
    "ICA = FastICA(n_components=components)\n",
    "IndependentComponentValues=ICA.fit_transform(X, y)\n",
    "\n",
    "def getColumnNames() -> list:\n",
    "    res = []\n",
    "    for i in range(1, len(IndependentComponentValues.T)+1):\n",
    "        res.append('IC'+str(i))\n",
    "    return res\n",
    "\n",
    "#Creating the dataframe\n",
    "ReducedData=pd.DataFrame(data=IndependentComponentValues, columns=getColumnNames())\n",
    "\n",
    "# Rebuild dataset\n",
    "finalDf = pd.concat([ReducedData, data[['DX']]], axis = 1)\n",
    "common.saveFile(finalDf, \"ICAData\")\n",
    "\n",
    "\n",
    "print('####### Final Independent Components ######')\n",
    "print(finalDf.head(10))"
   ]
  },
  {
   "cell_type": "code",
   "execution_count": 5,
   "id": "026dd3de-cf72-407d-92a3-3f66337ded97",
   "metadata": {},
   "outputs": [
    {
     "data": {
      "application/vnd.jupyter.widget-view+json": {
       "model_id": "86c756661cde4077818efaa61112ff98",
       "version_major": 2,
       "version_minor": 0
      },
      "text/plain": [
       "Canvas(toolbar=Toolbar(toolitems=[('Home', 'Reset original view', 'home', 'home'), ('Back', 'Back to previous …"
      ]
     },
     "metadata": {},
     "output_type": "display_data"
    }
   ],
   "source": [
    "showX = '1'\n",
    "showY = '3'\n",
    "\n",
    "plt.close()\n",
    "fig = plt.figure(figsize = (8,8))\n",
    "ax = fig.add_subplot(1,1,1) \n",
    "ax.set_xlabel('IC' + showX, fontsize = 15)\n",
    "ax.set_ylabel('IC' + showY, fontsize = 15)\n",
    "ax.set_title('2 Component ICA', fontsize = 20)\n",
    "\n",
    "\n",
    "targets = [0, 1, 2]\n",
    "colors = ['r', 'y', 'b']\n",
    "for target, color in zip(targets, colors):\n",
    "    indicesToKeep = finalDf['DX'] == target\n",
    "    ax.scatter(finalDf.loc[indicesToKeep, 'IC' + showX]\n",
    "               , finalDf.loc[indicesToKeep, 'IC' + showY]\n",
    "               , c = color\n",
    "               , s = 50)\n",
    "    \n",
    "ax.legend(['CN', 'MCI', 'Dementia'])\n",
    "ax.grid()"
   ]
  },
  {
   "cell_type": "code",
   "execution_count": 6,
   "id": "1aa57d5a-7d47-46df-829d-a0c852c23b13",
   "metadata": {},
   "outputs": [
    {
     "data": {
      "application/vnd.jupyter.widget-view+json": {
       "model_id": "4849167df2cb470585667c2204bd186a",
       "version_major": 2,
       "version_minor": 0
      },
      "text/plain": [
       "Canvas(toolbar=Toolbar(toolitems=[('Home', 'Reset original view', 'home', 'home'), ('Back', 'Back to previous …"
      ]
     },
     "metadata": {},
     "output_type": "display_data"
    }
   ],
   "source": [
    "plt.close()\n",
    "fig = plt.figure()\n",
    "#ax = fig.add_subplot(1,1,1) \n",
    "ax = plt.axes(projection='3d')\n",
    "\n",
    "ax.set_xlabel('IC1', fontsize=12)\n",
    "ax.set_ylabel('IC2', fontsize=12)\n",
    "ax.set_zlabel('IC3', fontsize=12)\n",
    "ax.set_title('3 Component ICA', fontsize = 20)\n",
    "\n",
    "targets = [0, 1, 2]\n",
    "colors = ['r', 'y', 'b']\n",
    "for target, color in zip(targets, colors):\n",
    "    indicesToKeep = finalDf['DX'] == target\n",
    "    ax.scatter(finalDf.loc[indicesToKeep, 'IC1']\n",
    "               , finalDf.loc[indicesToKeep, 'IC2']\n",
    "               , finalDf.loc[indicesToKeep, 'IC3']\n",
    "               , c = color\n",
    "               , s = 50)\n",
    "    \n",
    "ax.legend(['CN', 'MCI', 'Dementia'])\n",
    "ax.grid()"
   ]
  },
  {
   "cell_type": "markdown",
   "id": "02e07dc9-ee6d-4f7b-b307-41e3e6ee487c",
   "metadata": {},
   "source": [
    "## Linear Regression"
   ]
  },
  {
   "cell_type": "code",
   "execution_count": 7,
   "id": "334b559d-8402-410d-97ba-2e51fae87ed4",
   "metadata": {},
   "outputs": [],
   "source": [
    "from sklearn.linear_model import LinearRegression\n",
    "from sklearn.metrics import mean_squared_error, r2_score"
   ]
  },
  {
   "cell_type": "code",
   "execution_count": 8,
   "id": "6d1e05b7-347b-4444-9e2d-025418c9d658",
   "metadata": {},
   "outputs": [
    {
     "name": "stdout",
     "output_type": "stream",
     "text": [
      "Coefficients: \n",
      " [0. 0. 0. 0. 0. 0. 0. 0. 0. 0.]\n",
      "Mean squared error: 0.59\n",
      "Coefficient of determination: -2.71\n"
     ]
    }
   ],
   "source": [
    "# Use only one feature\n",
    "X = finalDf.drop(\"DX\", axis=1).to_numpy().astype('int')\n",
    "y = finalDf.loc[:,['DX']].to_numpy().astype('int').flatten()\n",
    "\n",
    "# Split the data into training/testing sets\n",
    "X_train = X[:-20]\n",
    "X_test = X[-20:]\n",
    "\n",
    "# Split the targets into training/testing sets\n",
    "y_train = y[:-20]\n",
    "y_test = y[-20:]\n",
    "\n",
    "# Create linear regression object\n",
    "regr = LinearRegression()\n",
    "\n",
    "# Train the model using the training sets\n",
    "regr.fit(X_train, y_train)\n",
    "\n",
    "# Make predictions using the testing set\n",
    "y_pred = regr.predict(X_test)\n",
    "\n",
    "# The coefficients\n",
    "print('Coefficients: \\n', regr.coef_)\n",
    "# The mean squared error\n",
    "print('Mean squared error: %.2f' % mean_squared_error(y_test, y_pred))\n",
    "# The coefficient of determination: 1 is perfect prediction\n",
    "print('Coefficient of determination: %.2f' % r2_score(y_test, y_pred))"
   ]
  },
  {
   "cell_type": "code",
   "execution_count": 9,
   "id": "ffd9a820-60bf-4f89-9f3c-b00a674d830d",
   "metadata": {},
   "outputs": [
    {
     "data": {
      "text/html": [
       "<div>\n",
       "<style scoped>\n",
       "    .dataframe tbody tr th:only-of-type {\n",
       "        vertical-align: middle;\n",
       "    }\n",
       "\n",
       "    .dataframe tbody tr th {\n",
       "        vertical-align: top;\n",
       "    }\n",
       "\n",
       "    .dataframe thead th {\n",
       "        text-align: right;\n",
       "    }\n",
       "</style>\n",
       "<table border=\"1\" class=\"dataframe\">\n",
       "  <thead>\n",
       "    <tr style=\"text-align: right;\">\n",
       "      <th></th>\n",
       "      <th>IC1</th>\n",
       "      <th>IC2</th>\n",
       "      <th>IC3</th>\n",
       "      <th>IC4</th>\n",
       "      <th>IC5</th>\n",
       "      <th>IC6</th>\n",
       "      <th>IC7</th>\n",
       "      <th>IC8</th>\n",
       "      <th>IC9</th>\n",
       "      <th>IC10</th>\n",
       "      <th>DX</th>\n",
       "    </tr>\n",
       "  </thead>\n",
       "  <tbody>\n",
       "    <tr>\n",
       "      <th>0</th>\n",
       "      <td>0.053283</td>\n",
       "      <td>-0.045100</td>\n",
       "      <td>-0.014432</td>\n",
       "      <td>-0.009505</td>\n",
       "      <td>0.032330</td>\n",
       "      <td>-0.004179</td>\n",
       "      <td>-0.068448</td>\n",
       "      <td>0.001031</td>\n",
       "      <td>-0.008591</td>\n",
       "      <td>0.003790</td>\n",
       "      <td>1</td>\n",
       "    </tr>\n",
       "    <tr>\n",
       "      <th>1</th>\n",
       "      <td>0.042112</td>\n",
       "      <td>-0.031356</td>\n",
       "      <td>0.016629</td>\n",
       "      <td>-0.032211</td>\n",
       "      <td>-0.008220</td>\n",
       "      <td>-0.013932</td>\n",
       "      <td>-0.031016</td>\n",
       "      <td>-0.002633</td>\n",
       "      <td>-0.018719</td>\n",
       "      <td>0.012025</td>\n",
       "      <td>1</td>\n",
       "    </tr>\n",
       "    <tr>\n",
       "      <th>2</th>\n",
       "      <td>0.015685</td>\n",
       "      <td>-0.017823</td>\n",
       "      <td>0.009414</td>\n",
       "      <td>-0.079723</td>\n",
       "      <td>0.009446</td>\n",
       "      <td>-0.030546</td>\n",
       "      <td>-0.035997</td>\n",
       "      <td>-0.003866</td>\n",
       "      <td>0.015326</td>\n",
       "      <td>-0.000054</td>\n",
       "      <td>1</td>\n",
       "    </tr>\n",
       "    <tr>\n",
       "      <th>3</th>\n",
       "      <td>0.008932</td>\n",
       "      <td>-0.015926</td>\n",
       "      <td>0.012164</td>\n",
       "      <td>0.008393</td>\n",
       "      <td>0.049791</td>\n",
       "      <td>0.005051</td>\n",
       "      <td>0.010948</td>\n",
       "      <td>0.033536</td>\n",
       "      <td>-0.008249</td>\n",
       "      <td>0.017323</td>\n",
       "      <td>1</td>\n",
       "    </tr>\n",
       "    <tr>\n",
       "      <th>4</th>\n",
       "      <td>0.010901</td>\n",
       "      <td>-0.036644</td>\n",
       "      <td>0.028624</td>\n",
       "      <td>0.007494</td>\n",
       "      <td>0.005848</td>\n",
       "      <td>-0.016803</td>\n",
       "      <td>0.038380</td>\n",
       "      <td>0.037542</td>\n",
       "      <td>-0.008430</td>\n",
       "      <td>0.035346</td>\n",
       "      <td>1</td>\n",
       "    </tr>\n",
       "    <tr>\n",
       "      <th>...</th>\n",
       "      <td>...</td>\n",
       "      <td>...</td>\n",
       "      <td>...</td>\n",
       "      <td>...</td>\n",
       "      <td>...</td>\n",
       "      <td>...</td>\n",
       "      <td>...</td>\n",
       "      <td>...</td>\n",
       "      <td>...</td>\n",
       "      <td>...</td>\n",
       "      <td>...</td>\n",
       "    </tr>\n",
       "    <tr>\n",
       "      <th>1705</th>\n",
       "      <td>-0.001316</td>\n",
       "      <td>0.000008</td>\n",
       "      <td>-0.030019</td>\n",
       "      <td>-0.009362</td>\n",
       "      <td>-0.012779</td>\n",
       "      <td>-0.037680</td>\n",
       "      <td>0.024482</td>\n",
       "      <td>0.019730</td>\n",
       "      <td>-0.002940</td>\n",
       "      <td>-0.001419</td>\n",
       "      <td>0</td>\n",
       "    </tr>\n",
       "    <tr>\n",
       "      <th>1706</th>\n",
       "      <td>-0.025415</td>\n",
       "      <td>-0.042207</td>\n",
       "      <td>-0.024854</td>\n",
       "      <td>0.013536</td>\n",
       "      <td>-0.029832</td>\n",
       "      <td>0.031649</td>\n",
       "      <td>0.013754</td>\n",
       "      <td>0.024475</td>\n",
       "      <td>0.029103</td>\n",
       "      <td>-0.030895</td>\n",
       "      <td>0</td>\n",
       "    </tr>\n",
       "    <tr>\n",
       "      <th>1707</th>\n",
       "      <td>-0.008613</td>\n",
       "      <td>0.011347</td>\n",
       "      <td>-0.013086</td>\n",
       "      <td>0.019145</td>\n",
       "      <td>0.053604</td>\n",
       "      <td>-0.004749</td>\n",
       "      <td>0.044670</td>\n",
       "      <td>0.034299</td>\n",
       "      <td>-0.008710</td>\n",
       "      <td>-0.007665</td>\n",
       "      <td>1</td>\n",
       "    </tr>\n",
       "    <tr>\n",
       "      <th>1708</th>\n",
       "      <td>-0.002452</td>\n",
       "      <td>-0.009574</td>\n",
       "      <td>-0.012727</td>\n",
       "      <td>0.017617</td>\n",
       "      <td>0.045803</td>\n",
       "      <td>0.015906</td>\n",
       "      <td>0.041206</td>\n",
       "      <td>0.035720</td>\n",
       "      <td>-0.011376</td>\n",
       "      <td>-0.013486</td>\n",
       "      <td>0</td>\n",
       "    </tr>\n",
       "    <tr>\n",
       "      <th>1709</th>\n",
       "      <td>-0.011081</td>\n",
       "      <td>-0.010765</td>\n",
       "      <td>-0.009986</td>\n",
       "      <td>0.007395</td>\n",
       "      <td>0.053835</td>\n",
       "      <td>-0.002514</td>\n",
       "      <td>0.037701</td>\n",
       "      <td>0.035380</td>\n",
       "      <td>-0.011315</td>\n",
       "      <td>-0.004711</td>\n",
       "      <td>1</td>\n",
       "    </tr>\n",
       "  </tbody>\n",
       "</table>\n",
       "<p>1710 rows × 11 columns</p>\n",
       "</div>"
      ],
      "text/plain": [
       "           IC1       IC2       IC3       IC4       IC5       IC6       IC7  \\\n",
       "0     0.053283 -0.045100 -0.014432 -0.009505  0.032330 -0.004179 -0.068448   \n",
       "1     0.042112 -0.031356  0.016629 -0.032211 -0.008220 -0.013932 -0.031016   \n",
       "2     0.015685 -0.017823  0.009414 -0.079723  0.009446 -0.030546 -0.035997   \n",
       "3     0.008932 -0.015926  0.012164  0.008393  0.049791  0.005051  0.010948   \n",
       "4     0.010901 -0.036644  0.028624  0.007494  0.005848 -0.016803  0.038380   \n",
       "...        ...       ...       ...       ...       ...       ...       ...   \n",
       "1705 -0.001316  0.000008 -0.030019 -0.009362 -0.012779 -0.037680  0.024482   \n",
       "1706 -0.025415 -0.042207 -0.024854  0.013536 -0.029832  0.031649  0.013754   \n",
       "1707 -0.008613  0.011347 -0.013086  0.019145  0.053604 -0.004749  0.044670   \n",
       "1708 -0.002452 -0.009574 -0.012727  0.017617  0.045803  0.015906  0.041206   \n",
       "1709 -0.011081 -0.010765 -0.009986  0.007395  0.053835 -0.002514  0.037701   \n",
       "\n",
       "           IC8       IC9      IC10 DX  \n",
       "0     0.001031 -0.008591  0.003790  1  \n",
       "1    -0.002633 -0.018719  0.012025  1  \n",
       "2    -0.003866  0.015326 -0.000054  1  \n",
       "3     0.033536 -0.008249  0.017323  1  \n",
       "4     0.037542 -0.008430  0.035346  1  \n",
       "...        ...       ...       ... ..  \n",
       "1705  0.019730 -0.002940 -0.001419  0  \n",
       "1706  0.024475  0.029103 -0.030895  0  \n",
       "1707  0.034299 -0.008710 -0.007665  1  \n",
       "1708  0.035720 -0.011376 -0.013486  0  \n",
       "1709  0.035380 -0.011315 -0.004711  1  \n",
       "\n",
       "[1710 rows x 11 columns]"
      ]
     },
     "execution_count": 9,
     "metadata": {},
     "output_type": "execute_result"
    }
   ],
   "source": [
    "finalDf"
   ]
  },
  {
   "cell_type": "markdown",
   "id": "9b6bb396-8327-4299-bf12-31649282548d",
   "metadata": {},
   "source": [
    "##### "
   ]
  }
 ],
 "metadata": {
  "kernelspec": {
   "display_name": "Python 3",
   "language": "python",
   "name": "python3"
  },
  "language_info": {
   "codemirror_mode": {
    "name": "ipython",
    "version": 3
   },
   "file_extension": ".py",
   "mimetype": "text/x-python",
   "name": "python",
   "nbconvert_exporter": "python",
   "pygments_lexer": "ipython3",
   "version": "3.8.9"
  }
 },
 "nbformat": 4,
 "nbformat_minor": 5
}
