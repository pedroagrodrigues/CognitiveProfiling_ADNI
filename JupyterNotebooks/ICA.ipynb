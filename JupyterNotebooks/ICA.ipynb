{
 "cells": [
  {
   "cell_type": "markdown",
   "id": "9fc89ed2-006a-4059-8453-979d82474707",
   "metadata": {
    "tags": []
   },
   "source": [
    "# Independent Component Analysis"
   ]
  },
  {
   "cell_type": "code",
   "execution_count": 1,
   "id": "2bbbc928-71c0-4363-95af-441adbdad91c",
   "metadata": {},
   "outputs": [],
   "source": [
    "import pandas as pd\n",
    "from sklearn.decomposition import FastICA\n",
    "import matplotlib.pyplot as plt\n",
    "import seaborn as sns\n",
    "%matplotlib widget\n",
    "import common"
   ]
  },
  {
   "cell_type": "code",
   "execution_count": 2,
   "id": "5f6aa0f9-500a-4ac7-bd54-91dde193af3f",
   "metadata": {},
   "outputs": [],
   "source": [
    "data = common.loadFile(\"CleanedData\").drop([\"VISCODE\", \"RID\"], axis=1).dropna()"
   ]
  },
  {
   "cell_type": "code",
   "execution_count": 3,
   "id": "f59c4633-7672-4373-9f3f-df84590d2178",
   "metadata": {},
   "outputs": [
    {
     "data": {
      "application/vnd.jupyter.widget-view+json": {
       "model_id": "cca175c3446b4cfd811ba5198cf49359",
       "version_major": 2,
       "version_minor": 0
      },
      "text/plain": [
       "Canvas(toolbar=Toolbar(toolitems=[('Home', 'Reset original view', 'home', 'home'), ('Back', 'Back to previous …"
      ]
     },
     "metadata": {},
     "output_type": "display_data"
    }
   ],
   "source": [
    "plt.close()\n",
    "ax = sns.countplot(x=data['DX'])\n",
    "plt.title(\"Data Diagnosis\")\n",
    "plt.ylabel(\"Count\")\n",
    "plt.xlabel(\"Diagnosis\")\n",
    "plt.xticks(ticks=range(0,3), labels=['CN', 'MCI', 'Dementia'])\n",
    "\n",
    "for p in ax.patches:\n",
    "        ax.annotate(f'\\n{p.get_height()}', (p.get_x()+p.get_width()/2, p.get_height()), ha='center', \n",
    "                    va='top', color='white', size=18)"
   ]
  },
  {
   "cell_type": "code",
   "execution_count": 4,
   "id": "3e74956d-1366-4c14-b99b-ebd8016c31ed",
   "metadata": {},
   "outputs": [
    {
     "name": "stdout",
     "output_type": "stream",
     "text": [
      "####### Final Independent Components ######\n",
      "        IC1       IC2       IC3       IC4       IC5       IC6       IC7  \\\n",
      "0  0.005642  0.009503 -0.008446 -0.001468 -0.013136 -0.068641  0.053346   \n",
      "1  0.013706  0.032177 -0.018498  0.001793  0.017239 -0.030951  0.042105   \n",
      "2  0.001845  0.079966  0.015538  0.003171  0.010482 -0.036154  0.015887   \n",
      "3  0.017872 -0.008296 -0.008167 -0.033228  0.012526  0.011012  0.008893   \n",
      "4  0.037392 -0.007431 -0.007942 -0.038242  0.028775  0.038477  0.010771   \n",
      "5  0.019329  0.035857  0.003721 -0.031665  0.023796  0.037123 -0.007998   \n",
      "6 -0.012682 -0.012890 -0.014317 -0.030162  0.014942 -0.039722 -0.012038   \n",
      "7 -0.013530 -0.013207  0.001927 -0.030250  0.006938 -0.046782 -0.012547   \n",
      "8 -0.018094 -0.001965  0.000359 -0.033645  0.006230 -0.028806 -0.017976   \n",
      "9 -0.014244 -0.005193  0.002380 -0.015177  0.003701  0.019383 -0.012242   \n",
      "\n",
      "        IC8       IC9      IC10 DX  \n",
      "0 -0.031004 -0.046061  0.000641  1  \n",
      "1  0.009612 -0.031560  0.010549  1  \n",
      "2 -0.008369 -0.019957  0.028086  1  \n",
      "3 -0.049510 -0.015743 -0.007338  1  \n",
      "4 -0.004822 -0.035827  0.012095  1  \n",
      "5 -0.026174  0.003662  0.007303  1  \n",
      "6 -0.001508  0.007694 -0.026921  0  \n",
      "7 -0.009622  0.000043 -0.015577  0  \n",
      "8  0.013483 -0.005798 -0.003718  1  \n",
      "9  0.004136 -0.024919  0.010488  1  \n"
     ]
    }
   ],
   "source": [
    "components = 10\n",
    "# Creating input data numpy array\n",
    "y =  data.loc[:,['DX']].values\n",
    "X = data.drop([\"DX\"], axis=1)\n",
    "######################################################################\n",
    "\n",
    "# Creating ICA object\n",
    "ICA = FastICA(n_components=components)\n",
    "IndependentComponentValues = ICA.fit_transform(X, y)\n",
    "\n",
    "def getColumnNames() -> list:\n",
    "    res = []\n",
    "    for i in range(1, len(IndependentComponentValues.T)+1):\n",
    "        res.append('IC'+str(i))\n",
    "    return res\n",
    "\n",
    "# Creating the dataframe\n",
    "ReducedData = pd.DataFrame(data=IndependentComponentValues, columns=getColumnNames())\n",
    "\n",
    "# Rebuild dataset\n",
    "finalDf = pd.concat([ReducedData, data[['DX']]], axis = 1)\n",
    "common.saveFile(finalDf, \"ICAData\")\n",
    "\n",
    "\n",
    "print('####### Final Independent Components ######')\n",
    "print(finalDf.head(10))"
   ]
  },
  {
   "cell_type": "code",
   "execution_count": 5,
   "id": "026dd3de-cf72-407d-92a3-3f66337ded97",
   "metadata": {},
   "outputs": [
    {
     "data": {
      "application/vnd.jupyter.widget-view+json": {
       "model_id": "a0b761d3c66d4c538378605db02d38ca",
       "version_major": 2,
       "version_minor": 0
      },
      "text/plain": [
       "Canvas(toolbar=Toolbar(toolitems=[('Home', 'Reset original view', 'home', 'home'), ('Back', 'Back to previous …"
      ]
     },
     "metadata": {},
     "output_type": "display_data"
    }
   ],
   "source": [
    "showX = '1'\n",
    "showY = '3'\n",
    "\n",
    "plt.close()\n",
    "fig = plt.figure(figsize = (8,8))\n",
    "ax = fig.add_subplot(1,1,1) \n",
    "ax.set_xlabel('IC' + showX, fontsize = 15)\n",
    "ax.set_ylabel('IC' + showY, fontsize = 15)\n",
    "ax.set_title('2 Component ICA', fontsize = 20)\n",
    "\n",
    "\n",
    "targets = [0, 1, 2]\n",
    "colors = ['r', 'y', 'b']\n",
    "for target, color in zip(targets, colors):\n",
    "    indicesToKeep = finalDf['DX'] == target\n",
    "    ax.scatter(finalDf.loc[indicesToKeep, 'IC' + showX]\n",
    "               , finalDf.loc[indicesToKeep, 'IC' + showY]\n",
    "               , c = color\n",
    "               , s = 50)\n",
    "    \n",
    "ax.legend(['CN', 'MCI', 'Dementia'])\n",
    "ax.grid()"
   ]
  },
  {
   "cell_type": "code",
   "execution_count": 6,
   "id": "1aa57d5a-7d47-46df-829d-a0c852c23b13",
   "metadata": {},
   "outputs": [
    {
     "data": {
      "application/vnd.jupyter.widget-view+json": {
       "model_id": "041494f51a894e50be0b84a7bd152f52",
       "version_major": 2,
       "version_minor": 0
      },
      "text/plain": [
       "Canvas(toolbar=Toolbar(toolitems=[('Home', 'Reset original view', 'home', 'home'), ('Back', 'Back to previous …"
      ]
     },
     "metadata": {},
     "output_type": "display_data"
    }
   ],
   "source": [
    "plt.close()\n",
    "fig = plt.figure()\n",
    "#ax = fig.add_subplot(1,1,1) \n",
    "ax = plt.axes(projection='3d')\n",
    "\n",
    "ax.set_xlabel('IC1', fontsize=12)\n",
    "ax.set_ylabel('IC2', fontsize=12)\n",
    "ax.set_zlabel('IC3', fontsize=12)\n",
    "ax.set_title('3 Component ICA', fontsize = 20)\n",
    "\n",
    "targets = [0, 1, 2]\n",
    "colors = ['r', 'y', 'b']\n",
    "for target, color in zip(targets, colors):\n",
    "    indicesToKeep = finalDf['DX'] == target\n",
    "    ax.scatter(finalDf.loc[indicesToKeep, 'IC1']\n",
    "               , finalDf.loc[indicesToKeep, 'IC2']\n",
    "               , finalDf.loc[indicesToKeep, 'IC3']\n",
    "               , c = color\n",
    "               , s = 50)\n",
    "    \n",
    "ax.legend(['CN', 'MCI', 'Dementia'])\n",
    "ax.grid()"
   ]
  },
  {
   "cell_type": "markdown",
   "id": "02e07dc9-ee6d-4f7b-b307-41e3e6ee487c",
   "metadata": {},
   "source": [
    "## Linear Regression"
   ]
  },
  {
   "cell_type": "code",
   "execution_count": 7,
   "id": "334b559d-8402-410d-97ba-2e51fae87ed4",
   "metadata": {},
   "outputs": [],
   "source": [
    "from sklearn.linear_model import LinearRegression\n",
    "from sklearn.metrics import mean_squared_error, r2_score"
   ]
  },
  {
   "cell_type": "code",
   "execution_count": 8,
   "id": "6d1e05b7-347b-4444-9e2d-025418c9d658",
   "metadata": {},
   "outputs": [
    {
     "name": "stdout",
     "output_type": "stream",
     "text": [
      "Coefficients: \n",
      " [0. 0. 0. 0. 0. 0. 0. 0. 0. 0.]\n",
      "Mean squared error: 0.59\n",
      "Coefficient of determination: -2.71\n"
     ]
    }
   ],
   "source": [
    "# Use only one feature\n",
    "X = finalDf.drop(\"DX\", axis=1).to_numpy().astype('int')\n",
    "y = finalDf.loc[:,['DX']].to_numpy().astype('int').flatten()\n",
    "\n",
    "# Split the data into training/testing sets\n",
    "X_train = X[:-20]\n",
    "X_test = X[-20:]\n",
    "\n",
    "# Split the targets into training/testing sets\n",
    "y_train = y[:-20]\n",
    "y_test = y[-20:]\n",
    "\n",
    "# Create linear regression object\n",
    "regr = LinearRegression()\n",
    "\n",
    "# Train the model using the training sets\n",
    "regr.fit(X_train, y_train)\n",
    "\n",
    "# Make predictions using the testing set\n",
    "y_pred = regr.predict(X_test)\n",
    "\n",
    "# The coefficients\n",
    "print('Coefficients: \\n', regr.coef_)\n",
    "# The mean squared error\n",
    "print('Mean squared error: %.2f' % mean_squared_error(y_test, y_pred))\n",
    "# The coefficient of determination: 1 is perfect prediction\n",
    "print('Coefficient of determination: %.2f' % r2_score(y_test, y_pred))"
   ]
  },
  {
   "cell_type": "code",
   "execution_count": 9,
   "id": "ffd9a820-60bf-4f89-9f3c-b00a674d830d",
   "metadata": {},
   "outputs": [
    {
     "data": {
      "text/html": [
       "<div>\n",
       "<style scoped>\n",
       "    .dataframe tbody tr th:only-of-type {\n",
       "        vertical-align: middle;\n",
       "    }\n",
       "\n",
       "    .dataframe tbody tr th {\n",
       "        vertical-align: top;\n",
       "    }\n",
       "\n",
       "    .dataframe thead th {\n",
       "        text-align: right;\n",
       "    }\n",
       "</style>\n",
       "<table border=\"1\" class=\"dataframe\">\n",
       "  <thead>\n",
       "    <tr style=\"text-align: right;\">\n",
       "      <th></th>\n",
       "      <th>IC1</th>\n",
       "      <th>IC2</th>\n",
       "      <th>IC3</th>\n",
       "      <th>IC4</th>\n",
       "      <th>IC5</th>\n",
       "      <th>IC6</th>\n",
       "      <th>IC7</th>\n",
       "      <th>IC8</th>\n",
       "      <th>IC9</th>\n",
       "      <th>IC10</th>\n",
       "      <th>DX</th>\n",
       "    </tr>\n",
       "  </thead>\n",
       "  <tbody>\n",
       "    <tr>\n",
       "      <th>0</th>\n",
       "      <td>0.005642</td>\n",
       "      <td>0.009503</td>\n",
       "      <td>-0.008446</td>\n",
       "      <td>-0.001468</td>\n",
       "      <td>-0.013136</td>\n",
       "      <td>-0.068641</td>\n",
       "      <td>0.053346</td>\n",
       "      <td>-0.031004</td>\n",
       "      <td>-0.046061</td>\n",
       "      <td>0.000641</td>\n",
       "      <td>1</td>\n",
       "    </tr>\n",
       "    <tr>\n",
       "      <th>1</th>\n",
       "      <td>0.013706</td>\n",
       "      <td>0.032177</td>\n",
       "      <td>-0.018498</td>\n",
       "      <td>0.001793</td>\n",
       "      <td>0.017239</td>\n",
       "      <td>-0.030951</td>\n",
       "      <td>0.042105</td>\n",
       "      <td>0.009612</td>\n",
       "      <td>-0.031560</td>\n",
       "      <td>0.010549</td>\n",
       "      <td>1</td>\n",
       "    </tr>\n",
       "    <tr>\n",
       "      <th>2</th>\n",
       "      <td>0.001845</td>\n",
       "      <td>0.079966</td>\n",
       "      <td>0.015538</td>\n",
       "      <td>0.003171</td>\n",
       "      <td>0.010482</td>\n",
       "      <td>-0.036154</td>\n",
       "      <td>0.015887</td>\n",
       "      <td>-0.008369</td>\n",
       "      <td>-0.019957</td>\n",
       "      <td>0.028086</td>\n",
       "      <td>1</td>\n",
       "    </tr>\n",
       "    <tr>\n",
       "      <th>3</th>\n",
       "      <td>0.017872</td>\n",
       "      <td>-0.008296</td>\n",
       "      <td>-0.008167</td>\n",
       "      <td>-0.033228</td>\n",
       "      <td>0.012526</td>\n",
       "      <td>0.011012</td>\n",
       "      <td>0.008893</td>\n",
       "      <td>-0.049510</td>\n",
       "      <td>-0.015743</td>\n",
       "      <td>-0.007338</td>\n",
       "      <td>1</td>\n",
       "    </tr>\n",
       "    <tr>\n",
       "      <th>4</th>\n",
       "      <td>0.037392</td>\n",
       "      <td>-0.007431</td>\n",
       "      <td>-0.007942</td>\n",
       "      <td>-0.038242</td>\n",
       "      <td>0.028775</td>\n",
       "      <td>0.038477</td>\n",
       "      <td>0.010771</td>\n",
       "      <td>-0.004822</td>\n",
       "      <td>-0.035827</td>\n",
       "      <td>0.012095</td>\n",
       "      <td>1</td>\n",
       "    </tr>\n",
       "    <tr>\n",
       "      <th>...</th>\n",
       "      <td>...</td>\n",
       "      <td>...</td>\n",
       "      <td>...</td>\n",
       "      <td>...</td>\n",
       "      <td>...</td>\n",
       "      <td>...</td>\n",
       "      <td>...</td>\n",
       "      <td>...</td>\n",
       "      <td>...</td>\n",
       "      <td>...</td>\n",
       "      <td>...</td>\n",
       "    </tr>\n",
       "    <tr>\n",
       "      <th>1705</th>\n",
       "      <td>0.000214</td>\n",
       "      <td>0.009564</td>\n",
       "      <td>-0.002572</td>\n",
       "      <td>-0.020273</td>\n",
       "      <td>-0.029656</td>\n",
       "      <td>0.024043</td>\n",
       "      <td>-0.001199</td>\n",
       "      <td>0.012300</td>\n",
       "      <td>-0.002140</td>\n",
       "      <td>0.038065</td>\n",
       "      <td>0</td>\n",
       "    </tr>\n",
       "    <tr>\n",
       "      <th>1706</th>\n",
       "      <td>-0.030825</td>\n",
       "      <td>-0.013841</td>\n",
       "      <td>0.029061</td>\n",
       "      <td>-0.024503</td>\n",
       "      <td>-0.025977</td>\n",
       "      <td>0.013937</td>\n",
       "      <td>-0.025584</td>\n",
       "      <td>0.030050</td>\n",
       "      <td>-0.040104</td>\n",
       "      <td>-0.032985</td>\n",
       "      <td>0</td>\n",
       "    </tr>\n",
       "    <tr>\n",
       "      <th>1707</th>\n",
       "      <td>-0.007533</td>\n",
       "      <td>-0.018907</td>\n",
       "      <td>-0.008678</td>\n",
       "      <td>-0.033616</td>\n",
       "      <td>-0.012872</td>\n",
       "      <td>0.044503</td>\n",
       "      <td>-0.008536</td>\n",
       "      <td>-0.054541</td>\n",
       "      <td>0.009591</td>\n",
       "      <td>0.006144</td>\n",
       "      <td>1</td>\n",
       "    </tr>\n",
       "    <tr>\n",
       "      <th>1708</th>\n",
       "      <td>-0.013471</td>\n",
       "      <td>-0.017587</td>\n",
       "      <td>-0.011427</td>\n",
       "      <td>-0.035014</td>\n",
       "      <td>-0.012942</td>\n",
       "      <td>0.041237</td>\n",
       "      <td>-0.002472</td>\n",
       "      <td>-0.046259</td>\n",
       "      <td>-0.009946</td>\n",
       "      <td>-0.015681</td>\n",
       "      <td>0</td>\n",
       "    </tr>\n",
       "    <tr>\n",
       "      <th>1709</th>\n",
       "      <td>-0.003881</td>\n",
       "      <td>-0.007203</td>\n",
       "      <td>-0.011191</td>\n",
       "      <td>-0.034917</td>\n",
       "      <td>-0.009690</td>\n",
       "      <td>0.037583</td>\n",
       "      <td>-0.011027</td>\n",
       "      <td>-0.054116</td>\n",
       "      <td>-0.012185</td>\n",
       "      <td>0.002134</td>\n",
       "      <td>1</td>\n",
       "    </tr>\n",
       "  </tbody>\n",
       "</table>\n",
       "<p>1710 rows × 11 columns</p>\n",
       "</div>"
      ],
      "text/plain": [
       "           IC1       IC2       IC3       IC4       IC5       IC6       IC7  \\\n",
       "0     0.005642  0.009503 -0.008446 -0.001468 -0.013136 -0.068641  0.053346   \n",
       "1     0.013706  0.032177 -0.018498  0.001793  0.017239 -0.030951  0.042105   \n",
       "2     0.001845  0.079966  0.015538  0.003171  0.010482 -0.036154  0.015887   \n",
       "3     0.017872 -0.008296 -0.008167 -0.033228  0.012526  0.011012  0.008893   \n",
       "4     0.037392 -0.007431 -0.007942 -0.038242  0.028775  0.038477  0.010771   \n",
       "...        ...       ...       ...       ...       ...       ...       ...   \n",
       "1705  0.000214  0.009564 -0.002572 -0.020273 -0.029656  0.024043 -0.001199   \n",
       "1706 -0.030825 -0.013841  0.029061 -0.024503 -0.025977  0.013937 -0.025584   \n",
       "1707 -0.007533 -0.018907 -0.008678 -0.033616 -0.012872  0.044503 -0.008536   \n",
       "1708 -0.013471 -0.017587 -0.011427 -0.035014 -0.012942  0.041237 -0.002472   \n",
       "1709 -0.003881 -0.007203 -0.011191 -0.034917 -0.009690  0.037583 -0.011027   \n",
       "\n",
       "           IC8       IC9      IC10 DX  \n",
       "0    -0.031004 -0.046061  0.000641  1  \n",
       "1     0.009612 -0.031560  0.010549  1  \n",
       "2    -0.008369 -0.019957  0.028086  1  \n",
       "3    -0.049510 -0.015743 -0.007338  1  \n",
       "4    -0.004822 -0.035827  0.012095  1  \n",
       "...        ...       ...       ... ..  \n",
       "1705  0.012300 -0.002140  0.038065  0  \n",
       "1706  0.030050 -0.040104 -0.032985  0  \n",
       "1707 -0.054541  0.009591  0.006144  1  \n",
       "1708 -0.046259 -0.009946 -0.015681  0  \n",
       "1709 -0.054116 -0.012185  0.002134  1  \n",
       "\n",
       "[1710 rows x 11 columns]"
      ]
     },
     "execution_count": 9,
     "metadata": {},
     "output_type": "execute_result"
    }
   ],
   "source": [
    "finalDf"
   ]
  },
  {
   "cell_type": "markdown",
   "id": "9b6bb396-8327-4299-bf12-31649282548d",
   "metadata": {},
   "source": [
    "##### "
   ]
  }
 ],
 "metadata": {
  "kernelspec": {
   "display_name": "Python 3",
   "language": "python",
   "name": "python3"
  },
  "language_info": {
   "codemirror_mode": {
    "name": "ipython",
    "version": 3
   },
   "file_extension": ".py",
   "mimetype": "text/x-python",
   "name": "python",
   "nbconvert_exporter": "python",
   "pygments_lexer": "ipython3",
   "version": "3.8.9"
  }
 },
 "nbformat": 4,
 "nbformat_minor": 5
}
