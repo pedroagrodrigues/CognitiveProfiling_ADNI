{
 "cells": [
  {
   "cell_type": "markdown",
   "id": "9fc89ed2-006a-4059-8453-979d82474707",
   "metadata": {
    "tags": []
   },
   "source": [
    "# Independent Component Analysis"
   ]
  },
  {
   "cell_type": "code",
   "execution_count": 1,
   "id": "2bbbc928-71c0-4363-95af-441adbdad91c",
   "metadata": {},
   "outputs": [],
   "source": [
    "import pandas as pd\n",
    "from sklearn.decomposition import FastICA\n",
    "import matplotlib.pyplot as plt\n",
    "import seaborn as sns\n",
    "%matplotlib widget\n",
    "import common"
   ]
  },
  {
   "cell_type": "code",
   "execution_count": 2,
   "id": "5f6aa0f9-500a-4ac7-bd54-91dde193af3f",
   "metadata": {},
   "outputs": [],
   "source": [
    "data = common.loadFile(\"CleanedData\").drop([\"VISCODE\", \"RID\"], axis=1).dropna()"
   ]
  },
  {
   "cell_type": "code",
   "execution_count": 3,
   "id": "f59c4633-7672-4373-9f3f-df84590d2178",
   "metadata": {},
   "outputs": [
    {
     "data": {
      "application/vnd.jupyter.widget-view+json": {
       "model_id": "c64977244c8743688a5eab490feecd22",
       "version_major": 2,
       "version_minor": 0
      },
      "text/plain": [
       "Canvas(toolbar=Toolbar(toolitems=[('Home', 'Reset original view', 'home', 'home'), ('Back', 'Back to previous …"
      ]
     },
     "metadata": {},
     "output_type": "display_data"
    }
   ],
   "source": [
    "plt.close()\n",
    "ax = sns.countplot(x=data['DX'])\n",
    "plt.title(\"Data Diagnosis\")\n",
    "plt.ylabel(\"Count\")\n",
    "plt.xlabel(\"Diagnosis\")\n",
    "plt.xticks(ticks=range(0,3), labels=['CN', 'MCI', 'Dementia'])\n",
    "\n",
    "for p in ax.patches:\n",
    "        ax.annotate(f'\\n{p.get_height()}', (p.get_x()+p.get_width()/2, p.get_height()), ha='center', \n",
    "                    va='top', color='white', size=18)"
   ]
  },
  {
   "cell_type": "code",
   "execution_count": 19,
   "id": "3e74956d-1366-4c14-b99b-ebd8016c31ed",
   "metadata": {},
   "outputs": [
    {
     "name": "stdout",
     "output_type": "stream",
     "text": [
      "####### Final Independent Components ######\n",
      "        IC1       IC2       IC3       IC4       IC5       IC6       IC7  \\\n",
      "0  0.002148  0.001514 -0.009197 -0.052422  0.051852  0.059541 -0.042424   \n",
      "1 -0.010909 -0.002618 -0.018115 -0.035791  0.042050 -0.001904 -0.032099   \n",
      "2 -0.012513 -0.003721  0.014995 -0.035659  0.015933  0.013026 -0.018348   \n",
      "3 -0.028446  0.033129 -0.010626  0.026555  0.008829  0.037045 -0.014265   \n",
      "4 -0.027854  0.037024 -0.008984  0.035220  0.011645 -0.014427 -0.037835   \n",
      "5 -0.030595  0.031219  0.001841  0.039846 -0.007060 -0.000828  0.003003   \n",
      "6 -0.014394  0.030236 -0.013691 -0.037733 -0.012467  0.009709  0.006991   \n",
      "7 -0.010989  0.030377  0.002167 -0.040593 -0.013198  0.022753  0.000814   \n",
      "8 -0.002634  0.033484  0.001377 -0.032645 -0.018123 -0.004568 -0.006281   \n",
      "9 -0.003641  0.014776  0.002196  0.015580 -0.011769 -0.011224 -0.024799   \n",
      "\n",
      "        IC8       IC9      IC10 DX  \n",
      "0 -0.002724 -0.011224  0.001498  1  \n",
      "1 -0.014993 -0.030588  0.009929  1  \n",
      "2 -0.001855 -0.079958  0.027427  1  \n",
      "3 -0.015207  0.004078 -0.006537  1  \n",
      "4 -0.037076  0.006916  0.013820  1  \n",
      "5 -0.018874 -0.038264  0.007370  1  \n",
      "6  0.010322  0.013132 -0.029389  0  \n",
      "7  0.012506  0.012743 -0.017269  0  \n",
      "8  0.016304  0.003397 -0.004746  1  \n",
      "9  0.014964  0.005485  0.011854  1  \n"
     ]
    }
   ],
   "source": [
    "components = 10\n",
    "#Creating input data numpy array\n",
    "y =  data.loc[:,['DX']].values\n",
    "X = data.drop([\"DX\"], axis=1)\n",
    "######################################################################\n",
    "\n",
    "# Creating ICA object\n",
    "ICA = FastICA(n_components=components)\n",
    "IndependentComponentValues=ICA.fit_transform(X, y)\n",
    "\n",
    "def getColumnNames() -> list:\n",
    "    res = []\n",
    "    for i in range(1, len(IndependentComponentValues.T)+1):\n",
    "        res.append('IC'+str(i))\n",
    "    return res\n",
    "\n",
    "#Creating the dataframe\n",
    "ReducedData=pd.DataFrame(data=IndependentComponentValues, columns=getColumnNames())\n",
    "\n",
    "# Rebuild dataset\n",
    "finalDf = pd.concat([ReducedData, data[['DX']]], axis = 1)\n",
    "common.saveFile(finalDf, \"ICAData\")\n",
    "\n",
    "\n",
    "print('####### Final Independent Components ######')\n",
    "print(finalDf.head(10))"
   ]
  },
  {
   "cell_type": "code",
   "execution_count": 5,
   "id": "026dd3de-cf72-407d-92a3-3f66337ded97",
   "metadata": {},
   "outputs": [
    {
     "data": {
      "application/vnd.jupyter.widget-view+json": {
       "model_id": "534fcfa849754535a40753b11ec27060",
       "version_major": 2,
       "version_minor": 0
      },
      "text/plain": [
       "Canvas(toolbar=Toolbar(toolitems=[('Home', 'Reset original view', 'home', 'home'), ('Back', 'Back to previous …"
      ]
     },
     "metadata": {},
     "output_type": "display_data"
    }
   ],
   "source": [
    "showX = '1'\n",
    "showY = '3'\n",
    "\n",
    "plt.close()\n",
    "fig = plt.figure(figsize = (8,8))\n",
    "ax = fig.add_subplot(1,1,1) \n",
    "ax.set_xlabel('IC' + showX, fontsize = 15)\n",
    "ax.set_ylabel('IC' + showY, fontsize = 15)\n",
    "ax.set_title('2 Component ICA', fontsize = 20)\n",
    "\n",
    "\n",
    "targets = [0, 1, 2]\n",
    "colors = ['r', 'y', 'b']\n",
    "for target, color in zip(targets, colors):\n",
    "    indicesToKeep = finalDf['DX'] == target\n",
    "    ax.scatter(finalDf.loc[indicesToKeep, 'IC' + showX]\n",
    "               , finalDf.loc[indicesToKeep, 'IC' + showY]\n",
    "               , c = color\n",
    "               , s = 50)\n",
    "    \n",
    "ax.legend(['CN', 'MCI', 'Dementia'])\n",
    "ax.grid()"
   ]
  },
  {
   "cell_type": "code",
   "execution_count": 6,
   "id": "1aa57d5a-7d47-46df-829d-a0c852c23b13",
   "metadata": {},
   "outputs": [
    {
     "data": {
      "application/vnd.jupyter.widget-view+json": {
       "model_id": "88347bf80c864e0b9041722437e8804e",
       "version_major": 2,
       "version_minor": 0
      },
      "text/plain": [
       "Canvas(toolbar=Toolbar(toolitems=[('Home', 'Reset original view', 'home', 'home'), ('Back', 'Back to previous …"
      ]
     },
     "metadata": {},
     "output_type": "display_data"
    }
   ],
   "source": [
    "plt.close()\n",
    "fig = plt.figure()\n",
    "#ax = fig.add_subplot(1,1,1) \n",
    "ax = plt.axes(projection='3d')\n",
    "\n",
    "ax.set_xlabel('IC1', fontsize=12)\n",
    "ax.set_ylabel('IC2', fontsize=12)\n",
    "ax.set_zlabel('IC3', fontsize=12)\n",
    "ax.set_title('3 Component ICA', fontsize = 20)\n",
    "\n",
    "targets = [0, 1, 2]\n",
    "colors = ['r', 'y', 'b']\n",
    "for target, color in zip(targets, colors):\n",
    "    indicesToKeep = finalDf['DX'] == target\n",
    "    ax.scatter(finalDf.loc[indicesToKeep, 'IC1']\n",
    "               , finalDf.loc[indicesToKeep, 'IC2']\n",
    "               , finalDf.loc[indicesToKeep, 'IC3']\n",
    "               , c = color\n",
    "               , s = 50)\n",
    "    \n",
    "ax.legend(['CN', 'MCI', 'Dementia'])\n",
    "ax.grid()"
   ]
  },
  {
   "cell_type": "markdown",
   "id": "02e07dc9-ee6d-4f7b-b307-41e3e6ee487c",
   "metadata": {},
   "source": [
    "## Linear Regression"
   ]
  },
  {
   "cell_type": "code",
   "execution_count": 7,
   "id": "334b559d-8402-410d-97ba-2e51fae87ed4",
   "metadata": {},
   "outputs": [],
   "source": [
    "from sklearn.linear_model import LinearRegression\n",
    "from sklearn.metrics import mean_squared_error, r2_score"
   ]
  },
  {
   "cell_type": "code",
   "execution_count": 8,
   "id": "6d1e05b7-347b-4444-9e2d-025418c9d658",
   "metadata": {},
   "outputs": [
    {
     "name": "stdout",
     "output_type": "stream",
     "text": [
      "Coefficients: \n",
      " [0. 0. 0. 0. 0. 0. 0. 0. 0. 0.]\n",
      "Mean squared error: 0.59\n",
      "Coefficient of determination: -2.71\n"
     ]
    }
   ],
   "source": [
    "# Use only one feature\n",
    "X = finalDf.drop(\"DX\", axis=1).to_numpy().astype('int')\n",
    "y = finalDf.loc[:,['DX']].to_numpy().astype('int').flatten()\n",
    "\n",
    "# Split the data into training/testing sets\n",
    "X_train = X[:-20]\n",
    "X_test = X[-20:]\n",
    "\n",
    "# Split the targets into training/testing sets\n",
    "y_train = y[:-20]\n",
    "y_test = y[-20:]\n",
    "\n",
    "# Create linear regression object\n",
    "regr = LinearRegression()\n",
    "\n",
    "# Train the model using the training sets\n",
    "regr.fit(X_train, y_train)\n",
    "\n",
    "# Make predictions using the testing set\n",
    "y_pred = regr.predict(X_test)\n",
    "\n",
    "# The coefficients\n",
    "print('Coefficients: \\n', regr.coef_)\n",
    "# The mean squared error\n",
    "print('Mean squared error: %.2f' % mean_squared_error(y_test, y_pred))\n",
    "# The coefficient of determination: 1 is perfect prediction\n",
    "print('Coefficient of determination: %.2f' % r2_score(y_test, y_pred))"
   ]
  },
  {
   "cell_type": "code",
   "execution_count": 9,
   "id": "ffd9a820-60bf-4f89-9f3c-b00a674d830d",
   "metadata": {},
   "outputs": [
    {
     "data": {
      "text/html": [
       "<div>\n",
       "<style scoped>\n",
       "    .dataframe tbody tr th:only-of-type {\n",
       "        vertical-align: middle;\n",
       "    }\n",
       "\n",
       "    .dataframe tbody tr th {\n",
       "        vertical-align: top;\n",
       "    }\n",
       "\n",
       "    .dataframe thead th {\n",
       "        text-align: right;\n",
       "    }\n",
       "</style>\n",
       "<table border=\"1\" class=\"dataframe\">\n",
       "  <thead>\n",
       "    <tr style=\"text-align: right;\">\n",
       "      <th></th>\n",
       "      <th>IC1</th>\n",
       "      <th>IC2</th>\n",
       "      <th>IC3</th>\n",
       "      <th>IC4</th>\n",
       "      <th>IC5</th>\n",
       "      <th>IC6</th>\n",
       "      <th>IC7</th>\n",
       "      <th>IC8</th>\n",
       "      <th>IC9</th>\n",
       "      <th>IC10</th>\n",
       "      <th>DX</th>\n",
       "    </tr>\n",
       "  </thead>\n",
       "  <tbody>\n",
       "    <tr>\n",
       "      <th>0</th>\n",
       "      <td>0.014553</td>\n",
       "      <td>-0.004429</td>\n",
       "      <td>0.045026</td>\n",
       "      <td>0.068422</td>\n",
       "      <td>-0.001004</td>\n",
       "      <td>0.032437</td>\n",
       "      <td>0.008602</td>\n",
       "      <td>0.009490</td>\n",
       "      <td>0.003641</td>\n",
       "      <td>0.053274</td>\n",
       "      <td>1</td>\n",
       "    </tr>\n",
       "    <tr>\n",
       "      <th>1</th>\n",
       "      <td>-0.016564</td>\n",
       "      <td>-0.014172</td>\n",
       "      <td>0.031353</td>\n",
       "      <td>0.031022</td>\n",
       "      <td>0.002688</td>\n",
       "      <td>-0.008123</td>\n",
       "      <td>0.018743</td>\n",
       "      <td>0.032198</td>\n",
       "      <td>0.011876</td>\n",
       "      <td>0.042112</td>\n",
       "      <td>1</td>\n",
       "    </tr>\n",
       "    <tr>\n",
       "      <th>2</th>\n",
       "      <td>-0.009327</td>\n",
       "      <td>-0.030703</td>\n",
       "      <td>0.017692</td>\n",
       "      <td>0.035978</td>\n",
       "      <td>0.003913</td>\n",
       "      <td>0.009512</td>\n",
       "      <td>-0.015304</td>\n",
       "      <td>0.079704</td>\n",
       "      <td>-0.000230</td>\n",
       "      <td>0.015684</td>\n",
       "      <td>1</td>\n",
       "    </tr>\n",
       "    <tr>\n",
       "      <th>3</th>\n",
       "      <td>-0.012137</td>\n",
       "      <td>0.004872</td>\n",
       "      <td>0.015934</td>\n",
       "      <td>-0.010955</td>\n",
       "      <td>-0.033552</td>\n",
       "      <td>0.049813</td>\n",
       "      <td>0.008256</td>\n",
       "      <td>-0.008399</td>\n",
       "      <td>0.017282</td>\n",
       "      <td>0.008932</td>\n",
       "      <td>1</td>\n",
       "    </tr>\n",
       "    <tr>\n",
       "      <th>4</th>\n",
       "      <td>-0.028609</td>\n",
       "      <td>-0.017147</td>\n",
       "      <td>0.036707</td>\n",
       "      <td>-0.038376</td>\n",
       "      <td>-0.037493</td>\n",
       "      <td>0.005912</td>\n",
       "      <td>0.008467</td>\n",
       "      <td>-0.007504</td>\n",
       "      <td>0.035162</td>\n",
       "      <td>0.010905</td>\n",
       "      <td>1</td>\n",
       "    </tr>\n",
       "    <tr>\n",
       "      <th>...</th>\n",
       "      <td>...</td>\n",
       "      <td>...</td>\n",
       "      <td>...</td>\n",
       "      <td>...</td>\n",
       "      <td>...</td>\n",
       "      <td>...</td>\n",
       "      <td>...</td>\n",
       "      <td>...</td>\n",
       "      <td>...</td>\n",
       "      <td>...</td>\n",
       "      <td>...</td>\n",
       "    </tr>\n",
       "    <tr>\n",
       "      <th>1705</th>\n",
       "      <td>0.030035</td>\n",
       "      <td>-0.037635</td>\n",
       "      <td>-0.000146</td>\n",
       "      <td>-0.024527</td>\n",
       "      <td>-0.019696</td>\n",
       "      <td>-0.012824</td>\n",
       "      <td>0.002960</td>\n",
       "      <td>0.009348</td>\n",
       "      <td>-0.001585</td>\n",
       "      <td>-0.001329</td>\n",
       "      <td>0</td>\n",
       "    </tr>\n",
       "    <tr>\n",
       "      <th>1706</th>\n",
       "      <td>0.024780</td>\n",
       "      <td>0.031625</td>\n",
       "      <td>0.042309</td>\n",
       "      <td>-0.013724</td>\n",
       "      <td>-0.024483</td>\n",
       "      <td>-0.029811</td>\n",
       "      <td>-0.029117</td>\n",
       "      <td>-0.013519</td>\n",
       "      <td>-0.030866</td>\n",
       "      <td>-0.025409</td>\n",
       "      <td>0</td>\n",
       "    </tr>\n",
       "    <tr>\n",
       "      <th>1707</th>\n",
       "      <td>0.013080</td>\n",
       "      <td>-0.004640</td>\n",
       "      <td>-0.011471</td>\n",
       "      <td>-0.044700</td>\n",
       "      <td>-0.034343</td>\n",
       "      <td>0.053530</td>\n",
       "      <td>0.008704</td>\n",
       "      <td>-0.019151</td>\n",
       "      <td>-0.007682</td>\n",
       "      <td>-0.008621</td>\n",
       "      <td>1</td>\n",
       "    </tr>\n",
       "    <tr>\n",
       "      <th>1708</th>\n",
       "      <td>0.012699</td>\n",
       "      <td>0.015948</td>\n",
       "      <td>0.009531</td>\n",
       "      <td>-0.041213</td>\n",
       "      <td>-0.035769</td>\n",
       "      <td>0.045767</td>\n",
       "      <td>0.011366</td>\n",
       "      <td>-0.017616</td>\n",
       "      <td>-0.013474</td>\n",
       "      <td>-0.002456</td>\n",
       "      <td>0</td>\n",
       "    </tr>\n",
       "    <tr>\n",
       "      <th>1709</th>\n",
       "      <td>0.009993</td>\n",
       "      <td>-0.002522</td>\n",
       "      <td>0.010660</td>\n",
       "      <td>-0.037726</td>\n",
       "      <td>-0.035410</td>\n",
       "      <td>0.053808</td>\n",
       "      <td>0.011315</td>\n",
       "      <td>-0.007403</td>\n",
       "      <td>-0.004782</td>\n",
       "      <td>-0.011088</td>\n",
       "      <td>1</td>\n",
       "    </tr>\n",
       "  </tbody>\n",
       "</table>\n",
       "<p>1710 rows × 11 columns</p>\n",
       "</div>"
      ],
      "text/plain": [
       "           IC1       IC2       IC3       IC4       IC5       IC6       IC7  \\\n",
       "0     0.014553 -0.004429  0.045026  0.068422 -0.001004  0.032437  0.008602   \n",
       "1    -0.016564 -0.014172  0.031353  0.031022  0.002688 -0.008123  0.018743   \n",
       "2    -0.009327 -0.030703  0.017692  0.035978  0.003913  0.009512 -0.015304   \n",
       "3    -0.012137  0.004872  0.015934 -0.010955 -0.033552  0.049813  0.008256   \n",
       "4    -0.028609 -0.017147  0.036707 -0.038376 -0.037493  0.005912  0.008467   \n",
       "...        ...       ...       ...       ...       ...       ...       ...   \n",
       "1705  0.030035 -0.037635 -0.000146 -0.024527 -0.019696 -0.012824  0.002960   \n",
       "1706  0.024780  0.031625  0.042309 -0.013724 -0.024483 -0.029811 -0.029117   \n",
       "1707  0.013080 -0.004640 -0.011471 -0.044700 -0.034343  0.053530  0.008704   \n",
       "1708  0.012699  0.015948  0.009531 -0.041213 -0.035769  0.045767  0.011366   \n",
       "1709  0.009993 -0.002522  0.010660 -0.037726 -0.035410  0.053808  0.011315   \n",
       "\n",
       "           IC8       IC9      IC10 DX  \n",
       "0     0.009490  0.003641  0.053274  1  \n",
       "1     0.032198  0.011876  0.042112  1  \n",
       "2     0.079704 -0.000230  0.015684  1  \n",
       "3    -0.008399  0.017282  0.008932  1  \n",
       "4    -0.007504  0.035162  0.010905  1  \n",
       "...        ...       ...       ... ..  \n",
       "1705  0.009348 -0.001585 -0.001329  0  \n",
       "1706 -0.013519 -0.030866 -0.025409  0  \n",
       "1707 -0.019151 -0.007682 -0.008621  1  \n",
       "1708 -0.017616 -0.013474 -0.002456  0  \n",
       "1709 -0.007403 -0.004782 -0.011088  1  \n",
       "\n",
       "[1710 rows x 11 columns]"
      ]
     },
     "execution_count": 9,
     "metadata": {},
     "output_type": "execute_result"
    }
   ],
   "source": [
    "finalDf"
   ]
  },
  {
   "cell_type": "markdown",
   "id": "9b6bb396-8327-4299-bf12-31649282548d",
   "metadata": {},
   "source": [
    "##### "
   ]
  }
 ],
 "metadata": {
  "kernelspec": {
   "display_name": "Python 3",
   "language": "python",
   "name": "python3"
  },
  "language_info": {
   "codemirror_mode": {
    "name": "ipython",
    "version": 3
   },
   "file_extension": ".py",
   "mimetype": "text/x-python",
   "name": "python",
   "nbconvert_exporter": "python",
   "pygments_lexer": "ipython3",
   "version": "3.8.9"
  }
 },
 "nbformat": 4,
 "nbformat_minor": 5
}
