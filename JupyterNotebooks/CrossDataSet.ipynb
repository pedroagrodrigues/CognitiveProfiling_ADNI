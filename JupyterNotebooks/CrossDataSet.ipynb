{
 "cells": [
  {
   "cell_type": "code",
   "execution_count": 1,
   "id": "9c3e0991-b522-4636-9026-ea59d0a0cd0d",
   "metadata": {},
   "outputs": [],
   "source": [
    "import pandas as pd\n",
    "import numpy as np\n",
    "import common"
   ]
  },
  {
   "cell_type": "code",
   "execution_count": 2,
   "id": "08f1bb1c-bcd1-407a-ac0d-bca20c3755e8",
   "metadata": {},
   "outputs": [],
   "source": [
    "from Data import Mmse, Moca, Cdr, Merge, Ecogsp"
   ]
  },
  {
   "cell_type": "code",
   "execution_count": 3,
   "id": "eae701e6-db0b-4f0e-9ccb-fd519546410a",
   "metadata": {},
   "outputs": [
    {
     "name": "stdout",
     "output_type": "stream",
     "text": [
      "MMSE ready!\n",
      "Moca ready!\n",
      "CDR ready!\n",
      "Ready!\n"
     ]
    }
   ],
   "source": [
    "mmseData = Mmse().data\n",
    "mocaData = Moca().data\n",
    "cdrData = Cdr().data\n",
    "ecogspData = Ecogsp().data\n",
    "mergeData = Merge().data"
   ]
  },
  {
   "cell_type": "code",
   "execution_count": 4,
   "id": "82a2cc70-56d2-478c-a416-cb2cf3d01084",
   "metadata": {},
   "outputs": [
    {
     "data": {
      "text/plain": [
       "sc      2405\n",
       "m06     1615\n",
       "m12     1473\n",
       "m24     1292\n",
       "m36      817\n",
       "m48      636\n",
       "f        407\n",
       "m60      335\n",
       "m18      329\n",
       "m72      236\n",
       "m84      178\n",
       "m96      132\n",
       "m108      99\n",
       "m120      64\n",
       "           7\n",
       "m132       1\n",
       "Name: VISCODE2, dtype: int64"
      ]
     },
     "execution_count": 4,
     "metadata": {},
     "output_type": "execute_result"
    }
   ],
   "source": [
    "mmseData[\"VISCODE2\"].value_counts()"
   ]
  },
  {
   "cell_type": "code",
   "execution_count": 5,
   "id": "9639c62b-b692-4ac0-a93d-4bfef85e4ce4",
   "metadata": {},
   "outputs": [
    {
     "data": {
      "text/plain": [
       "bl      522\n",
       "m72     205\n",
       "m12     186\n",
       "m24     176\n",
       "m84     149\n",
       "m96     105\n",
       "m60      86\n",
       "m132     53\n",
       "m48      50\n",
       "m144     43\n",
       "m156     37\n",
       "m108     33\n",
       "m120     15\n",
       "m168     10\n",
       "m36       8\n",
       "m180      2\n",
       "          2\n",
       "Name: VISCODE2, dtype: int64"
      ]
     },
     "execution_count": 5,
     "metadata": {},
     "output_type": "execute_result"
    }
   ],
   "source": [
    "mocaData[\"VISCODE2\"].value_counts()"
   ]
  },
  {
   "cell_type": "code",
   "execution_count": 6,
   "id": "84e2ac49-f135-4d2b-82de-190a3b981c80",
   "metadata": {},
   "outputs": [
    {
     "data": {
      "text/plain": [
       "sc      2983\n",
       "m12     1672\n",
       "m06     1612\n",
       "m24     1506\n",
       "m36      826\n",
       "m48      686\n",
       "m72      476\n",
       "m60      447\n",
       "m84      362\n",
       "f        329\n",
       "m18      326\n",
       "m96      277\n",
       "m108     160\n",
       "m120      87\n",
       "m132      59\n",
       "m144      52\n",
       "m156      43\n",
       "          24\n",
       "m168      17\n",
       "m180       5\n",
       "uns1       1\n",
       "Name: VISCODE2, dtype: int64"
      ]
     },
     "execution_count": 6,
     "metadata": {},
     "output_type": "execute_result"
    }
   ],
   "source": [
    "cdrData[\"VISCODE2\"].value_counts()"
   ]
  },
  {
   "cell_type": "code",
   "execution_count": 7,
   "id": "af6e3c74-cdbb-4d6a-9d1f-35652744e39b",
   "metadata": {},
   "outputs": [
    {
     "data": {
      "text/plain": [
       "bl      1467\n",
       "m12      969\n",
       "m24      905\n",
       "m06      835\n",
       "m48      593\n",
       "m72      488\n",
       "m60      452\n",
       "m36      402\n",
       "m84      371\n",
       "m96      295\n",
       "m108     174\n",
       "m120      91\n",
       "m132      61\n",
       "m144      54\n",
       "m156      43\n",
       "m168      19\n",
       "m180       7\n",
       "Name: VISCODE2, dtype: int64"
      ]
     },
     "execution_count": 7,
     "metadata": {},
     "output_type": "execute_result"
    }
   ],
   "source": [
    "ecogspData[\"VISCODE2\"].value_counts()"
   ]
  },
  {
   "cell_type": "code",
   "execution_count": 8,
   "id": "25ed8848-8bfc-4cde-87d9-72cd7b7ec97b",
   "metadata": {},
   "outputs": [],
   "source": [
    "teste = mmseData[\"VISCODE2\"].value_counts().to_dict()"
   ]
  },
  {
   "cell_type": "code",
   "execution_count": 9,
   "id": "b64e8bf3-461f-439d-9938-66cced4f469c",
   "metadata": {},
   "outputs": [],
   "source": [
    "teste.update(mocaData[\"VISCODE2\"].value_counts().to_dict())"
   ]
  },
  {
   "cell_type": "code",
   "execution_count": 10,
   "id": "789abdb9-a123-44a9-bde8-005ac1e9a89c",
   "metadata": {},
   "outputs": [],
   "source": [
    "teste.update(cdrData[\"VISCODE2\"].value_counts().to_dict())"
   ]
  },
  {
   "cell_type": "code",
   "execution_count": 11,
   "id": "47743172-3b9f-4c4e-b002-f99b16e5f1e4",
   "metadata": {},
   "outputs": [],
   "source": [
    "teste.update(ecogspData[\"VISCODE2\"].value_counts().to_dict())"
   ]
  },
  {
   "cell_type": "code",
   "execution_count": 12,
   "id": "21c7e9a4-8cec-4c43-8123-4848f89bb74e",
   "metadata": {},
   "outputs": [
    {
     "data": {
      "text/plain": [
       "dict_keys(['sc', 'm06', 'm12', 'm24', 'm36', 'm48', 'f', 'm60', 'm18', 'm72', 'm84', 'm96', 'm108', 'm120', '', 'm132', 'bl', 'm144', 'm156', 'm168', 'm180', 'uns1'])"
      ]
     },
     "execution_count": 12,
     "metadata": {},
     "output_type": "execute_result"
    }
   ],
   "source": [
    "teste.keys()"
   ]
  },
  {
   "cell_type": "code",
   "execution_count": null,
   "id": "64e882e3-6885-4cc1-a820-21b877bbafe8",
   "metadata": {},
   "outputs": [],
   "source": []
  }
 ],
 "metadata": {
  "kernelspec": {
   "display_name": "Python 3",
   "language": "python",
   "name": "python3"
  },
  "language_info": {
   "codemirror_mode": {
    "name": "ipython",
    "version": 3
   },
   "file_extension": ".py",
   "mimetype": "text/x-python",
   "name": "python",
   "nbconvert_exporter": "python",
   "pygments_lexer": "ipython3",
   "version": "3.8.9"
  }
 },
 "nbformat": 4,
 "nbformat_minor": 5
}
