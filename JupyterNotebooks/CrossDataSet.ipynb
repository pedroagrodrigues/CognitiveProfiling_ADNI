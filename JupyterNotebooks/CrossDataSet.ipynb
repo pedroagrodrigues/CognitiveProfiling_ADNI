{
 "cells": [
  {
   "cell_type": "code",
   "execution_count": 1,
   "id": "9c3e0991-b522-4636-9026-ea59d0a0cd0d",
   "metadata": {},
   "outputs": [],
   "source": [
    "import pandas as pd \n",
    "import numpy as np\n",
    "import matplotlib.pyplot as plt\n",
    "from sklearn.decomposition import PCA\n",
    "from sklearn.preprocessing import StandardScaler\n",
    "%matplotlib widget\n",
    "import common"
   ]
  },
  {
   "cell_type": "code",
   "execution_count": 2,
   "id": "08f1bb1c-bcd1-407a-ac0d-bca20c3755e8",
   "metadata": {},
   "outputs": [],
   "source": [
    "from Data import JoinedData, Merge"
   ]
  },
  {
   "cell_type": "code",
   "execution_count": 3,
   "id": "dbb59e82-4285-4c6d-bf50-a0824550e2f0",
   "metadata": {},
   "outputs": [],
   "source": [
    "data = JoinedData().data\n",
    "mergeData = Merge().data"
   ]
  },
  {
   "cell_type": "code",
   "execution_count": 4,
   "id": "2b009205-4d81-4eab-9a6a-ecf2aeafce9b",
   "metadata": {},
   "outputs": [],
   "source": [
    "initialNumberRows = len(data)"
   ]
  },
  {
   "cell_type": "markdown",
   "id": "3c64a8ee-3ea3-4deb-9f4b-d8b8d2021691",
   "metadata": {},
   "source": [
    "Removal of empty and unused fields"
   ]
  },
  {
   "cell_type": "code",
   "execution_count": 5,
   "id": "367b23ea-0434-4437-aee1-b9f2f9f612b4",
   "metadata": {},
   "outputs": [],
   "source": [
    "# remove unused columns\n",
    "data = data.drop(['LDELTOTAL', 'DIGITSCOR'], axis=1) "
   ]
  },
  {
   "cell_type": "code",
   "execution_count": 6,
   "id": "5ea26f4d-50f8-4cfa-b9d1-4a1cfc854f13",
   "metadata": {},
   "outputs": [],
   "source": [
    "dataLabels = data.columns.values\n",
    "nanPerColumn = {label: data[label].isna().sum() for label in dataLabels}\n",
    "colDrop = [label for label in dataLabels if nanPerColumn[label]/len(data) > 0.126] #more than % of data Nan\n",
    "data = data.drop(colDrop, axis=1)\n",
    "data = data.dropna()\n",
    "data = data[data['RID'].duplicated(keep=False)].reset_index(drop=True)"
   ]
  },
  {
   "cell_type": "code",
   "execution_count": 7,
   "id": "940cdcd7-d16f-4f3f-a316-49b5a3b017b4",
   "metadata": {},
   "outputs": [
    {
     "name": "stdout",
     "output_type": "stream",
     "text": [
      "Initial data had 6863 and current has 5364\n"
     ]
    }
   ],
   "source": [
    "print(f\"Initial data had {initialNumberRows} and current has {len(data)}\")"
   ]
  },
  {
   "cell_type": "code",
   "execution_count": 8,
   "id": "823fec58-f078-46fa-a458-7c6cec7dc990",
   "metadata": {},
   "outputs": [],
   "source": [
    "data = data.drop(data[data.VISCODE == ''].index)\n",
    "viscodes = data[\"VISCODE\"].value_counts().index.to_list()"
   ]
  },
  {
   "cell_type": "code",
   "execution_count": 9,
   "id": "b21c412d-7551-4289-a627-3eee24269866",
   "metadata": {},
   "outputs": [],
   "source": [
    "codes = ['bl', 'm06', 'm12', 'm24', 'm36', 'm48', 'm60', 'm72', 'm84', 'm96', 'm108', 'm120', 'm132', 'm144', 'm156', 'm168', 'm180']\n",
    "\n",
    "best = pd.DataFrame\n",
    "maximum = 0\n",
    "\n",
    "for i in range(1, len(codes)):\n",
    "    dataTemp = [data.loc[data[\"VISCODE\"] == codes[j]] for j in range(0, i)]\n",
    "    temp = pd.concat(dataTemp).sort_values('RID')\n",
    "    temp = temp[temp.groupby('RID')['RID'].transform('count').eq(i)].reset_index(drop=True)\n",
    "    if len(temp) > maximum:\n",
    "        maximum = len(temp)\n",
    "        best = temp    "
   ]
  },
  {
   "cell_type": "code",
   "execution_count": 10,
   "id": "b38dd44f-d72a-4171-8cbf-81c708e9e5a2",
   "metadata": {},
   "outputs": [
    {
     "data": {
      "text/plain": [
       "m06    570\n",
       "bl     570\n",
       "m12    570\n",
       "Name: VISCODE, dtype: int64"
      ]
     },
     "execution_count": 10,
     "metadata": {},
     "output_type": "execute_result"
    }
   ],
   "source": [
    "best[\"VISCODE\"].value_counts()"
   ]
  },
  {
   "cell_type": "code",
   "execution_count": 11,
   "id": "47d5f78c-58f0-4d16-a768-ad895342ff6c",
   "metadata": {},
   "outputs": [
    {
     "name": "stdout",
     "output_type": "stream",
     "text": [
      "Initial data had 6863 and current has 1710\n"
     ]
    }
   ],
   "source": [
    "print(f\"Initial data had {initialNumberRows} and current has {maximum}\")"
   ]
  },
  {
   "cell_type": "code",
   "execution_count": 13,
   "id": "e87e853d-77c4-402c-91a9-4272a410c812",
   "metadata": {},
   "outputs": [],
   "source": [
    "common.saveFile(best, \"CleanedData\")"
   ]
  },
  {
   "cell_type": "code",
   "execution_count": null,
   "id": "701e48aa-8e56-42fc-aaba-d8ce73e6c685",
   "metadata": {},
   "outputs": [],
   "source": []
  }
 ],
 "metadata": {
  "kernelspec": {
   "display_name": "Python 3",
   "language": "python",
   "name": "python3"
  },
  "language_info": {
   "codemirror_mode": {
    "name": "ipython",
    "version": 3
   },
   "file_extension": ".py",
   "mimetype": "text/x-python",
   "name": "python",
   "nbconvert_exporter": "python",
   "pygments_lexer": "ipython3",
   "version": "3.8.9"
  }
 },
 "nbformat": 4,
 "nbformat_minor": 5
}
