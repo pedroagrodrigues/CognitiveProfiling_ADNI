{
 "cells": [
  {
   "cell_type": "markdown",
   "id": "87ae159c-a5ab-4f50-b1dc-9ccf3c58e703",
   "metadata": {},
   "source": [
    "# Custom K-Nearest Neighbours\n",
    "Classifies patients comparing them to others"
   ]
  },
  {
   "cell_type": "code",
   "execution_count": 1,
   "id": "b7d5bc89-5586-48a9-a08e-82078d4249c2",
   "metadata": {},
   "outputs": [],
   "source": [
    "import pandas as pd \n",
    "import numpy as np\n",
    "import math\n",
    "import seaborn as sns\n",
    "import matplotlib.pyplot as plt\n",
    "%matplotlib widget\n",
    "\n",
    "import common\n",
    "from Data import JoinedData\n",
    "\n",
    "cleanData = common.loadFile(\"CleanedData\")\n",
    "allData = JoinedData().data.drop(['LDELTOTAL', 'DIGITSCOR'], axis=1)  "
   ]
  },
  {
   "cell_type": "markdown",
   "id": "ade62ea4-4dd9-4836-9c86-0d9562e02379",
   "metadata": {},
   "source": [
    "**Removing cleanedData from allData**"
   ]
  },
  {
   "cell_type": "code",
   "execution_count": 2,
   "id": "b989c7f3-67ea-44ce-9d03-9f99f94d8a69",
   "metadata": {},
   "outputs": [],
   "source": [
    "for i, j in zip(cleanData.RID, cleanData.VISCODE):\n",
    "    allData = allData[(allData.RID != i) & (allData.VISCODE != j)]\n",
    "    \n",
    "cleanData = cleanData.drop(['RID', 'VISCODE'], axis=1)\n",
    "allData = allData[(allData.DX.notna()) & (allData.DX != '')]\n",
    "allData = allData.drop([x for x in list(allData.columns) if x not in list(cleanData.columns)], axis=1) # Drops fields that don't exist in cleanData\n",
    "allData.replace('', np.NaN, inplace=True)"
   ]
  },
  {
   "cell_type": "code",
   "execution_count": 3,
   "id": "b3c07071-38e8-4d8e-a314-176d7ddddf72",
   "metadata": {},
   "outputs": [],
   "source": [
    "\n",
    "# For KNN\n",
    "# Comparar o diagnostico do paciente incompleto com os diagnosticos classificados com k elementos.\n",
    "# Verificar para todos e medir a precisão\n",
    "def incompleteFitting(CompleteDataSet, IncompleteTestingDataSet, k):\n",
    "    frequent\n",
    "    #k is the number of neighbours\n",
    "    for i in range(len(IncompleteTestingDataSet)):\n",
    "        nonNans = getNonNans(IncompleteTestingDataSet[i]) # Returns bool vector for the data not-nan\n",
    "        cleanTestingData = getOnes(IncompleteTestingDataSet[i], nonNans) # Returns data vector (drops nans) \n",
    "        distance = [[]]\n",
    "        for j in range(len(CompleteDataSet)):\n",
    "            cleanCompleteData = getOnes(CompleteDataSet[j], nonNans) \n",
    "            distance.append([calculateDistance(cleanCompleteData, cleanTestingData), DX]) # get distances)\n",
    "            \n",
    "            \n",
    "        distance.sort() # to the first column\n",
    "        distance = distance[:k]\n",
    "        frequent.append(maxDiagnosis) \n",
    "        \n",
    "    # Construir percentagem de bem classificados vs mal classificados\n",
    "        \n",
    "        \n",
    "    "
   ]
  },
  {
   "cell_type": "code",
   "execution_count": 20,
   "id": "05e8a8f0-bc21-446e-a728-6bdc846104b3",
   "metadata": {},
   "outputs": [],
   "source": [
    "def incompleteFitting(n: int) -> list:\n",
    "    frequent = []\n",
    "    \n",
    "    for _, i in allData.iterrows():\n",
    "        labels = list(i[i.isna()].index) # Get nans from the current line\n",
    "        row = i[(i.notna())].astype('float') # Drops nans from the current line\n",
    "        currentCleanData = cleanData.drop(cleanData.filter(labels), axis=1).astype('float') # Drops nans from the complete dataset\n",
    "        labels = list(i[i.notna()].index) # Get labels from the dataset in use\n",
    "        for k in labels:\n",
    "            currentCleanData[k] = abs(row[k] - currentCleanData[k]) # Replaces CurrentData with distances\n",
    "    \n",
    "        totals = sorted([x for x in zip(currentCleanData.drop('DX', axis=1).sum(axis=1).to_list(), currentCleanData.DX.to_list())])\n",
    "        best = round(sum([x[1] for x in totals[:n]])/n)\n",
    "        \n",
    "        frequent.append([best, row.DX, best == row.DX])\n",
    "\n",
    "    return frequent\n",
    "        \n",
    "        \n",
    "        \n",
    "        \n",
    "\n",
    "        \n",
    "teste = incompleteFitting(150)"
   ]
  },
  {
   "cell_type": "code",
   "execution_count": 21,
   "id": "c78a5403-0d07-46b8-bf55-fd84394a570d",
   "metadata": {},
   "outputs": [
    {
     "data": {
      "text/plain": [
       "0.4826021180030257"
      ]
     },
     "execution_count": 21,
     "metadata": {},
     "output_type": "execute_result"
    }
   ],
   "source": [
    "[x[2] for x in teste].count(True)/len(teste)"
   ]
  },
  {
   "cell_type": "code",
   "execution_count": null,
   "id": "b81197f8-df03-4267-9f63-d8f53230a898",
   "metadata": {},
   "outputs": [],
   "source": []
  }
 ],
 "metadata": {
  "kernelspec": {
   "display_name": "Python 3",
   "language": "python",
   "name": "python3"
  },
  "language_info": {
   "codemirror_mode": {
    "name": "ipython",
    "version": 3
   },
   "file_extension": ".py",
   "mimetype": "text/x-python",
   "name": "python",
   "nbconvert_exporter": "python",
   "pygments_lexer": "ipython3",
   "version": "3.8.9"
  }
 },
 "nbformat": 4,
 "nbformat_minor": 5
}
