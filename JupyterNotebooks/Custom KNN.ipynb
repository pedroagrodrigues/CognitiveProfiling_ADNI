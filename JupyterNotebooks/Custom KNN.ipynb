{
 "cells": [
  {
   "cell_type": "markdown",
   "id": "8a04178a",
   "metadata": {},
   "source": [
    "# Custom K-Nearest Neighbours\n",
    "Classifies patients comparing them to others"
   ]
  },
  {
   "cell_type": "code",
   "execution_count": 1,
   "id": "5aadf65b",
   "metadata": {},
   "outputs": [],
   "source": [
    "import pandas as pd \n",
    "import numpy as np\n",
    "import math\n",
    "import seaborn as sns\n",
    "import matplotlib.pyplot as plt\n",
    "from alive_progress import alive_bar\n",
    "from IPython.display import clear_output\n",
    "\n",
    "\n",
    "import threading, queue, time\n",
    "\n",
    "%matplotlib widget\n",
    "\n",
    "import common\n",
    "acc = common.loadFile(\"Accuracy.old\")"
   ]
  },
  {
   "cell_type": "code",
   "execution_count": 2,
   "id": "557d6a1c",
   "metadata": {},
   "outputs": [
    {
     "data": {
      "application/vnd.jupyter.widget-view+json": {
       "model_id": "890cce3146ad4850ac5a7a7666fecc08",
       "version_major": 2,
       "version_minor": 0
      },
      "text/plain": [
       "Canvas(toolbar=Toolbar(toolitems=[('Home', 'Reset original view', 'home', 'home'), ('Back', 'Back to previous …"
      ]
     },
     "metadata": {},
     "output_type": "display_data"
    }
   ],
   "source": [
    "plt.figure(figsize = [18, 10])\n",
    "sns.scatterplot(data=acc).set(title=\"Accuracy Plot\", xlabel=\"Missing Columns\", ylabel=\"Accuracy\")\n",
    "plt.tight_layout(pad=2)"
   ]
  },
  {
   "cell_type": "code",
   "execution_count": 3,
   "id": "461bbd17-2f6b-4cb3-8aa1-f50dccc91b61",
   "metadata": {},
   "outputs": [
    {
     "name": "stdout",
     "output_type": "stream",
     "text": [
      "CleanData: 1710, allData: 1983\n"
     ]
    }
   ],
   "source": [
    "cleanData = common.loadFile(\"CleanedData\")\n",
    "allData = common.loadFile(\"JoinedData\").drop(['LDELTOTAL', 'DIGITSCOR'], axis=1)\n",
    "\n",
    "for i, j in zip(cleanData.RID, cleanData.VISCODE):\n",
    "    allData = allData[(allData.RID != i) & (allData.VISCODE != j)]\n",
    "    \n",
    "cleanData = cleanData.drop(['RID', 'VISCODE'], axis=1)\n",
    "allData = allData[(allData.DX.notna()) & (allData.DX != '')]\n",
    "allData = allData.drop([x for x in list(allData.columns) if x not in list(cleanData.columns)], axis=1) # Drops fields that don't exist in cleanData\n",
    "allData.replace('', np.NaN, inplace=True)\n",
    "\n",
    "print(f\"CleanData: {len(cleanData)}, allData: {len(allData)}\")"
   ]
  },
  {
   "cell_type": "code",
   "execution_count": 4,
   "id": "fe21baa3-3fde-4657-a510-a91a9704b1b8",
   "metadata": {},
   "outputs": [
    {
     "name": "stdout",
     "output_type": "stream",
     "text": [
      "CleanData: 1710, allData: 5025\n"
     ]
    }
   ],
   "source": [
    "allData = common.loadFile(\"JoinedData\") \n",
    "cleanData = common.loadFile(\"CleanedData\").drop(['RID', 'VISCODE', 'PTEDUCAT', 'PTGENDER', 'AGE'], axis=1) # Droping unused fields\n",
    "\n",
    "allData = allData.drop([x for x in list(allData) if x not in list(cleanData)], axis=1)  # Drops fields that don't exist in cleanData\n",
    "\n",
    "# Remove rows without diagnosis (This is the field we use to validate)\n",
    "allData = allData[(allData.DX.notna()) & (allData.DX != '')]\n",
    "allData = pd.merge(allData, cleanData, how=\"left\", indicator=True).query(\"_merge != 'both'\").drop('_merge', axis=1).reset_index(drop=True)  # Removing cleanData rows from allData\n",
    "allData.replace('', np.NaN, inplace=True)  # Remove empty string values with np.NaN to make it easier to detect later\n",
    "\n",
    "allData = allData.astype(\"float\")\n",
    "cleanData = cleanData.astype(\"float\")\n",
    "\n",
    "print(f\"CleanData: {len(cleanData)}, allData: {len(allData)}\")"
   ]
  },
  {
   "cell_type": "code",
   "execution_count": null,
   "id": "cd21490c-7100-4669-9eae-e1fae206fe42",
   "metadata": {},
   "outputs": [],
   "source": []
  }
 ],
 "metadata": {
  "interpreter": {
   "hash": "df4d921c18dab5cb0af99d4dd072adc6a573b508cad7709a986cc5c3cf799784"
  },
  "kernelspec": {
   "display_name": "Python 3",
   "language": "python",
   "name": "python3"
  },
  "language_info": {
   "codemirror_mode": {
    "name": "ipython",
    "version": 3
   },
   "file_extension": ".py",
   "mimetype": "text/x-python",
   "name": "python",
   "nbconvert_exporter": "python",
   "pygments_lexer": "ipython3",
   "version": "3.8.9"
  }
 },
 "nbformat": 4,
 "nbformat_minor": 5
}
