{
 "cells": [
  {
   "cell_type": "markdown",
   "source": [
    "# Custom K-Nearest Neighbours\n",
    "Classifies patients comparing them to others"
   ],
   "metadata": {}
  },
  {
   "cell_type": "code",
   "execution_count": 1,
   "source": [
    "import pandas as pd \n",
    "import numpy as np\n",
    "import math\n",
    "import seaborn as sns\n",
    "import matplotlib.pyplot as plt\n",
    "from alive_progress import alive_bar\n",
    "from IPython.display import clear_output\n",
    "\n",
    "\n",
    "import threading, queue\n",
    "\n",
    "%matplotlib widget\n",
    "\n",
    "import common\n",
    "from Data import JoinedData\n",
    "\n",
    "cleanData = common.loadFile(\"CleanedData\")\n",
    "allData = JoinedData().data.drop(['LDELTOTAL', 'DIGITSCOR', 'PTEDUCAT', 'PTGENDER', 'AGE'], axis=1)  "
   ],
   "outputs": [],
   "metadata": {}
  },
  {
   "cell_type": "markdown",
   "source": [
    "**Removing cleanedData from allData**"
   ],
   "metadata": {}
  },
  {
   "cell_type": "code",
   "execution_count": 2,
   "source": [
    "for i, j in zip(cleanData.RID, cleanData.VISCODE):\n",
    "    allData = allData[(allData.RID != i) & (allData.VISCODE != j)]\n",
    "    \n",
    "cleanData = cleanData.drop(['RID', 'VISCODE'], axis=1) # Fields not used\n",
    "allData = allData[(allData.DX.notna()) & (allData.DX != '')] # Remove rows without diagnosis\n",
    "allData = allData.drop([x for x in list(allData.columns) if x not in list(cleanData.columns)], axis=1) # Drops fields that don't exist in cleanData\n",
    "allData.replace('', np.NaN, inplace=True)"
   ],
   "outputs": [],
   "metadata": {}
  },
  {
   "cell_type": "code",
   "execution_count": 3,
   "source": [
    "def incompleteFitting(clean: pd.DataFrame, dirty: pd.DataFrame, k: int, missingColumns: int) -> list:\n",
    "\n",
    "    # This algorithm is not optimized, runing from the end, we can exclude rows. A row that is missing 10 labels is also missing 9 to 0 labels.\n",
    "    print(f\"Calculating for missing columns: {missingColumns}\")\n",
    "    frequent = []\n",
    "    for _, i in dirty.iterrows():\n",
    "        labels = list(i[i.isna()].index) # Get nans from the current line\n",
    "\n",
    "        if len(labels) >= missingColumns:\n",
    "            continue\n",
    "\n",
    "        row = i[(i.notna())].astype('float') # Drops nans from the current line\n",
    "        currentCleanData = clean.drop(clean.filter(labels), axis=1).astype('float') # Drops nans from the complete dataset\n",
    "        labels = list(i[i.notna()].index) # Get labels from the dataset in use\n",
    "        labels.remove('DX')\n",
    "        for n in labels:\n",
    "            currentCleanData[n] = row[n] - currentCleanData[n]\n",
    "        totals = sorted([list(x) for x in zip(currentCleanData.apply(lambda x: (x**2).sum(), axis=1), currentCleanData.DX.to_list())])\n",
    "        best = [x[1] for x in totals[:k]] # gets DX from Totals\n",
    "\n",
    "        best = max(set(best), key = best.count)\n",
    "\n",
    "        frequent.append([best, row.DX, best == row.DX])\n",
    "    return frequent"
   ],
   "outputs": [],
   "metadata": {}
  },
  {
   "cell_type": "markdown",
   "source": [
    "Since processing each interaction takes forever, the way was to create a DataFrame of nans and process and save each interaction. \n",
    "This way we can pick up where we left of and keep going from there."
   ],
   "metadata": {}
  },
  {
   "cell_type": "code",
   "execution_count": 4,
   "source": [
    "try:\r\n",
    "    common.loadFile(\"Accuracy\")\r\n",
    "except:\r\n",
    "    accuracy = pd.DataFrame(np.nan, index=range(len(list(allData[allData.isna()].T.index))), columns=[\"Accuracy\"])\r\n",
    "    common.saveFile(accuracy, \"Accuracy\")"
   ],
   "outputs": [],
   "metadata": {}
  },
  {
   "cell_type": "markdown",
   "source": [
    "## Here we are going to use threads"
   ],
   "metadata": {}
  },
  {
   "cell_type": "code",
   "execution_count": 5,
   "source": [
    "# To prevent multiple writes on the file at the same time, we will use a semaphore\n",
    "class incompleteCalc:\n",
    "    def __init__(self, number_threads: int):\n",
    "        self.KNNnumber = 5\n",
    "        self.mutex = threading.Lock() # same as Semaphore started at 1\n",
    "        self.stepComplete = 0 # Variable used for the progress bar\n",
    "        self.number_threads = number_threads # Number of tasks in parallel\n",
    "        self.queue = queue.Queue() # Queue to complete all tasks\n",
    "        # ----- Initializing ----\n",
    "        self.fillQueue()\n",
    "        self.startThreads()\n",
    "        \n",
    "    \n",
    "    def readFile(self) -> pd.DataFrame:\n",
    "        return common.loadFile(\"Accuracy\")\n",
    "\n",
    "    def writeResult(self, res: float, index:int) -> None:\n",
    "        \"\"\"Saves the result to a file\n",
    "\n",
    "        Args:\n",
    "            res (float): result from the row\n",
    "            index (int): index of the row\n",
    "        \"\"\"\n",
    "        self.mutex.acquire()\n",
    "        # Reading and wrinting the file in this case is a critical part of the code, mutex will prevent parallel writing\n",
    "\n",
    "        accuracy = self.readFile()\n",
    "        accuracy.Accuracy[index] = res\n",
    "        common.saveFile(accuracy, \"Accuracy\")\n",
    "\n",
    "        self.mutex.release()\n",
    "\n",
    "    def getTasks(self) -> list:\n",
    "        # Gets the indexes of all lines yet to be calculated\n",
    "        # Since this class takes arround 72 hours to complete for 189 tasks, we are saving each step. \n",
    "        #This way we can cancel or stop the algorithm and pick up where we've left of\n",
    "        self.mutex.acquire()\n",
    "        file = self.readFile()\n",
    "        self.mutex.release()\n",
    "        return file[file.Accuracy.isna()].index.tolist() # Returns the indexes of NaNs\n",
    "\n",
    "\n",
    "    def task(self) -> None:\n",
    "        self.KNNnumber = 5 # Number of neighbours to count\n",
    "        while not self.queue.empty(): # Keeps the task alive untill the queue runs out of tasks\n",
    "            index = self.queue.get(block=True, timeout=0.05)\n",
    "            res = incompleteFitting(cleanData, allData, self.KNNnumber, index)\n",
    "            accuracy = [x[2] for x in res].count(True)/len(res) if len(res) != 0 else 0\n",
    "            self.writeResult(accuracy, index)\n",
    "            self.stepComplete += 1\n",
    "            self.queue.task_done()\n",
    "\n",
    "\n",
    "    def startThreads(self) -> None:\n",
    "        # Creates workers for each work, bar is the thread for the progress bar, the others are the tasks to calculate for each missing columns\n",
    "        bar = threading.Thread(target=self.updater)\n",
    "        threads = [threading.Thread(target=self.task, daemon=True) for _ in range(self.number_threads)]\n",
    "        bar.start()\n",
    "        [thread.start() for thread in threads]\n",
    "        [thread.join() for thread in threads]\n",
    "        bar.join()\n",
    "\n",
    "    def fillQueue(self) -> None:\n",
    "        # Places all indexes to be calculated on the queue\n",
    "        missing = self.getTasks()\n",
    "        for i in missing:\n",
    "            self.queue.put(i)\n",
    "        print(f\"Queue size: {self.queue.qsize()}\")\n",
    "        \n",
    "    # A progress bar\n",
    "    def updater(self) -> None:\n",
    "        print(\"Alive Bar Starting...\\n\")\n",
    "        current = 0\n",
    "        with alive_bar(self.queue.qsize(), title=\"Processing: \", force_tty=True) as bar:\n",
    "            while not self.queue.empty():\n",
    "                if current < self.stepComplete:\n",
    "                    current += 1\n",
    "                    bar()\n",
    "                time.sleep(10) # updates the bar each 10 secs - This task is not important so doesen't need to be always on the processor\n",
    "    \n",
    "    "
   ],
   "outputs": [],
   "metadata": {
    "tags": []
   }
  },
  {
   "cell_type": "code",
   "execution_count": 6,
   "source": [
    "acc = incompleteCalc(4).readFile()"
   ],
   "outputs": [
    {
     "output_type": "stream",
     "name": "stdout",
     "text": [
      "Queue size: 0\n",
      "Alive Bar Starting...\n",
      "\n",
      "Processing:  |████████████████████████████████████████| 0 in 0.1s (0.00/s)                                                                                                                                          \n"
     ]
    }
   ],
   "metadata": {}
  },
  {
   "cell_type": "code",
   "execution_count": 7,
   "source": [
    "acc"
   ],
   "outputs": [
    {
     "output_type": "execute_result",
     "data": {
      "text/html": [
       "<div>\n",
       "<style scoped>\n",
       "    .dataframe tbody tr th:only-of-type {\n",
       "        vertical-align: middle;\n",
       "    }\n",
       "\n",
       "    .dataframe tbody tr th {\n",
       "        vertical-align: top;\n",
       "    }\n",
       "\n",
       "    .dataframe thead th {\n",
       "        text-align: right;\n",
       "    }\n",
       "</style>\n",
       "<table border=\"1\" class=\"dataframe\">\n",
       "  <thead>\n",
       "    <tr style=\"text-align: right;\">\n",
       "      <th></th>\n",
       "      <th>Accuracy</th>\n",
       "    </tr>\n",
       "  </thead>\n",
       "  <tbody>\n",
       "    <tr>\n",
       "      <th>0</th>\n",
       "      <td>0.000000</td>\n",
       "    </tr>\n",
       "    <tr>\n",
       "      <th>1</th>\n",
       "      <td>0.467459</td>\n",
       "    </tr>\n",
       "    <tr>\n",
       "      <th>2</th>\n",
       "      <td>0.474209</td>\n",
       "    </tr>\n",
       "    <tr>\n",
       "      <th>3</th>\n",
       "      <td>0.479954</td>\n",
       "    </tr>\n",
       "    <tr>\n",
       "      <th>4</th>\n",
       "      <td>0.481859</td>\n",
       "    </tr>\n",
       "    <tr>\n",
       "      <th>...</th>\n",
       "      <td>...</td>\n",
       "    </tr>\n",
       "    <tr>\n",
       "      <th>184</th>\n",
       "      <td>0.511346</td>\n",
       "    </tr>\n",
       "    <tr>\n",
       "      <th>185</th>\n",
       "      <td>0.511346</td>\n",
       "    </tr>\n",
       "    <tr>\n",
       "      <th>186</th>\n",
       "      <td>0.511346</td>\n",
       "    </tr>\n",
       "    <tr>\n",
       "      <th>187</th>\n",
       "      <td>0.511346</td>\n",
       "    </tr>\n",
       "    <tr>\n",
       "      <th>188</th>\n",
       "      <td>0.511346</td>\n",
       "    </tr>\n",
       "  </tbody>\n",
       "</table>\n",
       "<p>189 rows × 1 columns</p>\n",
       "</div>"
      ],
      "text/plain": [
       "     Accuracy\n",
       "0    0.000000\n",
       "1    0.467459\n",
       "2    0.474209\n",
       "3    0.479954\n",
       "4    0.481859\n",
       "..        ...\n",
       "184  0.511346\n",
       "185  0.511346\n",
       "186  0.511346\n",
       "187  0.511346\n",
       "188  0.511346\n",
       "\n",
       "[189 rows x 1 columns]"
      ]
     },
     "metadata": {},
     "execution_count": 7
    }
   ],
   "metadata": {}
  },
  {
   "cell_type": "code",
   "execution_count": 11,
   "source": [
    "plt.figure(figsize = [20, 10])\n",
    "sns.scatterplot(data=acc).set(title=\"Accuracy Plot\", xlabel=\"Missing Columns\", ylabel=\"Accuracy\")"
   ],
   "outputs": [
    {
     "output_type": "display_data",
     "data": {
      "application/vnd.jupyter.widget-view+json": {
       "model_id": "bf42c85bbaf445f880e02e200bb44bdd",
       "version_major": 2,
       "version_minor": 0
      },
      "text/plain": [
       "Canvas(toolbar=Toolbar(toolitems=[('Home', 'Reset original view', 'home', 'home'), ('Back', 'Back to previous …"
      ]
     },
     "metadata": {}
    },
    {
     "output_type": "execute_result",
     "data": {
      "text/plain": [
       "[Text(0.5, 1.0, 'Accuracy Plot'),\n",
       " Text(0.5, 0, 'Missing Columns'),\n",
       " Text(0, 0.5, 'Accuracy')]"
      ]
     },
     "metadata": {},
     "execution_count": 11
    }
   ],
   "metadata": {}
  },
  {
   "cell_type": "code",
   "execution_count": null,
   "source": [],
   "outputs": [],
   "metadata": {}
  }
 ],
 "metadata": {
  "interpreter": {
   "hash": "df4d921c18dab5cb0af99d4dd072adc6a573b508cad7709a986cc5c3cf799784"
  },
  "kernelspec": {
   "display_name": "Python 3",
   "language": "python",
   "name": "python3"
  },
  "language_info": {
   "codemirror_mode": {
    "name": "ipython",
    "version": 3
   },
   "file_extension": ".py",
   "mimetype": "text/x-python",
   "name": "python",
   "nbconvert_exporter": "python",
   "pygments_lexer": "ipython3",
   "version": "3.8.9"
  }
 },
 "nbformat": 4,
 "nbformat_minor": 5
}