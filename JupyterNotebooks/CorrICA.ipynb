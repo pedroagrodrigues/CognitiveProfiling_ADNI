{
 "cells": [
  {
   "cell_type": "markdown",
   "id": "080117ac-a899-4c6a-9f71-b6720299eca5",
   "metadata": {},
   "source": [
    "# Correlation ICA"
   ]
  },
  {
   "cell_type": "code",
   "execution_count": 1,
   "id": "8188bc60-ee00-40f3-bd1c-ae2331248fa7",
   "metadata": {},
   "outputs": [],
   "source": [
    "%matplotlib widget\n",
    "import numpy as np\n",
    "import pandas as pd\n",
    "import seaborn as sns\n",
    "import scipy\n",
    "from scipy.stats import pearsonr\n",
    "import matplotlib.pyplot as plt\n",
    "\n",
    "import common"
   ]
  },
  {
   "cell_type": "code",
   "execution_count": 2,
   "id": "870e7768-2b16-442e-9cca-b831c0a040db",
   "metadata": {},
   "outputs": [],
   "source": [
    "originalData = common.loadFile(\"CleanedData\").drop([\"RID\", \"VISCODE\", \"AGE\", \"PTEDUCAT\", \"PTGENDER\", \"DX\"], axis=1)\n",
    "ICA = common.loadFile(\"ICAData\").drop(\"DX\", axis=1)"
   ]
  },
  {
   "cell_type": "code",
   "execution_count": 3,
   "id": "697594b4-06fb-4f51-b82d-70e4331d8856",
   "metadata": {
    "tags": []
   },
   "outputs": [],
   "source": [
    "def getCorrP(x, y):\n",
    "    xData = []\n",
    "    yData = []\n",
    "    for i in range(len(x)): # Both columns must have same size\n",
    "        if x[i] != '' and y[i] != '':\n",
    "            xData.append(float(x[i]))\n",
    "            yData.append(float(y[i]))\n",
    "    if len(xData) > 1:\n",
    "        return pearsonr(xData, yData)\n",
    "    return 0, 0\n",
    "    "
   ]
  },
  {
   "cell_type": "code",
   "execution_count": 4,
   "id": "e7689567-8717-488c-8a40-91ebd217a03a",
   "metadata": {},
   "outputs": [],
   "source": [
    "originalDataLabels = originalData.columns.values\n",
    "originalDataNp = originalData.to_numpy()\n",
    "ICADataLabels = ICA.columns.values\n",
    "ICADataNp = ICA.to_numpy()\n",
    "\n",
    "correlations = pd.DataFrame(index=ICADataLabels, columns=originalDataLabels)\n",
    "pValues = pd.DataFrame(index=ICADataLabels, columns=originalDataLabels)\n",
    "\n",
    "tableCorrP = pd.DataFrame(columns=[\"Labels\", \"Correlation\", \"p_Value\"])\n",
    "\n",
    "for i in range(len(ICADataLabels)):\n",
    "    for j in range(len(originalDataLabels)):\n",
    "        p_r, p_p = getCorrP(ICADataNp[:, i], originalDataNp[:, j])\n",
    "        correlations.at[ICADataLabels[i], originalDataLabels[j]] = p_r\n",
    "        pValues.at[ICADataLabels[i], originalDataLabels[j]] = p_p\n",
    "        \n",
    "        tableCorrP = tableCorrP.append(dict(zip(tableCorrP.columns,[f\"{ICADataLabels[i]} -> {originalDataLabels[j]}\", p_r, p_p])), ignore_index = True)\n",
    "        \n"
   ]
  },
  {
   "cell_type": "code",
   "execution_count": 5,
   "id": "b98e9f25-ed33-4468-bf34-4f9c33ba7602",
   "metadata": {},
   "outputs": [
    {
     "data": {
      "text/html": [
       "<div>\n",
       "<style scoped>\n",
       "    .dataframe tbody tr th:only-of-type {\n",
       "        vertical-align: middle;\n",
       "    }\n",
       "\n",
       "    .dataframe tbody tr th {\n",
       "        vertical-align: top;\n",
       "    }\n",
       "\n",
       "    .dataframe thead th {\n",
       "        text-align: right;\n",
       "    }\n",
       "</style>\n",
       "<table border=\"1\" class=\"dataframe\">\n",
       "  <thead>\n",
       "    <tr style=\"text-align: right;\">\n",
       "      <th></th>\n",
       "      <th>Labels</th>\n",
       "      <th>Correlation</th>\n",
       "      <th>p_Value</th>\n",
       "    </tr>\n",
       "  </thead>\n",
       "  <tbody>\n",
       "    <tr>\n",
       "      <th>0</th>\n",
       "      <td>IC1 -&gt; TRAILS</td>\n",
       "      <td>0.209488</td>\n",
       "      <td>2.063526e-18</td>\n",
       "    </tr>\n",
       "    <tr>\n",
       "      <th>1</th>\n",
       "      <td>IC1 -&gt; CUBE</td>\n",
       "      <td>0.137314</td>\n",
       "      <td>1.190410e-08</td>\n",
       "    </tr>\n",
       "    <tr>\n",
       "      <th>2</th>\n",
       "      <td>IC1 -&gt; CLOCKCON</td>\n",
       "      <td>0.131596</td>\n",
       "      <td>4.719457e-08</td>\n",
       "    </tr>\n",
       "    <tr>\n",
       "      <th>3</th>\n",
       "      <td>IC1 -&gt; CLOCKNO</td>\n",
       "      <td>0.175533</td>\n",
       "      <td>2.667676e-13</td>\n",
       "    </tr>\n",
       "    <tr>\n",
       "      <th>4</th>\n",
       "      <td>IC1 -&gt; CLOCKHAN</td>\n",
       "      <td>0.205192</td>\n",
       "      <td>1.032487e-17</td>\n",
       "    </tr>\n",
       "    <tr>\n",
       "      <th>...</th>\n",
       "      <td>...</td>\n",
       "      <td>...</td>\n",
       "      <td>...</td>\n",
       "    </tr>\n",
       "    <tr>\n",
       "      <th>935</th>\n",
       "      <td>IC5 -&gt; DIVATT2_PT</td>\n",
       "      <td>0.143683</td>\n",
       "      <td>2.398417e-09</td>\n",
       "    </tr>\n",
       "    <tr>\n",
       "      <th>936</th>\n",
       "      <td>IC5 -&gt; DIVATT3_PT</td>\n",
       "      <td>0.096588</td>\n",
       "      <td>6.319706e-05</td>\n",
       "    </tr>\n",
       "    <tr>\n",
       "      <th>937</th>\n",
       "      <td>IC5 -&gt; DIVATT4_PT</td>\n",
       "      <td>0.085103</td>\n",
       "      <td>4.266521e-04</td>\n",
       "    </tr>\n",
       "    <tr>\n",
       "      <th>938</th>\n",
       "      <td>IC5 -&gt; STAFFASST</td>\n",
       "      <td>0.047137</td>\n",
       "      <td>5.130811e-02</td>\n",
       "    </tr>\n",
       "    <tr>\n",
       "      <th>939</th>\n",
       "      <td>IC5 -&gt; VALIDITY</td>\n",
       "      <td>0.052285</td>\n",
       "      <td>3.061715e-02</td>\n",
       "    </tr>\n",
       "  </tbody>\n",
       "</table>\n",
       "<p>940 rows × 3 columns</p>\n",
       "</div>"
      ],
      "text/plain": [
       "                Labels  Correlation       p_Value\n",
       "0        IC1 -> TRAILS     0.209488  2.063526e-18\n",
       "1          IC1 -> CUBE     0.137314  1.190410e-08\n",
       "2      IC1 -> CLOCKCON     0.131596  4.719457e-08\n",
       "3       IC1 -> CLOCKNO     0.175533  2.667676e-13\n",
       "4      IC1 -> CLOCKHAN     0.205192  1.032487e-17\n",
       "..                 ...          ...           ...\n",
       "935  IC5 -> DIVATT2_PT     0.143683  2.398417e-09\n",
       "936  IC5 -> DIVATT3_PT     0.096588  6.319706e-05\n",
       "937  IC5 -> DIVATT4_PT     0.085103  4.266521e-04\n",
       "938   IC5 -> STAFFASST     0.047137  5.130811e-02\n",
       "939    IC5 -> VALIDITY     0.052285  3.061715e-02\n",
       "\n",
       "[940 rows x 3 columns]"
      ]
     },
     "execution_count": 5,
     "metadata": {},
     "output_type": "execute_result"
    }
   ],
   "source": [
    "tableCorrP"
   ]
  },
  {
   "cell_type": "markdown",
   "id": "f4da4e0f-46cf-4f67-a7d6-f027a7c0ff5a",
   "metadata": {},
   "source": [
    "# Correlations"
   ]
  },
  {
   "cell_type": "code",
   "execution_count": 6,
   "id": "e24e6bf7-98f2-4d24-aeb3-b58d7ab8564d",
   "metadata": {},
   "outputs": [],
   "source": [
    "aux = sns.color_palette(\"coolwarm\", as_cmap=True)"
   ]
  },
  {
   "cell_type": "code",
   "execution_count": 15,
   "id": "5de8029a-c7d8-421d-be10-e4dc86d92a82",
   "metadata": {},
   "outputs": [
    {
     "data": {
      "application/vnd.jupyter.widget-view+json": {
       "model_id": "c0905d56aa3d4a6f8c05a324873c9826",
       "version_major": 2,
       "version_minor": 0
      },
      "text/plain": [
       "Canvas(toolbar=Toolbar(toolitems=[('Home', 'Reset original view', 'home', 'home'), ('Back', 'Back to previous …"
      ]
     },
     "metadata": {},
     "output_type": "display_data"
    },
    {
     "data": {
      "text/plain": [
       "<AxesSubplot:>"
      ]
     },
     "execution_count": 15,
     "metadata": {},
     "output_type": "execute_result"
    }
   ],
   "source": [
    "plt.close()\n",
    "sns.heatmap(np.ma.filled(correlations.astype(float), np.nan), annot=True, annot_kws={\"size\": 7}, xticklabels=correlations.columns, yticklabels=correlations.index, cmap=aux)"
   ]
  },
  {
   "cell_type": "markdown",
   "id": "8201ebf1-8a9d-44e8-a512-194c5757ae92",
   "metadata": {},
   "source": [
    "# P_Values"
   ]
  },
  {
   "cell_type": "code",
   "execution_count": 8,
   "id": "9ddb21a9-1420-48da-9c25-5a7f708141e6",
   "metadata": {},
   "outputs": [
    {
     "data": {
      "application/vnd.jupyter.widget-view+json": {
       "model_id": "d8ea3dbb0e1640beb03da2b7754c1e78",
       "version_major": 2,
       "version_minor": 0
      },
      "text/plain": [
       "Canvas(toolbar=Toolbar(toolitems=[('Home', 'Reset original view', 'home', 'home'), ('Back', 'Back to previous …"
      ]
     },
     "metadata": {},
     "output_type": "display_data"
    },
    {
     "data": {
      "text/plain": [
       "<AxesSubplot:title={'center':'p Values'}>"
      ]
     },
     "execution_count": 8,
     "metadata": {},
     "output_type": "execute_result"
    }
   ],
   "source": [
    "plt.close()\n",
    "plt.title('p Values')\n",
    "sns.heatmap(np.ma.filled(pValues.astype(float), np.nan), annot=True, annot_kws={\"size\": 7}, xticklabels=pValues.columns, yticklabels=pValues.index, cmap=aux)"
   ]
  },
  {
   "cell_type": "markdown",
   "id": "ae5f3e79-e4aa-4be4-8ddc-67172eb54d9f",
   "metadata": {},
   "source": [
    "## Correlações acima de 60% e Filtro de Bonferroni Correction"
   ]
  },
  {
   "cell_type": "code",
   "execution_count": 9,
   "id": "d2655aab-06b4-4e9b-b480-a33d2edbaac4",
   "metadata": {},
   "outputs": [],
   "source": [
    "corrFilter = 0.6\n",
    "pFilter = 0.05"
   ]
  },
  {
   "cell_type": "code",
   "execution_count": 16,
   "id": "4f465721-8549-43ca-b9ec-ef4ed2facb10",
   "metadata": {},
   "outputs": [],
   "source": [
    "mask = pd.DataFrame(index=ICADataLabels, columns=originalDataLabels)\n",
    "filtredTableCorrP = pd.DataFrame(columns=[\"Labels\", \"Correlation\", \"p_Value\"])\n",
    "for i in range(len(ICADataLabels)):\n",
    "    for j in range(len(originalDataLabels)):\n",
    "        if pValues.at[ICADataLabels[i], originalDataLabels[j]] >= pFilter/(len(originalDataLabels)**2) or abs(correlations.at[ICADataLabels[i], originalDataLabels[j]]) < corrFilter:\n",
    "            mask.at[ICADataLabels[i], originalDataLabels[j]] = True  #Hide\n",
    "        else:\n",
    "            mask.at[ICADataLabels[i], originalDataLabels[j]]  = False\n",
    "            filtredTableCorrP = filtredTableCorrP.append(tableCorrP.loc[tableCorrP[\"Labels\"] == f\"{ICADataLabels[i]} -> {originalDataLabels[j]}\"])\n",
    "        \n",
    "mask = mask.to_numpy()"
   ]
  },
  {
   "cell_type": "code",
   "execution_count": 17,
   "id": "fc57d43d-ac90-4d6f-bb02-b02bb98b5831",
   "metadata": {},
   "outputs": [
    {
     "data": {
      "application/vnd.jupyter.widget-view+json": {
       "model_id": "4bb2f3af5a274cc19b83eeb41e42e96f",
       "version_major": 2,
       "version_minor": 0
      },
      "text/plain": [
       "Canvas(toolbar=Toolbar(toolitems=[('Home', 'Reset original view', 'home', 'home'), ('Back', 'Back to previous …"
      ]
     },
     "metadata": {},
     "output_type": "display_data"
    },
    {
     "data": {
      "text/plain": [
       "<AxesSubplot:title={'center':'Correlation >60.0% with Bonferroni Correction Filter'}>"
      ]
     },
     "execution_count": 17,
     "metadata": {},
     "output_type": "execute_result"
    }
   ],
   "source": [
    "plt.close()\n",
    "aux = sns.color_palette(\"coolwarm\", as_cmap=True)\n",
    "plt.title(f'Correlation >{corrFilter*100}% with Bonferroni Correction Filter')\n",
    "sns.heatmap(np.ma.filled(correlations.astype(float), np.nan), annot=True, annot_kws={\"size\": 7}, xticklabels=correlations.columns, yticklabels=correlations.index, cmap=aux, mask=mask,  linewidths=0.5, linecolor='gray')"
   ]
  },
  {
   "cell_type": "code",
   "execution_count": 12,
   "id": "ab06fba4-5524-4934-8d8c-458e9104caaf",
   "metadata": {},
   "outputs": [
    {
     "data": {
      "text/html": [
       "<div>\n",
       "<style scoped>\n",
       "    .dataframe tbody tr th:only-of-type {\n",
       "        vertical-align: middle;\n",
       "    }\n",
       "\n",
       "    .dataframe tbody tr th {\n",
       "        vertical-align: top;\n",
       "    }\n",
       "\n",
       "    .dataframe thead th {\n",
       "        text-align: right;\n",
       "    }\n",
       "</style>\n",
       "<table border=\"1\" class=\"dataframe\">\n",
       "  <thead>\n",
       "    <tr style=\"text-align: right;\">\n",
       "      <th></th>\n",
       "      <th>Labels</th>\n",
       "      <th>Correlation</th>\n",
       "      <th>p_Value</th>\n",
       "    </tr>\n",
       "  </thead>\n",
       "  <tbody>\n",
       "    <tr>\n",
       "      <th>91</th>\n",
       "      <td>IC1 -&gt; CDORIENT</td>\n",
       "      <td>-0.601351</td>\n",
       "      <td>1.101521e-168</td>\n",
       "    </tr>\n",
       "    <tr>\n",
       "      <th>93</th>\n",
       "      <td>IC1 -&gt; CDCOMMUN</td>\n",
       "      <td>-0.704859</td>\n",
       "      <td>5.068315e-257</td>\n",
       "    </tr>\n",
       "    <tr>\n",
       "      <th>94</th>\n",
       "      <td>IC1 -&gt; CDHOME</td>\n",
       "      <td>-0.687793</td>\n",
       "      <td>6.804842e-240</td>\n",
       "    </tr>\n",
       "    <tr>\n",
       "      <th>97</th>\n",
       "      <td>IC1 -&gt; CDRSB</td>\n",
       "      <td>-0.720776</td>\n",
       "      <td>3.802727e-274</td>\n",
       "    </tr>\n",
       "    <tr>\n",
       "      <th>137</th>\n",
       "      <td>IC1 -&gt; FAQFINAN</td>\n",
       "      <td>-0.708992</td>\n",
       "      <td>2.344377e-261</td>\n",
       "    </tr>\n",
       "    <tr>\n",
       "      <th>138</th>\n",
       "      <td>IC1 -&gt; FAQFORM</td>\n",
       "      <td>-0.688079</td>\n",
       "      <td>3.589946e-240</td>\n",
       "    </tr>\n",
       "    <tr>\n",
       "      <th>139</th>\n",
       "      <td>IC1 -&gt; FAQSHOP</td>\n",
       "      <td>-0.776746</td>\n",
       "      <td>0.000000e+00</td>\n",
       "    </tr>\n",
       "    <tr>\n",
       "      <th>140</th>\n",
       "      <td>IC1 -&gt; FAQGAME</td>\n",
       "      <td>-0.687895</td>\n",
       "      <td>5.415110e-240</td>\n",
       "    </tr>\n",
       "    <tr>\n",
       "      <th>142</th>\n",
       "      <td>IC1 -&gt; FAQMEAL</td>\n",
       "      <td>-0.733096</td>\n",
       "      <td>3.031894e-288</td>\n",
       "    </tr>\n",
       "    <tr>\n",
       "      <th>143</th>\n",
       "      <td>IC1 -&gt; FAQEVENT</td>\n",
       "      <td>-0.704982</td>\n",
       "      <td>3.771587e-257</td>\n",
       "    </tr>\n",
       "    <tr>\n",
       "      <th>144</th>\n",
       "      <td>IC1 -&gt; FAQTV</td>\n",
       "      <td>-0.621752</td>\n",
       "      <td>1.737091e-183</td>\n",
       "    </tr>\n",
       "    <tr>\n",
       "      <th>145</th>\n",
       "      <td>IC1 -&gt; FAQREM</td>\n",
       "      <td>-0.646076</td>\n",
       "      <td>1.236879e-202</td>\n",
       "    </tr>\n",
       "    <tr>\n",
       "      <th>146</th>\n",
       "      <td>IC1 -&gt; FAQTRAVL</td>\n",
       "      <td>-0.705316</td>\n",
       "      <td>1.692320e-257</td>\n",
       "    </tr>\n",
       "    <tr>\n",
       "      <th>147</th>\n",
       "      <td>IC1 -&gt; FAQTOTAL</td>\n",
       "      <td>-0.890742</td>\n",
       "      <td>0.000000e+00</td>\n",
       "    </tr>\n",
       "    <tr>\n",
       "      <th>450</th>\n",
       "      <td>IC3 -&gt; Q1</td>\n",
       "      <td>0.696515</td>\n",
       "      <td>1.696682e-248</td>\n",
       "    </tr>\n",
       "    <tr>\n",
       "      <th>453</th>\n",
       "      <td>IC3 -&gt; Q4</td>\n",
       "      <td>0.721072</td>\n",
       "      <td>1.780559e-274</td>\n",
       "    </tr>\n",
       "    <tr>\n",
       "      <th>457</th>\n",
       "      <td>IC3 -&gt; Q8</td>\n",
       "      <td>0.666545</td>\n",
       "      <td>3.693850e-220</td>\n",
       "    </tr>\n",
       "    <tr>\n",
       "      <th>463</th>\n",
       "      <td>IC3 -&gt; ADAS11</td>\n",
       "      <td>0.756640</td>\n",
       "      <td>1.669977e-317</td>\n",
       "    </tr>\n",
       "    <tr>\n",
       "      <th>464</th>\n",
       "      <td>IC3 -&gt; ADAS13</td>\n",
       "      <td>0.781057</td>\n",
       "      <td>0.000000e+00</td>\n",
       "    </tr>\n",
       "    <tr>\n",
       "      <th>780</th>\n",
       "      <td>IC5 -&gt; FFLUENCY</td>\n",
       "      <td>-0.845478</td>\n",
       "      <td>0.000000e+00</td>\n",
       "    </tr>\n",
       "  </tbody>\n",
       "</table>\n",
       "</div>"
      ],
      "text/plain": [
       "              Labels  Correlation        p_Value\n",
       "91   IC1 -> CDORIENT    -0.601351  1.101521e-168\n",
       "93   IC1 -> CDCOMMUN    -0.704859  5.068315e-257\n",
       "94     IC1 -> CDHOME    -0.687793  6.804842e-240\n",
       "97      IC1 -> CDRSB    -0.720776  3.802727e-274\n",
       "137  IC1 -> FAQFINAN    -0.708992  2.344377e-261\n",
       "138   IC1 -> FAQFORM    -0.688079  3.589946e-240\n",
       "139   IC1 -> FAQSHOP    -0.776746   0.000000e+00\n",
       "140   IC1 -> FAQGAME    -0.687895  5.415110e-240\n",
       "142   IC1 -> FAQMEAL    -0.733096  3.031894e-288\n",
       "143  IC1 -> FAQEVENT    -0.704982  3.771587e-257\n",
       "144     IC1 -> FAQTV    -0.621752  1.737091e-183\n",
       "145    IC1 -> FAQREM    -0.646076  1.236879e-202\n",
       "146  IC1 -> FAQTRAVL    -0.705316  1.692320e-257\n",
       "147  IC1 -> FAQTOTAL    -0.890742   0.000000e+00\n",
       "450        IC3 -> Q1     0.696515  1.696682e-248\n",
       "453        IC3 -> Q4     0.721072  1.780559e-274\n",
       "457        IC3 -> Q8     0.666545  3.693850e-220\n",
       "463    IC3 -> ADAS11     0.756640  1.669977e-317\n",
       "464    IC3 -> ADAS13     0.781057   0.000000e+00\n",
       "780  IC5 -> FFLUENCY    -0.845478   0.000000e+00"
      ]
     },
     "execution_count": 12,
     "metadata": {},
     "output_type": "execute_result"
    }
   ],
   "source": [
    "filtredTableCorrP"
   ]
  },
  {
   "cell_type": "code",
   "execution_count": 13,
   "id": "ecb83ddd-dd78-478e-b9c7-5cb5314368c8",
   "metadata": {},
   "outputs": [
    {
     "data": {
      "text/html": [
       "<div>\n",
       "<style scoped>\n",
       "    .dataframe tbody tr th:only-of-type {\n",
       "        vertical-align: middle;\n",
       "    }\n",
       "\n",
       "    .dataframe tbody tr th {\n",
       "        vertical-align: top;\n",
       "    }\n",
       "\n",
       "    .dataframe thead th {\n",
       "        text-align: right;\n",
       "    }\n",
       "</style>\n",
       "<table border=\"1\" class=\"dataframe\">\n",
       "  <thead>\n",
       "    <tr style=\"text-align: right;\">\n",
       "      <th></th>\n",
       "      <th>TRAILS</th>\n",
       "      <th>CUBE</th>\n",
       "      <th>CLOCKCON</th>\n",
       "      <th>CLOCKNO</th>\n",
       "      <th>CLOCKHAN</th>\n",
       "      <th>LION</th>\n",
       "      <th>RHINO</th>\n",
       "      <th>CAMEL</th>\n",
       "      <th>IMMT1W1</th>\n",
       "      <th>IMMT1W2</th>\n",
       "      <th>...</th>\n",
       "      <th>ORGAN3_PT</th>\n",
       "      <th>ORGAN4_PT</th>\n",
       "      <th>ORGAN5_PT</th>\n",
       "      <th>ORGAN6_PT</th>\n",
       "      <th>DIVATT1_PT</th>\n",
       "      <th>DIVATT2_PT</th>\n",
       "      <th>DIVATT3_PT</th>\n",
       "      <th>DIVATT4_PT</th>\n",
       "      <th>STAFFASST</th>\n",
       "      <th>VALIDITY</th>\n",
       "    </tr>\n",
       "  </thead>\n",
       "  <tbody>\n",
       "    <tr>\n",
       "      <th>IC1</th>\n",
       "      <td>0.209488</td>\n",
       "      <td>0.137314</td>\n",
       "      <td>0.131596</td>\n",
       "      <td>0.175533</td>\n",
       "      <td>0.205192</td>\n",
       "      <td>0.09534</td>\n",
       "      <td>0.179153</td>\n",
       "      <td>0.048835</td>\n",
       "      <td>0.09318</td>\n",
       "      <td>0.098495</td>\n",
       "      <td>...</td>\n",
       "      <td>-0.064197</td>\n",
       "      <td>0.033315</td>\n",
       "      <td>0.065789</td>\n",
       "      <td>0.011114</td>\n",
       "      <td>0.077682</td>\n",
       "      <td>0.093199</td>\n",
       "      <td>0.164585</td>\n",
       "      <td>0.060228</td>\n",
       "      <td>-0.310778</td>\n",
       "      <td>-0.300792</td>\n",
       "    </tr>\n",
       "    <tr>\n",
       "      <th>IC2</th>\n",
       "      <td>0.03953</td>\n",
       "      <td>0.058989</td>\n",
       "      <td>0.035873</td>\n",
       "      <td>0.062169</td>\n",
       "      <td>0.12546</td>\n",
       "      <td>-0.003731</td>\n",
       "      <td>0.067464</td>\n",
       "      <td>0.054821</td>\n",
       "      <td>0.040514</td>\n",
       "      <td>0.026794</td>\n",
       "      <td>...</td>\n",
       "      <td>0.25252</td>\n",
       "      <td>0.225402</td>\n",
       "      <td>0.278771</td>\n",
       "      <td>0.212288</td>\n",
       "      <td>0.271311</td>\n",
       "      <td>0.261011</td>\n",
       "      <td>0.188598</td>\n",
       "      <td>0.220573</td>\n",
       "      <td>-0.061573</td>\n",
       "      <td>-0.083567</td>\n",
       "    </tr>\n",
       "    <tr>\n",
       "      <th>IC3</th>\n",
       "      <td>-0.21451</td>\n",
       "      <td>-0.196969</td>\n",
       "      <td>-0.046953</td>\n",
       "      <td>-0.199978</td>\n",
       "      <td>-0.248388</td>\n",
       "      <td>-0.071654</td>\n",
       "      <td>-0.167672</td>\n",
       "      <td>-0.153455</td>\n",
       "      <td>-0.133787</td>\n",
       "      <td>-0.162527</td>\n",
       "      <td>...</td>\n",
       "      <td>0.383979</td>\n",
       "      <td>0.326091</td>\n",
       "      <td>0.262828</td>\n",
       "      <td>0.2419</td>\n",
       "      <td>0.341481</td>\n",
       "      <td>0.328301</td>\n",
       "      <td>0.325861</td>\n",
       "      <td>0.299394</td>\n",
       "      <td>0.296174</td>\n",
       "      <td>0.270393</td>\n",
       "    </tr>\n",
       "    <tr>\n",
       "      <th>IC4</th>\n",
       "      <td>-0.130292</td>\n",
       "      <td>-0.100399</td>\n",
       "      <td>-0.066797</td>\n",
       "      <td>-0.083589</td>\n",
       "      <td>-0.146422</td>\n",
       "      <td>-0.037626</td>\n",
       "      <td>-0.194252</td>\n",
       "      <td>-0.042383</td>\n",
       "      <td>-0.081287</td>\n",
       "      <td>-0.130154</td>\n",
       "      <td>...</td>\n",
       "      <td>0.003174</td>\n",
       "      <td>0.049991</td>\n",
       "      <td>0.01859</td>\n",
       "      <td>-0.027825</td>\n",
       "      <td>0.007283</td>\n",
       "      <td>-0.114433</td>\n",
       "      <td>-0.067764</td>\n",
       "      <td>0.001537</td>\n",
       "      <td>0.123872</td>\n",
       "      <td>0.084115</td>\n",
       "    </tr>\n",
       "    <tr>\n",
       "      <th>IC5</th>\n",
       "      <td>-0.118445</td>\n",
       "      <td>-0.079846</td>\n",
       "      <td>-0.07951</td>\n",
       "      <td>-0.0881</td>\n",
       "      <td>-0.107574</td>\n",
       "      <td>0.043596</td>\n",
       "      <td>0.012706</td>\n",
       "      <td>-0.012949</td>\n",
       "      <td>-0.078255</td>\n",
       "      <td>-0.036982</td>\n",
       "      <td>...</td>\n",
       "      <td>0.10229</td>\n",
       "      <td>0.113959</td>\n",
       "      <td>0.055495</td>\n",
       "      <td>0.083167</td>\n",
       "      <td>0.053803</td>\n",
       "      <td>0.143683</td>\n",
       "      <td>0.096588</td>\n",
       "      <td>0.085103</td>\n",
       "      <td>0.047137</td>\n",
       "      <td>0.052285</td>\n",
       "    </tr>\n",
       "  </tbody>\n",
       "</table>\n",
       "<p>5 rows × 188 columns</p>\n",
       "</div>"
      ],
      "text/plain": [
       "       TRAILS      CUBE  CLOCKCON   CLOCKNO  CLOCKHAN      LION     RHINO  \\\n",
       "IC1  0.209488  0.137314  0.131596  0.175533  0.205192   0.09534  0.179153   \n",
       "IC2   0.03953  0.058989  0.035873  0.062169   0.12546 -0.003731  0.067464   \n",
       "IC3  -0.21451 -0.196969 -0.046953 -0.199978 -0.248388 -0.071654 -0.167672   \n",
       "IC4 -0.130292 -0.100399 -0.066797 -0.083589 -0.146422 -0.037626 -0.194252   \n",
       "IC5 -0.118445 -0.079846  -0.07951   -0.0881 -0.107574  0.043596  0.012706   \n",
       "\n",
       "        CAMEL   IMMT1W1   IMMT1W2  ... ORGAN3_PT ORGAN4_PT ORGAN5_PT  \\\n",
       "IC1  0.048835   0.09318  0.098495  ... -0.064197  0.033315  0.065789   \n",
       "IC2  0.054821  0.040514  0.026794  ...   0.25252  0.225402  0.278771   \n",
       "IC3 -0.153455 -0.133787 -0.162527  ...  0.383979  0.326091  0.262828   \n",
       "IC4 -0.042383 -0.081287 -0.130154  ...  0.003174  0.049991   0.01859   \n",
       "IC5 -0.012949 -0.078255 -0.036982  ...   0.10229  0.113959  0.055495   \n",
       "\n",
       "    ORGAN6_PT DIVATT1_PT DIVATT2_PT DIVATT3_PT DIVATT4_PT STAFFASST  VALIDITY  \n",
       "IC1  0.011114   0.077682   0.093199   0.164585   0.060228 -0.310778 -0.300792  \n",
       "IC2  0.212288   0.271311   0.261011   0.188598   0.220573 -0.061573 -0.083567  \n",
       "IC3    0.2419   0.341481   0.328301   0.325861   0.299394  0.296174  0.270393  \n",
       "IC4 -0.027825   0.007283  -0.114433  -0.067764   0.001537  0.123872  0.084115  \n",
       "IC5  0.083167   0.053803   0.143683   0.096588   0.085103  0.047137  0.052285  \n",
       "\n",
       "[5 rows x 188 columns]"
      ]
     },
     "execution_count": 13,
     "metadata": {},
     "output_type": "execute_result"
    }
   ],
   "source": [
    "correlations\n"
   ]
  },
  {
   "cell_type": "code",
   "execution_count": 14,
   "id": "1c3bef8b-acd1-4d78-b79b-4ab846c72fea",
   "metadata": {},
   "outputs": [],
   "source": [
    "common.saveFile(correlations, \"ICADataCorrelation\")"
   ]
  },
  {
   "cell_type": "code",
   "execution_count": null,
   "id": "b7335feb-0589-4145-96c0-58a0ed623d38",
   "metadata": {},
   "outputs": [],
   "source": []
  }
 ],
 "metadata": {
  "kernelspec": {
   "display_name": "Python 3",
   "language": "python",
   "name": "python3"
  },
  "language_info": {
   "codemirror_mode": {
    "name": "ipython",
    "version": 3
   },
   "file_extension": ".py",
   "mimetype": "text/x-python",
   "name": "python",
   "nbconvert_exporter": "python",
   "pygments_lexer": "ipython3",
   "version": "3.8.9"
  }
 },
 "nbformat": 4,
 "nbformat_minor": 5
}
