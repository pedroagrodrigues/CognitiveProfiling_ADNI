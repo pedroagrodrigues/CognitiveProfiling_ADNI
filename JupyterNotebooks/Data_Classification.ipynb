{
 "cells": [
  {
   "cell_type": "code",
   "execution_count": 1,
   "id": "c097154c-00d0-4679-82fa-e5a6882b4ba4",
   "metadata": {},
   "outputs": [],
   "source": [
    "Training = 0.3 # Using 30% of the data to train"
   ]
  },
  {
   "cell_type": "code",
   "execution_count": 2,
   "id": "d437bca9-cfec-46ba-b6d1-9a0d9d7057e8",
   "metadata": {},
   "outputs": [],
   "source": [
    "import pandas as pd \n",
    "import numpy as np\n",
    "import math\n",
    "import seaborn as sns\n",
    "import matplotlib.pyplot as plt\n",
    "%matplotlib widget\n",
    "\n",
    "from sklearn.model_selection import train_test_split\n",
    "from sklearn.model_selection import cross_val_score\n",
    "from sklearn.preprocessing import normalize\n",
    "\n",
    "# Classifiers\n",
    "from sklearn.tree import DecisionTreeClassifier\n",
    "from sklearn.neighbors import KNeighborsClassifier\n",
    "from sklearn.discriminant_analysis import LinearDiscriminantAnalysis\n",
    "from sklearn.naive_bayes import GaussianNB\n",
    "from sklearn.svm import SVC, LinearSVC, SVR, LinearSVR\n",
    "from sklearn.ensemble import RandomForestClassifier\n",
    "\n",
    "import common\n",
    "\n",
    "# Loading Datasets\n",
    "data = common.loadFile(\"CleanedData\").drop([\"RID\", \"VISCODE\"], axis=1)\n",
    "reconstructedData = common.loadFile(\"filledData\")"
   ]
  },
  {
   "cell_type": "code",
   "execution_count": 3,
   "id": "ea78ba83-7f1b-4006-a937-ed8c9efd9c05",
   "metadata": {},
   "outputs": [],
   "source": [
    "algorithms = [DecisionTreeClassifier, KNeighborsClassifier, LinearDiscriminantAnalysis, GaussianNB, SVC, LinearSVC, SVR, LinearSVR, RandomForestClassifier]\n",
    "labels = [\"Decision Tree\", \"K-Nearest Neighbors\", \"Linear Discriminant Analysis\", \"Guassian Naïve Bayes\", \"Support Vector Classification\", \"Linear SVC\", \"Linear Support Vector Regression\", \"Linear SVR\", \"Random Forest\"]"
   ]
  },
  {
   "cell_type": "code",
   "execution_count": 4,
   "id": "2784c0e5-f764-45b4-becc-e5ce069b8cc2",
   "metadata": {},
   "outputs": [],
   "source": [
    "# Optimizing testing for every model\n",
    "def getModelScore(model, xTrain, xTest, yTrain, yTest):\n",
    "    model.fit(xTrain, yTrain)\n",
    "    return model.score(xTest, yTest)"
   ]
  },
  {
   "cell_type": "code",
   "execution_count": 5,
   "id": "c2c776fa-b8d3-47c7-adcb-74197949c441",
   "metadata": {},
   "outputs": [],
   "source": [
    "X = normalize(data.drop(\"DX\", axis=1).to_numpy().astype('float'))\n",
    "RX = normalize(reconstructedData.drop(\"DX\", axis=1).to_numpy().astype('float'))\n",
    "\n",
    "y = data.loc[:,['DX']].to_numpy().astype('float').flatten()\n",
    "Ry = reconstructedData.loc[:,['DX']].to_numpy().astype('float').flatten()\n",
    "\n",
    "xtrain, xtest, ytrain, ytest = train_test_split(X, y, test_size=Training)\n",
    "Rxtrain, Rxtest, Rytrain, Rytest = train_test_split(RX, Ry, test_size=Training)"
   ]
  },
  {
   "cell_type": "code",
   "execution_count": 6,
   "id": "02370f22-4c56-4e37-ab77-288c826c61b9",
   "metadata": {},
   "outputs": [],
   "source": [
    "simpleScore = [getModelScore(i(), xtrain, xtest, ytrain, ytest) * 100 for i in algorithms]\n",
    "crossValidationScore = [cross_val_score(i(), X, y, cv=10) for i in algorithms]\n",
    "RSimpleScore = [getModelScore(i(), Rxtrain, Rxtest, Rytrain, Rytest) * 100 for i in algorithms]\n",
    "RCrossValidationScore = [cross_val_score(i(), RX, Ry, cv=10) for i in algorithms]"
   ]
  },
  {
   "cell_type": "code",
   "execution_count": 10,
   "id": "34fd56c1-60a4-4409-9ff4-de3bd71a03d7",
   "metadata": {},
   "outputs": [
    {
     "data": {
      "application/vnd.jupyter.widget-view+json": {
       "model_id": "4e1afe81cb93403484398c2edaaae888",
       "version_major": 2,
       "version_minor": 0
      },
      "text/plain": [
       "Canvas(toolbar=Toolbar(toolitems=[('Home', 'Reset original view', 'home', 'home'), ('Back', 'Back to previous …"
      ]
     },
     "metadata": {},
     "output_type": "display_data"
    }
   ],
   "source": [
    "plt.figure(figsize=[18, 10])\n",
    "\n",
    "df = pd.DataFrame(columns = ['Algorithm', 'Method', 'Score'])\n",
    "\n",
    "for i, n in zip(labels, range(len(labels))):\n",
    "    df = df.append({\"Algorithm\" : i, \"Method\" : \"Simple Validation\", \"Score\": round(simpleScore[n], 2)}, ignore_index=True)\n",
    "    df = df.append({\"Algorithm\" : i, \"Method\" : \"Cross Validation\", \"Score\": round(sum(RCrossValidationScore[n])/len(RCrossValidationScore[n]) *100, 2)}, ignore_index=True)\n",
    "    \n",
    "ax = sns.barplot(x=\"Algorithm\", y=\"Score\", hue=\"Method\", data=df)\n",
    "for container in ax.containers:\n",
    "    ax.bar_label(container, fmt=\"%.2f%%\")\n",
    "\n",
    "ax.set(xlabel='Algorithms', ylabel='Scores (%)', title=f\"Clean Data Score with {int(Training * 100)}% of Training\")\n",
    "plt.tight_layout(pad=2)"
   ]
  },
  {
   "cell_type": "code",
   "execution_count": 9,
   "id": "caacec15-b3c3-4264-8b49-efdd3f0491c6",
   "metadata": {},
   "outputs": [
    {
     "data": {
      "application/vnd.jupyter.widget-view+json": {
       "model_id": "1e912aa4f91b4c628c4256624bce4ec7",
       "version_major": 2,
       "version_minor": 0
      },
      "text/plain": [
       "Canvas(toolbar=Toolbar(toolitems=[('Home', 'Reset original view', 'home', 'home'), ('Back', 'Back to previous …"
      ]
     },
     "metadata": {},
     "output_type": "display_data"
    }
   ],
   "source": [
    "plt.figure(figsize=[18, 10])\n",
    "\n",
    "df = pd.DataFrame(columns = ['Algorithm', 'Method', 'Score'])\n",
    "\n",
    "for i, n in zip(labels, range(len(labels))):\n",
    "    df = df.append({\"Algorithm\" : i, \"Method\" : \"Simple Validation\", \"Score\": round(RSimpleScore[n], 2)}, ignore_index=True)\n",
    "    df = df.append({\"Algorithm\" : i, \"Method\" : \"Cross Validation\", \"Score\": round(sum(RCrossValidationScore[n])/len(RCrossValidationScore[n]) *100, 2)}, ignore_index=True)\n",
    "    \n",
    "ax = sns.barplot(x=\"Algorithm\", y=\"Score\", hue=\"Method\", data=df)\n",
    "for container in ax.containers:\n",
    "    ax.bar_label(container, fmt=\"%.2f%%\")\n",
    "\n",
    "ax.set(xlabel='Algorithms', ylabel='Scores (%)', title=f\"Filled Data Score with {int(Training * 100)}% of Training\")\n",
    "plt.tight_layout(pad=2)"
   ]
  },
  {
   "cell_type": "code",
   "execution_count": null,
   "id": "4cb4f403-1c69-4008-91b7-9feeaa222773",
   "metadata": {},
   "outputs": [],
   "source": []
  }
 ],
 "metadata": {
  "kernelspec": {
   "display_name": "Python 3",
   "language": "python",
   "name": "python3"
  },
  "language_info": {
   "codemirror_mode": {
    "name": "ipython",
    "version": 3
   },
   "file_extension": ".py",
   "mimetype": "text/x-python",
   "name": "python",
   "nbconvert_exporter": "python",
   "pygments_lexer": "ipython3",
   "version": "3.8.9"
  }
 },
 "nbformat": 4,
 "nbformat_minor": 5
}
