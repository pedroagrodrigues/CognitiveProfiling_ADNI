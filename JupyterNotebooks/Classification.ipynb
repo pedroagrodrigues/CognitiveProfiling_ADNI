{
 "cells": [
  {
   "cell_type": "markdown",
   "id": "47f969d9-d0bc-4cfd-9342-1cb41a74ef33",
   "metadata": {},
   "source": [
    "# Classification"
   ]
  },
  {
   "cell_type": "code",
   "execution_count": 1,
   "id": "04ca09bc-c310-46bf-bc25-73cc0551a908",
   "metadata": {},
   "outputs": [],
   "source": [
    "import pandas as pd \n",
    "import numpy as np\n",
    "import seaborn as sns\n",
    "import matplotlib.pyplot as plt\n",
    "%matplotlib widget\n",
    "\n",
    "from sklearn.model_selection import train_test_split\n",
    "from sklearn.preprocessing import MinMaxScaler\n",
    "\n",
    "import common"
   ]
  },
  {
   "cell_type": "code",
   "execution_count": 2,
   "id": "f165cce9-f886-4d94-bd2f-8933da4b0d6a",
   "metadata": {},
   "outputs": [],
   "source": [
    "data = common.loadFile(\"CleanedData\").drop([\"RID\", \"VISCODE\"], axis=1)"
   ]
  },
  {
   "cell_type": "code",
   "execution_count": 3,
   "id": "58e9edaa-8495-4c6f-be86-12d54941a119",
   "metadata": {},
   "outputs": [
    {
     "data": {
      "application/vnd.jupyter.widget-view+json": {
       "model_id": "a8fd552d2dbc4525b5e754c5f27a337e",
       "version_major": 2,
       "version_minor": 0
      },
      "text/plain": [
       "Canvas(toolbar=Toolbar(toolitems=[('Home', 'Reset original view', 'home', 'home'), ('Back', 'Back to previous …"
      ]
     },
     "metadata": {},
     "output_type": "display_data"
    }
   ],
   "source": [
    "plt.close()\n",
    "ax = sns.countplot(x=data['DX'])\n",
    "plt.title(\"Data Diagnosis\")\n",
    "plt.ylabel(\"Count\")\n",
    "plt.xlabel(\"Diagnosis\")\n",
    "plt.xticks(ticks=range(0,3), labels=['CN', 'MCI', 'Dementia'])\n",
    "\n",
    "for p in ax.patches:\n",
    "        ax.annotate(f'\\n{p.get_height()}', (p.get_x()+p.get_width()/2, p.get_height()), ha='center', \n",
    "                    va='top', color='white', size=18)"
   ]
  },
  {
   "cell_type": "markdown",
   "id": "f9994730-fb20-4386-bb00-35092303be74",
   "metadata": {},
   "source": [
    "## Create Training and Test Sets and Apply Scaling"
   ]
  },
  {
   "cell_type": "code",
   "execution_count": 4,
   "id": "15bfa4f3-58e6-4831-8723-c98a214d8aac",
   "metadata": {},
   "outputs": [],
   "source": [
    "data = [data, common.loadFile(\"PCAData\"), common.loadFile(\"ICAData\")]\n",
    "label = [\"Full Data\", \"PCA Data\", \"ICA Data\"]"
   ]
  },
  {
   "cell_type": "code",
   "execution_count": 5,
   "id": "70a2ef0c-7fc4-4a27-b65a-ff105f436c98",
   "metadata": {},
   "outputs": [],
   "source": [
    "X = []\n",
    "y = []\n",
    "X_train = []\n",
    "X_test = []\n",
    "y_train = []\n",
    "y_test = []\n",
    "scaler = []\n",
    "\n",
    "for i in range(len(data)):\n",
    "    X.append(data[i].drop(\"DX\", axis=1).to_numpy().astype('int'))\n",
    "    y.append(data[i].loc[:,['DX']].to_numpy().astype('int').flatten())\n",
    "    \n",
    "\n",
    "    xtrain, xtest, ytrain, ytest= train_test_split(X[i], y[i], random_state=0)\n",
    "    X_train.append(xtrain)\n",
    "    X_test.append(xtest)\n",
    "    y_train.append(ytrain)\n",
    "    y_test.append(ytest)\n",
    "    \n",
    "    scaler.append(MinMaxScaler())\n",
    "    X_train.append(scaler[i].fit_transform(xtrain))\n",
    "    X_test.append(scaler[i].transform(xtest))"
   ]
  },
  {
   "cell_type": "markdown",
   "id": "48a76a05-1c82-417c-927b-35a569d2b5f7",
   "metadata": {},
   "source": [
    "## Models"
   ]
  },
  {
   "cell_type": "markdown",
   "id": "b091779e-4cf1-4cf3-9709-6504ec89fc94",
   "metadata": {},
   "source": [
    "### Decision Tree"
   ]
  },
  {
   "cell_type": "code",
   "execution_count": 6,
   "id": "3d2cf365-1ef0-40bb-96b6-bd7298ab6fae",
   "metadata": {},
   "outputs": [
    {
     "name": "stdout",
     "output_type": "stream",
     "text": [
      "Accuracy of Decision Tree classifier for Full Data\n",
      "Training set: 1.00\n",
      "Test set: 0.77\n",
      "Accuracy of Decision Tree classifier for PCA Data\n",
      "Training set: 1.00\n",
      "Test set: 0.78\n",
      "Accuracy of Decision Tree classifier for ICA Data\n",
      "Training set: 0.98\n",
      "Test set: 0.72\n"
     ]
    }
   ],
   "source": [
    "from sklearn.tree import DecisionTreeClassifier\n",
    "for i in range(len(data)):\n",
    "    print(f\"Accuracy of Decision Tree classifier for {label[i]}\")\n",
    "    clf = DecisionTreeClassifier().fit(X_train[i], y_train[i])\n",
    "    print('Training set: {:.2f}'\n",
    "         .format(clf.score(X_train[i], y_train[i])))\n",
    "    print('Test set: {:.2f}'\n",
    "         .format(clf.score(X_test[i], y_test[i])))"
   ]
  },
  {
   "cell_type": "markdown",
   "id": "19e3a42b-1cf0-42a8-97ef-c5f79b3b3af3",
   "metadata": {},
   "source": [
    "### K-Nearest Neighbors"
   ]
  },
  {
   "cell_type": "code",
   "execution_count": 7,
   "id": "de42885b-d90c-4ba7-b332-9556f11590c9",
   "metadata": {},
   "outputs": [
    {
     "name": "stdout",
     "output_type": "stream",
     "text": [
      "Accuracy of K-NN classifier for Full Data\n",
      "Training set: 0.83\n",
      "Test set: 0.76\n",
      "Accuracy of K-NN classifier for PCA Data\n",
      "Training set: 0.77\n",
      "Test set: 0.64\n",
      "Accuracy of K-NN classifier for ICA Data\n",
      "Training set: 0.85\n",
      "Test set: 0.78\n"
     ]
    }
   ],
   "source": [
    "from sklearn.neighbors import KNeighborsClassifier\n",
    "\n",
    "for i in range(len(data)):\n",
    "    knn = KNeighborsClassifier().fit(X_train[i], y_train[i])\n",
    "\n",
    "    print(f\"Accuracy of K-NN classifier for {label[i]}\")\n",
    "    print('Training set: {:.2f}'\n",
    "         .format(knn.score(X_train[i], y_train[i])))\n",
    "    print('Test set: {:.2f}'\n",
    "         .format(knn.score(X_test[i], y_test[i])))"
   ]
  },
  {
   "cell_type": "markdown",
   "id": "ad79ff7b-7540-4b48-8979-bb081e3b697e",
   "metadata": {},
   "source": [
    "### Linear Discriminant Analysis"
   ]
  },
  {
   "cell_type": "code",
   "execution_count": 8,
   "id": "471bd212-3abc-4786-9533-5298e48f9106",
   "metadata": {},
   "outputs": [
    {
     "name": "stdout",
     "output_type": "stream",
     "text": [
      "Accuracy of LDA classifier for Full Data\n",
      "Training set: 0.87\n",
      "Test set: 0.82\n",
      "Accuracy of LDA classifier for PCA Data\n",
      "Training set: 0.87\n",
      "Test set: 0.82\n",
      "Accuracy of LDA classifier for ICA Data\n",
      "Training set: 0.79\n",
      "Test set: 0.78\n"
     ]
    }
   ],
   "source": [
    "from sklearn.discriminant_analysis import LinearDiscriminantAnalysis\n",
    "for i in range(len(data)):\n",
    "    lda = LinearDiscriminantAnalysis().fit(X_train[i], y_train[i])\n",
    "    print(f\"Accuracy of LDA classifier for {label[i]}\")\n",
    "    print('Training set: {:.2f}'\n",
    "         .format(lda.score(X_train[i], y_train[i])))\n",
    "    print('Test set: {:.2f}'\n",
    "         .format(lda.score(X_test[i], y_test[i])))"
   ]
  },
  {
   "cell_type": "markdown",
   "id": "64d229e4-eb8b-43a2-8fe6-b105b822674b",
   "metadata": {},
   "source": [
    "### Gaussian Naive Bayes"
   ]
  },
  {
   "cell_type": "code",
   "execution_count": 9,
   "id": "b8e65a9a-811e-4b6a-9819-53c474353b4e",
   "metadata": {},
   "outputs": [
    {
     "name": "stdout",
     "output_type": "stream",
     "text": [
      "Accuracy of GNB classifier for Full Data\n",
      "Training set: 0.62\n",
      "Test set: 0.58\n",
      "Accuracy of GNB classifier for PCA Data\n",
      "Training set: 0.59\n",
      "Test set: 0.56\n",
      "Accuracy of GNB classifier for ICA Data\n",
      "Training set: 0.68\n",
      "Test set: 0.64\n"
     ]
    }
   ],
   "source": [
    "from sklearn.naive_bayes import GaussianNB\n",
    "\n",
    "for i in range(len(data)):\n",
    "    gnb = GaussianNB().fit(X_train[i], y_train[i])\n",
    "    \n",
    "    print(f\"Accuracy of GNB classifier for {label[i]}\")\n",
    "    print('Training set: {:.2f}'\n",
    "         .format(gnb.score(X_train[i], y_train[i])))\n",
    "    print('Test set: {:.2f}'\n",
    "         .format(gnb.score(X_test[i], y_test[i])))"
   ]
  },
  {
   "cell_type": "markdown",
   "id": "b9c3972f-515b-48dc-a4c8-22557ef11699",
   "metadata": {},
   "source": [
    "### Support Vector Machine"
   ]
  },
  {
   "cell_type": "code",
   "execution_count": 10,
   "id": "47606e86-0675-48f4-a134-a71a9e815ecb",
   "metadata": {},
   "outputs": [
    {
     "name": "stdout",
     "output_type": "stream",
     "text": [
      "Accuracy of SVM classifier for Full Data\n",
      "Training set: 0.80\n",
      "Test set: 0.77\n",
      "Accuracy of SVM classifier for PCA Data\n",
      "Training set: 0.84\n",
      "Test set: 0.78\n",
      "Accuracy of SVM classifier for ICA Data\n",
      "Training set: 0.84\n",
      "Test set: 0.82\n"
     ]
    }
   ],
   "source": [
    "from sklearn.svm import SVC\n",
    "for i in range(len(data)):\n",
    "    svm = SVC(kernel='rbf').fit(X_train[i], y_train[i])\n",
    "\n",
    "    print(f\"Accuracy of SVM classifier for {label[i]}\")\n",
    "    print('Training set: {:.2f}'\n",
    "         .format(svm.score(X_train[i], y_train[i])))\n",
    "    print('Test set: {:.2f}'\n",
    "         .format(svm.score(X_test[i], y_test[i])))"
   ]
  },
  {
   "cell_type": "code",
   "execution_count": null,
   "id": "698d38ee-fa16-4dfc-a2cc-a2d1d84ae44d",
   "metadata": {},
   "outputs": [],
   "source": []
  }
 ],
 "metadata": {
  "kernelspec": {
   "display_name": "Python 3",
   "language": "python",
   "name": "python3"
  },
  "language_info": {
   "codemirror_mode": {
    "name": "ipython",
    "version": 3
   },
   "file_extension": ".py",
   "mimetype": "text/x-python",
   "name": "python",
   "nbconvert_exporter": "python",
   "pygments_lexer": "ipython3",
   "version": "3.8.9"
  }
 },
 "nbformat": 4,
 "nbformat_minor": 5
}
