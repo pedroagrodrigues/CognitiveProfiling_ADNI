{
 "cells": [
  {
   "cell_type": "markdown",
   "id": "attended-receiver",
   "metadata": {},
   "source": [
    "**Imports** - *External*"
   ]
  },
  {
   "cell_type": "code",
   "execution_count": 1,
   "id": "fixed-convert",
   "metadata": {},
   "outputs": [],
   "source": [
    "%matplotlib widget\n",
    "import warnings\n",
    "import numpy as np\n",
    "import pandas as pd\n",
    "import seaborn as sns\n",
    "import scipy\n",
    "from scipy.stats import pearsonr\n",
    "import matplotlib.pyplot as plt\n",
    "import common"
   ]
  },
  {
   "cell_type": "markdown",
   "id": "functional-prior",
   "metadata": {},
   "source": [
    "*Internal*"
   ]
  },
  {
   "cell_type": "code",
   "execution_count": 2,
   "id": "vanilla-faith",
   "metadata": {},
   "outputs": [],
   "source": [
    "from Data import Mmse # This file already has the data converted from string to numeric"
   ]
  },
  {
   "cell_type": "markdown",
   "id": "instructional-rochester",
   "metadata": {
    "tags": []
   },
   "source": [
    "**There are some errors while calculating the correlation, these are shown as warnigns. The next line will ignore these errors**"
   ]
  },
  {
   "cell_type": "code",
   "execution_count": 3,
   "id": "ignored-width",
   "metadata": {},
   "outputs": [
    {
     "data": {
      "text/plain": [
       "{'divide': 'warn', 'over': 'warn', 'under': 'ignore', 'invalid': 'warn'}"
      ]
     },
     "execution_count": 3,
     "metadata": {},
     "output_type": "execute_result"
    }
   ],
   "source": [
    "np.seterr(divide='ignore', invalid='ignore')"
   ]
  },
  {
   "cell_type": "markdown",
   "id": "compatible-newman",
   "metadata": {},
   "source": [
    "**The path used to save the correlation file is:**"
   ]
  },
  {
   "cell_type": "markdown",
   "id": "christian-spiritual",
   "metadata": {},
   "source": [
    "**Fnction used to calculate correlation between two columns where they both have some sort of value:**\n",
    "\n",
    "This function is using Pearson product-moment correlation coefficients:\n",
    "\n",
    "\\begin{equation}\n",
    "    R_{ij} = \\frac{ C_{ij} } { \\sqrt{ C_{ii} * C_{jj} } }\n",
    "\\end{equation}\n"
   ]
  },
  {
   "cell_type": "code",
   "execution_count": 4,
   "id": "celtic-nepal",
   "metadata": {
    "tags": []
   },
   "outputs": [],
   "source": [
    "def getCorrP(x, y):\n",
    "    xData = []\n",
    "    yData = []\n",
    "    for i in range(len(x)): # Both columns must have same size\n",
    "        if x[i] != '' and y[i] != '':\n",
    "            xData.append(float(x[i]))\n",
    "            yData.append(float(y[i]))\n",
    "    if len(xData) > 1:\n",
    "        return pearsonr(xData, yData)\n",
    "    return 0, 0\n",
    "    "
   ]
  },
  {
   "cell_type": "code",
   "execution_count": 5,
   "id": "progressive-morrison",
   "metadata": {},
   "outputs": [
    {
     "name": "stdout",
     "output_type": "stream",
     "text": [
      "MMSE ready!\n"
     ]
    }
   ],
   "source": [
    "data = Mmse().data\n",
    "\n",
    "unusedLables = ['Phase', 'ID', 'RID', 'SITEID', 'VISCODE']\n",
    "data = data.drop(columns=unusedLables)\n",
    "\n",
    "dataLabels = data.columns.values\n",
    "dataNumpy = data.to_numpy()\n",
    "\n",
    "correlations = pd.DataFrame(index=dataLabels, columns=dataLabels)\n",
    "\n",
    "pValues = pd.DataFrame(index=dataLabels, columns=dataLabels)\n",
    "\n",
    "tableCorrP = pd.DataFrame(columns=[\"Labels\", \"Correlation\", \"p_Value\"])\n",
    "\n",
    "\n",
    "\n",
    "\n",
    "for i in range(len(dataLabels)):\n",
    "    correlations.at[dataLabels[i], dataLabels[i]] = 1\n",
    "    pValues.at[dataLabels[i], dataLabels[i]] = 0\n",
    "    for j in range(i+1, len(dataLabels)):\n",
    "        p_r, p_p = getCorrP(dataNumpy[:, i], dataNumpy[:, j])\n",
    "        correlations.at[dataLabels[i], dataLabels[j]] = correlations.at[dataLabels[j], dataLabels[i]] = p_r\n",
    "        pValues.at[dataLabels[i], dataLabels[j]] = pValues.at[dataLabels[j], dataLabels[i]] = p_p\n",
    "        \n",
    "        tableCorrP = tableCorrP.append(dict(zip(tableCorrP.columns,[f\"{dataLabels[i]} -> {dataLabels[j]}\", p_r, p_p])), ignore_index = True)\n",
    "        \n",
    "        \n",
    "\n",
    "\n",
    " \n",
    "    \n",
    "    \n",
    "\n"
   ]
  },
  {
   "cell_type": "code",
   "execution_count": 6,
   "id": "dynamic-nation",
   "metadata": {},
   "outputs": [
    {
     "name": "stdout",
     "output_type": "stream",
     "text": [
      "               Labels  Correlation        p_Value\n",
      "0    MMDATE -> MMYEAR     0.454568   0.000000e+00\n",
      "1   MMDATE -> MMMONTH     0.482985   0.000000e+00\n",
      "2     MMDATE -> MMDAY     0.469111   0.000000e+00\n",
      "3  MMDATE -> MMSEASON     0.267771  9.051544e-199\n",
      "4  MMDATE -> MMHOSPIT     0.319725  3.915688e-287\n",
      "5   MMDATE -> MMFLOOR     0.353742   0.000000e+00\n",
      "6    MMDATE -> MMCITY     0.239923  8.314293e-159\n",
      "7    MMDATE -> MMAREA     0.260183  2.188130e-187\n",
      "8   MMDATE -> MMSTATE     0.182339   2.030427e-91\n",
      "9    MMDATE -> MMBALL    -0.056695   3.923856e-10\n"
     ]
    }
   ],
   "source": [
    "print(tableCorrP.head(10))"
   ]
  },
  {
   "cell_type": "code",
   "execution_count": 7,
   "id": "daily-campus",
   "metadata": {},
   "outputs": [],
   "source": [
    "aux = sns.color_palette(\"coolwarm\", as_cmap=True) #Changes the color of the graph"
   ]
  },
  {
   "cell_type": "markdown",
   "id": "large-budapest",
   "metadata": {
    "tags": []
   },
   "source": [
    "# Correlation"
   ]
  },
  {
   "cell_type": "code",
   "execution_count": 8,
   "id": "experienced-chemical",
   "metadata": {},
   "outputs": [
    {
     "data": {
      "application/vnd.jupyter.widget-view+json": {
       "model_id": "71950667fac54521abd262fb293aee43",
       "version_major": 2,
       "version_minor": 0
      },
      "text/plain": [
       "Canvas(toolbar=Toolbar(toolitems=[('Home', 'Reset original view', 'home', 'home'), ('Back', 'Back to previous …"
      ]
     },
     "metadata": {},
     "output_type": "display_data"
    },
    {
     "data": {
      "text/plain": [
       "<AxesSubplot:>"
      ]
     },
     "execution_count": 8,
     "metadata": {},
     "output_type": "execute_result"
    }
   ],
   "source": [
    "plt.close()\n",
    "sns.heatmap(np.ma.filled(correlations.astype(float), np.nan), annot=True, annot_kws={\"size\": 7}, xticklabels=correlations.columns, yticklabels=correlations.index, cmap=aux)"
   ]
  },
  {
   "cell_type": "markdown",
   "id": "champion-trance",
   "metadata": {},
   "source": [
    "# P_Values"
   ]
  },
  {
   "cell_type": "code",
   "execution_count": 9,
   "id": "superb-anthropology",
   "metadata": {},
   "outputs": [
    {
     "data": {
      "application/vnd.jupyter.widget-view+json": {
       "model_id": "eca4c755bfed4da39c7cbd823011df27",
       "version_major": 2,
       "version_minor": 0
      },
      "text/plain": [
       "Canvas(toolbar=Toolbar(toolitems=[('Home', 'Reset original view', 'home', 'home'), ('Back', 'Back to previous …"
      ]
     },
     "metadata": {},
     "output_type": "display_data"
    },
    {
     "data": {
      "text/plain": [
       "<AxesSubplot:>"
      ]
     },
     "execution_count": 9,
     "metadata": {},
     "output_type": "execute_result"
    }
   ],
   "source": [
    "plt.close()\n",
    "sns.heatmap(np.ma.filled(pValues.astype(float), np.nan), annot=True, annot_kws={\"size\": 7}, xticklabels=pValues.columns, yticklabels=pValues.index, cmap=aux)"
   ]
  }
 ],
 "metadata": {
  "kernelspec": {
   "display_name": "Python 3",
   "language": "python",
   "name": "python3"
  },
  "language_info": {
   "codemirror_mode": {
    "name": "ipython",
    "version": 3
   },
   "file_extension": ".py",
   "mimetype": "text/x-python",
   "name": "python",
   "nbconvert_exporter": "python",
   "pygments_lexer": "ipython3",
   "version": "3.8.9"
  }
 },
 "nbformat": 4,
 "nbformat_minor": 5
}
