{
 "cells": [
  {
   "cell_type": "markdown",
   "id": "929b9869-b4df-45a6-97f7-238b58d8214e",
   "metadata": {},
   "source": [
    "# Principal Component Analysis"
   ]
  },
  {
   "cell_type": "code",
   "execution_count": 3,
   "id": "138ff529-346e-4905-96c5-db3f70b9d1d7",
   "metadata": {},
   "outputs": [],
   "source": [
    "import pandas as pd \n",
    "import numpy as np\n",
    "import matplotlib.pyplot as plt\n",
    "from sklearn.decomposition import PCA\n",
    "from sklearn.preprocessing import StandardScaler\n",
    "%matplotlib widget\n",
    "import common"
   ]
  },
  {
   "cell_type": "code",
   "execution_count": 4,
   "id": "2b04f394-b37f-40c4-a8ce-1259fa9b844e",
   "metadata": {},
   "outputs": [],
   "source": [
    "data = common.loadFile(\"CleanedData\")"
   ]
  },
  {
   "cell_type": "markdown",
   "id": "5c1fba86-dce4-4150-9154-90263d23fa9f",
   "metadata": {},
   "source": [
    "Before we start we need to separate unused columns to the PCA. therefore, we are removing \"RID\" and \"VISCODE\" from the dataset. \n",
    "The column \"DX\" is our target and later will be represented on the Y axis of our graph"
   ]
  },
  {
   "cell_type": "code",
   "execution_count": 5,
   "id": "afd7f6bf-2611-4bef-99c2-e92a1f59a962",
   "metadata": {},
   "outputs": [],
   "source": [
    "y =  data.loc[:,['DX']].values\n",
    "patients = data.loc[:, [\"RID\"]].values\n",
    "\n",
    "# We can now clean the dataset dropping what will not be used\n",
    "x = data.drop([\"RID\", \"VISCODE\", \"DX\"], axis=1)"
   ]
  },
  {
   "cell_type": "markdown",
   "id": "d0921284-49e6-4db3-b406-2fefee40df58",
   "metadata": {},
   "source": [
    "Once done time to scale the data bringing mean to 0 and the variance to 1"
   ]
  },
  {
   "cell_type": "code",
   "execution_count": 6,
   "id": "5220c970-a5a9-433d-8cd6-7309098d69aa",
   "metadata": {},
   "outputs": [],
   "source": [
    "x = StandardScaler().fit_transform(x)\n",
    "# data = data.sample(frac=1).reset_index(drop=True) # In case you need to randomize the lines"
   ]
  },
  {
   "cell_type": "markdown",
   "id": "fe9d9799-921b-4a20-9cee-dd097ac806cf",
   "metadata": {},
   "source": [
    "PCA Projection"
   ]
  },
  {
   "cell_type": "code",
   "execution_count": 7,
   "id": "41c3f29b-95b0-430f-8e99-4484ee616a5d",
   "metadata": {},
   "outputs": [
    {
     "data": {
      "text/html": [
       "<div>\n",
       "<style scoped>\n",
       "    .dataframe tbody tr th:only-of-type {\n",
       "        vertical-align: middle;\n",
       "    }\n",
       "\n",
       "    .dataframe tbody tr th {\n",
       "        vertical-align: top;\n",
       "    }\n",
       "\n",
       "    .dataframe thead th {\n",
       "        text-align: right;\n",
       "    }\n",
       "</style>\n",
       "<table border=\"1\" class=\"dataframe\">\n",
       "  <thead>\n",
       "    <tr style=\"text-align: right;\">\n",
       "      <th></th>\n",
       "      <th>principal component 1</th>\n",
       "      <th>principal component 2</th>\n",
       "      <th>principal component 3</th>\n",
       "      <th>principal component 4</th>\n",
       "      <th>principal component 5</th>\n",
       "      <th>principal component 6</th>\n",
       "      <th>principal component 7</th>\n",
       "      <th>principal component 8</th>\n",
       "      <th>principal component 9</th>\n",
       "      <th>principal component 10</th>\n",
       "      <th>DX</th>\n",
       "    </tr>\n",
       "  </thead>\n",
       "  <tbody>\n",
       "    <tr>\n",
       "      <th>0</th>\n",
       "      <td>-2.010043</td>\n",
       "      <td>0.092752</td>\n",
       "      <td>2.230220</td>\n",
       "      <td>0.362468</td>\n",
       "      <td>1.423488</td>\n",
       "      <td>3.325878</td>\n",
       "      <td>0.033419</td>\n",
       "      <td>-0.362680</td>\n",
       "      <td>-1.320133</td>\n",
       "      <td>0.513975</td>\n",
       "      <td>1</td>\n",
       "    </tr>\n",
       "    <tr>\n",
       "      <th>1</th>\n",
       "      <td>-1.001153</td>\n",
       "      <td>-1.625148</td>\n",
       "      <td>5.468004</td>\n",
       "      <td>-0.112870</td>\n",
       "      <td>1.165410</td>\n",
       "      <td>2.105341</td>\n",
       "      <td>0.547053</td>\n",
       "      <td>0.878741</td>\n",
       "      <td>0.446150</td>\n",
       "      <td>-0.372421</td>\n",
       "      <td>1</td>\n",
       "    </tr>\n",
       "    <tr>\n",
       "      <th>2</th>\n",
       "      <td>-0.034755</td>\n",
       "      <td>-0.547715</td>\n",
       "      <td>5.905928</td>\n",
       "      <td>-0.831589</td>\n",
       "      <td>1.339325</td>\n",
       "      <td>1.228721</td>\n",
       "      <td>1.725662</td>\n",
       "      <td>1.048602</td>\n",
       "      <td>0.332997</td>\n",
       "      <td>0.273529</td>\n",
       "      <td>1</td>\n",
       "    </tr>\n",
       "    <tr>\n",
       "      <th>3</th>\n",
       "      <td>-3.088482</td>\n",
       "      <td>-3.483007</td>\n",
       "      <td>0.804803</td>\n",
       "      <td>1.185235</td>\n",
       "      <td>1.162946</td>\n",
       "      <td>0.894524</td>\n",
       "      <td>-1.034714</td>\n",
       "      <td>1.050683</td>\n",
       "      <td>0.904149</td>\n",
       "      <td>-0.239758</td>\n",
       "      <td>1</td>\n",
       "    </tr>\n",
       "    <tr>\n",
       "      <th>4</th>\n",
       "      <td>-1.344012</td>\n",
       "      <td>-3.640980</td>\n",
       "      <td>1.988552</td>\n",
       "      <td>1.592320</td>\n",
       "      <td>3.034250</td>\n",
       "      <td>1.548755</td>\n",
       "      <td>-1.875531</td>\n",
       "      <td>-0.165516</td>\n",
       "      <td>1.101030</td>\n",
       "      <td>0.148524</td>\n",
       "      <td>1</td>\n",
       "    </tr>\n",
       "  </tbody>\n",
       "</table>\n",
       "</div>"
      ],
      "text/plain": [
       "   principal component 1  principal component 2  principal component 3  \\\n",
       "0              -2.010043               0.092752               2.230220   \n",
       "1              -1.001153              -1.625148               5.468004   \n",
       "2              -0.034755              -0.547715               5.905928   \n",
       "3              -3.088482              -3.483007               0.804803   \n",
       "4              -1.344012              -3.640980               1.988552   \n",
       "\n",
       "   principal component 4  principal component 5  principal component 6  \\\n",
       "0               0.362468               1.423488               3.325878   \n",
       "1              -0.112870               1.165410               2.105341   \n",
       "2              -0.831589               1.339325               1.228721   \n",
       "3               1.185235               1.162946               0.894524   \n",
       "4               1.592320               3.034250               1.548755   \n",
       "\n",
       "   principal component 7  principal component 8  principal component 9  \\\n",
       "0               0.033419              -0.362680              -1.320133   \n",
       "1               0.547053               0.878741               0.446150   \n",
       "2               1.725662               1.048602               0.332997   \n",
       "3              -1.034714               1.050683               0.904149   \n",
       "4              -1.875531              -0.165516               1.101030   \n",
       "\n",
       "   principal component 10 DX  \n",
       "0                0.513975  1  \n",
       "1               -0.372421  1  \n",
       "2                0.273529  1  \n",
       "3               -0.239758  1  \n",
       "4                0.148524  1  "
      ]
     },
     "execution_count": 7,
     "metadata": {},
     "output_type": "execute_result"
    }
   ],
   "source": [
    "pca = PCA(n_components=10)\n",
    "principalComponents = pca.fit_transform(x)\n",
    "principalDf = pd.DataFrame(data = principalComponents,  columns = ['principal component 1', 'principal component 2', \n",
    "                                                                   'principal component 3', 'principal component 4',\n",
    "                                                                   'principal component 5', 'principal component 6',\n",
    "                                                                   'principal component 7', 'principal component 8',\n",
    "                                                                   'principal component 9', 'principal component 10'])\n",
    "finalDf = pd.concat([principalDf, data[['DX']]], axis = 1)\n",
    "finalDf.head(5)"
   ]
  },
  {
   "cell_type": "code",
   "execution_count": 8,
   "id": "d3de08bc-0031-482a-956a-b83fa25c5b75",
   "metadata": {},
   "outputs": [
    {
     "data": {
      "application/vnd.jupyter.widget-view+json": {
       "model_id": "e441b32cfa65434e992472b01fb4372f",
       "version_major": 2,
       "version_minor": 0
      },
      "text/plain": [
       "Canvas(toolbar=Toolbar(toolitems=[('Home', 'Reset original view', 'home', 'home'), ('Back', 'Back to previous …"
      ]
     },
     "metadata": {},
     "output_type": "display_data"
    }
   ],
   "source": [
    "plt.close()\n",
    "fig = plt.figure(figsize = (8,8))\n",
    "ax = fig.add_subplot(1,1,1) \n",
    "ax.set_xlabel('Principal Component 1', fontsize = 15)\n",
    "ax.set_ylabel('Principal Component 2', fontsize = 15)\n",
    "ax.set_title('2 Component PCA', fontsize = 20)\n",
    "\n",
    "\n",
    "targets = [0, 1, 2]\n",
    "colors = ['r', 'y', 'b']\n",
    "for target, color in zip(targets, colors):\n",
    "    indicesToKeep = finalDf['DX'] == target\n",
    "    ax.scatter(finalDf.loc[indicesToKeep, 'principal component 1']\n",
    "               , finalDf.loc[indicesToKeep, 'principal component 2']\n",
    "               , c = color\n",
    "               , s = 50)\n",
    "    \n",
    "ax.legend(['CN', 'MCI', 'Dementia'])\n",
    "ax.grid()"
   ]
  },
  {
   "cell_type": "code",
   "execution_count": 9,
   "id": "78606f1a-9401-4cc4-8a9b-ee60dda3efa9",
   "metadata": {},
   "outputs": [
    {
     "data": {
      "text/plain": [
       "array([0.18543   , 0.05538921, 0.03611538, 0.02198693, 0.01527396,\n",
       "       0.01361526, 0.01250761, 0.01248018, 0.01137561, 0.01056115])"
      ]
     },
     "execution_count": 9,
     "metadata": {},
     "output_type": "execute_result"
    }
   ],
   "source": [
    "pca.explained_variance_ratio_\n"
   ]
  },
  {
   "cell_type": "code",
   "execution_count": 10,
   "id": "8a72f951-7def-4032-8f74-29a09775edca",
   "metadata": {},
   "outputs": [
    {
     "data": {
      "application/vnd.jupyter.widget-view+json": {
       "model_id": "164187d285a448c085c6a8a8567c73c2",
       "version_major": 2,
       "version_minor": 0
      },
      "text/plain": [
       "Canvas(toolbar=Toolbar(toolitems=[('Home', 'Reset original view', 'home', 'home'), ('Back', 'Back to previous …"
      ]
     },
     "metadata": {},
     "output_type": "display_data"
    }
   ],
   "source": [
    "plt.close()\n",
    "fig = plt.figure(figsize = (8,8))\n",
    "ax = fig.add_subplot(1,1,1) \n",
    "ax.set_xlabel('Principal Component 4', fontsize = 15)\n",
    "ax.set_ylabel('Principal Component 5', fontsize = 15)\n",
    "ax.set_title('2 Component PCA', fontsize = 20)\n",
    "\n",
    "\n",
    "targets = [0, 1, 2]\n",
    "colors = ['r', 'y', 'b']\n",
    "for target, color in zip(targets, colors):\n",
    "    indicesToKeep = finalDf['DX'] == target\n",
    "    ax.scatter(finalDf.loc[indicesToKeep, 'principal component 4']\n",
    "               , finalDf.loc[indicesToKeep, 'principal component 5']\n",
    "               , c = color\n",
    "               , s = 50)\n",
    "    \n",
    "ax.legend(['CN', 'MCI', 'Dementia'])\n",
    "ax.grid()"
   ]
  },
  {
   "cell_type": "code",
   "execution_count": 11,
   "id": "831c6b7d-caf1-4095-92ab-0921ab868a57",
   "metadata": {},
   "outputs": [
    {
     "data": {
      "application/vnd.jupyter.widget-view+json": {
       "model_id": "158593d61af441c9ac10432f174f4acb",
       "version_major": 2,
       "version_minor": 0
      },
      "text/plain": [
       "Canvas(toolbar=Toolbar(toolitems=[('Home', 'Reset original view', 'home', 'home'), ('Back', 'Back to previous …"
      ]
     },
     "metadata": {},
     "output_type": "display_data"
    }
   ],
   "source": [
    "plt.close()\n",
    "fig = plt.figure()\n",
    "#ax = fig.add_subplot(1,1,1) \n",
    "ax = plt.axes(projection='3d')\n",
    "\n",
    "ax.set_xlabel('Principal Component 1', fontsize=12)\n",
    "ax.set_ylabel('Principal Component 2', fontsize=12)\n",
    "ax.set_zlabel('Principal Component 3', fontsize=12)\n",
    "ax.set_title('3 Component PCA', fontsize = 20)\n",
    "\n",
    "targets = [0, 1, 2]\n",
    "colors = ['r', 'y', 'b']\n",
    "for target, color in zip(targets, colors):\n",
    "    indicesToKeep = finalDf['DX'] == target\n",
    "    ax.scatter(finalDf.loc[indicesToKeep, 'principal component 1']\n",
    "               , finalDf.loc[indicesToKeep, 'principal component 2']\n",
    "               , finalDf.loc[indicesToKeep, 'principal component 3']\n",
    "               , c = color\n",
    "               , s = 50)\n",
    "    \n",
    "ax.legend(['CN', 'MCI', 'Dementia'])\n",
    "ax.grid()"
   ]
  }
 ],
 "metadata": {
  "kernelspec": {
   "display_name": "Python 3",
   "language": "python",
   "name": "python3"
  },
  "language_info": {
   "codemirror_mode": {
    "name": "ipython",
    "version": 3
   },
   "file_extension": ".py",
   "mimetype": "text/x-python",
   "name": "python",
   "nbconvert_exporter": "python",
   "pygments_lexer": "ipython3",
   "version": "3.8.9"
  }
 },
 "nbformat": 4,
 "nbformat_minor": 5
}
