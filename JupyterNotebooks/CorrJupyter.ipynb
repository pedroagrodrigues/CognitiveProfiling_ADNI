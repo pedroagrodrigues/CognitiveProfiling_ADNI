{
 "cells": [
  {
   "cell_type": "markdown",
   "id": "closed-modem",
   "metadata": {},
   "source": [
    "# Correlations"
   ]
  },
  {
   "cell_type": "markdown",
   "id": "behavioral-yacht",
   "metadata": {},
   "source": [
    "**Imports** - *External*"
   ]
  },
  {
   "cell_type": "code",
   "execution_count": 1,
   "id": "preceding-niger",
   "metadata": {},
   "outputs": [],
   "source": [
    "%matplotlib widget\n",
    "import warnings\n",
    "import numpy as np\n",
    "import pandas as pd\n",
    "import seaborn as sns\n",
    "import scipy\n",
    "from scipy.stats import pearsonr\n",
    "import matplotlib.pyplot as plt\n",
    "import common"
   ]
  },
  {
   "cell_type": "markdown",
   "id": "strong-charlotte",
   "metadata": {},
   "source": [
    "*Internal*"
   ]
  },
  {
   "cell_type": "code",
   "execution_count": 2,
   "id": "860032f5",
   "metadata": {},
   "outputs": [],
   "source": [
    "from Data import Merge"
   ]
  },
  {
   "cell_type": "code",
   "execution_count": 3,
   "id": "acute-stuart",
   "metadata": {},
   "outputs": [
    {
     "data": {
      "text/plain": [
       "{'divide': 'warn', 'over': 'warn', 'under': 'ignore', 'invalid': 'warn'}"
      ]
     },
     "execution_count": 3,
     "metadata": {},
     "output_type": "execute_result"
    }
   ],
   "source": [
    "np.seterr(divide='ignore', invalid='ignore')"
   ]
  },
  {
   "cell_type": "markdown",
   "id": "amino-providence",
   "metadata": {},
   "source": [
    "**The path used to save the correlation file is:**"
   ]
  },
  {
   "cell_type": "code",
   "execution_count": 4,
   "id": "pretty-meditation",
   "metadata": {},
   "outputs": [],
   "source": [
    "path = None"
   ]
  },
  {
   "cell_type": "markdown",
   "id": "freelance-world",
   "metadata": {},
   "source": [
    "**Fnction used to calculate correlation between two columns where they both have some sort of value:**\n",
    "\n",
    "This function is using Pearson product-moment correlation coefficients:\n",
    "\n",
    "\\begin{equation}\n",
    "    R_{ij} = \\frac{ C_{ij} } { \\sqrt{ C_{ii} * C_{jj} } }\n",
    "\\end{equation}\n"
   ]
  },
  {
   "cell_type": "code",
   "execution_count": 5,
   "id": "demanding-spell",
   "metadata": {},
   "outputs": [],
   "source": [
    "def getCorr(x, y):\n",
    "    xData = []\n",
    "    yData = []\n",
    "    for i in range(len(x)): # Both columns must have same size\n",
    "        if x[i] != '' and y[i] != '':\n",
    "            xData.append(float(x[i]))\n",
    "            yData.append(float(y[i]))\n",
    "    xData = np.array(xData)\n",
    "    yData = np.array(yData)\n",
    "    return np.corrcoef(xData, yData)[0, 1]"
   ]
  },
  {
   "cell_type": "markdown",
   "id": "cooperative-shock",
   "metadata": {},
   "source": [
    "Load the data:"
   ]
  },
  {
   "cell_type": "code",
   "execution_count": 6,
   "id": "selected-truth",
   "metadata": {},
   "outputs": [
    {
     "name": "stdout",
     "output_type": "stream",
     "text": [
      "Ready!\n"
     ]
    }
   ],
   "source": [
    "\n",
    "data = Merge().data\n",
    "data = data.drop('VISCODE', axis=1)\n",
    "dataLabels = data.columns.values\n",
    "dataNumpy = data.to_numpy()\n",
    "\n",
    "correlations = pd.DataFrame(index=dataLabels, columns=dataLabels)\n",
    "\n",
    "for i in range(len(dataLabels)):\n",
    "    correlations.at[dataLabels[i], dataLabels[i]] = 1\n",
    "\n",
    "    # The next two lines ignore all warnings within this category\n",
    "    with warnings.catch_warnings():\n",
    "        warnings.simplefilter(\"ignore\", category=RuntimeWarning)\n",
    "\n",
    "        for j in range(i+1, len(dataLabels)):\n",
    "            corr = getCorr(dataNumpy[:, i], dataNumpy[:, j])\n",
    "            correlations.at[dataLabels[i], dataLabels[j]] = correlations.at[dataLabels[j], dataLabels[i]] = 0 if np.isnan(corr) else abs(corr)\n",
    "            \n"
   ]
  },
  {
   "cell_type": "markdown",
   "id": "juvenile-classroom",
   "metadata": {},
   "source": [
    "Here we will proceed to the configuration of the **seaborn** heatmap."
   ]
  },
  {
   "cell_type": "code",
   "execution_count": 7,
   "id": "developed-rebecca",
   "metadata": {},
   "outputs": [],
   "source": [
    "aux = sns.color_palette(\"coolwarm\", as_cmap=True)"
   ]
  },
  {
   "cell_type": "code",
   "execution_count": 8,
   "id": "oriented-nickname",
   "metadata": {},
   "outputs": [
    {
     "data": {
      "application/vnd.jupyter.widget-view+json": {
       "model_id": "684b122fe08e44739b7405f9da39d757",
       "version_major": 2,
       "version_minor": 0
      },
      "text/plain": [
       "Canvas(toolbar=Toolbar(toolitems=[('Home', 'Reset original view', 'home', 'home'), ('Back', 'Back to previous …"
      ]
     },
     "metadata": {},
     "output_type": "display_data"
    },
    {
     "data": {
      "text/plain": [
       "<AxesSubplot:title={'center':'Correlations'}>"
      ]
     },
     "execution_count": 8,
     "metadata": {},
     "output_type": "execute_result"
    }
   ],
   "source": [
    "plt.close()\n",
    "plt.title('Correlations')\n",
    "\n",
    "sns.heatmap(np.ma.filled(correlations.astype(float), np.nan), annot=True, annot_kws={\"size\": 7}, xticklabels=correlations.columns, yticklabels=correlations.index, cmap=aux)"
   ]
  },
  {
   "cell_type": "code",
   "execution_count": 9,
   "id": "brilliant-reference",
   "metadata": {
    "tags": []
   },
   "outputs": [],
   "source": [
    "def getCorrP(x, y):\n",
    "    xData = []\n",
    "    yData = []\n",
    "    for i in range(len(x)): # Both columns must have same size\n",
    "        if x[i] != '' and y[i] != '':\n",
    "            xData.append(float(x[i]))\n",
    "            yData.append(float(y[i]))\n",
    "    if len(xData) > 1:\n",
    "        return pearsonr(xData, yData)\n",
    "    return 0, 0\n",
    "    "
   ]
  },
  {
   "cell_type": "code",
   "execution_count": 10,
   "id": "suspected-techno",
   "metadata": {},
   "outputs": [
    {
     "name": "stdout",
     "output_type": "stream",
     "text": [
      "Ready!\n"
     ]
    }
   ],
   "source": [
    "data = Merge().data\n",
    "data = data.drop('VISCODE', axis=1)\n",
    "\n",
    "dataLabels = data.columns.values\n",
    "dataNumpy = data.to_numpy()\n",
    "\n",
    "correlations = pd.DataFrame(index=dataLabels, columns=dataLabels)\n",
    "\n",
    "pValues = pd.DataFrame(index=dataLabels, columns=dataLabels)\n",
    "\n",
    "tableCorrP = pd.DataFrame(columns=[\"Labels\", \"Correlation\", \"p_Value\"])\n",
    "#getCorrP(dataNumpy[:, 2], dataNumpy[:,5])\n",
    "\n",
    "\n",
    "\n",
    "for i in range(len(dataLabels)):\n",
    "    correlations.at[dataLabels[i], dataLabels[i]] = 1\n",
    "    pValues.at[dataLabels[i], dataLabels[i]] = 0\n",
    "    for j in range(i+1, len(dataLabels)):\n",
    "        p_r, p_p = getCorrP(dataNumpy[:, i], dataNumpy[:, j])\n",
    "        correlations.at[dataLabels[i], dataLabels[j]] = correlations.at[dataLabels[j], dataLabels[i]] = p_r\n",
    "        pValues.at[dataLabels[i], dataLabels[j]] = pValues.at[dataLabels[j], dataLabels[i]] = p_p\n",
    "        \n",
    "        tableCorrP = tableCorrP.append(dict(zip(tableCorrP.columns,[f\"{dataLabels[i]} -> {dataLabels[j]}\", p_r, p_p])), ignore_index = True)\n",
    "        "
   ]
  },
  {
   "cell_type": "code",
   "execution_count": 11,
   "id": "humanitarian-niagara",
   "metadata": {},
   "outputs": [
    {
     "name": "stdout",
     "output_type": "stream",
     "text": [
      "                      Labels  Correlation        p_Value\n",
      "0            AGE -> PTGENDER     0.103754   2.251946e-37\n",
      "1            AGE -> PTEDUCAT    -0.057173   2.117660e-12\n",
      "2               AGE -> CDRSB     0.074271   9.850352e-15\n",
      "3              AGE -> ADAS11     0.093143   6.334783e-22\n",
      "4              AGE -> ADAS13     0.125313   3.875457e-38\n",
      "..                       ...          ...            ...\n",
      "95  PTEDUCAT -> mPACCtrailsB     0.211085  8.617712e-108\n",
      "96           CDRSB -> ADAS11     0.792149   0.000000e+00\n",
      "97           CDRSB -> ADAS13     0.794537   0.000000e+00\n",
      "98           CDRSB -> ADASQ4     0.648401   0.000000e+00\n",
      "99             CDRSB -> MMSE    -0.804030   0.000000e+00\n",
      "\n",
      "[100 rows x 3 columns]\n"
     ]
    }
   ],
   "source": [
    "print(tableCorrP.head(100))"
   ]
  },
  {
   "cell_type": "markdown",
   "id": "civilian-smart",
   "metadata": {},
   "source": [
    "# Correlations"
   ]
  },
  {
   "cell_type": "code",
   "execution_count": 12,
   "id": "great-issue",
   "metadata": {},
   "outputs": [
    {
     "data": {
      "application/vnd.jupyter.widget-view+json": {
       "model_id": "6ca0c9b54f0346cb88080692b4926c8b",
       "version_major": 2,
       "version_minor": 0
      },
      "text/plain": [
       "Canvas(toolbar=Toolbar(toolitems=[('Home', 'Reset original view', 'home', 'home'), ('Back', 'Back to previous …"
      ]
     },
     "metadata": {},
     "output_type": "display_data"
    },
    {
     "data": {
      "text/plain": [
       "<AxesSubplot:>"
      ]
     },
     "execution_count": 12,
     "metadata": {},
     "output_type": "execute_result"
    }
   ],
   "source": [
    "plt.close()\n",
    "sns.heatmap(np.ma.filled(correlations.astype(float), np.nan), annot=True, annot_kws={\"size\": 7}, xticklabels=correlations.columns, yticklabels=correlations.index, cmap=aux)"
   ]
  },
  {
   "cell_type": "markdown",
   "id": "refined-twist",
   "metadata": {},
   "source": [
    "# P_Values"
   ]
  },
  {
   "cell_type": "code",
   "execution_count": 13,
   "id": "necessary-memphis",
   "metadata": {},
   "outputs": [
    {
     "data": {
      "application/vnd.jupyter.widget-view+json": {
       "model_id": "5067319a5fb5493e9f6ac38f0fcb5848",
       "version_major": 2,
       "version_minor": 0
      },
      "text/plain": [
       "Canvas(toolbar=Toolbar(toolitems=[('Home', 'Reset original view', 'home', 'home'), ('Back', 'Back to previous …"
      ]
     },
     "metadata": {},
     "output_type": "display_data"
    },
    {
     "data": {
      "text/plain": [
       "<AxesSubplot:title={'center':'p Values'}>"
      ]
     },
     "execution_count": 13,
     "metadata": {},
     "output_type": "execute_result"
    }
   ],
   "source": [
    "plt.close()\n",
    "plt.title('p Values')\n",
    "sns.heatmap(np.ma.filled(pValues.astype(float), np.nan), annot=True, annot_kws={\"size\": 7}, xticklabels=pValues.columns, yticklabels=pValues.index, cmap=aux)"
   ]
  },
  {
   "cell_type": "markdown",
   "id": "sized-cover",
   "metadata": {},
   "source": [
    "## Correlations filtered by p Value"
   ]
  },
  {
   "cell_type": "code",
   "execution_count": 14,
   "id": "relevant-relations",
   "metadata": {},
   "outputs": [],
   "source": [
    "pFilter = 0.05 #Max value"
   ]
  },
  {
   "cell_type": "code",
   "execution_count": 15,
   "id": "friendly-intention",
   "metadata": {},
   "outputs": [],
   "source": [
    "mask = pd.DataFrame(index=dataLabels, columns=dataLabels)\n",
    "\n",
    "for i in range(len(dataLabels)):\n",
    "    mask.at[dataLabels[i], dataLabels[i]] = False\n",
    "    for j in range(i+1, len(dataLabels)):\n",
    "        if pValues.at[dataLabels[i], dataLabels[j]] >= pFilter:\n",
    "            mask.at[dataLabels[i], dataLabels[j]] = mask.at[dataLabels[j], dataLabels[i]] = True\n",
    "        else:\n",
    "            mask.at[dataLabels[i], dataLabels[j]] = mask.at[dataLabels[j], dataLabels[i]] = False\n",
    "\n",
    "mask = mask.to_numpy()"
   ]
  },
  {
   "cell_type": "code",
   "execution_count": 16,
   "id": "sudden-correspondence",
   "metadata": {},
   "outputs": [
    {
     "data": {
      "application/vnd.jupyter.widget-view+json": {
       "model_id": "a12b8e3bfb78455e95700cbd0920cdfe",
       "version_major": 2,
       "version_minor": 0
      },
      "text/plain": [
       "Canvas(toolbar=Toolbar(toolitems=[('Home', 'Reset original view', 'home', 'home'), ('Back', 'Back to previous …"
      ]
     },
     "metadata": {},
     "output_type": "display_data"
    },
    {
     "data": {
      "text/plain": [
       "<AxesSubplot:title={'center':'Correlations filtered by p Value'}>"
      ]
     },
     "execution_count": 16,
     "metadata": {},
     "output_type": "execute_result"
    }
   ],
   "source": [
    "plt.close()\n",
    "aux = sns.color_palette(\"coolwarm\", as_cmap=True)\n",
    "plt.title('Correlations filtered by p Value')\n",
    "sns.heatmap(np.ma.filled(correlations.astype(float), np.nan), annot=True, annot_kws={\"size\": 7}, xticklabels=correlations.columns, yticklabels=correlations.index, cmap=aux, mask=mask)"
   ]
  },
  {
   "cell_type": "markdown",
   "id": "filled-affect",
   "metadata": {},
   "source": [
    "## Bonferroni Correction"
   ]
  },
  {
   "cell_type": "code",
   "execution_count": 17,
   "id": "dress-national",
   "metadata": {},
   "outputs": [],
   "source": [
    "mask = pd.DataFrame(index=dataLabels, columns=dataLabels)\n",
    "\n",
    "for i in range(len(dataLabels)):\n",
    "    mask.at[dataLabels[i], dataLabels[i]] = False\n",
    "    for j in range(i+1, len(dataLabels)):\n",
    "        if pValues.at[dataLabels[i], dataLabels[j]] >= pFilter/(len(dataLabels)**2):\n",
    "            mask.at[dataLabels[i], dataLabels[j]] = mask.at[dataLabels[j], dataLabels[i]] = True  #Hide\n",
    "        else:\n",
    "            mask.at[dataLabels[i], dataLabels[j]] = mask.at[dataLabels[j], dataLabels[i]] = False\n",
    "\n",
    "mask = mask.to_numpy()"
   ]
  },
  {
   "cell_type": "code",
   "execution_count": 18,
   "id": "following-textbook",
   "metadata": {},
   "outputs": [
    {
     "data": {
      "application/vnd.jupyter.widget-view+json": {
       "model_id": "5f4a604a7f80415888097df411cd0880",
       "version_major": 2,
       "version_minor": 0
      },
      "text/plain": [
       "Canvas(toolbar=Toolbar(toolitems=[('Home', 'Reset original view', 'home', 'home'), ('Back', 'Back to previous …"
      ]
     },
     "metadata": {},
     "output_type": "display_data"
    },
    {
     "data": {
      "text/plain": [
       "<AxesSubplot:title={'center':'Bonferroni Correction'}>"
      ]
     },
     "execution_count": 18,
     "metadata": {},
     "output_type": "execute_result"
    }
   ],
   "source": [
    "plt.close()\n",
    "aux = sns.color_palette(\"coolwarm\", as_cmap=True)\n",
    "plt.title('Bonferroni Correction')\n",
    "sns.heatmap(np.ma.filled(correlations.astype(float), np.nan), annot=True, annot_kws={\"size\": 7}, xticklabels=correlations.columns, yticklabels=correlations.index, cmap=aux, mask=mask)"
   ]
  },
  {
   "cell_type": "markdown",
   "id": "coupled-storm",
   "metadata": {},
   "source": [
    "## Correlações acima de 60% e Filtro de Bonferroni Correction"
   ]
  },
  {
   "cell_type": "code",
   "execution_count": 19,
   "id": "refined-covering",
   "metadata": {},
   "outputs": [],
   "source": [
    "corrFilter = 0.6"
   ]
  },
  {
   "cell_type": "code",
   "execution_count": 20,
   "id": "together-drill",
   "metadata": {},
   "outputs": [],
   "source": [
    "mask = pd.DataFrame(index=dataLabels, columns=dataLabels)\n",
    "\n",
    "for i in range(len(dataLabels)):\n",
    "    mask.at[dataLabels[i], dataLabels[i]] = False\n",
    "    for j in range(i+1, len(dataLabels)):\n",
    "        if pValues.at[dataLabels[i], dataLabels[j]] >= pFilter/(len(dataLabels)**2) or abs(correlations.at[dataLabels[i], dataLabels[j]]) < corrFilter:\n",
    "            mask.at[dataLabels[i], dataLabels[j]] = mask.at[dataLabels[j], dataLabels[i]] = True  #Hide\n",
    "        else:\n",
    "            mask.at[dataLabels[i], dataLabels[j]] = mask.at[dataLabels[j], dataLabels[i]] = False\n",
    "\n",
    "mask = mask.to_numpy()"
   ]
  },
  {
   "cell_type": "code",
   "execution_count": 21,
   "id": "celtic-forwarding",
   "metadata": {},
   "outputs": [
    {
     "data": {
      "application/vnd.jupyter.widget-view+json": {
       "model_id": "07ae1f8f75db404285bd15d703d39d36",
       "version_major": 2,
       "version_minor": 0
      },
      "text/plain": [
       "Canvas(toolbar=Toolbar(toolitems=[('Home', 'Reset original view', 'home', 'home'), ('Back', 'Back to previous …"
      ]
     },
     "metadata": {},
     "output_type": "display_data"
    },
    {
     "data": {
      "text/plain": [
       "<AxesSubplot:title={'center':'Correlation >60% with Bonferroni Correction Filter'}>"
      ]
     },
     "execution_count": 21,
     "metadata": {},
     "output_type": "execute_result"
    }
   ],
   "source": [
    "plt.close()\n",
    "aux = sns.color_palette(\"coolwarm\", as_cmap=True)\n",
    "plt.title('Correlation >60% with Bonferroni Correction Filter')\n",
    "sns.heatmap(np.ma.filled(correlations.astype(float), np.nan), annot=True, annot_kws={\"size\": 7}, xticklabels=correlations.columns, yticklabels=correlations.index, cmap=aux, mask=mask,  linewidths=0.5, linecolor='gray')"
   ]
  }
 ],
 "metadata": {
  "kernelspec": {
   "display_name": "Python 3",
   "language": "python",
   "name": "python3"
  },
  "language_info": {
   "codemirror_mode": {
    "name": "ipython",
    "version": 3
   },
   "file_extension": ".py",
   "mimetype": "text/x-python",
   "name": "python",
   "nbconvert_exporter": "python",
   "pygments_lexer": "ipython3",
   "version": "3.8.9"
  }
 },
 "nbformat": 4,
 "nbformat_minor": 5
}
