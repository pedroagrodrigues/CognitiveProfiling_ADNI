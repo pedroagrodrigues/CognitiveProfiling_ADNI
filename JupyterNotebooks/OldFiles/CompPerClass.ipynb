{
 "cells": [
  {
   "cell_type": "code",
   "execution_count": 1,
   "id": "fa77efec-4f8a-4196-bd2d-21685880c59f",
   "metadata": {},
   "outputs": [],
   "source": [
    "import pandas as pd \n",
    "import numpy as np\n",
    "import math\n",
    "import seaborn as sns\n",
    "import matplotlib.pyplot as plt\n",
    "%matplotlib widget\n",
    "\n",
    "from sklearn.model_selection import train_test_split\n",
    "from sklearn.preprocessing import MinMaxScaler\n",
    "\n",
    "import common\n",
    "\n",
    "# Loading Datasets\n",
    "data = common.loadFile(\"CleanedData\").drop([\"RID\", \"VISCODE\"], axis=1)\n",
    "                                           \n",
    "#Classifiers\n",
    "from sklearn.tree import DecisionTreeClassifier\n",
    "from sklearn.neighbors import KNeighborsClassifier\n",
    "from sklearn.discriminant_analysis import LinearDiscriminantAnalysis\n",
    "from sklearn.naive_bayes import GaussianNB\n",
    "from sklearn.svm import SVC\n",
    "\n",
    "#Analysis\n",
    "from sklearn.decomposition import FastICA\n",
    "\n",
    "# Testing\n",
    "import warnings"
   ]
  },
  {
   "cell_type": "markdown",
   "id": "dfd72db6-8a46-4f8b-9730-be6173c4d075",
   "metadata": {},
   "source": [
    "# Component per Classification"
   ]
  },
  {
   "cell_type": "markdown",
   "id": "01c5e9c1-2a94-4472-8736-2a786a68ce0c",
   "metadata": {},
   "source": [
    "The goal here is to know how many components we should use. "
   ]
  },
  {
   "cell_type": "code",
   "execution_count": 2,
   "id": "0b63428a-380a-429b-b374-d902c9600806",
   "metadata": {},
   "outputs": [
    {
     "data": {
      "application/vnd.jupyter.widget-view+json": {
       "model_id": "d82b9e30153b46629a5a569e7c9f2a67",
       "version_major": 2,
       "version_minor": 0
      },
      "text/plain": [
       "Canvas(toolbar=Toolbar(toolitems=[('Home', 'Reset original view', 'home', 'home'), ('Back', 'Back to previous …"
      ]
     },
     "metadata": {},
     "output_type": "display_data"
    }
   ],
   "source": [
    "plt.close()\n",
    "ax = sns.countplot(x=data['DX'])\n",
    "plt.title(\"Data Diagnosis\")\n",
    "plt.ylabel(\"Count\")\n",
    "plt.xlabel(\"Diagnosis\")\n",
    "plt.xticks(ticks=range(0,3), labels=['CN', 'MCI', 'Dementia'])\n",
    "\n",
    "for p in ax.patches:\n",
    "        ax.annotate(f'\\n{p.get_height()}', (p.get_x()+p.get_width()/2, p.get_height()), ha='center', \n",
    "                    va='top', color='white', size=18)"
   ]
  },
  {
   "cell_type": "markdown",
   "id": "1a3eaee3-e7b1-4b4e-9515-cdfe32b70b76",
   "metadata": {},
   "source": [
    "## ICA"
   ]
  },
  {
   "cell_type": "markdown",
   "id": "8573bab2-15eb-4d0a-a8ab-d961ea2c38b7",
   "metadata": {},
   "source": [
    "First a function to calculate ICA. This function is also used in the file PCA.ipynb"
   ]
  },
  {
   "cell_type": "code",
   "execution_count": 3,
   "id": "a3e6d515-de5c-4562-8e15-b409d3c94ce2",
   "metadata": {},
   "outputs": [],
   "source": [
    "def calcICA(numberComponents: int) -> pd.DataFrame:\n",
    "    # Creating ICA object with max interactions, the default is 200\n",
    "    ICA = FastICA(n_components=numberComponents, max_iter=1000)\n",
    "    IndependentComponentValues=ICA.fit_transform(data.drop([\"DX\"], axis=1), data.loc[:,['DX']].values)\n",
    "\n",
    "    def getColumnNames() -> list:\n",
    "        res = []\n",
    "        for i in range(1, len(IndependentComponentValues.T)+1):\n",
    "            res.append('IC'+str(i))\n",
    "        return res\n",
    "\n",
    "    del ICA\n",
    "    #Creating the dataframe\n",
    "    return pd.DataFrame(data=IndependentComponentValues, columns=getColumnNames())\n",
    "\n"
   ]
  },
  {
   "cell_type": "code",
   "execution_count": 4,
   "id": "959972e9-727e-4f81-ac8e-3b6545ee6134",
   "metadata": {},
   "outputs": [],
   "source": [
    "def classifierBattery(ICA: pd.DataFrame) -> dict:\n",
    "    classifier = {}\n",
    "    \n",
    "    X = ICA.to_numpy().astype('float')\n",
    "    y = data.loc[:,['DX']].to_numpy().astype('float').flatten()\n",
    "    \n",
    "    xtrain, xtest, ytrain, ytest= train_test_split(X, y, random_state=0)\n",
    "    X_train = xtrain\n",
    "    X_test = xtest\n",
    "    y_train = ytrain\n",
    "    y_test = ytest\n",
    "\n",
    "    scaler = MinMaxScaler()\n",
    "    X_train = scaler.fit_transform(xtrain)\n",
    "    X_test = scaler.transform(xtest)\n",
    "    \n",
    "    # Decision Tree\n",
    "    clf = DecisionTreeClassifier().fit(X_train, y_train)\n",
    "    classifier[\"DecisionTree\"] = {\"Train\" : clf.score(X_train, y_train), \"Test\" : clf.score(X_test, y_test)}\n",
    "    \n",
    "    # K-Nearest Neighbors                      \n",
    "    knn = KNeighborsClassifier().fit(X_train, y_train)\n",
    "    classifier[\"KNN\"] = {\"Train\" : knn.score(X_train, y_train), \"Test\" : knn.score(X_test, y_test)}\n",
    "    \n",
    "    # Linear Discriminant Analysis\n",
    "    lda = LinearDiscriminantAnalysis().fit(X_train, y_train)\n",
    "    classifier[\"LDA\"] = {\"Train\" : lda.score(X_train, y_train), \"Test\" : lda.score(X_test, y_test)}\n",
    "    \n",
    "    # Gaussian Naive Bayes\n",
    "    gnb = GaussianNB().fit(X_train, y_train)\n",
    "    classifier[\"GNB\"] = {\"Train\" : gnb.score(X_train, y_train), \"Test\" : gnb.score(X_test, y_test)}\n",
    "    \n",
    "    #Support Vector Machine\n",
    "    svm = SVC(kernel='rbf').fit(X_train, y_train)\n",
    "    classifier[\"SVM\"] = {\"Train\" : svm.score(X_train, y_train), \"Test\" : svm.score(X_test, y_test)}\n",
    "    \n",
    "    return classifier"
   ]
  },
  {
   "cell_type": "markdown",
   "id": "f90d8c8c-005b-42d3-aeae-5ea2b75e811f",
   "metadata": {},
   "source": [
    "Here we go!"
   ]
  },
  {
   "cell_type": "code",
   "execution_count": 5,
   "id": "ebbd220a-3b00-4c0b-a3cc-d483a907ad7e",
   "metadata": {},
   "outputs": [
    {
     "name": "stdout",
     "output_type": "stream",
     "text": [
      "0 %\n",
      "10 %\n",
      "20 %\n",
      "30 %\n",
      "40 %\n",
      "50 %\n",
      "60 %\n",
      "70 %\n",
      "80 %\n"
     ]
    }
   ],
   "source": [
    "classifiers = pd.DataFrame(columns=[\"Number Components\", \"Algorithm\", \"Value\", \"Phase\"])\n",
    "counter = 0\n",
    "size = 18 #len(data.T)\n",
    "for i in range(size):\n",
    "    try:\n",
    "        with warnings.catch_warnings(record=True):\n",
    "            warnings.simplefilter(\"error\")\n",
    "            ica = calcICA(i+1)\n",
    "            res = (classifierBattery(ica))\n",
    "    except:\n",
    "        res = ({\"DecisionTree\": {\"Train\" : 0, \"Test\": 0}, \"KNN\":{\"Train\" : 0, \"Test\": 0}, \"LDA\":{\"Train\" : 0, \"Test\": 0}, \"GNB\":{\"Train\" : 0, \"Test\": 0}, \"SVM\":{\"Train\" : 0, \"Test\": 0}})\n",
    "    \n",
    "    for x in res:\n",
    "        classifiers = classifiers.append({\"Number Components\" : i+1, \"Algorithm\" : x, \"Value\" : res[x][\"Train\"], \"Phase\" : \"Train\"}, ignore_index=True)\n",
    "        classifiers = classifiers.append({\"Number Components\" : i+1, \"Algorithm\" : x, \"Value\" : res[x][\"Test\"], \"Phase\" : \"Test\"}, ignore_index=True)\n",
    "    \n",
    "        \n",
    "    if i % math.ceil(size*0.1) == 0:\n",
    "        print(counter*10, '%')\n",
    "        counter += 1\n",
    "\n"
   ]
  },
  {
   "cell_type": "code",
   "execution_count": 6,
   "id": "570cd1f5-9b1e-4555-879f-3e7efb614ae8",
   "metadata": {
    "tags": []
   },
   "outputs": [
    {
     "data": {
      "application/vnd.jupyter.widget-view+json": {
       "model_id": "f9aaa41294b741c0a8b77d8e28fa5809",
       "version_major": 2,
       "version_minor": 0
      },
      "text/plain": [
       "Canvas(toolbar=Toolbar(toolitems=[('Home', 'Reset original view', 'home', 'home'), ('Back', 'Back to previous …"
      ]
     },
     "metadata": {},
     "output_type": "display_data"
    },
    {
     "data": {
      "application/vnd.jupyter.widget-view+json": {
       "model_id": "7aa5d63a43ac40d9b92e938010047c56",
       "version_major": 2,
       "version_minor": 0
      },
      "text/plain": [
       "Canvas(toolbar=Toolbar(toolitems=[('Home', 'Reset original view', 'home', 'home'), ('Back', 'Back to previous …"
      ]
     },
     "metadata": {},
     "output_type": "display_data"
    },
    {
     "data": {
      "application/vnd.jupyter.widget-view+json": {
       "model_id": "d7af3dc4c7ed449293bfe0c1618f2264",
       "version_major": 2,
       "version_minor": 0
      },
      "text/plain": [
       "Canvas(toolbar=Toolbar(toolitems=[('Home', 'Reset original view', 'home', 'home'), ('Back', 'Back to previous …"
      ]
     },
     "metadata": {},
     "output_type": "display_data"
    },
    {
     "data": {
      "application/vnd.jupyter.widget-view+json": {
       "model_id": "e29a4d82fda44a41b5e7d9e0f4feeb53",
       "version_major": 2,
       "version_minor": 0
      },
      "text/plain": [
       "Canvas(toolbar=Toolbar(toolitems=[('Home', 'Reset original view', 'home', 'home'), ('Back', 'Back to previous …"
      ]
     },
     "metadata": {},
     "output_type": "display_data"
    },
    {
     "data": {
      "application/vnd.jupyter.widget-view+json": {
       "model_id": "b7d468447cd94901ab8e9d0b9048e8f4",
       "version_major": 2,
       "version_minor": 0
      },
      "text/plain": [
       "Canvas(toolbar=Toolbar(toolitems=[('Home', 'Reset original view', 'home', 'home'), ('Back', 'Back to previous …"
      ]
     },
     "metadata": {},
     "output_type": "display_data"
    }
   ],
   "source": [
    "plt.tight_layout()\n",
    "sns.relplot(x=\"Number Components\", y=\"Value\", hue=\"Phase\", kind=\"line\", data=classifiers.loc[classifiers[\"Algorithm\"] == \"DecisionTree\"], height=9, aspect=1.5).set(title=\"Decision Tree\").tight_layout(w_pad=5)\n",
    "sns.relplot(x=\"Number Components\", y=\"Value\", hue=\"Phase\", kind=\"line\", data=classifiers.loc[classifiers[\"Algorithm\"] == \"KNN\"], height=9, aspect=1.5).set(title=\"K-Nearest Neighbors\").tight_layout(w_pad=5)\n",
    "sns.relplot(x=\"Number Components\", y=\"Value\", hue=\"Phase\", kind=\"line\", data=classifiers.loc[classifiers[\"Algorithm\"] == \"LDA\"], height=9, aspect=1.5).set(title=\"Linear Discriminant Analysis\").tight_layout(w_pad=5)\n",
    "sns.relplot(x=\"Number Components\", y=\"Value\", hue=\"Phase\", kind=\"line\", data=classifiers.loc[classifiers[\"Algorithm\"] == \"GNB\"], height=9, aspect=1.5).set(title=\"Gaussian Naive Bayes\").tight_layout(w_pad=5)\n",
    "sns.relplot(x=\"Number Components\", y=\"Value\", hue=\"Phase\", kind=\"line\", data=classifiers.loc[classifiers[\"Algorithm\"] == \"SVM\"], height=9, aspect=1.5).set(title=\"Support Vector Machine\").tight_layout(w_pad=5)\n"
   ]
  },
  {
   "cell_type": "code",
   "execution_count": 7,
   "id": "f4735b8c-c800-4166-9289-5177ae431a53",
   "metadata": {},
   "outputs": [],
   "source": [
    "bestTest = pd.concat([pd.DataFrame(y.loc[y.loc[y[\"Phase\"] == \"Test\"]['Value'].idxmax()]).T for y in [classifiers.loc[classifiers[\"Algorithm\"] == x] for x in classifiers[\"Algorithm\"].unique()]])"
   ]
  },
  {
   "cell_type": "code",
   "execution_count": 8,
   "id": "7183eb17-a126-4b8d-b158-42a417e5f2f1",
   "metadata": {},
   "outputs": [],
   "source": [
    "best = bestTest.append(pd.concat([classifiers.loc[(classifiers[\"Phase\"] == \"Train\") & (classifiers[\"Algorithm\"] == x) & (classifiers[\"Number Components\"] == y)] for x,y in zip(bestTest[\"Algorithm\"], bestTest[\"Number Components\"])])).sort_values(\"Algorithm\")"
   ]
  },
  {
   "cell_type": "code",
   "execution_count": 9,
   "id": "0e68a70a-4375-47c1-b6ab-32171803ccf3",
   "metadata": {},
   "outputs": [
    {
     "data": {
      "application/vnd.jupyter.widget-view+json": {
       "model_id": "b224e1ea29e7425d98357b7603fa6b6d",
       "version_major": 2,
       "version_minor": 0
      },
      "text/plain": [
       "Canvas(toolbar=Toolbar(toolitems=[('Home', 'Reset original view', 'home', 'home'), ('Back', 'Back to previous …"
      ]
     },
     "metadata": {},
     "output_type": "display_data"
    },
    {
     "data": {
      "text/plain": [
       "<AxesSubplot:xlabel='Algorithm', ylabel='Number Components'>"
      ]
     },
     "execution_count": 9,
     "metadata": {},
     "output_type": "execute_result"
    }
   ],
   "source": [
    "\n",
    "plt.figure()\n",
    "sns.barplot(x=\"Algorithm\", y=\"Number Components\", hue=\"Phase\", data=best)"
   ]
  },
  {
   "cell_type": "code",
   "execution_count": null,
   "id": "9c5df2f8-7bf9-4549-986c-1fef5b55516a",
   "metadata": {},
   "outputs": [],
   "source": []
  }
 ],
 "metadata": {
  "kernelspec": {
   "display_name": "Python 3",
   "language": "python",
   "name": "python3"
  },
  "language_info": {
   "codemirror_mode": {
    "name": "ipython",
    "version": 3
   },
   "file_extension": ".py",
   "mimetype": "text/x-python",
   "name": "python",
   "nbconvert_exporter": "python",
   "pygments_lexer": "ipython3",
   "version": "3.8.9"
  }
 },
 "nbformat": 4,
 "nbformat_minor": 5
}
