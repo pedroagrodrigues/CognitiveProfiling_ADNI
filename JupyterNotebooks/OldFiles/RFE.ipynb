{
 "cells": [
  {
   "cell_type": "markdown",
   "id": "bf054aed-7855-4298-ae68-ff6a1845f4c4",
   "metadata": {},
   "source": [
    "# Recursive Feature Elimination"
   ]
  },
  {
   "cell_type": "code",
   "execution_count": 1,
   "id": "0531237e-1bb6-49c7-91c3-ab1f956254e6",
   "metadata": {},
   "outputs": [],
   "source": [
    "# explore the number of selected features for RFE\n",
    "from numpy import mean\n",
    "from numpy import std\n",
    "from sklearn.datasets import make_classification\n",
    "from sklearn.model_selection import cross_val_score\n",
    "from sklearn.model_selection import RepeatedStratifiedKFold\n",
    "from sklearn.feature_selection import RFE\n",
    "from sklearn.feature_selection import RFECV\n",
    "from sklearn.tree import DecisionTreeClassifier\n",
    "from sklearn.neighbors import KNeighborsClassifier\n",
    "from sklearn.discriminant_analysis import LinearDiscriminantAnalysis\n",
    "from sklearn.naive_bayes import GaussianNB\n",
    "from sklearn.svm import SVC\n",
    "from sklearn.pipeline import Pipeline\n",
    "from matplotlib import pyplot\n",
    "%matplotlib widget\n",
    "import common"
   ]
  },
  {
   "cell_type": "code",
   "execution_count": 2,
   "id": "91990be3-dfaa-4662-9abf-85272f21c54a",
   "metadata": {},
   "outputs": [],
   "source": [
    "data = common.loadFile(\"CleanedData\").drop([\"VISCODE\", \"RID\"], axis=1).dropna()"
   ]
  },
  {
   "cell_type": "code",
   "execution_count": 3,
   "id": "298968fa-38bf-46e0-9559-51476719ea72",
   "metadata": {},
   "outputs": [
    {
     "name": "stdout",
     "output_type": "stream",
     "text": [
      ">2 0.796 (0.029)\n",
      ">3 0.789 (0.024)\n",
      ">4 0.767 (0.031)\n",
      ">5 0.755 (0.038)\n",
      ">6 0.752 (0.027)\n",
      ">7 0.767 (0.027)\n",
      ">8 0.756 (0.029)\n",
      ">9 0.755 (0.026)\n"
     ]
    }
   ],
   "source": [
    "# define dataset\n",
    "X = data.drop(\"DX\", axis=1).to_numpy().astype('int')\n",
    "y = data.loc[:,['DX']].to_numpy().astype('int').flatten()\n",
    "steps = 10\n",
    "# get a list of models to evaluate\n",
    "def get_models():\n",
    "\tmodels = dict()\n",
    "\tfor i in range(2, steps):\n",
    "\t\trfe = RFE(estimator=DecisionTreeClassifier(), n_features_to_select=i)\n",
    "\t\tmodel = DecisionTreeClassifier()\n",
    "\t\tmodels[str(i)] = Pipeline(steps=[('s',rfe),('m',model)])\n",
    "\treturn models\n",
    " \n",
    "# evaluate a give model using cross-validation\n",
    "def evaluate_model(model, X, y):\n",
    "\tcv = RepeatedStratifiedKFold(n_splits=10, n_repeats=3, random_state=1)\n",
    "\tscores = cross_val_score(model, X, y, scoring='accuracy', cv=cv, n_jobs=-1, error_score='raise')\n",
    "\treturn scores\n",
    "\n",
    "\n",
    "# get the models to evaluate\n",
    "models = get_models()\n",
    "# evaluate the models and store results\n",
    "results, names = list(), list()\n",
    "for name, model in models.items():\n",
    "\tscores = evaluate_model(model, X, y)\n",
    "\tresults.append(scores)\n",
    "\tnames.append(name)\n",
    "\tprint('>%s %.3f (%.3f)' % (name, mean(scores), std(scores)))\n",
    "\n"
   ]
  },
  {
   "cell_type": "code",
   "execution_count": null,
   "id": "ab9623d3-7d26-4043-93ae-5d7f701fef99",
   "metadata": {},
   "outputs": [],
   "source": [
    "# plot model performance for compariso\n",
    "pyplot.close()\n",
    "pyplot.boxplot(results, labels=names, showmeans=True)\n",
    "pyplot.show()"
   ]
  },
  {
   "cell_type": "code",
   "execution_count": 5,
   "id": "64e94df4-ae0c-46be-9cf4-4de017286263",
   "metadata": {},
   "outputs": [
    {
     "name": "stdout",
     "output_type": "stream",
     "text": [
      "(1710, 191) (1710,)\n"
     ]
    }
   ],
   "source": [
    "# summarize the dataset\n",
    "print(X.shape, y.shape)"
   ]
  },
  {
   "cell_type": "markdown",
   "id": "b87a1be3-93d2-4986-bc5c-912d5a2b4302",
   "metadata": {},
   "source": [
    "## Automatic Select the Number of Features"
   ]
  },
  {
   "cell_type": "code",
   "execution_count": 6,
   "id": "07e4529c-a0c2-4bd9-a5c5-ef2a05f3cd98",
   "metadata": {},
   "outputs": [
    {
     "name": "stdout",
     "output_type": "stream",
     "text": [
      "Accuracy: 0.776 (0.036)\n"
     ]
    }
   ],
   "source": [
    "# create pipeline\n",
    "rfe = RFECV(estimator=DecisionTreeClassifier())\n",
    "model = DecisionTreeClassifier()\n",
    "pipeline = Pipeline(steps=[('s',rfe),('m',model)])\n",
    "# evaluate model\n",
    "cv = RepeatedStratifiedKFold(n_splits=10, n_repeats=3, random_state=1)\n",
    "n_scores = cross_val_score(pipeline, X, y, scoring='accuracy', cv=cv, n_jobs=-1, error_score='raise')\n",
    "# report performance\n",
    "print('Accuracy: %.3f (%.3f)' % (mean(n_scores), std(n_scores)))"
   ]
  },
  {
   "cell_type": "code",
   "execution_count": 13,
   "id": "5decc635-153d-402d-b5de-60c02d34c372",
   "metadata": {},
   "outputs": [
    {
     "name": "stdout",
     "output_type": "stream",
     "text": [
      "0.75\n",
      "0.6\n"
     ]
    },
    {
     "data": {
      "text/plain": [
       "0.75"
      ]
     },
     "execution_count": 13,
     "metadata": {},
     "output_type": "execute_result"
    }
   ],
   "source": [
    "# Split the data into training/testing sets\n",
    "X_train = X[:-20]\n",
    "X_test = X[-20:]\n",
    "\n",
    "y_train = y[:-20]\n",
    "y_test = y[-20:]\n",
    "\n",
    "def trainModel(steps, estimator):\n",
    "    best = 0\n",
    "    bestModel = estimator\n",
    "    for i in range(1, steps):\n",
    "        selector = RFECV(estimator, step=1, cv=cv, min_features_to_select=i)\n",
    "        selector = selector.fit(X_train, y_train)\n",
    "        if selector.score(X_test, y_test) > best:\n",
    "            best = selector.score(X_test, y_test)\n",
    "            bestModel = selector\n",
    "    return best, bestModel\n",
    "\n",
    "algorithms = [DecisionTreeClassifier(), LinearDiscriminantAnalysis()]            \n",
    "\n",
    "\n",
    "interactions = 5 # Number of interactions for each algorithm\n",
    "score = 0\n",
    "model = []\n",
    "algorithmIdex = -1\n",
    "\n",
    "for i in algorithms:\n",
    "    tempScore, tempModel = trainModel(interactions, i)\n",
    "    print(tempScore)\n",
    "    if tempScore > score:\n",
    "        score = tempScore\n",
    "        model = tempModel\n",
    "        algorithmIdex = algorithms.index(i)\n",
    "\n",
    "score"
   ]
  },
  {
   "cell_type": "code",
   "execution_count": null,
   "id": "5ac3aaf3-fd9a-49a7-9127-83ed97700a4f",
   "metadata": {},
   "outputs": [],
   "source": [
    "model.support_"
   ]
  }
 ],
 "metadata": {
  "kernelspec": {
   "display_name": "Python 3",
   "language": "python",
   "name": "python3"
  },
  "language_info": {
   "codemirror_mode": {
    "name": "ipython",
    "version": 3
   },
   "file_extension": ".py",
   "mimetype": "text/x-python",
   "name": "python",
   "nbconvert_exporter": "python",
   "pygments_lexer": "ipython3",
   "version": "3.8.9"
  }
 },
 "nbformat": 4,
 "nbformat_minor": 5
}
