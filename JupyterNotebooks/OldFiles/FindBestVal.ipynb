{
 "cells": [
  {
   "cell_type": "code",
   "execution_count": 1,
   "id": "2978ecb2-fc89-4bd2-b98b-0083a63ba77b",
   "metadata": {},
   "outputs": [],
   "source": [
    "%matplotlib widget\n",
    "import pandas as pd\n",
    "import numpy as np\n",
    "from factor_analyzer import FactorAnalyzer\n",
    "from sklearn.decomposition import PCA\n",
    "from sklearn.preprocessing import StandardScaler\n",
    "import matplotlib.pyplot as plt\n",
    "import common"
   ]
  },
  {
   "cell_type": "code",
   "execution_count": 2,
   "id": "2e1c4831-443b-4ad2-b608-0a979f449f61",
   "metadata": {},
   "outputs": [],
   "source": [
    "from Data import JoinedData, Merge"
   ]
  },
  {
   "cell_type": "code",
   "execution_count": 3,
   "id": "71b80adb-af07-4bf5-9bf0-54e2e4a9e931",
   "metadata": {},
   "outputs": [],
   "source": [
    "data = JoinedData().data\n",
    "mergeData = Merge().data"
   ]
  },
  {
   "cell_type": "code",
   "execution_count": 4,
   "id": "468dfdf4-ff71-4830-b0ee-9243d1ac9083",
   "metadata": {},
   "outputs": [],
   "source": [
    "initialNumberRows = len(data)"
   ]
  },
  {
   "cell_type": "code",
   "execution_count": 5,
   "id": "5b46eb46-6f03-496c-b4de-6095de0aa72a",
   "metadata": {},
   "outputs": [],
   "source": [
    "# remove unused columns\n",
    "data = data.drop(['LDELTOTAL', 'DIGITSCOR'], axis=1) \n",
    "dataLabels = data.columns.values\n"
   ]
  },
  {
   "cell_type": "code",
   "execution_count": 6,
   "id": "6840faaf-c9aa-46be-a782-09306918ea2a",
   "metadata": {},
   "outputs": [],
   "source": [
    "currentTry = 0\n",
    "val = 0\n",
    "codes = ['bl', 'm06', 'm12', 'm24', 'm36', 'm48', 'm60', 'm72', 'm84', 'm96', 'm108', 'm120', 'm132', 'm144', 'm156', 'm168', 'm180']\n",
    "\n",
    "numCol =[]\n",
    "colTry = []\n",
    "\n",
    "rowTry = []\n",
    "numRows = []\n",
    "\n",
    "while currentTry < 1:\n",
    "    temp = data.copy(deep=True)\n",
    "    nanPerColumn = {label: data[label].isna().sum() for label in dataLabels}\n",
    "    \n",
    "    currentCol = [label for label in dataLabels if nanPerColumn[label]/len(temp) > currentTry] #more than % of data Nan\n",
    "    \n",
    "    colTry.append(currentTry)\n",
    "    numCol.append(len(currentCol)) #Minimize\n",
    "     \n",
    "\n",
    "    temp = temp.drop(currentCol, axis=1)\n",
    "    temp = temp.dropna()\n",
    "    temp = temp[temp['RID'].duplicated(keep=False)].reset_index(drop=True)   \n",
    "    \n",
    "    maximum = 0\n",
    "    \n",
    "    for i in range(1, len(codes)):\n",
    "        dataTemp = [temp.loc[temp[\"VISCODE\"] == codes[j]] for j in range(0, i)]\n",
    "        temp2 = pd.concat(dataTemp).sort_values('RID')\n",
    "        temp2 = temp2[temp2.groupby('RID')['RID'].transform('count').eq(i)].reset_index(drop=True)\n",
    "        if len(temp2) > maximum:\n",
    "            maximum = len(temp2)\n",
    "            \n",
    "    rowTry.append(currentTry)\n",
    "    numRows.append(maximum)\n",
    "    \n",
    "    currentTry += 0.001\n",
    "    currentTry = round(currentTry, 3)\n"
   ]
  },
  {
   "cell_type": "code",
   "execution_count": 7,
   "id": "d59bd7ad-4084-41d6-a4fb-28a5df76220b",
   "metadata": {},
   "outputs": [
    {
     "data": {
      "text/plain": [
       "1.0"
      ]
     },
     "execution_count": 7,
     "metadata": {},
     "output_type": "execute_result"
    }
   ],
   "source": [
    "currentTry"
   ]
  },
  {
   "cell_type": "code",
   "execution_count": 8,
   "id": "22a936e6-d231-4813-85a3-70ad72d18954",
   "metadata": {},
   "outputs": [
    {
     "data": {
      "application/vnd.jupyter.widget-view+json": {
       "model_id": "6d9c6ea95a8f4b4696a763013bc976c4",
       "version_major": 2,
       "version_minor": 0
      },
      "text/plain": [
       "Canvas(toolbar=Toolbar(toolitems=[('Home', 'Reset original view', 'home', 'home'), ('Back', 'Back to previous …"
      ]
     },
     "metadata": {},
     "output_type": "display_data"
    }
   ],
   "source": [
    "plt.close()\n",
    "#numCol = number of cols\n",
    "#numRows = numRows\n",
    "plt.scatter(numRows, rowTry)\n",
    "plt.scatter(numCol, rowTry)\n",
    "\n",
    "plt.grid()\n",
    "plt.show()"
   ]
  },
  {
   "cell_type": "code",
   "execution_count": null,
   "id": "c8ceb855-1573-43b1-a05a-ba40c2d91e36",
   "metadata": {},
   "outputs": [],
   "source": []
  }
 ],
 "metadata": {
  "kernelspec": {
   "display_name": "Python 3",
   "language": "python",
   "name": "python3"
  },
  "language_info": {
   "codemirror_mode": {
    "name": "ipython",
    "version": 3
   },
   "file_extension": ".py",
   "mimetype": "text/x-python",
   "name": "python",
   "nbconvert_exporter": "python",
   "pygments_lexer": "ipython3",
   "version": "3.8.9"
  }
 },
 "nbformat": 4,
 "nbformat_minor": 5
}
