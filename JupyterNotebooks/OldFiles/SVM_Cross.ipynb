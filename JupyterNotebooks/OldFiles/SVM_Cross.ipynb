{
 "cells": [
  {
   "cell_type": "markdown",
   "id": "a617bfe8-2f3c-40e4-b2bb-feb1a8d3a253",
   "metadata": {},
   "source": [
    "# Classification"
   ]
  },
  {
   "cell_type": "code",
   "execution_count": 13,
   "id": "b851e5bc-5724-4626-9c55-833e0088a068",
   "metadata": {},
   "outputs": [],
   "source": [
    "import pandas as pd \n",
    "import numpy as np\n",
    "import seaborn as sns\n",
    "import matplotlib.pyplot as plt\n",
    "%matplotlib widget\n",
    "\n",
    "from sklearn.model_selection import train_test_split\n",
    "from sklearn.preprocessing import MinMaxScaler\n",
    "from sklearn.svm import SVC\n",
    "from sklearn import svm\n",
    "\n",
    "import common"
   ]
  },
  {
   "cell_type": "code",
   "execution_count": 2,
   "id": "7f1c28c1-29cf-4aba-a184-0d6a7235747c",
   "metadata": {},
   "outputs": [],
   "source": [
    "data = common.loadFile(\"CleanedData\").drop([\"RID\", \"VISCODE\"], axis=1)"
   ]
  },
  {
   "cell_type": "code",
   "execution_count": 3,
   "id": "617a6f4e-379c-4aaa-b1aa-954b3db98673",
   "metadata": {},
   "outputs": [
    {
     "data": {
      "application/vnd.jupyter.widget-view+json": {
       "model_id": "7143ce239afa4080ae9a3f2097ccf8df",
       "version_major": 2,
       "version_minor": 0
      },
      "text/plain": [
       "Canvas(toolbar=Toolbar(toolitems=[('Home', 'Reset original view', 'home', 'home'), ('Back', 'Back to previous …"
      ]
     },
     "metadata": {},
     "output_type": "display_data"
    }
   ],
   "source": [
    "plt.figure()\n",
    "ax = sns.countplot(x=data['DX'])\n",
    "plt.title(\"Data Diagnosis\")\n",
    "plt.ylabel(\"Count\")\n",
    "plt.xlabel(\"Diagnosis\")\n",
    "plt.xticks(ticks=range(0,3), labels=['CN', 'MCI', 'Dementia'])\n",
    "\n",
    "for p in ax.patches:\n",
    "        ax.annotate(f'\\n{p.get_height()}', (p.get_x()+p.get_width()/2, p.get_height()), ha='center', \n",
    "                    va='top', color='white', size=18)"
   ]
  },
  {
   "cell_type": "markdown",
   "id": "7609798e-e477-411c-a45a-7a3dd737fb8b",
   "metadata": {},
   "source": [
    "## Create Training and Test Sets and Apply Scaling"
   ]
  },
  {
   "cell_type": "code",
   "execution_count": 4,
   "id": "b1b6602f-5ab9-49a2-8f3b-bd1459b406f2",
   "metadata": {},
   "outputs": [],
   "source": [
    "data = common.loadFile(\"ICAData\")\n",
    "label = \"ICA Data\""
   ]
  },
  {
   "cell_type": "code",
   "execution_count": 5,
   "id": "68796897-933c-44e7-89f7-32ed420200b8",
   "metadata": {},
   "outputs": [],
   "source": [
    "X = data.drop(\"DX\", axis=1).to_numpy().astype('float')\n",
    "y = data.loc[:,['DX']].to_numpy().astype('float').flatten()\n",
    "X_train, X_test, y_train, y_test = train_test_split(X, y, test_size=0.3, random_state=0)\n",
    "\n",
    "scaler = MinMaxScaler()\n",
    "X_train = scaler.fit_transform(X_train)\n",
    "X_test = scaler.transform(X_test)"
   ]
  },
  {
   "cell_type": "markdown",
   "id": "da2722a7-a70d-421f-b59e-25737de4318e",
   "metadata": {},
   "source": [
    "## Models"
   ]
  },
  {
   "cell_type": "code",
   "execution_count": 6,
   "id": "c7baa6f7-14be-4287-b44f-d686fb89741d",
   "metadata": {},
   "outputs": [
    {
     "name": "stdout",
     "output_type": "stream",
     "text": [
      "Accuracy of SVM classifier for ICA Data\n",
      "Training set: 0.82\n",
      "Test set: 0.76\n"
     ]
    }
   ],
   "source": [
    "svm = SVC(kernel='rbf').fit(X_train, y_train)\n",
    "\n",
    "print(f\"Accuracy of SVM classifier for {label}\")\n",
    "print('Training set: {:.2f}'.format(svm.score(X_train, y_train)))\n",
    "print('Test set: {:.2f}'.format(svm.score(X_test, y_test)))"
   ]
  },
  {
   "cell_type": "code",
   "execution_count": 7,
   "id": "ffc97be1-6855-4cd3-a288-56110bb248e5",
   "metadata": {},
   "outputs": [
    {
     "data": {
      "text/plain": [
       "0.7699805068226121"
      ]
     },
     "execution_count": 7,
     "metadata": {},
     "output_type": "execute_result"
    }
   ],
   "source": [
    "clf = SVC(kernel='linear', C=1).fit(X_train, y_train)\n",
    "clf.score(X_test, y_test)"
   ]
  },
  {
   "cell_type": "code",
   "execution_count": 8,
   "id": "321ba988-0a4f-42cc-87e3-b72484756f8a",
   "metadata": {},
   "outputs": [
    {
     "data": {
      "text/plain": [
       "array([0.56432749, 0.56432749, 0.56432749, 0.56140351, 0.56140351])"
      ]
     },
     "execution_count": 8,
     "metadata": {},
     "output_type": "execute_result"
    }
   ],
   "source": [
    "from sklearn.model_selection import cross_val_score\n",
    "clf = SVC(kernel='linear', C=1, random_state=42)\n",
    "scores = cross_val_score(clf, X, y, cv=5)\n",
    "scores"
   ]
  },
  {
   "cell_type": "code",
   "execution_count": 12,
   "id": "6c097a1f-7e42-46e1-a897-aed179858216",
   "metadata": {},
   "outputs": [
    {
     "data": {
      "text/plain": [
       "array([0.24049844, 0.24049844, 0.24049844, 0.23970037, 0.23970037])"
      ]
     },
     "execution_count": 12,
     "metadata": {},
     "output_type": "execute_result"
    }
   ],
   "source": [
    "from sklearn import metrics\n",
    "scores = cross_val_score(clf, X, y, cv=5, scoring='f1_macro')\n",
    "scores\n"
   ]
  },
  {
   "cell_type": "code",
   "execution_count": null,
   "id": "32bfbc26-7f3a-4e31-88fc-373f852fcb2e",
   "metadata": {},
   "outputs": [],
   "source": []
  }
 ],
 "metadata": {
  "kernelspec": {
   "display_name": "Python 3",
   "language": "python",
   "name": "python3"
  },
  "language_info": {
   "codemirror_mode": {
    "name": "ipython",
    "version": 3
   },
   "file_extension": ".py",
   "mimetype": "text/x-python",
   "name": "python",
   "nbconvert_exporter": "python",
   "pygments_lexer": "ipython3",
   "version": "3.8.9"
  }
 },
 "nbformat": 4,
 "nbformat_minor": 5
}
