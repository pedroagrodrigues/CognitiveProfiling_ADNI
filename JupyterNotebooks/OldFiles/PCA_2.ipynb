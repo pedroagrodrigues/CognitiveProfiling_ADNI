{
 "cells": [
  {
   "cell_type": "markdown",
   "id": "929b9869-b4df-45a6-97f7-238b58d8214e",
   "metadata": {
    "tags": []
   },
   "source": [
    "# Principal Component Analysis"
   ]
  },
  {
   "cell_type": "code",
   "execution_count": 1,
   "id": "138ff529-346e-4905-96c5-db3f70b9d1d7",
   "metadata": {},
   "outputs": [],
   "source": [
    "import pandas as pd \n",
    "import numpy as np\n",
    "import matplotlib.pyplot as plt\n",
    "from sklearn.decomposition import PCA\n",
    "from sklearn.preprocessing import StandardScaler\n",
    "%matplotlib widget\n",
    "import common"
   ]
  },
  {
   "cell_type": "code",
   "execution_count": 2,
   "id": "2b04f394-b37f-40c4-a8ce-1259fa9b844e",
   "metadata": {},
   "outputs": [],
   "source": [
    "data = common.loadFile(\"CleanedData\")"
   ]
  },
  {
   "cell_type": "markdown",
   "id": "5c1fba86-dce4-4150-9154-90263d23fa9f",
   "metadata": {},
   "source": [
    "Before we start we need to separate unused columns to the PCA. therefore, we are removing \"RID\" and \"VISCODE\" from the dataset. \n",
    "The column \"DX\" is our target and later will be represented on the Y axis of our graph"
   ]
  },
  {
   "cell_type": "code",
   "execution_count": 3,
   "id": "afd7f6bf-2611-4bef-99c2-e92a1f59a962",
   "metadata": {},
   "outputs": [],
   "source": [
    "y =  data.loc[:,['DX']].values\n",
    "patients = data.loc[:, [\"RID\"]].values\n",
    "\n",
    "# We can now clean the dataset dropping what will not be used\n",
    "x = data.drop([\"RID\", \"VISCODE\", \"DX\"], axis=1)"
   ]
  },
  {
   "cell_type": "markdown",
   "id": "d0921284-49e6-4db3-b406-2fefee40df58",
   "metadata": {},
   "source": [
    "Once done time to scale the data bringing mean to 0 and the variance to 1"
   ]
  },
  {
   "cell_type": "code",
   "execution_count": 4,
   "id": "5220c970-a5a9-433d-8cd6-7309098d69aa",
   "metadata": {},
   "outputs": [],
   "source": [
    "x = StandardScaler().fit_transform(x)\n",
    "# data = data.sample(frac=1).reset_index(drop=True) # In case you need to randomize the lines"
   ]
  },
  {
   "cell_type": "markdown",
   "id": "fe9d9799-921b-4a20-9cee-dd097ac806cf",
   "metadata": {},
   "source": [
    "PCA Projection"
   ]
  },
  {
   "cell_type": "code",
   "execution_count": 5,
   "id": "41c3f29b-95b0-430f-8e99-4484ee616a5d",
   "metadata": {},
   "outputs": [],
   "source": [
    "nComponents = 10\n",
    "pca = PCA(n_components=nComponents)\n",
    "principalComponents = pca.fit_transform(x)\n",
    "\n",
    "cols = [f\"Principal Component {i+1}\" for i in range(len(principalComponents[0]))]\n",
    "principalDf = pd.DataFrame(data=principalComponents,  columns=cols)\n",
    "finalDf = pd.concat([principalDf, data[['DX']]], axis = 1)\n",
    "#common.saveFile(finalDf, \"PCAData\")"
   ]
  },
  {
   "cell_type": "code",
   "execution_count": 6,
   "id": "1cdd0a77-7340-4ee7-bfc5-ce64b2afe2be",
   "metadata": {},
   "outputs": [
    {
     "data": {
      "application/vnd.jupyter.widget-view+json": {
       "model_id": "bcf97474524e44ca9378f8af3507c0cb",
       "version_major": 2,
       "version_minor": 0
      },
      "text/plain": [
       "Canvas(toolbar=Toolbar(toolitems=[('Home', 'Reset original view', 'home', 'home'), ('Back', 'Back to previous …"
      ]
     },
     "metadata": {},
     "output_type": "display_data"
    }
   ],
   "source": [
    "plt.figure(figsize=[18, 10])\n",
    "per_var = np.round(pca.explained_variance_ratio_ * 100, decimals=1)\n",
    "labels = ['PC' + str(x) for x in range(1, len(per_var)+1)]\n",
    "\n",
    "plt.bar(x=range(1, len(per_var)+1), height=per_var, tick_label=labels)\n",
    "plt.ylabel('Percentage of Explained Variance')\n",
    "plt.xlabel('Principal Component')\n",
    "plt.title('Scree Plot - Principal Components')\n",
    "plt.tight_layout(pad=2)"
   ]
  },
  {
   "cell_type": "code",
   "execution_count": 7,
   "id": "738ee3a6-34f7-4e53-89d8-44869b0351d0",
   "metadata": {},
   "outputs": [
    {
     "data": {
      "text/plain": [
       "10"
      ]
     },
     "execution_count": 7,
     "metadata": {},
     "output_type": "execute_result"
    }
   ],
   "source": [
    "len(pca.explained_variance_ratio_)\n"
   ]
  },
  {
   "cell_type": "code",
   "execution_count": 19,
   "id": "d3de08bc-0031-482a-956a-b83fa25c5b75",
   "metadata": {},
   "outputs": [
    {
     "data": {
      "application/vnd.jupyter.widget-view+json": {
       "model_id": "b01cc754dbd544c690f714663d478b05",
       "version_major": 2,
       "version_minor": 0
      },
      "text/plain": [
       "Canvas(toolbar=Toolbar(toolitems=[('Home', 'Reset original view', 'home', 'home'), ('Back', 'Back to previous …"
      ]
     },
     "metadata": {},
     "output_type": "display_data"
    }
   ],
   "source": [
    "X = 1\n",
    "Y = 2\n",
    "\n",
    "fig = plt.figure(figsize=[18, 10])\n",
    "\n",
    "ax = fig.add_subplot(1,1,1) \n",
    "ax.set_xlabel(f'Principal Component {X}', fontsize = 15)\n",
    "ax.set_ylabel(f'Principal Component {Y}', fontsize = 15)\n",
    "ax.set_title('2 Most significant PCA components', fontsize = 20)\n",
    "\n",
    "\n",
    "targets = [0, 1, 2]\n",
    "colors = ['r', 'y', 'b']\n",
    "for target, color in zip(targets, colors):\n",
    "    indicesToKeep = finalDf['DX'] == target\n",
    "    ax.scatter(finalDf.loc[indicesToKeep, f'Principal Component {X}']\n",
    "               , finalDf.loc[indicesToKeep, f'Principal Component {Y}']\n",
    "               , c = color\n",
    "               , s = 50)\n",
    "    \n",
    "ax.legend(['CN', 'MCI', 'Dementia'])\n",
    "ax.grid()\n",
    "plt.tight_layout(pad=2)"
   ]
  },
  {
   "cell_type": "code",
   "execution_count": 9,
   "id": "78606f1a-9401-4cc4-8a9b-ee60dda3efa9",
   "metadata": {},
   "outputs": [
    {
     "data": {
      "text/plain": [
       "array([0.18543   , 0.05538921, 0.03611538, 0.02198693, 0.0152746 ,\n",
       "       0.01361802, 0.01250724, 0.01247834, 0.01135596, 0.01054389])"
      ]
     },
     "execution_count": 9,
     "metadata": {},
     "output_type": "execute_result"
    }
   ],
   "source": [
    "pca.explained_variance_ratio_\n"
   ]
  },
  {
   "cell_type": "code",
   "execution_count": 10,
   "id": "8a72f951-7def-4032-8f74-29a09775edca",
   "metadata": {},
   "outputs": [
    {
     "data": {
      "application/vnd.jupyter.widget-view+json": {
       "model_id": "325982182c284b8d82ce146ae5638130",
       "version_major": 2,
       "version_minor": 0
      },
      "text/plain": [
       "Canvas(toolbar=Toolbar(toolitems=[('Home', 'Reset original view', 'home', 'home'), ('Back', 'Back to previous …"
      ]
     },
     "metadata": {},
     "output_type": "display_data"
    }
   ],
   "source": [
    "X = 4\n",
    "Y = 5\n",
    "\n",
    "fig = plt.figure(figsize=[18, 10])\n",
    "ax = fig.add_subplot(1,1,1) \n",
    "ax.set_xlabel(f'Principal Component {X}', fontsize = 15)\n",
    "ax.set_ylabel(f'Principal Component {Y}', fontsize = 15)\n",
    "ax.set_title('2 Component PCA', fontsize = 20)\n",
    "\n",
    "\n",
    "targets = [0, 1, 2]\n",
    "colors = ['r', 'y', 'b']\n",
    "for target, color in zip(targets, colors):\n",
    "    indicesToKeep = finalDf['DX'] == target\n",
    "    ax.scatter(finalDf.loc[indicesToKeep, f'Principal Component {X}']\n",
    "               , finalDf.loc[indicesToKeep, f'Principal Component {Y}']\n",
    "               , c = color\n",
    "               , s = 50)\n",
    "    \n",
    "ax.legend(['CN', 'MCI', 'Dementia'])\n",
    "ax.grid()\n",
    "plt.tight_layout(pad=2)"
   ]
  },
  {
   "cell_type": "code",
   "execution_count": 11,
   "id": "831c6b7d-caf1-4095-92ab-0921ab868a57",
   "metadata": {},
   "outputs": [
    {
     "data": {
      "application/vnd.jupyter.widget-view+json": {
       "model_id": "0af83b5584344c48bae3e02c9cd45111",
       "version_major": 2,
       "version_minor": 0
      },
      "text/plain": [
       "Canvas(toolbar=Toolbar(toolitems=[('Home', 'Reset original view', 'home', 'home'), ('Back', 'Back to previous …"
      ]
     },
     "metadata": {},
     "output_type": "display_data"
    }
   ],
   "source": [
    "X = 1\n",
    "Y = 2\n",
    "Z = 3\n",
    "\n",
    "fig = plt.figure(figsize=[18, 10])\n",
    "\n",
    "#ax = fig.add_subplot(1,1,1) \n",
    "ax = plt.axes(projection='3d')\n",
    "\n",
    "ax.set_xlabel(f'Principal Component {X}', fontsize=12)\n",
    "ax.set_ylabel(f'Principal Component {Y}', fontsize=12)\n",
    "ax.set_zlabel(f'Principal Component {Z}', fontsize=12)\n",
    "ax.set_title('3 Component PCA', fontsize = 20)\n",
    "\n",
    "targets = [0, 1, 2]\n",
    "colors = ['r', 'y', 'b']\n",
    "for target, color in zip(targets, colors):\n",
    "    indicesToKeep = finalDf['DX'] == target\n",
    "    ax.scatter(finalDf.loc[indicesToKeep, f'Principal Component {X}']\n",
    "               , finalDf.loc[indicesToKeep, f'Principal Component {Y}']\n",
    "               , finalDf.loc[indicesToKeep, f'Principal Component {Z}']\n",
    "               , c = color\n",
    "               , s = 50)\n",
    "    \n",
    "ax.legend(['CN', 'MCI', 'Dementia'])\n",
    "ax.grid()\n",
    "plt.tight_layout(pad=2)"
   ]
  },
  {
   "cell_type": "code",
   "execution_count": 12,
   "id": "46819de8-8669-42e2-9023-b5d2042d53fd",
   "metadata": {},
   "outputs": [],
   "source": [
    "from sklearn.linear_model import LinearRegression\n",
    "from sklearn.metrics import mean_squared_error, r2_score"
   ]
  },
  {
   "cell_type": "code",
   "execution_count": 13,
   "id": "27fd28cd-afae-4540-ac65-c05a15afacc9",
   "metadata": {},
   "outputs": [
    {
     "name": "stdout",
     "output_type": "stream",
     "text": [
      "Coefficients: \n",
      " [ 0.08711579  0.00168806 -0.02169753  0.03437152 -0.05087444 -0.01613713\n",
      " -0.07522323  0.01469333 -0.03976417 -0.02152026]\n",
      "Mean squared error: 0.37\n",
      "Coefficient of determination: -1.29\n"
     ]
    }
   ],
   "source": [
    "# Use only one feature\n",
    "X = finalDf.drop(\"DX\", axis=1).to_numpy().astype('int')\n",
    "y = finalDf.loc[:,['DX']].to_numpy().astype('int').flatten()\n",
    "\n",
    "# Split the data into training/testing sets\n",
    "X_train = X[:-20]\n",
    "X_test = X[-20:]\n",
    "\n",
    "# Split the targets into training/testing sets\n",
    "y_train = y[:-20]\n",
    "y_test = y[-20:]\n",
    "\n",
    "# Create linear regression object\n",
    "regr = LinearRegression()\n",
    "\n",
    "# Train the model using the training sets\n",
    "regr.fit(X_train, y_train)\n",
    "\n",
    "# Make predictions using the testing set\n",
    "y_pred = regr.predict(X_test)\n",
    "\n",
    "# The coefficients\n",
    "print('Coefficients: \\n', regr.coef_)\n",
    "# The mean squared error\n",
    "print('Mean squared error: %.2f' % mean_squared_error(y_test, y_pred))\n",
    "# The coefficient of determination: 1 is perfect prediction\n",
    "print('Coefficient of determination: %.2f' % r2_score(y_test, y_pred))\n",
    "\n"
   ]
  },
  {
   "cell_type": "markdown",
   "id": "65991f37-4166-429e-ace7-7a7ff75c738a",
   "metadata": {},
   "source": [
    "# Recursive Feature Elimination"
   ]
  },
  {
   "cell_type": "code",
   "execution_count": 14,
   "id": "2b926013-0d36-4c8a-b8b5-4ed1b68c6f86",
   "metadata": {},
   "outputs": [],
   "source": [
    "# explore the number of selected features for RFE\n",
    "from numpy import mean\n",
    "from numpy import std\n",
    "from sklearn.datasets import make_classification\n",
    "from sklearn.model_selection import cross_val_score\n",
    "from sklearn.model_selection import RepeatedStratifiedKFold\n",
    "from sklearn.feature_selection import RFE\n",
    "from sklearn.feature_selection import RFECV\n",
    "from sklearn.tree import DecisionTreeClassifier\n",
    "from sklearn.pipeline import Pipeline\n",
    "from matplotlib import pyplot"
   ]
  },
  {
   "cell_type": "code",
   "execution_count": 15,
   "id": "ebecbce6-0fe1-41f8-a01b-ffe245411e05",
   "metadata": {},
   "outputs": [
    {
     "name": "stdout",
     "output_type": "stream",
     "text": [
      ">2 0.770 (0.031)\n",
      ">3 0.743 (0.030)\n",
      ">4 0.741 (0.027)\n",
      ">5 0.742 (0.033)\n",
      ">6 0.745 (0.028)\n",
      ">7 0.748 (0.029)\n",
      ">8 0.743 (0.027)\n",
      ">9 0.739 (0.030)\n"
     ]
    }
   ],
   "source": [
    "# get a list of models to evaluate\n",
    "def get_models():\n",
    "\tmodels = dict()\n",
    "\tfor i in range(2, len(X.T)):\n",
    "\t\trfe = RFE(estimator=DecisionTreeClassifier(), n_features_to_select=i)\n",
    "\t\tmodel = DecisionTreeClassifier()\n",
    "\t\tmodels[str(i)] = Pipeline(steps=[('s',rfe),('m',model)])\n",
    "\treturn models\n",
    " \n",
    "# evaluate a give model using cross-validation\n",
    "def evaluate_model(model, X, y):\n",
    "\tcv = RepeatedStratifiedKFold(n_splits=10, n_repeats=3, random_state=1)\n",
    "\tscores = cross_val_score(model, X, y, scoring='accuracy', cv=cv, n_jobs=-1, error_score='raise')\n",
    "\treturn scores\n",
    "\n",
    "\n",
    "# get the models to evaluate\n",
    "models = get_models()\n",
    "# evaluate the models and store results\n",
    "results, names = list(), list()\n",
    "for name, model in models.items():\n",
    "\tscores = evaluate_model(model, X, y)\n",
    "\tresults.append(scores)\n",
    "\tnames.append(name)\n",
    "\tprint('>%s %.3f (%.3f)' % (name, mean(scores), std(scores)))\n"
   ]
  },
  {
   "cell_type": "code",
   "execution_count": 16,
   "id": "605b5395-38dc-4556-8ac0-7eae18aecbbc",
   "metadata": {},
   "outputs": [
    {
     "data": {
      "application/vnd.jupyter.widget-view+json": {
       "model_id": "01e6f27cb3e64f93bf808c60bcb009fc",
       "version_major": 2,
       "version_minor": 0
      },
      "text/plain": [
       "Canvas(toolbar=Toolbar(toolitems=[('Home', 'Reset original view', 'home', 'home'), ('Back', 'Back to previous …"
      ]
     },
     "metadata": {},
     "output_type": "display_data"
    }
   ],
   "source": [
    "# plot model performance for comparison\n",
    "plt.figure(figsize=[18, 10])\n",
    "plt.boxplot(results, labels=names, showmeans=True)\n",
    "plt.tight_layout(pad=2)"
   ]
  },
  {
   "cell_type": "markdown",
   "id": "4ab22462-9ff7-4937-8b49-86d9a917302e",
   "metadata": {},
   "source": [
    "## Automatic Select the Number of Features"
   ]
  },
  {
   "cell_type": "code",
   "execution_count": 17,
   "id": "4e42c30e-6ae1-4844-be8c-fe52ee926571",
   "metadata": {},
   "outputs": [
    {
     "name": "stdout",
     "output_type": "stream",
     "text": [
      "Accuracy: 0.743 (0.027)\n"
     ]
    }
   ],
   "source": [
    "# create pipeline\n",
    "rfe = RFECV(estimator=DecisionTreeClassifier(), min_features_to_select=3)\n",
    "model = DecisionTreeClassifier()\n",
    "pipeline = Pipeline(steps=[('s',rfe),('m',model)])\n",
    "# evaluate model\n",
    "cv = RepeatedStratifiedKFold(n_splits=10, n_repeats=3, random_state=1)\n",
    "n_scores = cross_val_score(pipeline, X, y, scoring='accuracy', cv=cv, n_jobs=-1, error_score='raise')\n",
    "# report performance\n",
    "print('Accuracy: %.3f (%.3f)' % (mean(n_scores), std(n_scores)))"
   ]
  },
  {
   "cell_type": "code",
   "execution_count": 18,
   "id": "bf3bb176-dab3-45e4-8c00-b3ed07c5a268",
   "metadata": {},
   "outputs": [
    {
     "data": {
      "text/plain": [
       "array([ True, False, False, False, False, False, False, False, False,\n",
       "       False])"
      ]
     },
     "execution_count": 18,
     "metadata": {},
     "output_type": "execute_result"
    }
   ],
   "source": [
    "estimator = DecisionTreeClassifier()\n",
    "selector = RFECV(estimator, step=0.5, cv=cv)\n",
    "selector = selector.fit(X_train, y_train)\n",
    "selector.support_"
   ]
  },
  {
   "cell_type": "code",
   "execution_count": null,
   "id": "582ae8e8-c7a6-4fce-b417-be8dc6f5d034",
   "metadata": {},
   "outputs": [],
   "source": []
  }
 ],
 "metadata": {
  "kernelspec": {
   "display_name": "Python 3",
   "language": "python",
   "name": "python3"
  },
  "language_info": {
   "codemirror_mode": {
    "name": "ipython",
    "version": 3
   },
   "file_extension": ".py",
   "mimetype": "text/x-python",
   "name": "python",
   "nbconvert_exporter": "python",
   "pygments_lexer": "ipython3",
   "version": "3.8.9"
  }
 },
 "nbformat": 4,
 "nbformat_minor": 5
}
