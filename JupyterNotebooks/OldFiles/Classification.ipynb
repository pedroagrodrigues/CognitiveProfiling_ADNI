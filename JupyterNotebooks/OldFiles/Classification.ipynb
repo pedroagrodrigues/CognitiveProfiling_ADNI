{
 "cells": [
  {
   "cell_type": "markdown",
   "id": "44df0474",
   "metadata": {},
   "source": [
    "# Classification"
   ]
  },
  {
   "cell_type": "code",
   "execution_count": 1,
   "id": "dac1ba98",
   "metadata": {},
   "outputs": [],
   "source": [
    "import pandas as pd \n",
    "import numpy as np\n",
    "import seaborn as sns\n",
    "import matplotlib.pyplot as plt\n",
    "%matplotlib widget\n",
    "\n",
    "from sklearn.model_selection import train_test_split\n",
    "from sklearn.preprocessing import MinMaxScaler"
   ]
  },
  {
   "cell_type": "code",
   "execution_count": 2,
   "id": "68f98ef6",
   "metadata": {},
   "outputs": [],
   "source": [
    "import common"
   ]
  },
  {
   "cell_type": "code",
   "execution_count": null,
   "id": "40bfe7f3",
   "metadata": {},
   "outputs": [],
   "source": [
    "data = common.loadFile(\"CleanedData\").drop([\"RID\", \"VISCODE\"], axis=1)"
   ]
  },
  {
   "cell_type": "code",
   "execution_count": null,
   "id": "f548f432",
   "metadata": {},
   "outputs": [],
   "source": [
    "plt.figure()\n",
    "ax = sns.countplot(x=data['DX'])\n",
    "plt.title(\"Data Diagnosis\")\n",
    "plt.ylabel(\"Count\")\n",
    "plt.xlabel(\"Diagnosis\")\n",
    "plt.xticks(ticks=range(0,3), labels=['CN', 'MCI', 'Dementia'])\n",
    "\n",
    "for p in ax.patches:\n",
    "    ax.annotate(f'\\n{p.get_height()}', (p.get_x()+p.get_width()/2, p.get_height()), ha='center', \n",
    "                va='top', color='white', size=18)"
   ]
  },
  {
   "cell_type": "markdown",
   "id": "ad153554",
   "metadata": {},
   "source": [
    "## Create Training and Test Sets and Apply Scaling"
   ]
  },
  {
   "cell_type": "code",
   "execution_count": null,
   "id": "ad083d12",
   "metadata": {},
   "outputs": [],
   "source": [
    "data = [data, common.loadFile(\"PCAData\"), common.loadFile(\"ICAData\")]\n",
    "label = [\"Full Data\", \"PCA Data\", \"ICA Data\"]"
   ]
  },
  {
   "cell_type": "code",
   "execution_count": null,
   "id": "80a55c24",
   "metadata": {},
   "outputs": [],
   "source": [
    "X = []\n",
    "y = []\n",
    "X_train = []\n",
    "X_test = []\n",
    "y_train = []\n",
    "y_test = []\n",
    "scaler = []\n",
    "\n",
    "for i in range(len(data)):\n",
    "    X.append(data[i].drop(\"DX\", axis=1).to_numpy().astype('float'))\n",
    "    y.append(data[i].loc[:,['DX']].to_numpy().astype('float').flatten())\n",
    "    \n",
    "\n",
    "    xtrain, xtest, ytrain, ytest = train_test_split(X[i], y[i], test_size=0.3, random_state=0)\n",
    "    X_train.append(xtrain)\n",
    "    X_test.append(xtest)\n",
    "    y_train.append(ytrain)\n",
    "    y_test.append(ytest)\n",
    "    \n",
    "    scaler.append(MinMaxScaler())\n",
    "    X_train.append(scaler[i].fit_transform(xtrain))\n",
    "    X_test.append(scaler[i].transform(xtest))"
   ]
  },
  {
   "cell_type": "markdown",
   "id": "2634c37d",
   "metadata": {},
   "source": [
    "## Models"
   ]
  },
  {
   "cell_type": "markdown",
   "id": "a2287884",
   "metadata": {},
   "source": [
    "### Decision Tree"
   ]
  },
  {
   "cell_type": "code",
   "execution_count": null,
   "id": "d43f8321",
   "metadata": {},
   "outputs": [],
   "source": [
    "from sklearn.tree import DecisionTreeClassifier\n",
    "for i in range(len(data)):\n",
    "    print(f\"Accuracy of Decision Tree classifier for {label[i]}\")\n",
    "    dt = DecisionTreeClassifier().fit(X_train[i], y_train[i])\n",
    "    print('Training set: {:.2f}'\n",
    "         .format(dt.score(X_train[i], y_train[i])))\n",
    "    print('Test set: {:.2f}'\n",
    "         .format(dt.score(X_test[i], y_test[i])))"
   ]
  },
  {
   "cell_type": "markdown",
   "id": "870886e5",
   "metadata": {},
   "source": [
    "### K-Nearest Neighbors"
   ]
  },
  {
   "cell_type": "code",
   "execution_count": null,
   "id": "a770189b",
   "metadata": {},
   "outputs": [],
   "source": [
    "from sklearn.neighbors import KNeighborsClassifier\n",
    "\n",
    "for i in range(len(data)):\n",
    "    knn = KNeighborsClassifier().fit(X_train[i], y_train[i])\n",
    "\n",
    "    print(f\"Accuracy of K-NN classifier for {label[i]}\")\n",
    "    print('Training set: {:.2f}'\n",
    "         .format(knn.score(X_train[i], y_train[i])))\n",
    "    print('Test set: {:.2f}'\n",
    "         .format(knn.score(X_test[i], y_test[i])))"
   ]
  },
  {
   "cell_type": "markdown",
   "id": "d082ad86",
   "metadata": {},
   "source": [
    "### Linear Discriminant Analysis"
   ]
  },
  {
   "cell_type": "code",
   "execution_count": null,
   "id": "22ccf825",
   "metadata": {},
   "outputs": [],
   "source": [
    "from sklearn.discriminant_analysis import LinearDiscriminantAnalysis\n",
    "for i in range(len(data)):\n",
    "    lda = LinearDiscriminantAnalysis().fit(X_train[i], y_train[i])\n",
    "    print(f\"Accuracy of LDA classifier for {label[i]}\")\n",
    "    print('Training set: {:.2f}'\n",
    "         .format(lda.score(X_train[i], y_train[i])))\n",
    "    print('Test set: {:.2f}'\n",
    "         .format(lda.score(X_test[i], y_test[i])))"
   ]
  },
  {
   "cell_type": "markdown",
   "id": "eaacb589",
   "metadata": {},
   "source": [
    "### Gaussian Naive Bayes"
   ]
  },
  {
   "cell_type": "code",
   "execution_count": null,
   "id": "acaa46e3",
   "metadata": {},
   "outputs": [],
   "source": [
    "from sklearn.naive_bayes import GaussianNB\n",
    "\n",
    "for i in range(len(data)):\n",
    "    gnb = GaussianNB().fit(X_train[i], y_train[i])\n",
    "    \n",
    "    print(f\"Accuracy of GNB classifier for {label[i]}\")\n",
    "    print('Training set: {:.2f}'\n",
    "         .format(gnb.score(X_train[i], y_train[i])))\n",
    "    print('Test set: {:.2f}'\n",
    "         .format(gnb.score(X_test[i], y_test[i])))"
   ]
  },
  {
   "cell_type": "markdown",
   "id": "02d47b32",
   "metadata": {},
   "source": [
    "### Support Vector Machine"
   ]
  },
  {
   "cell_type": "code",
   "execution_count": null,
   "id": "a1410638",
   "metadata": {},
   "outputs": [],
   "source": [
    "from sklearn.svm import SVC\n",
    "for i in range(len(data)):\n",
    "    svm = SVC(kernel='rbf').fit(X_train[i], y_train[i])\n",
    "\n",
    "    print(f\"Accuracy of SVM classifier for {label[i]}\")\n",
    "    print('Training set: {:.2f}'\n",
    "         .format(svm.score(X_train[i], y_train[i])))\n",
    "    print('Test set: {:.2f}'\n",
    "         .format(svm.score(X_test[i], y_test[i])))"
   ]
  },
  {
   "cell_type": "code",
   "execution_count": null,
   "id": "f7084485",
   "metadata": {},
   "outputs": [],
   "source": []
  }
 ],
 "metadata": {
  "interpreter": {
   "hash": "df4d921c18dab5cb0af99d4dd072adc6a573b508cad7709a986cc5c3cf799784"
  },
  "kernelspec": {
   "display_name": "Python 3",
   "language": "python",
   "name": "python3"
  },
  "language_info": {
   "codemirror_mode": {
    "name": "ipython",
    "version": 3
   },
   "file_extension": ".py",
   "mimetype": "text/x-python",
   "name": "python",
   "nbconvert_exporter": "python",
   "pygments_lexer": "ipython3",
   "version": "3.8.9"
  }
 },
 "nbformat": 4,
 "nbformat_minor": 5
}
