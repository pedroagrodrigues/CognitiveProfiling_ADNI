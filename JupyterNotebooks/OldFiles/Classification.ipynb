{
 "cells": [
  {
   "cell_type": "markdown",
   "id": "44df0474",
   "metadata": {},
   "source": [
    "# Classification"
   ]
  },
  {
   "cell_type": "code",
   "execution_count": 1,
   "id": "dac1ba98",
   "metadata": {},
   "outputs": [],
   "source": [
    "import pandas as pd \r\n",
    "import numpy as np\r\n",
    "import seaborn as sns\r\n",
    "import matplotlib.pyplot as plt\r\n",
    "%matplotlib widget\r\n",
    "\r\n",
    "from sklearn.model_selection import train_test_split\r\n",
    "from sklearn.preprocessing import MinMaxScaler"
   ]
  },
  {
   "cell_type": "code",
   "execution_count": 2,
   "id": "68f98ef6",
   "metadata": {},
   "outputs": [],
   "source": [
    "import common"
   ]
  },
  {
   "cell_type": "code",
   "execution_count": null,
   "id": "40bfe7f3",
   "metadata": {},
   "outputs": [],
   "source": [
    "data = common.loadFile(\"CleanedData\").drop([\"RID\", \"VISCODE\"], axis=1)"
   ]
  },
  {
   "cell_type": "code",
   "execution_count": null,
   "id": "f548f432",
   "metadata": {},
   "outputs": [],
   "source": [
    "plt.figure()\r\n",
    "ax = sns.countplot(x=data['DX'])\r\n",
    "plt.title(\"Data Diagnosis\")\r\n",
    "plt.ylabel(\"Count\")\r\n",
    "plt.xlabel(\"Diagnosis\")\r\n",
    "plt.xticks(ticks=range(0,3), labels=['CN', 'MCI', 'Dementia'])\r\n",
    "\r\n",
    "for p in ax.patches:\r\n",
    "        ax.annotate(f'\\n{p.get_height()}', (p.get_x()+p.get_width()/2, p.get_height()), ha='center', \r\n",
    "                    va='top', color='white', size=18)"
   ]
  },
  {
   "cell_type": "markdown",
   "id": "ad153554",
   "metadata": {},
   "source": [
    "## Create Training and Test Sets and Apply Scaling"
   ]
  },
  {
   "cell_type": "code",
   "execution_count": null,
   "id": "ad083d12",
   "metadata": {},
   "outputs": [],
   "source": [
    "data = [data, common.loadFile(\"PCAData\"), common.loadFile(\"ICAData\")]\r\n",
    "label = [\"Full Data\", \"PCA Data\", \"ICA Data\"]"
   ]
  },
  {
   "cell_type": "code",
   "execution_count": null,
   "id": "80a55c24",
   "metadata": {},
   "outputs": [],
   "source": [
    "X = []\r\n",
    "y = []\r\n",
    "X_train = []\r\n",
    "X_test = []\r\n",
    "y_train = []\r\n",
    "y_test = []\r\n",
    "scaler = []\r\n",
    "\r\n",
    "for i in range(len(data)):\r\n",
    "    X.append(data[i].drop(\"DX\", axis=1).to_numpy().astype('float'))\r\n",
    "    y.append(data[i].loc[:,['DX']].to_numpy().astype('float').flatten())\r\n",
    "    \r\n",
    "\r\n",
    "    xtrain, xtest, ytrain, ytest = train_test_split(X[i], y[i], test_size=0.3, random_state=0)\r\n",
    "    X_train.append(xtrain)\r\n",
    "    X_test.append(xtest)\r\n",
    "    y_train.append(ytrain)\r\n",
    "    y_test.append(ytest)\r\n",
    "    \r\n",
    "    scaler.append(MinMaxScaler())\r\n",
    "    X_train.append(scaler[i].fit_transform(xtrain))\r\n",
    "    X_test.append(scaler[i].transform(xtest))"
   ]
  },
  {
   "cell_type": "markdown",
   "id": "2634c37d",
   "metadata": {},
   "source": [
    "## Models"
   ]
  },
  {
   "cell_type": "markdown",
   "id": "a2287884",
   "metadata": {},
   "source": [
    "### Decision Tree"
   ]
  },
  {
   "cell_type": "code",
   "execution_count": null,
   "id": "d43f8321",
   "metadata": {},
   "outputs": [],
   "source": [
    "from sklearn.tree import DecisionTreeClassifier\r\n",
    "for i in range(len(data)):\r\n",
    "    print(f\"Accuracy of Decision Tree classifier for {label[i]}\")\r\n",
    "    dt = DecisionTreeClassifier().fit(X_train[i], y_train[i])\r\n",
    "    print('Training set: {:.2f}'\r\n",
    "         .format(dt.score(X_train[i], y_train[i])))\r\n",
    "    print('Test set: {:.2f}'\r\n",
    "         .format(dt.score(X_test[i], y_test[i])))"
   ]
  },
  {
   "cell_type": "markdown",
   "id": "870886e5",
   "metadata": {},
   "source": [
    "### K-Nearest Neighbors"
   ]
  },
  {
   "cell_type": "code",
   "execution_count": null,
   "id": "a770189b",
   "metadata": {},
   "outputs": [],
   "source": [
    "from sklearn.neighbors import KNeighborsClassifier\n",
    "\n",
    "for i in range(len(data)):\n",
    "    knn = KNeighborsClassifier().fit(X_train[i], y_train[i])\n",
    "\n",
    "    print(f\"Accuracy of K-NN classifier for {label[i]}\")\n",
    "    print('Training set: {:.2f}'\n",
    "         .format(knn.score(X_train[i], y_train[i])))\n",
    "    print('Test set: {:.2f}'\n",
    "         .format(knn.score(X_test[i], y_test[i])))"
   ]
  },
  {
   "cell_type": "markdown",
   "id": "d082ad86",
   "metadata": {},
   "source": [
    "### Linear Discriminant Analysis"
   ]
  },
  {
   "cell_type": "code",
   "execution_count": null,
   "id": "22ccf825",
   "metadata": {},
   "outputs": [],
   "source": [
    "from sklearn.discriminant_analysis import LinearDiscriminantAnalysis\n",
    "for i in range(len(data)):\n",
    "    lda = LinearDiscriminantAnalysis().fit(X_train[i], y_train[i])\n",
    "    print(f\"Accuracy of LDA classifier for {label[i]}\")\n",
    "    print('Training set: {:.2f}'\n",
    "         .format(lda.score(X_train[i], y_train[i])))\n",
    "    print('Test set: {:.2f}'\n",
    "         .format(lda.score(X_test[i], y_test[i])))"
   ]
  },
  {
   "cell_type": "markdown",
   "id": "eaacb589",
   "metadata": {},
   "source": [
    "### Gaussian Naive Bayes"
   ]
  },
  {
   "cell_type": "code",
   "execution_count": null,
   "id": "acaa46e3",
   "metadata": {},
   "outputs": [],
   "source": [
    "from sklearn.naive_bayes import GaussianNB\n",
    "\n",
    "for i in range(len(data)):\n",
    "    gnb = GaussianNB().fit(X_train[i], y_train[i])\n",
    "    \n",
    "    print(f\"Accuracy of GNB classifier for {label[i]}\")\n",
    "    print('Training set: {:.2f}'\n",
    "         .format(gnb.score(X_train[i], y_train[i])))\n",
    "    print('Test set: {:.2f}'\n",
    "         .format(gnb.score(X_test[i], y_test[i])))"
   ]
  },
  {
   "cell_type": "markdown",
   "id": "02d47b32",
   "metadata": {},
   "source": [
    "### Support Vector Machine"
   ]
  },
  {
   "cell_type": "code",
   "execution_count": null,
   "id": "a1410638",
   "metadata": {},
   "outputs": [],
   "source": [
    "from sklearn.svm import SVC\n",
    "for i in range(len(data)):\n",
    "    svm = SVC(kernel='rbf').fit(X_train[i], y_train[i])\n",
    "\n",
    "    print(f\"Accuracy of SVM classifier for {label[i]}\")\n",
    "    print('Training set: {:.2f}'\n",
    "         .format(svm.score(X_train[i], y_train[i])))\n",
    "    print('Test set: {:.2f}'\n",
    "         .format(svm.score(X_test[i], y_test[i])))"
   ]
  },
  {
   "cell_type": "code",
   "execution_count": null,
   "id": "f7084485",
   "metadata": {},
   "outputs": [],
   "source": []
  }
 ],
 "metadata": {
  "interpreter": {
   "hash": "df4d921c18dab5cb0af99d4dd072adc6a573b508cad7709a986cc5c3cf799784"
  },
  "kernelspec": {
   "display_name": "Python 3",
   "language": "python",
   "name": "python3"
  },
  "language_info": {
   "codemirror_mode": {
    "name": "ipython",
    "version": 3
   },
   "file_extension": ".py",
   "mimetype": "text/x-python",
   "name": "python",
   "nbconvert_exporter": "python",
   "pygments_lexer": "ipython3",
   "version": "3.8.9"
  }
 },
 "nbformat": 4,
 "nbformat_minor": 5
}
