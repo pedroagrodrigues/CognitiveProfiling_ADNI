{
 "cells": [
  {
   "cell_type": "markdown",
   "id": "closed-modem",
   "metadata": {},
   "source": [
    "# Correlations"
   ]
  },
  {
   "cell_type": "markdown",
   "id": "behavioral-yacht",
   "metadata": {},
   "source": [
    "**Imports** - *External*"
   ]
  },
  {
   "cell_type": "code",
   "execution_count": 1,
   "id": "preceding-niger",
   "metadata": {},
   "outputs": [],
   "source": [
    "%matplotlib widget\n",
    "import warnings\n",
    "import numpy as np\n",
    "import pandas as pd\n",
    "import seaborn as sns\n",
    "import scipy\n",
    "from scipy.stats import pearsonr\n",
    "import matplotlib.pyplot as plt\n",
    "import common"
   ]
  },
  {
   "cell_type": "markdown",
   "id": "strong-charlotte",
   "metadata": {},
   "source": [
    "*Internal*"
   ]
  },
  {
   "cell_type": "code",
   "execution_count": 2,
   "id": "860032f5",
   "metadata": {},
   "outputs": [],
   "source": [
    "from Data import Merge"
   ]
  },
  {
   "cell_type": "code",
   "execution_count": 3,
   "id": "acute-stuart",
   "metadata": {},
   "outputs": [
    {
     "data": {
      "text/plain": [
       "{'divide': 'warn', 'over': 'warn', 'under': 'ignore', 'invalid': 'warn'}"
      ]
     },
     "execution_count": 3,
     "metadata": {},
     "output_type": "execute_result"
    }
   ],
   "source": [
    "np.seterr(divide='ignore', invalid='ignore')"
   ]
  },
  {
   "cell_type": "markdown",
   "id": "amino-providence",
   "metadata": {},
   "source": [
    "**The path used to save the correlation file is:**"
   ]
  },
  {
   "cell_type": "code",
   "execution_count": 4,
   "id": "pretty-meditation",
   "metadata": {},
   "outputs": [],
   "source": [
    "path = None"
   ]
  },
  {
   "cell_type": "markdown",
   "id": "freelance-world",
   "metadata": {},
   "source": [
    "**Fnction used to calculate correlation between two columns where they both have some sort of value:**\n",
    "\n",
    "This function is using Pearson product-moment correlation coefficients:\n",
    "\n",
    "\\begin{equation}\n",
    "    R_{ij} = \\frac{ C_{ij} } { \\sqrt{ C_{ii} * C_{jj} } }\n",
    "\\end{equation}\n"
   ]
  },
  {
   "cell_type": "code",
   "execution_count": 5,
   "id": "demanding-spell",
   "metadata": {},
   "outputs": [],
   "source": [
    "def getCorr(x, y):\n",
    "    xData = []\n",
    "    yData = []\n",
    "    for i in range(len(x)): # Both columns must have same size\n",
    "        if x[i] != '' and y[i] != '':\n",
    "            xData.append(float(x[i]))\n",
    "            yData.append(float(y[i]))\n",
    "    xData = np.array(xData)\n",
    "    yData = np.array(yData)\n",
    "    return np.corrcoef(xData, yData)[0, 1]"
   ]
  },
  {
   "cell_type": "markdown",
   "id": "cooperative-shock",
   "metadata": {},
   "source": [
    "Load the data:"
   ]
  },
  {
   "cell_type": "code",
   "execution_count": 6,
   "id": "selected-truth",
   "metadata": {},
   "outputs": [],
   "source": [
    "\n",
    "data = Merge().data\n",
    "\n",
    "data = data.drop({'VISCODE', 'RID'}, axis=1)\n",
    "dataLabels = data.columns.values\n",
    "dataNumpy = data.to_numpy()\n",
    "\n",
    "correlations = pd.DataFrame(index=dataLabels, columns=dataLabels)\n",
    "\n",
    "for i in range(len(dataLabels)):\n",
    "    correlations.at[dataLabels[i], dataLabels[i]] = 1\n",
    "\n",
    "    # The next two lines ignore all warnings within this category\n",
    "    with warnings.catch_warnings():\n",
    "        warnings.simplefilter(\"ignore\", category=RuntimeWarning)\n",
    "\n",
    "        for j in range(i+1, len(dataLabels)):\n",
    "            corr = getCorr(dataNumpy[:, i], dataNumpy[:, j])\n",
    "            correlations.at[dataLabels[i], dataLabels[j]] = correlations.at[dataLabels[j], dataLabels[i]] = 0 if np.isnan(corr) else abs(corr)\n",
    "            \n"
   ]
  },
  {
   "cell_type": "markdown",
   "id": "juvenile-classroom",
   "metadata": {},
   "source": [
    "Here we will proceed to the configuration of the **seaborn** heatmap."
   ]
  },
  {
   "cell_type": "code",
   "execution_count": 7,
   "id": "developed-rebecca",
   "metadata": {},
   "outputs": [],
   "source": [
    "aux = sns.color_palette(\"coolwarm\", as_cmap=True)"
   ]
  },
  {
   "cell_type": "code",
   "execution_count": 22,
   "id": "oriented-nickname",
   "metadata": {},
   "outputs": [
    {
     "data": {
      "application/vnd.jupyter.widget-view+json": {
       "model_id": "2ff13e82cc7b4ca9b35a791b3e59576e",
       "version_major": 2,
       "version_minor": 0
      },
      "text/plain": [
       "Canvas(toolbar=Toolbar(toolitems=[('Home', 'Reset original view', 'home', 'home'), ('Back', 'Back to previous …"
      ]
     },
     "metadata": {},
     "output_type": "display_data"
    }
   ],
   "source": [
    "plt.figure(figsize=[18, 10])\n",
    "plt.title('Correlations')\n",
    "\n",
    "sns.heatmap(np.ma.filled(correlations.astype(float), np.nan), annot=True, annot_kws={\"size\": 7}, xticklabels=correlations.columns, yticklabels=correlations.index, cmap=aux)\n",
    "plt.tight_layout(pad=2)"
   ]
  },
  {
   "cell_type": "code",
   "execution_count": 9,
   "id": "brilliant-reference",
   "metadata": {
    "tags": []
   },
   "outputs": [],
   "source": [
    "def getCorrP(x, y):\n",
    "    xData = []\n",
    "    yData = []\n",
    "    for i in range(len(x)): # Both columns must have same size\n",
    "        if x[i] != '' and y[i] != '':\n",
    "            xData.append(float(x[i]))\n",
    "            yData.append(float(y[i]))\n",
    "    if len(xData) > 1:\n",
    "        return pearsonr(xData, yData)\n",
    "    return 0, 0\n",
    "    "
   ]
  },
  {
   "cell_type": "code",
   "execution_count": 10,
   "id": "suspected-techno",
   "metadata": {},
   "outputs": [],
   "source": [
    "data = Merge().data\n",
    "data = data.drop('VISCODE', axis=1)\n",
    "\n",
    "dataLabels = data.columns.values\n",
    "dataNumpy = data.to_numpy()\n",
    "\n",
    "correlations = pd.DataFrame(index=dataLabels, columns=dataLabels)\n",
    "\n",
    "pValues = pd.DataFrame(index=dataLabels, columns=dataLabels)\n",
    "\n",
    "tableCorrP = pd.DataFrame(columns=[\"Labels\", \"Correlation\", \"p_Value\"])\n",
    "#getCorrP(dataNumpy[:, 2], dataNumpy[:,5])\n",
    "\n",
    "\n",
    "\n",
    "for i in range(len(dataLabels)):\n",
    "    correlations.at[dataLabels[i], dataLabels[i]] = 1\n",
    "    pValues.at[dataLabels[i], dataLabels[i]] = 0\n",
    "    for j in range(i+1, len(dataLabels)):\n",
    "        p_r, p_p = getCorrP(dataNumpy[:, i], dataNumpy[:, j])\n",
    "        correlations.at[dataLabels[i], dataLabels[j]] = correlations.at[dataLabels[j], dataLabels[i]] = p_r\n",
    "        pValues.at[dataLabels[i], dataLabels[j]] = pValues.at[dataLabels[j], dataLabels[i]] = p_p\n",
    "        \n",
    "        tableCorrP = tableCorrP.append(dict(zip(tableCorrP.columns,[f\"{dataLabels[i]} -> {dataLabels[j]}\", p_r, p_p])), ignore_index = True)\n",
    "        "
   ]
  },
  {
   "cell_type": "code",
   "execution_count": 11,
   "id": "humanitarian-niagara",
   "metadata": {},
   "outputs": [
    {
     "name": "stdout",
     "output_type": "stream",
     "text": [
      "                      Labels  Correlation        p_Value\n",
      "0                 RID -> AGE    -0.191673  9.137021e-125\n",
      "1            RID -> PTGENDER    -0.086936   1.043889e-26\n",
      "2            RID -> PTEDUCAT     0.095091   1.194564e-31\n",
      "3               RID -> CDRSB    -0.128112   6.673856e-41\n",
      "4              RID -> ADAS11    -0.068106   2.043346e-12\n",
      "..                       ...          ...            ...\n",
      "95   PTGENDER -> EcogSPTotal     0.089364   9.477104e-14\n",
      "96            PTGENDER -> DX     0.081659   3.411491e-17\n",
      "97    PTGENDER -> mPACCdigit    -0.058814   1.203063e-09\n",
      "98  PTGENDER -> mPACCtrailsB    -0.050600   1.690541e-07\n",
      "99         PTEDUCAT -> CDRSB    -0.110210   1.190217e-30\n",
      "\n",
      "[100 rows x 3 columns]\n"
     ]
    }
   ],
   "source": [
    "print(tableCorrP.head(100))"
   ]
  },
  {
   "cell_type": "markdown",
   "id": "civilian-smart",
   "metadata": {},
   "source": [
    "# Correlations"
   ]
  },
  {
   "cell_type": "code",
   "execution_count": 23,
   "id": "great-issue",
   "metadata": {},
   "outputs": [
    {
     "data": {
      "application/vnd.jupyter.widget-view+json": {
       "model_id": "9dc2b7a31aca4158bdac4c39649f795d",
       "version_major": 2,
       "version_minor": 0
      },
      "text/plain": [
       "Canvas(toolbar=Toolbar(toolitems=[('Home', 'Reset original view', 'home', 'home'), ('Back', 'Back to previous …"
      ]
     },
     "metadata": {},
     "output_type": "display_data"
    }
   ],
   "source": [
    "plt.figure(figsize=[18, 10])\n",
    "plt.title('Correlations')\n",
    "sns.heatmap(np.ma.filled(correlations.astype(float), np.nan), annot=True, annot_kws={\"size\": 7}, xticklabels=correlations.columns, yticklabels=correlations.index, cmap=aux)\n",
    "plt.tight_layout(pad=2)"
   ]
  },
  {
   "cell_type": "markdown",
   "id": "refined-twist",
   "metadata": {},
   "source": [
    "# P_Values"
   ]
  },
  {
   "cell_type": "code",
   "execution_count": 13,
   "id": "necessary-memphis",
   "metadata": {},
   "outputs": [
    {
     "data": {
      "application/vnd.jupyter.widget-view+json": {
       "model_id": "e89c44bc23824981b97cecc32c2dd8ec",
       "version_major": 2,
       "version_minor": 0
      },
      "text/plain": [
       "Canvas(toolbar=Toolbar(toolitems=[('Home', 'Reset original view', 'home', 'home'), ('Back', 'Back to previous …"
      ]
     },
     "metadata": {},
     "output_type": "display_data"
    }
   ],
   "source": [
    "plt.figure(figsize=[18, 10])\n",
    "plt.title('p Values')\n",
    "sns.heatmap(np.ma.filled(pValues.astype(float), np.nan), annot=True, annot_kws={\"size\": 7}, xticklabels=pValues.columns, yticklabels=pValues.index, cmap=aux)\n",
    "plt.tight_layout(pad=2)"
   ]
  },
  {
   "cell_type": "markdown",
   "id": "sized-cover",
   "metadata": {},
   "source": [
    "## Correlations filtered by p Value"
   ]
  },
  {
   "cell_type": "code",
   "execution_count": 14,
   "id": "relevant-relations",
   "metadata": {},
   "outputs": [],
   "source": [
    "pFilter = 0.05 #Max value"
   ]
  },
  {
   "cell_type": "code",
   "execution_count": 15,
   "id": "friendly-intention",
   "metadata": {},
   "outputs": [],
   "source": [
    "mask = pd.DataFrame(index=dataLabels, columns=dataLabels)\n",
    "\n",
    "for i in range(len(dataLabels)):\n",
    "    mask.at[dataLabels[i], dataLabels[i]] = False\n",
    "    for j in range(i+1, len(dataLabels)):\n",
    "        if pValues.at[dataLabels[i], dataLabels[j]] >= pFilter:\n",
    "            mask.at[dataLabels[i], dataLabels[j]] = mask.at[dataLabels[j], dataLabels[i]] = True\n",
    "        else:\n",
    "            mask.at[dataLabels[i], dataLabels[j]] = mask.at[dataLabels[j], dataLabels[i]] = False\n",
    "\n",
    "mask = mask.to_numpy()"
   ]
  },
  {
   "cell_type": "code",
   "execution_count": 16,
   "id": "sudden-correspondence",
   "metadata": {},
   "outputs": [
    {
     "data": {
      "application/vnd.jupyter.widget-view+json": {
       "model_id": "da9cc72cafd1476d9c11d75ebbdf52d7",
       "version_major": 2,
       "version_minor": 0
      },
      "text/plain": [
       "Canvas(toolbar=Toolbar(toolitems=[('Home', 'Reset original view', 'home', 'home'), ('Back', 'Back to previous …"
      ]
     },
     "metadata": {},
     "output_type": "display_data"
    }
   ],
   "source": [
    "plt.figure(figsize=[18, 10])\n",
    "aux = sns.color_palette(\"coolwarm\", as_cmap=True)\n",
    "plt.title('Correlations filtered by p Value')\n",
    "sns.heatmap(np.ma.filled(correlations.astype(float), np.nan), annot=True, annot_kws={\"size\": 7}, xticklabels=correlations.columns, yticklabels=correlations.index, cmap=aux, mask=mask)\n",
    "plt.tight_layout(pad=2)"
   ]
  },
  {
   "cell_type": "markdown",
   "id": "filled-affect",
   "metadata": {},
   "source": [
    "## Bonferroni Correction"
   ]
  },
  {
   "cell_type": "code",
   "execution_count": 17,
   "id": "dress-national",
   "metadata": {},
   "outputs": [],
   "source": [
    "mask = pd.DataFrame(index=dataLabels, columns=dataLabels)\n",
    "\n",
    "for i in range(len(dataLabels)):\n",
    "    mask.at[dataLabels[i], dataLabels[i]] = False\n",
    "    for j in range(i+1, len(dataLabels)):\n",
    "        if pValues.at[dataLabels[i], dataLabels[j]] >= pFilter/(len(dataLabels)**2):\n",
    "            mask.at[dataLabels[i], dataLabels[j]] = mask.at[dataLabels[j], dataLabels[i]] = True  #Hide\n",
    "        else:\n",
    "            mask.at[dataLabels[i], dataLabels[j]] = mask.at[dataLabels[j], dataLabels[i]] = False\n",
    "\n",
    "mask = mask.to_numpy()"
   ]
  },
  {
   "cell_type": "code",
   "execution_count": 18,
   "id": "following-textbook",
   "metadata": {},
   "outputs": [
    {
     "data": {
      "application/vnd.jupyter.widget-view+json": {
       "model_id": "49420565380a446086a9b21211a7db07",
       "version_major": 2,
       "version_minor": 0
      },
      "text/plain": [
       "Canvas(toolbar=Toolbar(toolitems=[('Home', 'Reset original view', 'home', 'home'), ('Back', 'Back to previous …"
      ]
     },
     "metadata": {},
     "output_type": "display_data"
    }
   ],
   "source": [
    "plt.figure(figsize=[18, 10])\n",
    "aux = sns.color_palette(\"coolwarm\", as_cmap=True)\n",
    "plt.title('Bonferroni Correction')\n",
    "sns.heatmap(np.ma.filled(correlations.astype(float), np.nan), annot=True, annot_kws={\"size\": 7}, xticklabels=correlations.columns, yticklabels=correlations.index, cmap=aux, mask=mask)\n",
    "plt.tight_layout(pad=2)"
   ]
  },
  {
   "cell_type": "markdown",
   "id": "coupled-storm",
   "metadata": {},
   "source": [
    "## Correlações acima de 60% e Filtro de Bonferroni Correction"
   ]
  },
  {
   "cell_type": "code",
   "execution_count": 19,
   "id": "refined-covering",
   "metadata": {},
   "outputs": [],
   "source": [
    "corrFilter = 0.6"
   ]
  },
  {
   "cell_type": "code",
   "execution_count": 20,
   "id": "together-drill",
   "metadata": {},
   "outputs": [],
   "source": [
    "mask = pd.DataFrame(index=dataLabels, columns=dataLabels)\n",
    "\n",
    "for i in range(len(dataLabels)):\n",
    "    mask.at[dataLabels[i], dataLabels[i]] = False\n",
    "    for j in range(i+1, len(dataLabels)):\n",
    "        if pValues.at[dataLabels[i], dataLabels[j]] >= pFilter/(len(dataLabels)**2) or abs(correlations.at[dataLabels[i], dataLabels[j]]) < corrFilter:\n",
    "            mask.at[dataLabels[i], dataLabels[j]] = mask.at[dataLabels[j], dataLabels[i]] = True  #Hide\n",
    "        else:\n",
    "            mask.at[dataLabels[i], dataLabels[j]] = mask.at[dataLabels[j], dataLabels[i]] = False\n",
    "\n",
    "mask = mask.to_numpy()"
   ]
  },
  {
   "cell_type": "code",
   "execution_count": 25,
   "id": "celtic-forwarding",
   "metadata": {},
   "outputs": [
    {
     "data": {
      "application/vnd.jupyter.widget-view+json": {
       "model_id": "0133548ad69c4198aa3bf7e36ba986e5",
       "version_major": 2,
       "version_minor": 0
      },
      "text/plain": [
       "Canvas(toolbar=Toolbar(toolitems=[('Home', 'Reset original view', 'home', 'home'), ('Back', 'Back to previous …"
      ]
     },
     "metadata": {},
     "output_type": "display_data"
    }
   ],
   "source": [
    "plt.figure(figsize=[18, 10])\n",
    "aux = sns.color_palette(\"coolwarm\", as_cmap=True)\n",
    "plt.title(f'Bonferroni Correction >{corrFilter * 100}% with pValue <{pFilter * 100}% Filter')\n",
    "sns.heatmap(np.ma.filled(correlations.astype(float), np.nan), annot=True, annot_kws={\"size\": 7}, xticklabels=correlations.columns, yticklabels=correlations.index, cmap=aux, mask=mask,  linewidths=0.5, linecolor='gray')\n",
    "plt.tight_layout(pad=2)"
   ]
  },
  {
   "cell_type": "code",
   "execution_count": null,
   "id": "3076f7b1-d26e-46f5-9fe6-487c9629c9a8",
   "metadata": {},
   "outputs": [],
   "source": []
  }
 ],
 "metadata": {
  "kernelspec": {
   "display_name": "Python 3",
   "language": "python",
   "name": "python3"
  },
  "language_info": {
   "codemirror_mode": {
    "name": "ipython",
    "version": 3
   },
   "file_extension": ".py",
   "mimetype": "text/x-python",
   "name": "python",
   "nbconvert_exporter": "python",
   "pygments_lexer": "ipython3",
   "version": "3.8.9"
  }
 },
 "nbformat": 4,
 "nbformat_minor": 5
}
