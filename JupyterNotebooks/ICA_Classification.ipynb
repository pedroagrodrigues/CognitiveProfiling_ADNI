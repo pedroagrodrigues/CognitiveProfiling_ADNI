{
 "cells": [
  {
   "cell_type": "markdown",
   "id": "44c56927-6887-4cae-8765-44408d3a22b5",
   "metadata": {},
   "source": [
    "# ICA Classification "
   ]
  },
  {
   "cell_type": "markdown",
   "id": "199f440e-8d8f-4196-ba3c-c97674f1f9b9",
   "metadata": {},
   "source": [
    "Testing algorithms score"
   ]
  },
  {
   "cell_type": "code",
   "execution_count": 1,
   "id": "a0490816-956f-4b84-bd1b-bca87c0b9eb4",
   "metadata": {},
   "outputs": [],
   "source": [
    "Training = 0.3 # Using 30% of the data to train"
   ]
  },
  {
   "cell_type": "code",
   "execution_count": 2,
   "id": "92926eb6-6d6c-40f4-bf5f-47a337bb3f7e",
   "metadata": {},
   "outputs": [],
   "source": [
    "import pandas as pd \n",
    "import numpy as np\n",
    "import math\n",
    "import seaborn as sns\n",
    "import matplotlib.pyplot as plt\n",
    "%matplotlib widget\n",
    "\n",
    "from sklearn.model_selection import train_test_split\n",
    "from sklearn.model_selection import cross_val_score\n",
    "from sklearn.preprocessing import MinMaxScaler\n",
    "\n",
    "import common\n",
    "\n",
    "# Loading Datasets\n",
    "data = common.loadFile(\"ICAData\")\n",
    "                                           \n",
    "# Classifiers\n",
    "from sklearn.tree import DecisionTreeClassifier\n",
    "from sklearn.neighbors import KNeighborsClassifier\n",
    "from sklearn.discriminant_analysis import LinearDiscriminantAnalysis\n",
    "from sklearn.naive_bayes import GaussianNB\n",
    "from sklearn.svm import SVC, LinearSVC, SVR, LinearSVR\n",
    "from sklearn.ensemble import RandomForestClassifier\n"
   ]
  },
  {
   "cell_type": "code",
   "execution_count": 3,
   "id": "63ba98ac-dd78-4455-8a69-6b660b849ac4",
   "metadata": {},
   "outputs": [],
   "source": [
    "algorithms = [DecisionTreeClassifier, KNeighborsClassifier, LinearDiscriminantAnalysis, GaussianNB, SVC, LinearSVC, SVR, LinearSVR, RandomForestClassifier]\n",
    "labels = [\"Decision Tree\", \"K-Nearest Neighbors\", \"Linear Discriminant Analysis\", \"Naïve Bayes\", \"Support Vector Classification\", \"Linear SVC\", \"Linear Support Vector Regression\", \"Linear SVR\", \"Random Forest\"]"
   ]
  },
  {
   "cell_type": "code",
   "execution_count": 4,
   "id": "a51ad80a-c942-45a7-8a5c-89769a301784",
   "metadata": {},
   "outputs": [],
   "source": [
    "# Optimizing testing for every model\n",
    "def getModelScore(model, xTrain, xTest, yTrain, yTest):\n",
    "    model.fit(xTrain, yTrain)\n",
    "    return model.score(xTest, yTest)"
   ]
  },
  {
   "cell_type": "code",
   "execution_count": 5,
   "id": "eef9e366-cbe4-4714-87cf-62c0e7aef1d3",
   "metadata": {},
   "outputs": [],
   "source": [
    "X = data.drop(\"DX\", axis=1).to_numpy().astype('float')\n",
    "y = data.loc[:,['DX']].to_numpy().astype('float').flatten()\n",
    "\n",
    "xtrain, xtest, ytrain, ytest= train_test_split(X, y, test_size=Training)"
   ]
  },
  {
   "cell_type": "code",
   "execution_count": 6,
   "id": "645ebcd2-89f4-42c2-8e61-791e4752bc41",
   "metadata": {},
   "outputs": [],
   "source": [
    "simpleScore = []\n",
    "crossValidationScore = []\n",
    "\n",
    "for i in algorithms:\n",
    "    simpleScore.append(getModelScore(i(), xtrain, xtest, ytrain, ytest) * 100)\n",
    "    \n",
    "for i in algorithms:\n",
    "    crossValidationScore.append(cross_val_score(i(), X, y, cv=10))"
   ]
  },
  {
   "cell_type": "code",
   "execution_count": 7,
   "id": "6e45cd4b-3940-4a69-af9f-e37167ce4da8",
   "metadata": {},
   "outputs": [
    {
     "data": {
      "application/vnd.jupyter.widget-view+json": {
       "model_id": "933c414a232d42e999833479598cb88a",
       "version_major": 2,
       "version_minor": 0
      },
      "text/plain": [
       "Canvas(toolbar=Toolbar(toolitems=[('Home', 'Reset original view', 'home', 'home'), ('Back', 'Back to previous …"
      ]
     },
     "metadata": {},
     "output_type": "display_data"
    }
   ],
   "source": [
    "plt.figure(figsize=[18, 10])\n",
    "df = pd.DataFrame({\"Score\": (round(x, 2) for x in simpleScore), \"Algorithms\": labels})\n",
    "ax = sns.barplot(x=\"Algorithms\", y=\"Score\", data=df)\n",
    "ax.bar_label(ax.containers[0], fmt=\"%.2f%%\")\n",
    "plt.title(f\"Simple Score with {int(Training * 100)}% of Training\")\n",
    "plt.tight_layout(pad=2)"
   ]
  },
  {
   "cell_type": "code",
   "execution_count": 8,
   "id": "24d2e902-1e92-4dda-927f-b1c159180aec",
   "metadata": {},
   "outputs": [],
   "source": [
    "crossValidationScore = []\n",
    "for i in algorithms:\n",
    "    crossValidationScore.append(cross_val_score(i(), X, y, cv=10))"
   ]
  },
  {
   "cell_type": "code",
   "execution_count": 9,
   "id": "8eb0eefb-7baa-40f6-a930-1d2d2734a47f",
   "metadata": {},
   "outputs": [
    {
     "data": {
      "application/vnd.jupyter.widget-view+json": {
       "model_id": "24ebfb6a8d504e10b8ad13b7c8a86d4c",
       "version_major": 2,
       "version_minor": 0
      },
      "text/plain": [
       "Canvas(toolbar=Toolbar(toolitems=[('Home', 'Reset original view', 'home', 'home'), ('Back', 'Back to previous …"
      ]
     },
     "metadata": {},
     "output_type": "display_data"
    }
   ],
   "source": [
    "plt.figure(figsize = [18, 10])\n",
    "df = pd.DataFrame({\"Score\":(round((sum(x)/len(x))*100, 2) for x in crossValidationScore), \"Algorithms\": labels})\n",
    "ax = sns.barplot(x=\"Algorithms\", y=\"Score\", data=df)\n",
    "ax.bar_label(ax.containers[0], fmt=\"%.2f%%\")\n",
    "plt.title(f\"Cross Validation Score with {int(Training * 100)}% of Training\")\n",
    "plt.tight_layout(pad=2)"
   ]
  },
  {
   "cell_type": "code",
   "execution_count": 10,
   "id": "1bb810c8-99e1-4488-8011-fbb96f0b202e",
   "metadata": {},
   "outputs": [
    {
     "data": {
      "application/vnd.jupyter.widget-view+json": {
       "model_id": "c60cc8280e51466b8621ff2ab436c9ab",
       "version_major": 2,
       "version_minor": 0
      },
      "text/plain": [
       "Canvas(toolbar=Toolbar(toolitems=[('Home', 'Reset original view', 'home', 'home'), ('Back', 'Back to previous …"
      ]
     },
     "metadata": {},
     "output_type": "display_data"
    },
    {
     "name": "stderr",
     "output_type": "stream",
     "text": [
      "<ipython-input-10-b9005d332b9d>:6: FutureWarning: The frame.append method is deprecated and will be removed from pandas in a future version. Use pandas.concat instead.\n",
      "  df = df.append({\"Algorithm\" : i, \"Method\" : \"Simple Validation\", \"Score\": round(simpleScore[n], 2)}, ignore_index=True)\n",
      "<ipython-input-10-b9005d332b9d>:7: FutureWarning: The frame.append method is deprecated and will be removed from pandas in a future version. Use pandas.concat instead.\n",
      "  df = df.append({\"Algorithm\" : i, \"Method\" : \"Cross Validation\", \"Score\": round(sum(crossValidationScore[n])/len(crossValidationScore[n]) *100, 2)}, ignore_index=True)\n",
      "<ipython-input-10-b9005d332b9d>:6: FutureWarning: The frame.append method is deprecated and will be removed from pandas in a future version. Use pandas.concat instead.\n",
      "  df = df.append({\"Algorithm\" : i, \"Method\" : \"Simple Validation\", \"Score\": round(simpleScore[n], 2)}, ignore_index=True)\n",
      "<ipython-input-10-b9005d332b9d>:7: FutureWarning: The frame.append method is deprecated and will be removed from pandas in a future version. Use pandas.concat instead.\n",
      "  df = df.append({\"Algorithm\" : i, \"Method\" : \"Cross Validation\", \"Score\": round(sum(crossValidationScore[n])/len(crossValidationScore[n]) *100, 2)}, ignore_index=True)\n",
      "<ipython-input-10-b9005d332b9d>:6: FutureWarning: The frame.append method is deprecated and will be removed from pandas in a future version. Use pandas.concat instead.\n",
      "  df = df.append({\"Algorithm\" : i, \"Method\" : \"Simple Validation\", \"Score\": round(simpleScore[n], 2)}, ignore_index=True)\n",
      "<ipython-input-10-b9005d332b9d>:7: FutureWarning: The frame.append method is deprecated and will be removed from pandas in a future version. Use pandas.concat instead.\n",
      "  df = df.append({\"Algorithm\" : i, \"Method\" : \"Cross Validation\", \"Score\": round(sum(crossValidationScore[n])/len(crossValidationScore[n]) *100, 2)}, ignore_index=True)\n",
      "<ipython-input-10-b9005d332b9d>:6: FutureWarning: The frame.append method is deprecated and will be removed from pandas in a future version. Use pandas.concat instead.\n",
      "  df = df.append({\"Algorithm\" : i, \"Method\" : \"Simple Validation\", \"Score\": round(simpleScore[n], 2)}, ignore_index=True)\n",
      "<ipython-input-10-b9005d332b9d>:7: FutureWarning: The frame.append method is deprecated and will be removed from pandas in a future version. Use pandas.concat instead.\n",
      "  df = df.append({\"Algorithm\" : i, \"Method\" : \"Cross Validation\", \"Score\": round(sum(crossValidationScore[n])/len(crossValidationScore[n]) *100, 2)}, ignore_index=True)\n",
      "<ipython-input-10-b9005d332b9d>:6: FutureWarning: The frame.append method is deprecated and will be removed from pandas in a future version. Use pandas.concat instead.\n",
      "  df = df.append({\"Algorithm\" : i, \"Method\" : \"Simple Validation\", \"Score\": round(simpleScore[n], 2)}, ignore_index=True)\n",
      "<ipython-input-10-b9005d332b9d>:7: FutureWarning: The frame.append method is deprecated and will be removed from pandas in a future version. Use pandas.concat instead.\n",
      "  df = df.append({\"Algorithm\" : i, \"Method\" : \"Cross Validation\", \"Score\": round(sum(crossValidationScore[n])/len(crossValidationScore[n]) *100, 2)}, ignore_index=True)\n",
      "<ipython-input-10-b9005d332b9d>:6: FutureWarning: The frame.append method is deprecated and will be removed from pandas in a future version. Use pandas.concat instead.\n",
      "  df = df.append({\"Algorithm\" : i, \"Method\" : \"Simple Validation\", \"Score\": round(simpleScore[n], 2)}, ignore_index=True)\n",
      "<ipython-input-10-b9005d332b9d>:7: FutureWarning: The frame.append method is deprecated and will be removed from pandas in a future version. Use pandas.concat instead.\n",
      "  df = df.append({\"Algorithm\" : i, \"Method\" : \"Cross Validation\", \"Score\": round(sum(crossValidationScore[n])/len(crossValidationScore[n]) *100, 2)}, ignore_index=True)\n",
      "<ipython-input-10-b9005d332b9d>:6: FutureWarning: The frame.append method is deprecated and will be removed from pandas in a future version. Use pandas.concat instead.\n",
      "  df = df.append({\"Algorithm\" : i, \"Method\" : \"Simple Validation\", \"Score\": round(simpleScore[n], 2)}, ignore_index=True)\n",
      "<ipython-input-10-b9005d332b9d>:7: FutureWarning: The frame.append method is deprecated and will be removed from pandas in a future version. Use pandas.concat instead.\n",
      "  df = df.append({\"Algorithm\" : i, \"Method\" : \"Cross Validation\", \"Score\": round(sum(crossValidationScore[n])/len(crossValidationScore[n]) *100, 2)}, ignore_index=True)\n",
      "<ipython-input-10-b9005d332b9d>:6: FutureWarning: The frame.append method is deprecated and will be removed from pandas in a future version. Use pandas.concat instead.\n",
      "  df = df.append({\"Algorithm\" : i, \"Method\" : \"Simple Validation\", \"Score\": round(simpleScore[n], 2)}, ignore_index=True)\n",
      "<ipython-input-10-b9005d332b9d>:7: FutureWarning: The frame.append method is deprecated and will be removed from pandas in a future version. Use pandas.concat instead.\n",
      "  df = df.append({\"Algorithm\" : i, \"Method\" : \"Cross Validation\", \"Score\": round(sum(crossValidationScore[n])/len(crossValidationScore[n]) *100, 2)}, ignore_index=True)\n",
      "<ipython-input-10-b9005d332b9d>:6: FutureWarning: The frame.append method is deprecated and will be removed from pandas in a future version. Use pandas.concat instead.\n",
      "  df = df.append({\"Algorithm\" : i, \"Method\" : \"Simple Validation\", \"Score\": round(simpleScore[n], 2)}, ignore_index=True)\n",
      "<ipython-input-10-b9005d332b9d>:7: FutureWarning: The frame.append method is deprecated and will be removed from pandas in a future version. Use pandas.concat instead.\n",
      "  df = df.append({\"Algorithm\" : i, \"Method\" : \"Cross Validation\", \"Score\": round(sum(crossValidationScore[n])/len(crossValidationScore[n]) *100, 2)}, ignore_index=True)\n"
     ]
    }
   ],
   "source": [
    "plt.figure(figsize=[18, 10])\n",
    "\n",
    "df = pd.DataFrame(columns = ['Algorithm', 'Method', 'Score'])\n",
    "\n",
    "for i, n in zip(labels, range(len(labels))):\n",
    "    df = df.append({\"Algorithm\" : i, \"Method\" : \"Simple Validation\", \"Score\": round(simpleScore[n], 2)}, ignore_index=True)\n",
    "    df = df.append({\"Algorithm\" : i, \"Method\" : \"Cross Validation\", \"Score\": round(sum(crossValidationScore[n])/len(crossValidationScore[n]) *100, 2)}, ignore_index=True)\n",
    "    \n",
    "ax = sns.barplot(x=\"Algorithm\", y=\"Score\", hue=\"Method\", data=df)\n",
    "for container in ax.containers:\n",
    "    ax.bar_label(container, fmt=\"%.2f%%\")\n",
    "\n",
    "ax.set(xlabel='Algorithms', ylabel='Scores (%)', title=f\"ICA Score with {int(Training * 100)}% of Training\")\n",
    "plt.tight_layout(pad=2)"
   ]
  },
  {
   "cell_type": "code",
   "execution_count": 11,
   "id": "cd2e889a-9b4d-4fa9-a9a3-bb86d63bc70a",
   "metadata": {},
   "outputs": [
    {
     "data": {
      "text/html": [
       "<div>\n",
       "<style scoped>\n",
       "    .dataframe tbody tr th:only-of-type {\n",
       "        vertical-align: middle;\n",
       "    }\n",
       "\n",
       "    .dataframe tbody tr th {\n",
       "        vertical-align: top;\n",
       "    }\n",
       "\n",
       "    .dataframe thead th {\n",
       "        text-align: right;\n",
       "    }\n",
       "</style>\n",
       "<table border=\"1\" class=\"dataframe\">\n",
       "  <thead>\n",
       "    <tr style=\"text-align: right;\">\n",
       "      <th></th>\n",
       "      <th>IC1</th>\n",
       "      <th>IC2</th>\n",
       "      <th>IC3</th>\n",
       "      <th>IC4</th>\n",
       "      <th>IC5</th>\n",
       "      <th>IC6</th>\n",
       "      <th>IC7</th>\n",
       "      <th>IC8</th>\n",
       "      <th>IC9</th>\n",
       "      <th>IC10</th>\n",
       "      <th>DX</th>\n",
       "    </tr>\n",
       "  </thead>\n",
       "  <tbody>\n",
       "    <tr>\n",
       "      <th>0</th>\n",
       "      <td>-0.004563</td>\n",
       "      <td>0.053338</td>\n",
       "      <td>-0.013619</td>\n",
       "      <td>-0.001153</td>\n",
       "      <td>-0.068614</td>\n",
       "      <td>-0.031754</td>\n",
       "      <td>0.009565</td>\n",
       "      <td>-0.045461</td>\n",
       "      <td>-0.008527</td>\n",
       "      <td>-0.003025</td>\n",
       "      <td>1</td>\n",
       "    </tr>\n",
       "    <tr>\n",
       "      <th>1</th>\n",
       "      <td>-0.012612</td>\n",
       "      <td>0.042117</td>\n",
       "      <td>0.017003</td>\n",
       "      <td>0.002385</td>\n",
       "      <td>-0.030882</td>\n",
       "      <td>0.008735</td>\n",
       "      <td>0.032264</td>\n",
       "      <td>-0.031358</td>\n",
       "      <td>-0.018602</td>\n",
       "      <td>-0.012969</td>\n",
       "      <td>1</td>\n",
       "    </tr>\n",
       "    <tr>\n",
       "      <th>2</th>\n",
       "      <td>-0.000506</td>\n",
       "      <td>0.015700</td>\n",
       "      <td>0.009852</td>\n",
       "      <td>0.003665</td>\n",
       "      <td>-0.036022</td>\n",
       "      <td>-0.009071</td>\n",
       "      <td>0.079807</td>\n",
       "      <td>-0.018471</td>\n",
       "      <td>0.015439</td>\n",
       "      <td>-0.029835</td>\n",
       "      <td>1</td>\n",
       "    </tr>\n",
       "    <tr>\n",
       "      <th>3</th>\n",
       "      <td>-0.017587</td>\n",
       "      <td>0.008918</td>\n",
       "      <td>0.012300</td>\n",
       "      <td>-0.033458</td>\n",
       "      <td>0.010938</td>\n",
       "      <td>-0.049676</td>\n",
       "      <td>-0.008352</td>\n",
       "      <td>-0.015894</td>\n",
       "      <td>-0.008206</td>\n",
       "      <td>0.005704</td>\n",
       "      <td>1</td>\n",
       "    </tr>\n",
       "    <tr>\n",
       "      <th>4</th>\n",
       "      <td>-0.036075</td>\n",
       "      <td>0.010869</td>\n",
       "      <td>0.028527</td>\n",
       "      <td>-0.037763</td>\n",
       "      <td>0.038536</td>\n",
       "      <td>-0.005521</td>\n",
       "      <td>-0.007436</td>\n",
       "      <td>-0.036291</td>\n",
       "      <td>-0.008239</td>\n",
       "      <td>-0.015538</td>\n",
       "      <td>1</td>\n",
       "    </tr>\n",
       "    <tr>\n",
       "      <th>...</th>\n",
       "      <td>...</td>\n",
       "      <td>...</td>\n",
       "      <td>...</td>\n",
       "      <td>...</td>\n",
       "      <td>...</td>\n",
       "      <td>...</td>\n",
       "      <td>...</td>\n",
       "      <td>...</td>\n",
       "      <td>...</td>\n",
       "      <td>...</td>\n",
       "      <td>...</td>\n",
       "    </tr>\n",
       "    <tr>\n",
       "      <th>1705</th>\n",
       "      <td>0.000996</td>\n",
       "      <td>-0.001272</td>\n",
       "      <td>-0.030139</td>\n",
       "      <td>-0.019873</td>\n",
       "      <td>0.024213</td>\n",
       "      <td>0.012539</td>\n",
       "      <td>0.009418</td>\n",
       "      <td>-0.000670</td>\n",
       "      <td>-0.002843</td>\n",
       "      <td>-0.037766</td>\n",
       "      <td>0</td>\n",
       "    </tr>\n",
       "    <tr>\n",
       "      <th>1706</th>\n",
       "      <td>0.030562</td>\n",
       "      <td>-0.025447</td>\n",
       "      <td>-0.025239</td>\n",
       "      <td>-0.024493</td>\n",
       "      <td>0.013733</td>\n",
       "      <td>0.029970</td>\n",
       "      <td>-0.013629</td>\n",
       "      <td>-0.041659</td>\n",
       "      <td>0.029084</td>\n",
       "      <td>0.032206</td>\n",
       "      <td>0</td>\n",
       "    </tr>\n",
       "    <tr>\n",
       "      <th>1707</th>\n",
       "      <td>0.007662</td>\n",
       "      <td>-0.008601</td>\n",
       "      <td>-0.013246</td>\n",
       "      <td>-0.034106</td>\n",
       "      <td>0.044446</td>\n",
       "      <td>-0.053993</td>\n",
       "      <td>-0.019101</td>\n",
       "      <td>0.010674</td>\n",
       "      <td>-0.008716</td>\n",
       "      <td>-0.005121</td>\n",
       "      <td>1</td>\n",
       "    </tr>\n",
       "    <tr>\n",
       "      <th>1708</th>\n",
       "      <td>0.013372</td>\n",
       "      <td>-0.002461</td>\n",
       "      <td>-0.012936</td>\n",
       "      <td>-0.035526</td>\n",
       "      <td>0.041069</td>\n",
       "      <td>-0.045988</td>\n",
       "      <td>-0.017614</td>\n",
       "      <td>-0.009831</td>\n",
       "      <td>-0.011393</td>\n",
       "      <td>0.015922</td>\n",
       "      <td>0</td>\n",
       "    </tr>\n",
       "    <tr>\n",
       "      <th>1709</th>\n",
       "      <td>0.004391</td>\n",
       "      <td>-0.011074</td>\n",
       "      <td>-0.010057</td>\n",
       "      <td>-0.035256</td>\n",
       "      <td>0.037508</td>\n",
       "      <td>-0.053971</td>\n",
       "      <td>-0.007351</td>\n",
       "      <td>-0.011331</td>\n",
       "      <td>-0.011278</td>\n",
       "      <td>-0.002350</td>\n",
       "      <td>1</td>\n",
       "    </tr>\n",
       "  </tbody>\n",
       "</table>\n",
       "<p>1710 rows × 11 columns</p>\n",
       "</div>"
      ],
      "text/plain": [
       "           IC1       IC2       IC3       IC4       IC5       IC6       IC7  \\\n",
       "0    -0.004563  0.053338 -0.013619 -0.001153 -0.068614 -0.031754  0.009565   \n",
       "1    -0.012612  0.042117  0.017003  0.002385 -0.030882  0.008735  0.032264   \n",
       "2    -0.000506  0.015700  0.009852  0.003665 -0.036022 -0.009071  0.079807   \n",
       "3    -0.017587  0.008918  0.012300 -0.033458  0.010938 -0.049676 -0.008352   \n",
       "4    -0.036075  0.010869  0.028527 -0.037763  0.038536 -0.005521 -0.007436   \n",
       "...        ...       ...       ...       ...       ...       ...       ...   \n",
       "1705  0.000996 -0.001272 -0.030139 -0.019873  0.024213  0.012539  0.009418   \n",
       "1706  0.030562 -0.025447 -0.025239 -0.024493  0.013733  0.029970 -0.013629   \n",
       "1707  0.007662 -0.008601 -0.013246 -0.034106  0.044446 -0.053993 -0.019101   \n",
       "1708  0.013372 -0.002461 -0.012936 -0.035526  0.041069 -0.045988 -0.017614   \n",
       "1709  0.004391 -0.011074 -0.010057 -0.035256  0.037508 -0.053971 -0.007351   \n",
       "\n",
       "           IC8       IC9      IC10 DX  \n",
       "0    -0.045461 -0.008527 -0.003025  1  \n",
       "1    -0.031358 -0.018602 -0.012969  1  \n",
       "2    -0.018471  0.015439 -0.029835  1  \n",
       "3    -0.015894 -0.008206  0.005704  1  \n",
       "4    -0.036291 -0.008239 -0.015538  1  \n",
       "...        ...       ...       ... ..  \n",
       "1705 -0.000670 -0.002843 -0.037766  0  \n",
       "1706 -0.041659  0.029084  0.032206  0  \n",
       "1707  0.010674 -0.008716 -0.005121  1  \n",
       "1708 -0.009831 -0.011393  0.015922  0  \n",
       "1709 -0.011331 -0.011278 -0.002350  1  \n",
       "\n",
       "[1710 rows x 11 columns]"
      ]
     },
     "execution_count": 11,
     "metadata": {},
     "output_type": "execute_result"
    }
   ],
   "source": [
    "data"
   ]
  },
  {
   "cell_type": "code",
   "execution_count": null,
   "id": "cc072683-514e-41ca-8343-76b846b34667",
   "metadata": {},
   "outputs": [],
   "source": []
  }
 ],
 "metadata": {
  "kernelspec": {
   "display_name": "Python 3",
   "language": "python",
   "name": "python3"
  },
  "language_info": {
   "codemirror_mode": {
    "name": "ipython",
    "version": 3
   },
   "file_extension": ".py",
   "mimetype": "text/x-python",
   "name": "python",
   "nbconvert_exporter": "python",
   "pygments_lexer": "ipython3",
   "version": "3.8.9"
  }
 },
 "nbformat": 4,
 "nbformat_minor": 5
}
