{
 "cells": [
  {
   "cell_type": "markdown",
   "id": "44c56927-6887-4cae-8765-44408d3a22b5",
   "metadata": {},
   "source": [
    "# ICA Classification "
   ]
  },
  {
   "cell_type": "markdown",
   "id": "199f440e-8d8f-4196-ba3c-c97674f1f9b9",
   "metadata": {},
   "source": [
    "Testing algorithms score"
   ]
  },
  {
   "cell_type": "code",
   "execution_count": 1,
   "id": "a0490816-956f-4b84-bd1b-bca87c0b9eb4",
   "metadata": {},
   "outputs": [],
   "source": [
    "Training = 0.3 # Using 30% of the data to train"
   ]
  },
  {
   "cell_type": "code",
   "execution_count": 2,
   "id": "92926eb6-6d6c-40f4-bf5f-47a337bb3f7e",
   "metadata": {},
   "outputs": [],
   "source": [
    "import pandas as pd \n",
    "import numpy as np\n",
    "import math\n",
    "import seaborn as sns\n",
    "import matplotlib.pyplot as plt\n",
    "%matplotlib widget\n",
    "\n",
    "from sklearn.model_selection import train_test_split\n",
    "from sklearn.model_selection import cross_val_score\n",
    "from sklearn.preprocessing import MinMaxScaler\n",
    "\n",
    "import common\n",
    "\n",
    "# Loading Datasets\n",
    "data = common.loadFile(\"ICAData\")\n",
    "                                           \n",
    "# Classifiers\n",
    "from sklearn.tree import DecisionTreeClassifier\n",
    "from sklearn.neighbors import KNeighborsClassifier\n",
    "from sklearn.discriminant_analysis import LinearDiscriminantAnalysis\n",
    "from sklearn.naive_bayes import GaussianNB\n",
    "from sklearn.svm import SVC, LinearSVC, SVR, LinearSVR\n",
    "from sklearn.ensemble import RandomForestClassifier"
   ]
  },
  {
   "cell_type": "code",
   "execution_count": 3,
   "id": "63ba98ac-dd78-4455-8a69-6b660b849ac4",
   "metadata": {},
   "outputs": [],
   "source": [
    "algorithms = [DecisionTreeClassifier, KNeighborsClassifier, LinearDiscriminantAnalysis, GaussianNB, SVC, LinearSVC, SVR, LinearSVR, RandomForestClassifier]\n",
    "labels = [\"Decision Tree\", \"K-Nearest Neighbors\", \"Linear Discriminant Analysis\", \"Naïve Bayes\", \"Support Vector Classification\", \"Linear SVC\", \"Linear Support Vector Regression\", \"Linear SVR\", \"Random Forest\"]"
   ]
  },
  {
   "cell_type": "code",
   "execution_count": 4,
   "id": "a51ad80a-c942-45a7-8a5c-89769a301784",
   "metadata": {},
   "outputs": [],
   "source": [
    "# Optimizing testing for every model\n",
    "def getModelScore(model, xTrain, xTest, yTrain, yTest):\n",
    "    model.fit(xTrain, yTrain)\n",
    "    return model.score(xTest, yTest)"
   ]
  },
  {
   "cell_type": "code",
   "execution_count": 5,
   "id": "eef9e366-cbe4-4714-87cf-62c0e7aef1d3",
   "metadata": {},
   "outputs": [],
   "source": [
    "X = data.drop(\"DX\", axis=1).to_numpy().astype('float')\n",
    "y = data.loc[:,['DX']].to_numpy().astype('float').flatten()\n",
    "\n",
    "xtrain, xtest, ytrain, ytest= train_test_split(X, y, test_size=Training)"
   ]
  },
  {
   "cell_type": "code",
   "execution_count": 6,
   "id": "645ebcd2-89f4-42c2-8e61-791e4752bc41",
   "metadata": {},
   "outputs": [],
   "source": [
    "simpleScore = []\n",
    "crossValidationScore = []\n",
    "\n",
    "for i in algorithms:\n",
    "    simpleScore.append(getModelScore(i(), xtrain, xtest, ytrain, ytest) * 100)\n",
    "    \n",
    "for i in algorithms:\n",
    "    crossValidationScore.append(cross_val_score(i(), X, y, cv=10))"
   ]
  },
  {
   "cell_type": "code",
   "execution_count": 7,
   "id": "6e45cd4b-3940-4a69-af9f-e37167ce4da8",
   "metadata": {},
   "outputs": [
    {
     "data": {
      "application/vnd.jupyter.widget-view+json": {
       "model_id": "0bfe18207a4d4942af9a84bf1d6da7a8",
       "version_major": 2,
       "version_minor": 0
      },
      "text/plain": [
       "Canvas(toolbar=Toolbar(toolitems=[('Home', 'Reset original view', 'home', 'home'), ('Back', 'Back to previous …"
      ]
     },
     "metadata": {},
     "output_type": "display_data"
    }
   ],
   "source": [
    "plt.figure(figsize=[18, 10])\n",
    "df = pd.DataFrame({\"Score\": (round(x, 2) for x in simpleScore), \"Algorithms\": labels})\n",
    "ax = sns.barplot(x=\"Algorithms\", y=\"Score\", data=df)\n",
    "ax.bar_label(ax.containers[0], fmt=\"%.2f%%\")\n",
    "plt.title(f\"Simple Score with {int(Training * 100)}% of Training\")\n",
    "plt.tight_layout(pad=2)"
   ]
  },
  {
   "cell_type": "code",
   "execution_count": 8,
   "id": "24d2e902-1e92-4dda-927f-b1c159180aec",
   "metadata": {},
   "outputs": [],
   "source": [
    "crossValidationScore = []\n",
    "for i in algorithms:\n",
    "    crossValidationScore.append(cross_val_score(i(), X, y, cv=10))"
   ]
  },
  {
   "cell_type": "code",
   "execution_count": 9,
   "id": "8eb0eefb-7baa-40f6-a930-1d2d2734a47f",
   "metadata": {},
   "outputs": [
    {
     "data": {
      "application/vnd.jupyter.widget-view+json": {
       "model_id": "8d3502568f7842f1990cabe5028da779",
       "version_major": 2,
       "version_minor": 0
      },
      "text/plain": [
       "Canvas(toolbar=Toolbar(toolitems=[('Home', 'Reset original view', 'home', 'home'), ('Back', 'Back to previous …"
      ]
     },
     "metadata": {},
     "output_type": "display_data"
    }
   ],
   "source": [
    "plt.figure(figsize = [18, 10])\n",
    "df = pd.DataFrame({\"Score\":(round((sum(x)/len(x))*100, 2) for x in crossValidationScore), \"Algorithms\": labels})\n",
    "ax = sns.barplot(x=\"Algorithms\", y=\"Score\", data=df)\n",
    "ax.bar_label(ax.containers[0], fmt=\"%.2f%%\")\n",
    "plt.title(f\"Cross Validation Score with {int(Training * 100)}% of Training\")\n",
    "plt.tight_layout(pad=2)"
   ]
  },
  {
   "cell_type": "code",
   "execution_count": 12,
   "id": "1bb810c8-99e1-4488-8011-fbb96f0b202e",
   "metadata": {},
   "outputs": [
    {
     "data": {
      "application/vnd.jupyter.widget-view+json": {
       "model_id": "60545919802e4a618b1ae4b541d282a1",
       "version_major": 2,
       "version_minor": 0
      },
      "text/plain": [
       "Canvas(toolbar=Toolbar(toolitems=[('Home', 'Reset original view', 'home', 'home'), ('Back', 'Back to previous …"
      ]
     },
     "metadata": {},
     "output_type": "display_data"
    }
   ],
   "source": [
    "plt.figure(figsize=[18, 10])\n",
    "\n",
    "df = pd.DataFrame(columns = ['Algorithm', 'Method', 'Score'])\n",
    "\n",
    "for i, n in zip(labels, range(len(labels))):\n",
    "    df = df.append({\"Algorithm\" : i, \"Method\" : \"Simple Validation\", \"Score\": round(simpleScore[n], 2)}, ignore_index=True)\n",
    "    df = df.append({\"Algorithm\" : i, \"Method\" : \"Cross Validation\", \"Score\": round(sum(crossValidationScore[n])/len(crossValidationScore[n]) *100, 2)}, ignore_index=True)\n",
    "    \n",
    "ax = sns.barplot(x=\"Algorithm\", y=\"Score\", hue=\"Method\", data=df)\n",
    "for container in ax.containers:\n",
    "    ax.bar_label(container, fmt=\"%.2f%%\")\n",
    "\n",
    "ax.set(xlabel='Algorithms', ylabel='Scores (%)', title=f\"ICA Score with {int(Training * 100)}% of Training\")\n",
    "plt.tight_layout(pad=2)"
   ]
  },
  {
   "cell_type": "code",
   "execution_count": 11,
   "id": "cd2e889a-9b4d-4fa9-a9a3-bb86d63bc70a",
   "metadata": {},
   "outputs": [
    {
     "data": {
      "text/html": [
       "<div>\n",
       "<style scoped>\n",
       "    .dataframe tbody tr th:only-of-type {\n",
       "        vertical-align: middle;\n",
       "    }\n",
       "\n",
       "    .dataframe tbody tr th {\n",
       "        vertical-align: top;\n",
       "    }\n",
       "\n",
       "    .dataframe thead th {\n",
       "        text-align: right;\n",
       "    }\n",
       "</style>\n",
       "<table border=\"1\" class=\"dataframe\">\n",
       "  <thead>\n",
       "    <tr style=\"text-align: right;\">\n",
       "      <th></th>\n",
       "      <th>Algorithm</th>\n",
       "      <th>Method</th>\n",
       "      <th>Score</th>\n",
       "    </tr>\n",
       "  </thead>\n",
       "  <tbody>\n",
       "    <tr>\n",
       "      <th>0</th>\n",
       "      <td>Decision Tree</td>\n",
       "      <td>Simple</td>\n",
       "      <td>68.23</td>\n",
       "    </tr>\n",
       "    <tr>\n",
       "      <th>1</th>\n",
       "      <td>Decision Tree</td>\n",
       "      <td>Cross Validation</td>\n",
       "      <td>63.27</td>\n",
       "    </tr>\n",
       "    <tr>\n",
       "      <th>2</th>\n",
       "      <td>K-Nearest Neighbors</td>\n",
       "      <td>Simple</td>\n",
       "      <td>74.85</td>\n",
       "    </tr>\n",
       "    <tr>\n",
       "      <th>3</th>\n",
       "      <td>K-Nearest Neighbors</td>\n",
       "      <td>Cross Validation</td>\n",
       "      <td>66.55</td>\n",
       "    </tr>\n",
       "    <tr>\n",
       "      <th>4</th>\n",
       "      <td>Linear Discriminant Analysis</td>\n",
       "      <td>Simple</td>\n",
       "      <td>79.92</td>\n",
       "    </tr>\n",
       "    <tr>\n",
       "      <th>5</th>\n",
       "      <td>Linear Discriminant Analysis</td>\n",
       "      <td>Cross Validation</td>\n",
       "      <td>76.37</td>\n",
       "    </tr>\n",
       "    <tr>\n",
       "      <th>6</th>\n",
       "      <td>Naïve Bayes</td>\n",
       "      <td>Simple</td>\n",
       "      <td>69.98</td>\n",
       "    </tr>\n",
       "    <tr>\n",
       "      <th>7</th>\n",
       "      <td>Naïve Bayes</td>\n",
       "      <td>Cross Validation</td>\n",
       "      <td>68.25</td>\n",
       "    </tr>\n",
       "    <tr>\n",
       "      <th>8</th>\n",
       "      <td>Support Vector Classification</td>\n",
       "      <td>Simple</td>\n",
       "      <td>79.53</td>\n",
       "    </tr>\n",
       "    <tr>\n",
       "      <th>9</th>\n",
       "      <td>Support Vector Classification</td>\n",
       "      <td>Cross Validation</td>\n",
       "      <td>74.80</td>\n",
       "    </tr>\n",
       "    <tr>\n",
       "      <th>10</th>\n",
       "      <td>Linear SVC</td>\n",
       "      <td>Simple</td>\n",
       "      <td>64.13</td>\n",
       "    </tr>\n",
       "    <tr>\n",
       "      <th>11</th>\n",
       "      <td>Linear SVC</td>\n",
       "      <td>Cross Validation</td>\n",
       "      <td>68.89</td>\n",
       "    </tr>\n",
       "    <tr>\n",
       "      <th>12</th>\n",
       "      <td>Linear Support Vector Regression</td>\n",
       "      <td>Simple</td>\n",
       "      <td>65.03</td>\n",
       "    </tr>\n",
       "    <tr>\n",
       "      <th>13</th>\n",
       "      <td>Linear Support Vector Regression</td>\n",
       "      <td>Cross Validation</td>\n",
       "      <td>6.55</td>\n",
       "    </tr>\n",
       "    <tr>\n",
       "      <th>14</th>\n",
       "      <td>Linear SVR</td>\n",
       "      <td>Simple</td>\n",
       "      <td>22.14</td>\n",
       "    </tr>\n",
       "    <tr>\n",
       "      <th>15</th>\n",
       "      <td>Linear SVR</td>\n",
       "      <td>Cross Validation</td>\n",
       "      <td>10.89</td>\n",
       "    </tr>\n",
       "    <tr>\n",
       "      <th>16</th>\n",
       "      <td>Random Forest</td>\n",
       "      <td>Simple</td>\n",
       "      <td>78.17</td>\n",
       "    </tr>\n",
       "    <tr>\n",
       "      <th>17</th>\n",
       "      <td>Random Forest</td>\n",
       "      <td>Cross Validation</td>\n",
       "      <td>74.56</td>\n",
       "    </tr>\n",
       "  </tbody>\n",
       "</table>\n",
       "</div>"
      ],
      "text/plain": [
       "                           Algorithm            Method  Score\n",
       "0                      Decision Tree            Simple  68.23\n",
       "1                      Decision Tree  Cross Validation  63.27\n",
       "2                K-Nearest Neighbors            Simple  74.85\n",
       "3                K-Nearest Neighbors  Cross Validation  66.55\n",
       "4       Linear Discriminant Analysis            Simple  79.92\n",
       "5       Linear Discriminant Analysis  Cross Validation  76.37\n",
       "6                        Naïve Bayes            Simple  69.98\n",
       "7                        Naïve Bayes  Cross Validation  68.25\n",
       "8      Support Vector Classification            Simple  79.53\n",
       "9      Support Vector Classification  Cross Validation  74.80\n",
       "10                        Linear SVC            Simple  64.13\n",
       "11                        Linear SVC  Cross Validation  68.89\n",
       "12  Linear Support Vector Regression            Simple  65.03\n",
       "13  Linear Support Vector Regression  Cross Validation   6.55\n",
       "14                        Linear SVR            Simple  22.14\n",
       "15                        Linear SVR  Cross Validation  10.89\n",
       "16                     Random Forest            Simple  78.17\n",
       "17                     Random Forest  Cross Validation  74.56"
      ]
     },
     "execution_count": 11,
     "metadata": {},
     "output_type": "execute_result"
    }
   ],
   "source": [
    "df"
   ]
  }
 ],
 "metadata": {
  "kernelspec": {
   "display_name": "Python 3",
   "language": "python",
   "name": "python3"
  },
  "language_info": {
   "codemirror_mode": {
    "name": "ipython",
    "version": 3
   },
   "file_extension": ".py",
   "mimetype": "text/x-python",
   "name": "python",
   "nbconvert_exporter": "python",
   "pygments_lexer": "ipython3",
   "version": "3.8.9"
  }
 },
 "nbformat": 4,
 "nbformat_minor": 5
}
