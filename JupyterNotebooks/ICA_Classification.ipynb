{
 "cells": [
  {
   "cell_type": "markdown",
   "id": "44c56927-6887-4cae-8765-44408d3a22b5",
   "metadata": {},
   "source": [
    "# ICA Classification "
   ]
  },
  {
   "cell_type": "markdown",
   "id": "199f440e-8d8f-4196-ba3c-c97674f1f9b9",
   "metadata": {},
   "source": [
    "Testing algorithms score"
   ]
  },
  {
   "cell_type": "code",
   "execution_count": 1,
   "id": "a0490816-956f-4b84-bd1b-bca87c0b9eb4",
   "metadata": {},
   "outputs": [],
   "source": [
    "Training = 0.3 # Using 30% of the data to train"
   ]
  },
  {
   "cell_type": "code",
   "execution_count": 2,
   "id": "92926eb6-6d6c-40f4-bf5f-47a337bb3f7e",
   "metadata": {},
   "outputs": [],
   "source": [
    "import pandas as pd \n",
    "import numpy as np\n",
    "import math\n",
    "import seaborn as sns\n",
    "import matplotlib.pyplot as plt\n",
    "%matplotlib widget\n",
    "\n",
    "from sklearn.model_selection import train_test_split\n",
    "from sklearn.model_selection import cross_val_score\n",
    "from sklearn.preprocessing import MinMaxScaler\n",
    "\n",
    "import common\n",
    "\n",
    "# Loading Datasets\n",
    "data = common.loadFile(\"ICAData\")\n",
    "                                           \n",
    "# Classifiers\n",
    "from sklearn.tree import DecisionTreeClassifier\n",
    "from sklearn.neighbors import KNeighborsClassifier\n",
    "from sklearn.discriminant_analysis import LinearDiscriminantAnalysis\n",
    "from sklearn.naive_bayes import GaussianNB\n",
    "from sklearn.svm import SVC, LinearSVC, SVR, LinearSVR\n"
   ]
  },
  {
   "cell_type": "code",
   "execution_count": 3,
   "id": "63ba98ac-dd78-4455-8a69-6b660b849ac4",
   "metadata": {},
   "outputs": [],
   "source": [
    "algorithms = [DecisionTreeClassifier, KNeighborsClassifier, LinearDiscriminantAnalysis, GaussianNB, SVC, LinearSVC, SVR, LinearSVR]\n",
    "labels = [\"Decision Tree\", \"K-Nearest Neighbors\", \"Linear Discriminant Analysis\", \"Guassian Naïve Bayes\", \"Support Vector Classification\", \"Linear SVC\", \"Linear Support Vector Regression\", \"Linear SVR\"]"
   ]
  },
  {
   "cell_type": "code",
   "execution_count": 4,
   "id": "a51ad80a-c942-45a7-8a5c-89769a301784",
   "metadata": {},
   "outputs": [],
   "source": [
    "# Optimizing testing for every model\n",
    "def getModelScore(model, xTrain, xTest, yTrain, yTest):\n",
    "    model.fit(xTrain, yTrain)\n",
    "    return model.score(xTest, yTest)"
   ]
  },
  {
   "cell_type": "code",
   "execution_count": 5,
   "id": "eef9e366-cbe4-4714-87cf-62c0e7aef1d3",
   "metadata": {},
   "outputs": [],
   "source": [
    "X = data.drop(\"DX\", axis=1).to_numpy().astype('float')\n",
    "y = data.loc[:,['DX']].to_numpy().astype('float').flatten()\n",
    "\n",
    "xtrain, xtest, ytrain, ytest= train_test_split(X, y, test_size=Training)"
   ]
  },
  {
   "cell_type": "code",
   "execution_count": 6,
   "id": "645ebcd2-89f4-42c2-8e61-791e4752bc41",
   "metadata": {},
   "outputs": [],
   "source": [
    "simpleScore = []\n",
    "for i in algorithms:\n",
    "    simpleScore.append(getModelScore(i(), xtrain, xtest, ytrain, ytest) * 100)"
   ]
  },
  {
   "cell_type": "code",
   "execution_count": 7,
   "id": "6e45cd4b-3940-4a69-af9f-e37167ce4da8",
   "metadata": {},
   "outputs": [
    {
     "data": {
      "application/vnd.jupyter.widget-view+json": {
       "model_id": "036d26f6cf894f27a686d2e2d6ec4e94",
       "version_major": 2,
       "version_minor": 0
      },
      "text/plain": [
       "Canvas(toolbar=Toolbar(toolitems=[('Home', 'Reset original view', 'home', 'home'), ('Back', 'Back to previous …"
      ]
     },
     "metadata": {},
     "output_type": "display_data"
    },
    {
     "data": {
      "text/plain": [
       "Text(0.5, 1.0, 'Simple Score with 30% of Training')"
      ]
     },
     "execution_count": 7,
     "metadata": {},
     "output_type": "execute_result"
    }
   ],
   "source": [
    "plt.figure(figsize=[20, 10])\n",
    "df = pd.DataFrame({\"Score\":simpleScore, \"Algorithms\": labels})\n",
    "ax = sns.barplot(x=\"Algorithms\", y=\"Score\", data=df)\n",
    "ax.bar_label(ax.containers[0])\n",
    "plt.title(f\"Simple Score with {int(Training * 100)}% of Training\")"
   ]
  },
  {
   "cell_type": "code",
   "execution_count": 8,
   "id": "24d2e902-1e92-4dda-927f-b1c159180aec",
   "metadata": {},
   "outputs": [],
   "source": [
    "complexScore = []\n",
    "for i in algorithms:\n",
    "    complexScore.append(cross_val_score(i(), X, y, cv=10))"
   ]
  },
  {
   "cell_type": "code",
   "execution_count": 9,
   "id": "8eb0eefb-7baa-40f6-a930-1d2d2734a47f",
   "metadata": {},
   "outputs": [
    {
     "data": {
      "application/vnd.jupyter.widget-view+json": {
       "model_id": "9e742de1eb7d487e9dfb6e4907758e22",
       "version_major": 2,
       "version_minor": 0
      },
      "text/plain": [
       "Canvas(toolbar=Toolbar(toolitems=[('Home', 'Reset original view', 'home', 'home'), ('Back', 'Back to previous …"
      ]
     },
     "metadata": {},
     "output_type": "display_data"
    },
    {
     "data": {
      "text/plain": [
       "Text(0.5, 1.0, 'Validation Score with 30% of Training')"
      ]
     },
     "execution_count": 9,
     "metadata": {},
     "output_type": "execute_result"
    }
   ],
   "source": [
    "plt.figure(figsize = [20, 10])\n",
    "df = pd.DataFrame({\"Score\":(sum(x)/len(x) for x in complexScore), \"Algorithms\": labels})\n",
    "ax = sns.barplot(x=\"Algorithms\", y=\"Score\", data=df)\n",
    "ax.bar_label(ax.containers[0])\n",
    "plt.title(f\"Validation Score with {int(Training * 100)}% of Training\")"
   ]
  },
  {
   "cell_type": "code",
   "execution_count": 10,
   "id": "1bb810c8-99e1-4488-8011-fbb96f0b202e",
   "metadata": {},
   "outputs": [
    {
     "data": {
      "text/html": [
       "<div>\n",
       "<style scoped>\n",
       "    .dataframe tbody tr th:only-of-type {\n",
       "        vertical-align: middle;\n",
       "    }\n",
       "\n",
       "    .dataframe tbody tr th {\n",
       "        vertical-align: top;\n",
       "    }\n",
       "\n",
       "    .dataframe thead th {\n",
       "        text-align: right;\n",
       "    }\n",
       "</style>\n",
       "<table border=\"1\" class=\"dataframe\">\n",
       "  <thead>\n",
       "    <tr style=\"text-align: right;\">\n",
       "      <th></th>\n",
       "      <th>Decision Tree</th>\n",
       "      <th>K-Nearest Neighbors</th>\n",
       "      <th>Linear Discriminant Analysis</th>\n",
       "      <th>Guassian Naïve Bayes</th>\n",
       "      <th>Support Vector Classification</th>\n",
       "      <th>Linear SVC</th>\n",
       "      <th>Linear Support Vector Regression</th>\n",
       "      <th>Linear SVR</th>\n",
       "    </tr>\n",
       "  </thead>\n",
       "  <tbody>\n",
       "    <tr>\n",
       "      <th>0</th>\n",
       "      <td>0.643275</td>\n",
       "      <td>0.596491</td>\n",
       "      <td>0.719298</td>\n",
       "      <td>0.672515</td>\n",
       "      <td>0.736842</td>\n",
       "      <td>0.660819</td>\n",
       "      <td>-3.475925</td>\n",
       "      <td>-0.321369</td>\n",
       "    </tr>\n",
       "    <tr>\n",
       "      <th>1</th>\n",
       "      <td>0.608187</td>\n",
       "      <td>0.584795</td>\n",
       "      <td>0.725146</td>\n",
       "      <td>0.643275</td>\n",
       "      <td>0.690058</td>\n",
       "      <td>0.614035</td>\n",
       "      <td>0.038020</td>\n",
       "      <td>0.282303</td>\n",
       "    </tr>\n",
       "    <tr>\n",
       "      <th>2</th>\n",
       "      <td>0.754386</td>\n",
       "      <td>0.684211</td>\n",
       "      <td>0.801170</td>\n",
       "      <td>0.666667</td>\n",
       "      <td>0.760234</td>\n",
       "      <td>0.771930</td>\n",
       "      <td>0.531785</td>\n",
       "      <td>0.125251</td>\n",
       "    </tr>\n",
       "    <tr>\n",
       "      <th>3</th>\n",
       "      <td>0.678363</td>\n",
       "      <td>0.695906</td>\n",
       "      <td>0.766082</td>\n",
       "      <td>0.654971</td>\n",
       "      <td>0.754386</td>\n",
       "      <td>0.672515</td>\n",
       "      <td>0.586382</td>\n",
       "      <td>0.277993</td>\n",
       "    </tr>\n",
       "    <tr>\n",
       "      <th>4</th>\n",
       "      <td>0.643275</td>\n",
       "      <td>0.596491</td>\n",
       "      <td>0.730994</td>\n",
       "      <td>0.619883</td>\n",
       "      <td>0.707602</td>\n",
       "      <td>0.625731</td>\n",
       "      <td>0.415746</td>\n",
       "      <td>-0.152805</td>\n",
       "    </tr>\n",
       "    <tr>\n",
       "      <th>5</th>\n",
       "      <td>0.643275</td>\n",
       "      <td>0.701754</td>\n",
       "      <td>0.777778</td>\n",
       "      <td>0.654971</td>\n",
       "      <td>0.748538</td>\n",
       "      <td>0.730994</td>\n",
       "      <td>0.340452</td>\n",
       "      <td>-0.272746</td>\n",
       "    </tr>\n",
       "    <tr>\n",
       "      <th>6</th>\n",
       "      <td>0.625731</td>\n",
       "      <td>0.684211</td>\n",
       "      <td>0.771930</td>\n",
       "      <td>0.695906</td>\n",
       "      <td>0.748538</td>\n",
       "      <td>0.690058</td>\n",
       "      <td>0.574250</td>\n",
       "      <td>0.232001</td>\n",
       "    </tr>\n",
       "    <tr>\n",
       "      <th>7</th>\n",
       "      <td>0.649123</td>\n",
       "      <td>0.783626</td>\n",
       "      <td>0.877193</td>\n",
       "      <td>0.807018</td>\n",
       "      <td>0.865497</td>\n",
       "      <td>0.771930</td>\n",
       "      <td>0.421334</td>\n",
       "      <td>0.350033</td>\n",
       "    </tr>\n",
       "    <tr>\n",
       "      <th>8</th>\n",
       "      <td>0.625731</td>\n",
       "      <td>0.684211</td>\n",
       "      <td>0.777778</td>\n",
       "      <td>0.690058</td>\n",
       "      <td>0.736842</td>\n",
       "      <td>0.701754</td>\n",
       "      <td>0.580083</td>\n",
       "      <td>0.370397</td>\n",
       "    </tr>\n",
       "    <tr>\n",
       "      <th>9</th>\n",
       "      <td>0.561404</td>\n",
       "      <td>0.643275</td>\n",
       "      <td>0.690058</td>\n",
       "      <td>0.719298</td>\n",
       "      <td>0.730994</td>\n",
       "      <td>0.649123</td>\n",
       "      <td>0.642965</td>\n",
       "      <td>0.244119</td>\n",
       "    </tr>\n",
       "  </tbody>\n",
       "</table>\n",
       "</div>"
      ],
      "text/plain": [
       "   Decision Tree  K-Nearest Neighbors  Linear Discriminant Analysis  \\\n",
       "0       0.643275             0.596491                      0.719298   \n",
       "1       0.608187             0.584795                      0.725146   \n",
       "2       0.754386             0.684211                      0.801170   \n",
       "3       0.678363             0.695906                      0.766082   \n",
       "4       0.643275             0.596491                      0.730994   \n",
       "5       0.643275             0.701754                      0.777778   \n",
       "6       0.625731             0.684211                      0.771930   \n",
       "7       0.649123             0.783626                      0.877193   \n",
       "8       0.625731             0.684211                      0.777778   \n",
       "9       0.561404             0.643275                      0.690058   \n",
       "\n",
       "   Guassian Naïve Bayes  Support Vector Classification  Linear SVC  \\\n",
       "0              0.672515                       0.736842    0.660819   \n",
       "1              0.643275                       0.690058    0.614035   \n",
       "2              0.666667                       0.760234    0.771930   \n",
       "3              0.654971                       0.754386    0.672515   \n",
       "4              0.619883                       0.707602    0.625731   \n",
       "5              0.654971                       0.748538    0.730994   \n",
       "6              0.695906                       0.748538    0.690058   \n",
       "7              0.807018                       0.865497    0.771930   \n",
       "8              0.690058                       0.736842    0.701754   \n",
       "9              0.719298                       0.730994    0.649123   \n",
       "\n",
       "   Linear Support Vector Regression  Linear SVR  \n",
       "0                         -3.475925   -0.321369  \n",
       "1                          0.038020    0.282303  \n",
       "2                          0.531785    0.125251  \n",
       "3                          0.586382    0.277993  \n",
       "4                          0.415746   -0.152805  \n",
       "5                          0.340452   -0.272746  \n",
       "6                          0.574250    0.232001  \n",
       "7                          0.421334    0.350033  \n",
       "8                          0.580083    0.370397  \n",
       "9                          0.642965    0.244119  "
      ]
     },
     "execution_count": 10,
     "metadata": {},
     "output_type": "execute_result"
    }
   ],
   "source": [
    "pd.DataFrame({x : y for x, y in zip(labels, complexScore)})"
   ]
  }
 ],
 "metadata": {
  "kernelspec": {
   "display_name": "Python 3",
   "language": "python",
   "name": "python3"
  },
  "language_info": {
   "codemirror_mode": {
    "name": "ipython",
    "version": 3
   },
   "file_extension": ".py",
   "mimetype": "text/x-python",
   "name": "python",
   "nbconvert_exporter": "python",
   "pygments_lexer": "ipython3",
   "version": "3.8.9"
  }
 },
 "nbformat": 4,
 "nbformat_minor": 5
}
