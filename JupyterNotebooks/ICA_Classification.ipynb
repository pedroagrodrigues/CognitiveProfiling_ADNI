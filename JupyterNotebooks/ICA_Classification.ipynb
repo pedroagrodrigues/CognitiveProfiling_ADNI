{
 "cells": [
  {
   "cell_type": "markdown",
   "id": "44c56927-6887-4cae-8765-44408d3a22b5",
   "metadata": {},
   "source": [
    "# ICA Classification "
   ]
  },
  {
   "cell_type": "markdown",
   "id": "199f440e-8d8f-4196-ba3c-c97674f1f9b9",
   "metadata": {},
   "source": [
    "Testing algorithms score"
   ]
  },
  {
   "cell_type": "code",
   "execution_count": 1,
   "id": "a0490816-956f-4b84-bd1b-bca87c0b9eb4",
   "metadata": {},
   "outputs": [],
   "source": [
    "Training = 0.3 # Using 30% of the data to train"
   ]
  },
  {
   "cell_type": "code",
   "execution_count": 2,
   "id": "92926eb6-6d6c-40f4-bf5f-47a337bb3f7e",
   "metadata": {},
   "outputs": [],
   "source": [
    "import pandas as pd \n",
    "import numpy as np\n",
    "import math\n",
    "import seaborn as sns\n",
    "import matplotlib.pyplot as plt\n",
    "%matplotlib widget\n",
    "\n",
    "from sklearn.model_selection import train_test_split\n",
    "from sklearn.model_selection import cross_val_score\n",
    "from sklearn.preprocessing import MinMaxScaler\n",
    "\n",
    "import common\n",
    "\n",
    "# Loading Datasets\n",
    "data = common.loadFile(\"ICAData\")\n",
    "                                           \n",
    "# Classifiers\n",
    "from sklearn.tree import DecisionTreeClassifier\n",
    "from sklearn.neighbors import KNeighborsClassifier\n",
    "from sklearn.discriminant_analysis import LinearDiscriminantAnalysis\n",
    "from sklearn.naive_bayes import GaussianNB\n",
    "from sklearn.svm import SVC"
   ]
  },
  {
   "cell_type": "code",
   "execution_count": 3,
   "id": "63ba98ac-dd78-4455-8a69-6b660b849ac4",
   "metadata": {},
   "outputs": [],
   "source": [
    "algorithms = [DecisionTreeClassifier, KNeighborsClassifier, LinearDiscriminantAnalysis, GaussianNB, SVC]\n",
    "labels = [\"Decision Tree\", \"K-Nearest Neighbors\", \"Linear Discriminant Analysis\", \"Guassian Naïve Bayes\", \"Support Vector Classification\"]"
   ]
  },
  {
   "cell_type": "code",
   "execution_count": 4,
   "id": "a51ad80a-c942-45a7-8a5c-89769a301784",
   "metadata": {},
   "outputs": [],
   "source": [
    "# Optimizing testing for every model\n",
    "def getModelScore(model, xTrain, xTest, yTrain, yTest):\n",
    "    model.fit(xTrain, yTrain)\n",
    "    return model.score(xTest, yTest)"
   ]
  },
  {
   "cell_type": "code",
   "execution_count": 5,
   "id": "eef9e366-cbe4-4714-87cf-62c0e7aef1d3",
   "metadata": {},
   "outputs": [],
   "source": [
    "X = data.drop(\"DX\", axis=1).to_numpy().astype('float')\n",
    "y = data.loc[:,['DX']].to_numpy().astype('float').flatten()\n",
    "\n",
    "xtrain, xtest, ytrain, ytest= train_test_split(X, y, test_size=Training)"
   ]
  },
  {
   "cell_type": "code",
   "execution_count": 6,
   "id": "645ebcd2-89f4-42c2-8e61-791e4752bc41",
   "metadata": {},
   "outputs": [],
   "source": [
    "simpleScore = []\n",
    "for i in algorithms:\n",
    "    simpleScore.append(getModelScore(i(), xtrain, xtest, ytrain, ytest) * 100)"
   ]
  },
  {
   "cell_type": "code",
   "execution_count": 7,
   "id": "6e45cd4b-3940-4a69-af9f-e37167ce4da8",
   "metadata": {},
   "outputs": [
    {
     "data": {
      "application/vnd.jupyter.widget-view+json": {
       "model_id": "60259686d41d44139464ab05e48482f3",
       "version_major": 2,
       "version_minor": 0
      },
      "text/plain": [
       "Canvas(toolbar=Toolbar(toolitems=[('Home', 'Reset original view', 'home', 'home'), ('Back', 'Back to previous …"
      ]
     },
     "metadata": {},
     "output_type": "display_data"
    },
    {
     "data": {
      "text/plain": [
       "Text(0.5, 1.0, 'Simple Score with 30% of Training')"
      ]
     },
     "execution_count": 7,
     "metadata": {},
     "output_type": "execute_result"
    }
   ],
   "source": [
    "plt.figure(figsize=[15, 10])\n",
    "df = pd.DataFrame({\"Score\":simpleScore, \"Algorithms\": labels})\n",
    "ax = sns.barplot(x=\"Algorithms\", y=\"Score\", data=df)\n",
    "ax.bar_label(ax.containers[0])\n",
    "plt.title(f\"Simple Score with {int(Training * 100)}% of Training\")"
   ]
  },
  {
   "cell_type": "code",
   "execution_count": 8,
   "id": "24d2e902-1e92-4dda-927f-b1c159180aec",
   "metadata": {},
   "outputs": [],
   "source": [
    "complexScore = []\n",
    "for i in algorithms:\n",
    "    complexScore.append(cross_val_score(i(), X, y, cv=10))"
   ]
  },
  {
   "cell_type": "code",
   "execution_count": 9,
   "id": "8eb0eefb-7baa-40f6-a930-1d2d2734a47f",
   "metadata": {},
   "outputs": [
    {
     "data": {
      "application/vnd.jupyter.widget-view+json": {
       "model_id": "7e5db88b2d494d46a2de3f08ff20085e",
       "version_major": 2,
       "version_minor": 0
      },
      "text/plain": [
       "Canvas(toolbar=Toolbar(toolitems=[('Home', 'Reset original view', 'home', 'home'), ('Back', 'Back to previous …"
      ]
     },
     "metadata": {},
     "output_type": "display_data"
    },
    {
     "data": {
      "text/plain": [
       "Text(0.5, 1.0, 'Validation Score with 30% of Training')"
      ]
     },
     "execution_count": 9,
     "metadata": {},
     "output_type": "execute_result"
    }
   ],
   "source": [
    "plt.figure(figsize=[15, 10])\n",
    "df = pd.DataFrame({\"Score\":(max(x) for x in complexScore), \"Algorithms\": labels})\n",
    "ax = sns.barplot(x=\"Algorithms\", y=\"Score\", data=df)\n",
    "ax.bar_label(ax.containers[0])\n",
    "plt.title(f\"Validation Score with {int(Training * 100)}% of Training\")"
   ]
  },
  {
   "cell_type": "code",
   "execution_count": null,
   "id": "1bb810c8-99e1-4488-8011-fbb96f0b202e",
   "metadata": {},
   "outputs": [],
   "source": []
  }
 ],
 "metadata": {
  "kernelspec": {
   "display_name": "Python 3",
   "language": "python",
   "name": "python3"
  },
  "language_info": {
   "codemirror_mode": {
    "name": "ipython",
    "version": 3
   },
   "file_extension": ".py",
   "mimetype": "text/x-python",
   "name": "python",
   "nbconvert_exporter": "python",
   "pygments_lexer": "ipython3",
   "version": "3.8.9"
  }
 },
 "nbformat": 4,
 "nbformat_minor": 5
}
