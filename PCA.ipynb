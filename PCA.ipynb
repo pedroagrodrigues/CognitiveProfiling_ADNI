{
 "cells": [
  {
   "cell_type": "markdown",
   "id": "requested-moldova",
   "metadata": {},
   "source": [
    "# PCA – Principal Component Analysis\n",
    "\n",
    "**PCA** is a method for dimensionality reduction. This method aims to reduce large data sets dimensionality by transforming an extensive collection of variables into a smaller one that contains most of the information from the starting set. This method trades a little accuracy for simplicity.\n"
   ]
  },
  {
   "cell_type": "markdown",
   "id": "former-chance",
   "metadata": {},
   "source": [
    "**Before anything, the libraries used are:**"
   ]
  },
  {
   "cell_type": "code",
   "execution_count": 2,
   "id": "adaptive-challenge",
   "metadata": {},
   "outputs": [],
   "source": [
    "%matplotlib widget\n",
    "import pandas as pd\n",
    "import numpy as np\n",
    "from sklearn.decomposition import PCA\n",
    "from sklearn import preprocessing\n",
    "import matplotlib.pyplot as plt\n",
    "\n",
    "#Class containing all the data already converted to numeric\n",
    "import Merge"
   ]
  },
  {
   "cell_type": "markdown",
   "id": "published-diesel",
   "metadata": {},
   "source": [
    "Before beginning, data requires a selection of the columns to use on PCA"
   ]
  },
  {
   "cell_type": "code",
   "execution_count": 9,
   "id": "acting-oxide",
   "metadata": {},
   "outputs": [
    {
     "name": "stdout",
     "output_type": "stream",
     "text": [
      "Ready!\n"
     ]
    }
   ],
   "source": [
    "path = \"./dataFiles/pca\"\n",
    "\n",
    "try:\n",
    "    data = pd.read_pickle(path+'.pickle')\n",
    "except:\n",
    "    data = Merge.Merge().data\n",
    "    \n",
    "    # remove unused columns\n",
    "    data = data.drop(['LDELTOTAL', 'DIGITSCOR'], axis=1) \n",
    "    \n",
    "    dataLabels = data.columns.values\n",
    "    dataNumpy = data.to_numpy()\n",
    "    \n",
    "    rowsRemove = []\n",
    "    #labelsRemove = []\n",
    "    \n",
    "    \n",
    "    \n",
    "    ### Remove data incomplete\n",
    "    for i in range(len(dataNumpy)):\n",
    "        count = 0\n",
    "        for j in dataNumpy[i]:\n",
    "            if j != '':\n",
    "                count += 1\n",
    "        #if count < len(dataLabels) - 2:\n",
    "        if count < 32:\n",
    "            rowsRemove.append(i)\n",
    "    \n",
    "    data = data.drop(rowsRemove)\n",
    "    \n",
    "   \n",
    "    '''\n",
    "    # remove unused columns\n",
    "    for i in dataLabels:\n",
    "        count = 0\n",
    "        for j in data[i]:\n",
    "            if j == '': \n",
    "                count += 1\n",
    "            if count == 300:\n",
    "                labelsRemove.append(i)\n",
    "                break\n",
    "    data = data.drop(labelsRemove, axis=1)\n",
    "    '''\n",
    "\n",
    "\n",
    "      \n",
    "    \n",
    "   \n",
    "    data.to_csv(path+'.csv')  \n",
    "    #data.to_csv(path+'.pickle')"
   ]
  },
  {
   "cell_type": "code",
   "execution_count": 5,
   "id": "consistent-scholarship",
   "metadata": {},
   "outputs": [],
   "source": [
    "scaledData = preprocessing.scale(data.T)"
   ]
  },
  {
   "cell_type": "code",
   "execution_count": 6,
   "id": "coupled-designer",
   "metadata": {},
   "outputs": [
    {
     "data": {
      "application/vnd.jupyter.widget-view+json": {
       "model_id": "2f6c8ef0b3a24f489e9be116fa35f09c",
       "version_major": 2,
       "version_minor": 0
      },
      "text/plain": [
       "Canvas(toolbar=Toolbar(toolitems=[('Home', 'Reset original view', 'home', 'home'), ('Back', 'Back to previous …"
      ]
     },
     "metadata": {},
     "output_type": "display_data"
    }
   ],
   "source": [
    "plt.close()\n",
    "pca = PCA()\n",
    "pca.fit(scaledData)\n",
    "pcaData = pca.transform(scaledData)\n",
    "\n",
    "per_var = np.round(pca.explained_variance_ratio_ * 100, decimals=1)\n",
    "labels = ['PC' + str(x) for x in range(1, len(per_var)+1)]\n",
    "\n",
    "plt.bar(x=range(1, len(per_var)+1), height=per_var, tick_label=labels)\n",
    "plt.ylabel('Percentage of Explained Variance')\n",
    "plt.xlabel('Principal Component')\n",
    "plt.title('Scree Plot')\n",
    "plt.show()\n"
   ]
  },
  {
   "cell_type": "code",
   "execution_count": 7,
   "id": "inner-fever",
   "metadata": {},
   "outputs": [
    {
     "data": {
      "application/vnd.jupyter.widget-view+json": {
       "model_id": "fe5f9209de2e4d6d8f7f37bb0535673c",
       "version_major": 2,
       "version_minor": 0
      },
      "text/plain": [
       "Canvas(toolbar=Toolbar(toolitems=[('Home', 'Reset original view', 'home', 'home'), ('Back', 'Back to previous …"
      ]
     },
     "metadata": {},
     "output_type": "display_data"
    }
   ],
   "source": [
    "plt.close()\n",
    "\n",
    "pca_df = pd.DataFrame(pcaData, index=dataLabels, columns=labels)\n",
    "plt.scatter(pca_df.PC1, pca_df.PC2)\n",
    "plt.title('PCA Graph')\n",
    "plt.xlabel('PC1 - {0}%'.format(per_var[0]))\n",
    "plt.ylabel('PC2 - {0}%'.format(per_var[1]))\n",
    "\n",
    "for sample in pca_df.index:\n",
    "    plt.annotate(sample, (pca_df.PC1.loc[sample], pca_df.PC2.loc[sample]))\n",
    "\n",
    "plt.show()"
   ]
  },
  {
   "cell_type": "code",
   "execution_count": 17,
   "id": "handmade-preservation",
   "metadata": {},
   "outputs": [
    {
     "name": "stdout",
     "output_type": "stream",
     "text": [
      "2660    0.014615\n",
      "4974    0.014611\n",
      "3292    0.014606\n",
      "2577    0.014602\n",
      "4799    0.014601\n",
      "4609    0.014600\n",
      "4572    0.014599\n",
      "3156    0.014599\n",
      "1123    0.014599\n",
      "4966    0.014599\n",
      "dtype: float64\n"
     ]
    }
   ],
   "source": [
    "loading_scores = pd.Series(pca.components_[0])\n",
    "sorted_loading_scores = loading_scores.abs().sort_values(ascending=False)\n",
    "\n",
    "top_10 = sorted_loading_scores[0:10].index.values\n",
    "\n",
    "print(loading_scores[top_10])"
   ]
  },
  {
   "cell_type": "code",
   "execution_count": 8,
   "id": "veterinary-layer",
   "metadata": {},
   "outputs": [
    {
     "data": {
      "text/plain": [
       "5393"
      ]
     },
     "execution_count": 8,
     "metadata": {},
     "output_type": "execute_result"
    }
   ],
   "source": [
    "len(data)"
   ]
  },
  {
   "cell_type": "code",
   "execution_count": 10,
   "id": "twenty-pennsylvania",
   "metadata": {},
   "outputs": [
    {
     "name": "stdout",
     "output_type": "stream",
     "text": [
      "Ready!\n"
     ]
    },
    {
     "data": {
      "text/plain": [
       "15087"
      ]
     },
     "execution_count": 10,
     "metadata": {},
     "output_type": "execute_result"
    }
   ],
   "source": [
    "len(Merge.Merge().data)"
   ]
  },
  {
   "cell_type": "code",
   "execution_count": null,
   "id": "other-traveler",
   "metadata": {},
   "outputs": [],
   "source": []
  }
 ],
 "metadata": {
  "kernelspec": {
   "display_name": "Python 3",
   "language": "python",
   "name": "python3"
  },
  "language_info": {
   "codemirror_mode": {
    "name": "ipython",
    "version": 3
   },
   "file_extension": ".py",
   "mimetype": "text/x-python",
   "name": "python",
   "nbconvert_exporter": "python",
   "pygments_lexer": "ipython3",
   "version": "3.8.5"
  }
 },
 "nbformat": 4,
 "nbformat_minor": 5
}
