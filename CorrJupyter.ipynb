{
 "cells": [
  {
   "cell_type": "markdown",
   "id": "governmental-briefs",
   "metadata": {},
   "source": [
    "# Correlations"
   ]
  },
  {
   "cell_type": "markdown",
   "id": "tired-escape",
   "metadata": {},
   "source": [
    "**Imports** - *External*"
   ]
  },
  {
   "cell_type": "code",
   "execution_count": 1,
   "id": "palestinian-decade",
   "metadata": {},
   "outputs": [],
   "source": [
    "%matplotlib widget\n",
    "import warnings\n",
    "import numpy as np\n",
    "import pandas as pd\n",
    "import seaborn as sns\n",
    "import scipy\n",
    "from scipy.stats import pearsonr\n",
    "import matplotlib.pyplot as plt"
   ]
  },
  {
   "cell_type": "markdown",
   "id": "coordinated-observer",
   "metadata": {},
   "source": [
    "*Internal*"
   ]
  },
  {
   "cell_type": "code",
   "execution_count": 2,
   "id": "baking-particular",
   "metadata": {},
   "outputs": [],
   "source": [
    "from Merge import Merge # This file already has the data converted from string to numeric"
   ]
  },
  {
   "cell_type": "markdown",
   "id": "prepared-saver",
   "metadata": {
    "tags": []
   },
   "source": [
    "**There are some errors while calculating the correlation, these are shown as warnigns. The next line will ignore these errors**"
   ]
  },
  {
   "cell_type": "code",
   "execution_count": 3,
   "id": "useful-element",
   "metadata": {},
   "outputs": [
    {
     "data": {
      "text/plain": [
       "{'divide': 'warn', 'over': 'warn', 'under': 'ignore', 'invalid': 'warn'}"
      ]
     },
     "execution_count": 3,
     "metadata": {},
     "output_type": "execute_result"
    }
   ],
   "source": [
    "np.seterr(divide='ignore', invalid='ignore')"
   ]
  },
  {
   "cell_type": "markdown",
   "id": "accurate-belief",
   "metadata": {},
   "source": [
    "**The path used to save the correlation file is:**"
   ]
  },
  {
   "cell_type": "code",
   "execution_count": 4,
   "id": "pediatric-python",
   "metadata": {},
   "outputs": [],
   "source": [
    "path = \"./dataFiles/corr\""
   ]
  },
  {
   "cell_type": "markdown",
   "id": "victorian-white",
   "metadata": {},
   "source": [
    "**Fnction used to calculate correlation between two columns where they both have some sort of value:**\n",
    "\n",
    "This function is using Pearson product-moment correlation coefficients:\n",
    "\n",
    "\\begin{equation}\n",
    "    R_{ij} = \\frac{ C_{ij} } { \\sqrt{ C_{ii} * C_{jj} } }\n",
    "\\end{equation}\n"
   ]
  },
  {
   "cell_type": "code",
   "execution_count": 5,
   "id": "informed-expansion",
   "metadata": {},
   "outputs": [],
   "source": [
    "def getCorr(x, y):\n",
    "    xData = []\n",
    "    yData = []\n",
    "    for i in range(len(x)): # Both columns must have same size\n",
    "        if x[i] != '' and y[i] != '':\n",
    "            xData.append(float(x[i]))\n",
    "            yData.append(float(y[i]))\n",
    "    xData = np.array(xData)\n",
    "    yData = np.array(yData)\n",
    "    return np.corrcoef(xData, yData)[0, 1]"
   ]
  },
  {
   "cell_type": "markdown",
   "id": "banner-centre",
   "metadata": {},
   "source": [
    "Load the data:"
   ]
  },
  {
   "cell_type": "code",
   "execution_count": 6,
   "id": "dried-vintage",
   "metadata": {},
   "outputs": [],
   "source": [
    "try:\n",
    "    correlations = pd.read_pickle(path+'.pickle')\n",
    "except:\n",
    "    data = Merge().data\n",
    "\n",
    "    dataLabels = data.columns.values\n",
    "    dataNumpy = data.to_numpy()\n",
    "\n",
    "    correlations = pd.DataFrame(index=dataLabels, columns=dataLabels)\n",
    "\n",
    "    for i in range(len(dataLabels)):\n",
    "        correlations.at[dataLabels[i], dataLabels[i]] = 1\n",
    "        \n",
    "        # The next two lines ignore all warnings within this category\n",
    "        with warnings.catch_warnings():\n",
    "            warnings.simplefilter(\"ignore\", category=RuntimeWarning)\n",
    "            \n",
    "            for j in range(i+1, len(dataLabels)):\n",
    "                corr = getCorr(dataNumpy[:, i], dataNumpy[:, j])\n",
    "                correlations.at[dataLabels[i], dataLabels[j]] = correlations.at[dataLabels[j], dataLabels[i]] = 0 if np.isnan(corr) else abs(corr)\n",
    "            \n",
    "    correlations.to_pickle(path+'.pickle')\n",
    "    correlations.to_csv(path+'.csv') # CSV is easy to see and can be opened in Excel"
   ]
  },
  {
   "cell_type": "markdown",
   "id": "funny-criticism",
   "metadata": {},
   "source": [
    "Here we will proceed to the configuration of the **seaborn** heatmap."
   ]
  },
  {
   "cell_type": "code",
   "execution_count": 7,
   "id": "retired-horizon",
   "metadata": {},
   "outputs": [],
   "source": [
    "aux = sns.color_palette(\"coolwarm\", as_cmap=True)"
   ]
  },
  {
   "cell_type": "code",
   "execution_count": 8,
   "id": "adjusted-washington",
   "metadata": {},
   "outputs": [
    {
     "data": {
      "application/vnd.jupyter.widget-view+json": {
       "model_id": "5889503785064ef493260dd917d4f4b6",
       "version_major": 2,
       "version_minor": 0
      },
      "text/plain": [
       "Canvas(toolbar=Toolbar(toolitems=[('Home', 'Reset original view', 'home', 'home'), ('Back', 'Back to previous …"
      ]
     },
     "metadata": {},
     "output_type": "display_data"
    },
    {
     "data": {
      "text/plain": [
       "<AxesSubplot:>"
      ]
     },
     "execution_count": 8,
     "metadata": {},
     "output_type": "execute_result"
    }
   ],
   "source": [
    "plt.close()\n",
    "\n",
    "sns.heatmap(np.ma.filled(correlations.astype(float), np.nan), annot=True, annot_kws={\"size\": 7}, xticklabels=correlations.columns, yticklabels=correlations.index, cmap=aux)"
   ]
  },
  {
   "cell_type": "code",
   "execution_count": 9,
   "id": "departmental-trustee",
   "metadata": {
    "tags": []
   },
   "outputs": [],
   "source": [
    "def getCorrP(x, y):\n",
    "    xData = []\n",
    "    yData = []\n",
    "    for i in range(len(x)): # Both columns must have same size\n",
    "        if x[i] != '' and y[i] != '':\n",
    "            xData.append(float(x[i]))\n",
    "            yData.append(float(y[i]))\n",
    "    if len(xData) > 1:\n",
    "        return pearsonr(xData, yData)\n",
    "    return 0, 0\n",
    "    "
   ]
  },
  {
   "cell_type": "code",
   "execution_count": 10,
   "id": "absent-closer",
   "metadata": {},
   "outputs": [
    {
     "name": "stdout",
     "output_type": "stream",
     "text": [
      "Ready!\n"
     ]
    }
   ],
   "source": [
    "data = Merge().data\n",
    "\n",
    "dataLabels = data.columns.values\n",
    "dataNumpy = data.to_numpy()\n",
    "\n",
    "correlations = pd.DataFrame(index=dataLabels, columns=dataLabels)\n",
    "\n",
    "pValues = pd.DataFrame(index=dataLabels, columns=dataLabels)\n",
    "\n",
    "tableCorrP = pd.DataFrame(columns=[\"Labels\", \"Correlation\", \"p_Value\"])\n",
    "#getCorrP(dataNumpy[:, 2], dataNumpy[:,5])\n",
    "\n",
    "\n",
    "\n",
    "for i in range(len(dataLabels)):\n",
    "    correlations.at[dataLabels[i], dataLabels[i]] = 1\n",
    "    pValues.at[dataLabels[i], dataLabels[i]] = 0\n",
    "    for j in range(i+1, len(dataLabels)):\n",
    "        p_r, p_p = getCorrP(dataNumpy[:, i], dataNumpy[:, j])\n",
    "        correlations.at[dataLabels[i], dataLabels[j]] = correlations.at[dataLabels[j], dataLabels[i]] = p_r\n",
    "        pValues.at[dataLabels[i], dataLabels[j]] = pValues.at[dataLabels[j], dataLabels[i]] = p_p\n",
    "        \n",
    "        tableCorrP = tableCorrP.append(dict(zip(tableCorrP.columns,[f\"{dataLabels[i]} -> {dataLabels[j]}\", p_r, p_p])), ignore_index = True)\n",
    "        "
   ]
  },
  {
   "cell_type": "code",
   "execution_count": 11,
   "id": "backed-logic",
   "metadata": {},
   "outputs": [
    {
     "name": "stdout",
     "output_type": "stream",
     "text": [
      "                      Labels  Correlation        p_Value\n",
      "0            AGE -> PTGENDER     0.103754   2.251946e-37\n",
      "1            AGE -> PTEDUCAT    -0.057173   2.117660e-12\n",
      "2               AGE -> CDRSB     0.074271   9.850352e-15\n",
      "3              AGE -> ADAS11     0.093143   6.334783e-22\n",
      "4              AGE -> ADAS13     0.125313   3.875457e-38\n",
      "..                       ...          ...            ...\n",
      "95  PTEDUCAT -> mPACCtrailsB     0.211085  8.617712e-108\n",
      "96           CDRSB -> ADAS11     0.792149   0.000000e+00\n",
      "97           CDRSB -> ADAS13     0.794537   0.000000e+00\n",
      "98           CDRSB -> ADASQ4     0.648401   0.000000e+00\n",
      "99             CDRSB -> MMSE    -0.804030   0.000000e+00\n",
      "\n",
      "[100 rows x 3 columns]\n"
     ]
    }
   ],
   "source": [
    "print(tableCorrP.head(100))"
   ]
  },
  {
   "cell_type": "markdown",
   "id": "unauthorized-remainder",
   "metadata": {},
   "source": [
    "# Correlations"
   ]
  },
  {
   "cell_type": "code",
   "execution_count": 12,
   "id": "certified-spain",
   "metadata": {},
   "outputs": [
    {
     "data": {
      "application/vnd.jupyter.widget-view+json": {
       "model_id": "76099781307d4340a161a2f883d631cd",
       "version_major": 2,
       "version_minor": 0
      },
      "text/plain": [
       "Canvas(toolbar=Toolbar(toolitems=[('Home', 'Reset original view', 'home', 'home'), ('Back', 'Back to previous …"
      ]
     },
     "metadata": {},
     "output_type": "display_data"
    },
    {
     "data": {
      "text/plain": [
       "<AxesSubplot:>"
      ]
     },
     "execution_count": 12,
     "metadata": {},
     "output_type": "execute_result"
    }
   ],
   "source": [
    "plt.close()\n",
    "sns.heatmap(np.ma.filled(correlations.astype(float), np.nan), annot=True, annot_kws={\"size\": 7}, xticklabels=correlations.columns, yticklabels=correlations.index, cmap=aux)"
   ]
  },
  {
   "cell_type": "markdown",
   "id": "balanced-expression",
   "metadata": {},
   "source": [
    "# P_Values"
   ]
  },
  {
   "cell_type": "code",
   "execution_count": 13,
   "id": "soviet-encounter",
   "metadata": {},
   "outputs": [
    {
     "data": {
      "application/vnd.jupyter.widget-view+json": {
       "model_id": "e2ad1efb47c84baaae55097e45db1160",
       "version_major": 2,
       "version_minor": 0
      },
      "text/plain": [
       "Canvas(toolbar=Toolbar(toolitems=[('Home', 'Reset original view', 'home', 'home'), ('Back', 'Back to previous …"
      ]
     },
     "metadata": {},
     "output_type": "display_data"
    },
    {
     "data": {
      "text/plain": [
       "<AxesSubplot:>"
      ]
     },
     "execution_count": 13,
     "metadata": {},
     "output_type": "execute_result"
    }
   ],
   "source": [
    "plt.close()\n",
    "sns.heatmap(np.ma.filled(pValues.astype(float), np.nan), annot=True, annot_kws={\"size\": 7}, xticklabels=pValues.columns, yticklabels=pValues.index, cmap=aux)"
   ]
  },
  {
   "cell_type": "markdown",
   "id": "embedded-penalty",
   "metadata": {},
   "source": [
    "## Correlations filtered by p Value"
   ]
  },
  {
   "cell_type": "code",
   "execution_count": 14,
   "id": "banner-sport",
   "metadata": {},
   "outputs": [],
   "source": [
    "pFilter = 0.05 #Max value"
   ]
  },
  {
   "cell_type": "code",
   "execution_count": 15,
   "id": "obvious-suspect",
   "metadata": {},
   "outputs": [],
   "source": [
    "mask = pd.DataFrame(index=dataLabels, columns=dataLabels)\n",
    "\n",
    "for i in range(len(dataLabels)):\n",
    "    mask.at[dataLabels[i], dataLabels[i]] = False\n",
    "    for j in range(i+1, len(dataLabels)):\n",
    "        if pValues.at[dataLabels[i], dataLabels[j]] >= pFilter:\n",
    "            mask.at[dataLabels[i], dataLabels[j]] = mask.at[dataLabels[j], dataLabels[i]] = True\n",
    "        else:\n",
    "            mask.at[dataLabels[i], dataLabels[j]] = mask.at[dataLabels[j], dataLabels[i]] = False\n",
    "\n",
    "mask = mask.to_numpy()"
   ]
  },
  {
   "cell_type": "code",
   "execution_count": 16,
   "id": "solar-giving",
   "metadata": {},
   "outputs": [
    {
     "data": {
      "application/vnd.jupyter.widget-view+json": {
       "model_id": "5ffb62a2edbe48fbb65856917ec3ef2e",
       "version_major": 2,
       "version_minor": 0
      },
      "text/plain": [
       "Canvas(toolbar=Toolbar(toolitems=[('Home', 'Reset original view', 'home', 'home'), ('Back', 'Back to previous …"
      ]
     },
     "metadata": {},
     "output_type": "display_data"
    },
    {
     "data": {
      "text/plain": [
       "<AxesSubplot:>"
      ]
     },
     "execution_count": 16,
     "metadata": {},
     "output_type": "execute_result"
    }
   ],
   "source": [
    "plt.close()\n",
    "aux = sns.color_palette(\"coolwarm\", as_cmap=True)\n",
    "sns.heatmap(np.ma.filled(correlations.astype(float), np.nan), annot=True, annot_kws={\"size\": 7}, xticklabels=correlations.columns, yticklabels=correlations.index, cmap=aux, mask=mask)"
   ]
  },
  {
   "cell_type": "markdown",
   "id": "fiscal-feeling",
   "metadata": {},
   "source": [
    "## Bonferroni Correction"
   ]
  },
  {
   "cell_type": "code",
   "execution_count": 17,
   "id": "radical-antibody",
   "metadata": {},
   "outputs": [],
   "source": [
    "mask = pd.DataFrame(index=dataLabels, columns=dataLabels)\n",
    "\n",
    "for i in range(len(dataLabels)):\n",
    "    mask.at[dataLabels[i], dataLabels[i]] = False\n",
    "    for j in range(i+1, len(dataLabels)):\n",
    "        if pValues.at[dataLabels[i], dataLabels[j]] >= pFilter/(len(dataLabels)**2):\n",
    "            mask.at[dataLabels[i], dataLabels[j]] = mask.at[dataLabels[j], dataLabels[i]] = True  #Hide\n",
    "        else:\n",
    "            mask.at[dataLabels[i], dataLabels[j]] = mask.at[dataLabels[j], dataLabels[i]] = False\n",
    "\n",
    "mask = mask.to_numpy()"
   ]
  },
  {
   "cell_type": "code",
   "execution_count": 18,
   "id": "velvet-relations",
   "metadata": {},
   "outputs": [
    {
     "data": {
      "application/vnd.jupyter.widget-view+json": {
       "model_id": "99bea7c3d05a4a3fabb7617da4acd4b7",
       "version_major": 2,
       "version_minor": 0
      },
      "text/plain": [
       "Canvas(toolbar=Toolbar(toolitems=[('Home', 'Reset original view', 'home', 'home'), ('Back', 'Back to previous …"
      ]
     },
     "metadata": {},
     "output_type": "display_data"
    },
    {
     "data": {
      "text/plain": [
       "<AxesSubplot:>"
      ]
     },
     "execution_count": 18,
     "metadata": {},
     "output_type": "execute_result"
    }
   ],
   "source": [
    "plt.close()\n",
    "aux = sns.color_palette(\"coolwarm\", as_cmap=True)\n",
    "sns.heatmap(np.ma.filled(correlations.astype(float), np.nan), annot=True, annot_kws={\"size\": 7}, xticklabels=correlations.columns, yticklabels=correlations.index, cmap=aux, mask=mask)"
   ]
  },
  {
   "cell_type": "markdown",
   "id": "clinical-argentina",
   "metadata": {},
   "source": [
    "## Correlações acima de 60% e Filtro de Bonferroni Correction"
   ]
  },
  {
   "cell_type": "code",
   "execution_count": 19,
   "id": "available-marker",
   "metadata": {},
   "outputs": [],
   "source": [
    "corrFilter = 0.6"
   ]
  },
  {
   "cell_type": "code",
   "execution_count": 20,
   "id": "conservative-resolution",
   "metadata": {},
   "outputs": [],
   "source": [
    "mask = pd.DataFrame(index=dataLabels, columns=dataLabels)\n",
    "\n",
    "for i in range(len(dataLabels)):\n",
    "    mask.at[dataLabels[i], dataLabels[i]] = False\n",
    "    for j in range(i+1, len(dataLabels)):\n",
    "        if pValues.at[dataLabels[i], dataLabels[j]] >= pFilter/(len(dataLabels)**2) or abs(correlations.at[dataLabels[i], dataLabels[j]]) < corrFilter:\n",
    "            mask.at[dataLabels[i], dataLabels[j]] = mask.at[dataLabels[j], dataLabels[i]] = True  #Hide\n",
    "        else:\n",
    "            mask.at[dataLabels[i], dataLabels[j]] = mask.at[dataLabels[j], dataLabels[i]] = False\n",
    "\n",
    "mask = mask.to_numpy()"
   ]
  },
  {
   "cell_type": "code",
   "execution_count": 21,
   "id": "shared-still",
   "metadata": {},
   "outputs": [
    {
     "data": {
      "application/vnd.jupyter.widget-view+json": {
       "model_id": "be12579418cd464ab78cb54939ec9cb8",
       "version_major": 2,
       "version_minor": 0
      },
      "text/plain": [
       "Canvas(toolbar=Toolbar(toolitems=[('Home', 'Reset original view', 'home', 'home'), ('Back', 'Back to previous …"
      ]
     },
     "metadata": {},
     "output_type": "display_data"
    },
    {
     "data": {
      "text/plain": [
       "<AxesSubplot:>"
      ]
     },
     "execution_count": 21,
     "metadata": {},
     "output_type": "execute_result"
    }
   ],
   "source": [
    "plt.close()\n",
    "aux = sns.color_palette(\"coolwarm\", as_cmap=True)\n",
    "sns.heatmap(np.ma.filled(correlations.astype(float), np.nan), annot=True, annot_kws={\"size\": 7}, xticklabels=correlations.columns, yticklabels=correlations.index, cmap=aux, mask=mask)"
   ]
  },
  {
   "cell_type": "code",
   "execution_count": null,
   "id": "floral-assistant",
   "metadata": {},
   "outputs": [],
   "source": []
  }
 ],
 "metadata": {
  "kernelspec": {
   "display_name": "Python 3",
   "language": "python",
   "name": "python3"
  },
  "language_info": {
   "codemirror_mode": {
    "name": "ipython",
    "version": 3
   },
   "file_extension": ".py",
   "mimetype": "text/x-python",
   "name": "python",
   "nbconvert_exporter": "python",
   "pygments_lexer": "ipython3",
   "version": "3.8.5"
  }
 },
 "nbformat": 4,
 "nbformat_minor": 5
}
